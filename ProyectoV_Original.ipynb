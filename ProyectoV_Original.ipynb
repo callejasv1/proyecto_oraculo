{
 "cells": [
  {
   "cell_type": "code",
   "execution_count": 1,
   "metadata": {},
   "outputs": [],
   "source": [
    "import pandas as pd\n",
    "import numpy as np\n",
    "import matplotlib.pyplot as plt\n",
    "import seaborn as sns\n",
    "from scipy.stats.mstats import winsorize\n",
    "from haversine import haversine, Unit\n",
    "\n",
    "plt.style.use('seaborn')\n",
    "%matplotlib inline"
   ]
  },
  {
   "cell_type": "markdown",
   "metadata": {},
   "source": [
    "## Compra"
   ]
  },
  {
   "cell_type": "code",
   "execution_count": 2,
   "metadata": {
    "scrolled": true
   },
   "outputs": [
    {
     "data": {
      "text/html": [
       "<div>\n",
       "<style scoped>\n",
       "    .dataframe tbody tr th:only-of-type {\n",
       "        vertical-align: middle;\n",
       "    }\n",
       "\n",
       "    .dataframe tbody tr th {\n",
       "        vertical-align: top;\n",
       "    }\n",
       "\n",
       "    .dataframe thead th {\n",
       "        text-align: right;\n",
       "    }\n",
       "</style>\n",
       "<table border=\"1\" class=\"dataframe\">\n",
       "  <thead>\n",
       "    <tr style=\"text-align: right;\">\n",
       "      <th></th>\n",
       "      <th>order_id</th>\n",
       "      <th>lat</th>\n",
       "      <th>lng</th>\n",
       "      <th>dow</th>\n",
       "      <th>promised_time</th>\n",
       "      <th>actual_time</th>\n",
       "      <th>on_demand</th>\n",
       "      <th>picker_id</th>\n",
       "      <th>driver_id</th>\n",
       "      <th>store_branch_id</th>\n",
       "      <th>total_minutes</th>\n",
       "    </tr>\n",
       "  </thead>\n",
       "  <tbody>\n",
       "    <tr>\n",
       "      <th>0</th>\n",
       "      <td>6abd5e28d01b7c733fe37485294235dc</td>\n",
       "      <td>1.822.114.109.606.680</td>\n",
       "      <td>-10.031.391.366.664.600</td>\n",
       "      <td>2</td>\n",
       "      <td>13:00:00</td>\n",
       "      <td>12:00:15</td>\n",
       "      <td>False</td>\n",
       "      <td>09bb5bfe76adbb474dddbdd111a51623</td>\n",
       "      <td>09bb5bfe76adbb474dddbdd111a51623</td>\n",
       "      <td>0dc6fb5924a8b917bc641666ed02663c</td>\n",
       "      <td>91.800.861</td>\n",
       "    </tr>\n",
       "    <tr>\n",
       "      <th>1</th>\n",
       "      <td>0d37a1eea001f01b40232ffd496ff663</td>\n",
       "      <td>18.177.712.202.580.300</td>\n",
       "      <td>-10.035.705.073.096.900</td>\n",
       "      <td>2</td>\n",
       "      <td>13:00:00</td>\n",
       "      <td>10:28:10</td>\n",
       "      <td>False</td>\n",
       "      <td>c4c722114a82fa21654e57e9636d68b0</td>\n",
       "      <td>c4c722114a82fa21654e57e9636d68b0</td>\n",
       "      <td>2bbf833e689d24b697f1f3529c3f3c4b</td>\n",
       "      <td>206.599.732</td>\n",
       "    </tr>\n",
       "    <tr>\n",
       "      <th>2</th>\n",
       "      <td>528428e9b9eb5d3bd0dbdd8da692b087</td>\n",
       "      <td>1.826.683.205.404.410</td>\n",
       "      <td>-10.031.755.280.890.600</td>\n",
       "      <td>2</td>\n",
       "      <td>11:00:00</td>\n",
       "      <td>10:40:50</td>\n",
       "      <td>False</td>\n",
       "      <td>e15c7a67d0ea9a54dffb410bc1d8528b</td>\n",
       "      <td>e15c7a67d0ea9a54dffb410bc1d8528b</td>\n",
       "      <td>8d891dfc0e29d744c15c18adced74a68</td>\n",
       "      <td>93.458.001</td>\n",
       "    </tr>\n",
       "    <tr>\n",
       "      <th>3</th>\n",
       "      <td>d3f7be6d64eae7405b7bf024e04807a2</td>\n",
       "      <td>18.248.884.004.419.400</td>\n",
       "      <td>-1.003.226.215.187.040</td>\n",
       "      <td>2</td>\n",
       "      <td>10:00:00</td>\n",
       "      <td>9:41:47</td>\n",
       "      <td>False</td>\n",
       "      <td>d1f0bd4b237c1358f09db22076b940e7</td>\n",
       "      <td>d1f0bd4b237c1358f09db22076b940e7</td>\n",
       "      <td>0dc6fb5924a8b917bc641666ed02663c</td>\n",
       "      <td>124.778.761</td>\n",
       "    </tr>\n",
       "    <tr>\n",
       "      <th>4</th>\n",
       "      <td>e0ad6533b6cd9a382ec6c1d473c5036c</td>\n",
       "      <td>1.822.911.027.242.010</td>\n",
       "      <td>-10.032.267.241.783.800</td>\n",
       "      <td>2</td>\n",
       "      <td>11:00:00</td>\n",
       "      <td>10:07:53</td>\n",
       "      <td>False</td>\n",
       "      <td>06a71e8ab0c6db5ce22a4689fd76a3f4</td>\n",
       "      <td>06a71e8ab0c6db5ce22a4689fd76a3f4</td>\n",
       "      <td>afd0a7b8d546fcc697bb93a5934b65c3</td>\n",
       "      <td>130.321.208</td>\n",
       "    </tr>\n",
       "  </tbody>\n",
       "</table>\n",
       "</div>"
      ],
      "text/plain": [
       "                           order_id                     lat  \\\n",
       "0  6abd5e28d01b7c733fe37485294235dc   1.822.114.109.606.680   \n",
       "1  0d37a1eea001f01b40232ffd496ff663  18.177.712.202.580.300   \n",
       "2  528428e9b9eb5d3bd0dbdd8da692b087   1.826.683.205.404.410   \n",
       "3  d3f7be6d64eae7405b7bf024e04807a2  18.248.884.004.419.400   \n",
       "4  e0ad6533b6cd9a382ec6c1d473c5036c   1.822.911.027.242.010   \n",
       "\n",
       "                       lng  dow promised_time actual_time  on_demand  \\\n",
       "0  -10.031.391.366.664.600    2      13:00:00    12:00:15      False   \n",
       "1  -10.035.705.073.096.900    2      13:00:00    10:28:10      False   \n",
       "2  -10.031.755.280.890.600    2      11:00:00    10:40:50      False   \n",
       "3   -1.003.226.215.187.040    2      10:00:00     9:41:47      False   \n",
       "4  -10.032.267.241.783.800    2      11:00:00    10:07:53      False   \n",
       "\n",
       "                          picker_id                         driver_id  \\\n",
       "0  09bb5bfe76adbb474dddbdd111a51623  09bb5bfe76adbb474dddbdd111a51623   \n",
       "1  c4c722114a82fa21654e57e9636d68b0  c4c722114a82fa21654e57e9636d68b0   \n",
       "2  e15c7a67d0ea9a54dffb410bc1d8528b  e15c7a67d0ea9a54dffb410bc1d8528b   \n",
       "3  d1f0bd4b237c1358f09db22076b940e7  d1f0bd4b237c1358f09db22076b940e7   \n",
       "4  06a71e8ab0c6db5ce22a4689fd76a3f4  06a71e8ab0c6db5ce22a4689fd76a3f4   \n",
       "\n",
       "                    store_branch_id total_minutes  \n",
       "0  0dc6fb5924a8b917bc641666ed02663c    91.800.861  \n",
       "1  2bbf833e689d24b697f1f3529c3f3c4b   206.599.732  \n",
       "2  8d891dfc0e29d744c15c18adced74a68    93.458.001  \n",
       "3  0dc6fb5924a8b917bc641666ed02663c   124.778.761  \n",
       "4  afd0a7b8d546fcc697bb93a5934b65c3   130.321.208  "
      ]
     },
     "execution_count": 2,
     "metadata": {},
     "output_type": "execute_result"
    }
   ],
   "source": [
    "compra = pd.read_csv('data/1_Orden_compra.csv', sep=';')\n",
    "compra.head()"
   ]
  },
  {
   "cell_type": "code",
   "execution_count": 3,
   "metadata": {},
   "outputs": [
    {
     "data": {
      "text/plain": [
       "False    4225\n",
       "True     3070\n",
       "Name: on_demand, dtype: int64"
      ]
     },
     "execution_count": 3,
     "metadata": {},
     "output_type": "execute_result"
    }
   ],
   "source": [
    "#Variable categorica\n",
    "compra['on_demand'].value_counts()"
   ]
  },
  {
   "cell_type": "code",
   "execution_count": 4,
   "metadata": {},
   "outputs": [],
   "source": [
    "#Se recodifica el atributo Booleano\n",
    "compra['on_demand'] = np.where(compra['on_demand'] == False, 1, 0)"
   ]
  },
  {
   "cell_type": "code",
   "execution_count": 5,
   "metadata": {},
   "outputs": [
    {
     "data": {
      "text/plain": [
       "1    4225\n",
       "0    3070\n",
       "Name: on_demand, dtype: int64"
      ]
     },
     "execution_count": 5,
     "metadata": {},
     "output_type": "execute_result"
    }
   ],
   "source": [
    "compra['on_demand'].value_counts()"
   ]
  },
  {
   "cell_type": "code",
   "execution_count": 6,
   "metadata": {},
   "outputs": [],
   "source": [
    "#Se actualizan los nombres de los atributos en el dataset\n",
    "compra.rename(columns={'order_id':'id_orden', 'lat':'latitud', 'lng':'longitud', 'dow':'dia', 'promised_time':'promesa',\n",
    "                       'actual_time':'entrega', 'on_demand':'id_entrega', 'picker_id':'id_recolector', \n",
    "                       'driver_id':'id_trasporte', 'store_branch_id':'id_tienda', 'total_minutes':'tiempo'}, inplace=True)"
   ]
  },
  {
   "cell_type": "code",
   "execution_count": 7,
   "metadata": {
    "scrolled": true
   },
   "outputs": [
    {
     "name": "stdout",
     "output_type": "stream",
     "text": [
      "La cantidad de registros es de: 7295\n",
      "La cantidad de atributos es de: 11\n"
     ]
    }
   ],
   "source": [
    "print(\"La cantidad de registros es de:\", compra.shape[0])\n",
    "print(\"La cantidad de atributos es de:\", compra.shape[1])"
   ]
  },
  {
   "cell_type": "code",
   "execution_count": 8,
   "metadata": {
    "scrolled": false
   },
   "outputs": [
    {
     "data": {
      "text/html": [
       "<div>\n",
       "<style scoped>\n",
       "    .dataframe tbody tr th:only-of-type {\n",
       "        vertical-align: middle;\n",
       "    }\n",
       "\n",
       "    .dataframe tbody tr th {\n",
       "        vertical-align: top;\n",
       "    }\n",
       "\n",
       "    .dataframe thead th {\n",
       "        text-align: right;\n",
       "    }\n",
       "</style>\n",
       "<table border=\"1\" class=\"dataframe\">\n",
       "  <thead>\n",
       "    <tr style=\"text-align: right;\">\n",
       "      <th></th>\n",
       "      <th>Total</th>\n",
       "      <th>Porcentaje (%)</th>\n",
       "    </tr>\n",
       "  </thead>\n",
       "  <tbody>\n",
       "    <tr>\n",
       "      <th>tiempo</th>\n",
       "      <td>752</td>\n",
       "      <td>10.31</td>\n",
       "    </tr>\n",
       "    <tr>\n",
       "      <th>id_tienda</th>\n",
       "      <td>0</td>\n",
       "      <td>0.00</td>\n",
       "    </tr>\n",
       "    <tr>\n",
       "      <th>id_trasporte</th>\n",
       "      <td>0</td>\n",
       "      <td>0.00</td>\n",
       "    </tr>\n",
       "    <tr>\n",
       "      <th>id_recolector</th>\n",
       "      <td>0</td>\n",
       "      <td>0.00</td>\n",
       "    </tr>\n",
       "    <tr>\n",
       "      <th>id_entrega</th>\n",
       "      <td>0</td>\n",
       "      <td>0.00</td>\n",
       "    </tr>\n",
       "    <tr>\n",
       "      <th>entrega</th>\n",
       "      <td>0</td>\n",
       "      <td>0.00</td>\n",
       "    </tr>\n",
       "    <tr>\n",
       "      <th>promesa</th>\n",
       "      <td>0</td>\n",
       "      <td>0.00</td>\n",
       "    </tr>\n",
       "    <tr>\n",
       "      <th>dia</th>\n",
       "      <td>0</td>\n",
       "      <td>0.00</td>\n",
       "    </tr>\n",
       "    <tr>\n",
       "      <th>longitud</th>\n",
       "      <td>0</td>\n",
       "      <td>0.00</td>\n",
       "    </tr>\n",
       "    <tr>\n",
       "      <th>latitud</th>\n",
       "      <td>0</td>\n",
       "      <td>0.00</td>\n",
       "    </tr>\n",
       "    <tr>\n",
       "      <th>id_orden</th>\n",
       "      <td>0</td>\n",
       "      <td>0.00</td>\n",
       "    </tr>\n",
       "  </tbody>\n",
       "</table>\n",
       "</div>"
      ],
      "text/plain": [
       "               Total  Porcentaje (%)\n",
       "tiempo           752           10.31\n",
       "id_tienda          0            0.00\n",
       "id_trasporte       0            0.00\n",
       "id_recolector      0            0.00\n",
       "id_entrega         0            0.00\n",
       "entrega            0            0.00\n",
       "promesa            0            0.00\n",
       "dia                0            0.00\n",
       "longitud           0            0.00\n",
       "latitud            0            0.00\n",
       "id_orden           0            0.00"
      ]
     },
     "execution_count": 8,
     "metadata": {},
     "output_type": "execute_result"
    }
   ],
   "source": [
    "#Se hace una tabla para observar los missing values\n",
    "total = compra.isnull().sum().sort_values(ascending=False)\n",
    "percent = round((compra.isnull().sum() / compra.isnull().count()) * 100, 2).sort_values(ascending=False)\n",
    "missing_values = pd.concat([total, percent], axis=1, keys=['Total', 'Porcentaje (%)'])\n",
    "missing_values"
   ]
  },
  {
   "cell_type": "markdown",
   "metadata": {},
   "source": [
    "Se puede apreciar que en este dataset sólo el atributo `tiempo` contiene datos perdidos, con un monto de __752__ registros, los cuales representan el __10.31%__ de la data, por tal motivo se hará una eliminación de dichos datos."
   ]
  },
  {
   "cell_type": "code",
   "execution_count": 9,
   "metadata": {},
   "outputs": [],
   "source": [
    "compra.dropna(inplace=True)"
   ]
  },
  {
   "cell_type": "code",
   "execution_count": 10,
   "metadata": {},
   "outputs": [
    {
     "name": "stdout",
     "output_type": "stream",
     "text": [
      "La cantidad de registros es de: 6543\n",
      "La cantidad de atributos es de: 11\n"
     ]
    }
   ],
   "source": [
    "print(\"La cantidad de registros es de:\", compra.shape[0])\n",
    "print(\"La cantidad de atributos es de:\", compra.shape[1])"
   ]
  },
  {
   "cell_type": "markdown",
   "metadata": {},
   "source": [
    "## Productos"
   ]
  },
  {
   "cell_type": "code",
   "execution_count": 11,
   "metadata": {
    "scrolled": false
   },
   "outputs": [
    {
     "data": {
      "text/html": [
       "<div>\n",
       "<style scoped>\n",
       "    .dataframe tbody tr th:only-of-type {\n",
       "        vertical-align: middle;\n",
       "    }\n",
       "\n",
       "    .dataframe tbody tr th {\n",
       "        vertical-align: top;\n",
       "    }\n",
       "\n",
       "    .dataframe thead th {\n",
       "        text-align: right;\n",
       "    }\n",
       "</style>\n",
       "<table border=\"1\" class=\"dataframe\">\n",
       "  <thead>\n",
       "    <tr style=\"text-align: right;\">\n",
       "      <th></th>\n",
       "      <th>order_id</th>\n",
       "      <th>product_id</th>\n",
       "      <th>quantity</th>\n",
       "      <th>quantity_found</th>\n",
       "      <th>buy_unit</th>\n",
       "    </tr>\n",
       "  </thead>\n",
       "  <tbody>\n",
       "    <tr>\n",
       "      <th>0</th>\n",
       "      <td>bdfc44fb525986b7bab8c589fc47e853</td>\n",
       "      <td>ab9757d9892b0e83ab3a1c1af0c84c52</td>\n",
       "      <td>0.75</td>\n",
       "      <td>0.155</td>\n",
       "      <td>KG</td>\n",
       "    </tr>\n",
       "    <tr>\n",
       "      <th>1</th>\n",
       "      <td>bdfc44fb525986b7bab8c589fc47e853</td>\n",
       "      <td>f1f042251bf634d44f338fbaf13b16e4</td>\n",
       "      <td>0.3</td>\n",
       "      <td>0.400</td>\n",
       "      <td>KG</td>\n",
       "    </tr>\n",
       "    <tr>\n",
       "      <th>2</th>\n",
       "      <td>bdfc44fb525986b7bab8c589fc47e853</td>\n",
       "      <td>0630d47440965509b0b3f80fd1b3578f</td>\n",
       "      <td>1</td>\n",
       "      <td>1.000</td>\n",
       "      <td>UN</td>\n",
       "    </tr>\n",
       "    <tr>\n",
       "      <th>3</th>\n",
       "      <td>bdfc44fb525986b7bab8c589fc47e853</td>\n",
       "      <td>9dd69b1f300666d5573e3a9934f2e03e</td>\n",
       "      <td>2</td>\n",
       "      <td>2.000</td>\n",
       "      <td>UN</td>\n",
       "    </tr>\n",
       "    <tr>\n",
       "      <th>4</th>\n",
       "      <td>bdfc44fb525986b7bab8c589fc47e853</td>\n",
       "      <td>3dfcdbe308bde67370649dd875f2507b</td>\n",
       "      <td>1</td>\n",
       "      <td>1.000</td>\n",
       "      <td>UN</td>\n",
       "    </tr>\n",
       "  </tbody>\n",
       "</table>\n",
       "</div>"
      ],
      "text/plain": [
       "                           order_id                        product_id  \\\n",
       "0  bdfc44fb525986b7bab8c589fc47e853  ab9757d9892b0e83ab3a1c1af0c84c52   \n",
       "1  bdfc44fb525986b7bab8c589fc47e853  f1f042251bf634d44f338fbaf13b16e4   \n",
       "2  bdfc44fb525986b7bab8c589fc47e853  0630d47440965509b0b3f80fd1b3578f   \n",
       "3  bdfc44fb525986b7bab8c589fc47e853  9dd69b1f300666d5573e3a9934f2e03e   \n",
       "4  bdfc44fb525986b7bab8c589fc47e853  3dfcdbe308bde67370649dd875f2507b   \n",
       "\n",
       "  quantity  quantity_found buy_unit  \n",
       "0     0.75           0.155       KG  \n",
       "1      0.3           0.400       KG  \n",
       "2        1           1.000       UN  \n",
       "3        2           2.000       UN  \n",
       "4        1           1.000       UN  "
      ]
     },
     "execution_count": 11,
     "metadata": {},
     "output_type": "execute_result"
    }
   ],
   "source": [
    "productos = pd.read_csv('data/2_Orden_productos.csv', sep=';')\n",
    "productos.head()"
   ]
  },
  {
   "cell_type": "code",
   "execution_count": 12,
   "metadata": {},
   "outputs": [],
   "source": [
    "#Se actualiza el nombre del atributo que identifica la orden de compra\n",
    "productos.rename(columns={'order_id':'id_orden'}, inplace=True)"
   ]
  },
  {
   "cell_type": "code",
   "execution_count": 13,
   "metadata": {},
   "outputs": [
    {
     "name": "stdout",
     "output_type": "stream",
     "text": [
      "La cantidad de registros es de: 120876\n",
      "La cantidad de atributos es de: 5\n"
     ]
    }
   ],
   "source": [
    "print(\"La cantidad de registros es de:\", productos.shape[0])\n",
    "print(\"La cantidad de atributos es de:\", productos.shape[1])"
   ]
  },
  {
   "cell_type": "markdown",
   "metadata": {},
   "source": [
    "No se encontraron datos perdidos en este dataset."
   ]
  },
  {
   "cell_type": "code",
   "execution_count": 14,
   "metadata": {
    "scrolled": true
   },
   "outputs": [
    {
     "data": {
      "text/plain": [
       "id_orden          False\n",
       "product_id        False\n",
       "quantity          False\n",
       "quantity_found    False\n",
       "buy_unit          False\n",
       "dtype: bool"
      ]
     },
     "execution_count": 14,
     "metadata": {},
     "output_type": "execute_result"
    }
   ],
   "source": [
    "productos.isnull().any()"
   ]
  },
  {
   "cell_type": "markdown",
   "metadata": {},
   "source": [
    "Se procederá a separar aquellos productos que se pesany y se contabilizan como 1, los que son por unidad mantendremos la cantidad. \n",
    "El objetivo de esta segmentación es posteriormente tener una columna de productos que son pesado y otras que son por unidad, ya que para este caso sólo nos importa la cantidad total de productos (pesados y por unidad) por orden, si bien tenemos un código de producto por el momento no podremos determinar que tipo de producto, si tendríamos esa información disponible podríamos determinar que productos que son pesados pueden influenciar más o menos en el tiempo de entrega, así que, nos concentraremos en la cantidad de productos por orden."
   ]
  },
  {
   "cell_type": "code",
   "execution_count": 15,
   "metadata": {},
   "outputs": [],
   "source": [
    "#Creamos una columna de tipo bandera, para determinar que las cantidades que están en el atributo quantity,\n",
    "#correspondan con su respectiva unidad\n",
    "productos['cantidad_ajustada'] = np.where(productos['buy_unit'] == 'KG' , 1, productos['quantity'])\n",
    "productos['cantidad_ajustada'] = pd.to_numeric(productos['cantidad_ajustada'])"
   ]
  },
  {
   "cell_type": "markdown",
   "metadata": {},
   "source": [
    "Para este caso cuando se evaluó la columna de \"tipo bandera\"--> `cantidad_ajustada`, se pudo apreciar que teníamos 2 casos anómalos ya que acá todos los valores tenían que ser entero y descubrimos que existen 2 casos donde en la columna `quantity` hay valores decimales y en la columna `buy_unit` su valor es __UN__ representando esto como Unidad, cuando en realidad es de tipo __KG__, se prodecerá a actualizar estos registros y volver a actualizar la columna `cantidad_ajustada`."
   ]
  },
  {
   "cell_type": "code",
   "execution_count": 16,
   "metadata": {
    "scrolled": true
   },
   "outputs": [
    {
     "data": {
      "text/html": [
       "<div>\n",
       "<style scoped>\n",
       "    .dataframe tbody tr th:only-of-type {\n",
       "        vertical-align: middle;\n",
       "    }\n",
       "\n",
       "    .dataframe tbody tr th {\n",
       "        vertical-align: top;\n",
       "    }\n",
       "\n",
       "    .dataframe thead th {\n",
       "        text-align: right;\n",
       "    }\n",
       "</style>\n",
       "<table border=\"1\" class=\"dataframe\">\n",
       "  <thead>\n",
       "    <tr style=\"text-align: right;\">\n",
       "      <th></th>\n",
       "      <th>id_orden</th>\n",
       "      <th>product_id</th>\n",
       "      <th>quantity</th>\n",
       "      <th>quantity_found</th>\n",
       "      <th>buy_unit</th>\n",
       "      <th>cantidad_ajustada</th>\n",
       "    </tr>\n",
       "  </thead>\n",
       "  <tbody>\n",
       "    <tr>\n",
       "      <th>29253</th>\n",
       "      <td>7a1be969ec97b66b710f7dc5b80f8a6f</td>\n",
       "      <td>068566a7b65d4093075f13ae383aa3d4</td>\n",
       "      <td>0.09</td>\n",
       "      <td>0.090</td>\n",
       "      <td>UN</td>\n",
       "      <td>0.090</td>\n",
       "    </tr>\n",
       "    <tr>\n",
       "      <th>96244</th>\n",
       "      <td>a5fc3ba3db31ac6a1ea5ddb87dcbc596</td>\n",
       "      <td>e0922ceeaeb05c556c27138d10305932</td>\n",
       "      <td>0.225</td>\n",
       "      <td>0.225</td>\n",
       "      <td>UN</td>\n",
       "      <td>0.225</td>\n",
       "    </tr>\n",
       "  </tbody>\n",
       "</table>\n",
       "</div>"
      ],
      "text/plain": [
       "                               id_orden                        product_id  \\\n",
       "29253  7a1be969ec97b66b710f7dc5b80f8a6f  068566a7b65d4093075f13ae383aa3d4   \n",
       "96244  a5fc3ba3db31ac6a1ea5ddb87dcbc596  e0922ceeaeb05c556c27138d10305932   \n",
       "\n",
       "      quantity  quantity_found buy_unit  cantidad_ajustada  \n",
       "29253     0.09           0.090       UN              0.090  \n",
       "96244    0.225           0.225       UN              0.225  "
      ]
     },
     "execution_count": 16,
     "metadata": {},
     "output_type": "execute_result"
    }
   ],
   "source": [
    "no_KG = productos.loc[(productos['cantidad_ajustada'] == 0.225) | (productos['cantidad_ajustada'] == 0.090)]\n",
    "no_KG.head()"
   ]
  },
  {
   "cell_type": "markdown",
   "metadata": {},
   "source": [
    "Existen par de productos que en la __unidad de compra__ marcan como __\"UN\"__ cuando en realidad son de tipo __\"KG\"__."
   ]
  },
  {
   "cell_type": "code",
   "execution_count": 17,
   "metadata": {},
   "outputs": [],
   "source": [
    "#Se reemplazan esos valores por los verdaderos\n",
    "productos.loc[29253, 'buy_unit'] = 'KG'\n",
    "productos.loc[96244, 'buy_unit'] = 'KG'"
   ]
  },
  {
   "cell_type": "code",
   "execution_count": 18,
   "metadata": {},
   "outputs": [],
   "source": [
    "#Se actualizan los datos\n",
    "productos['cantidad_ajustada'] = np.where(productos['buy_unit'] == 'KG' , 1, productos['quantity'])\n",
    "productos['cantidad_ajustada'] = pd.to_numeric(productos['cantidad_ajustada'])"
   ]
  },
  {
   "cell_type": "code",
   "execution_count": 19,
   "metadata": {},
   "outputs": [],
   "source": [
    "#productos['cantidad_aj'] = np.where(np.isnan(productos['cantidad_aj']), np.nan, productos['cantidad_aj'])\n",
    "#productos['cantidad_aj'] = np.where(productos['cantidad_aj'] > 120, 'outlier', productos['cantidad_aj'])"
   ]
  },
  {
   "cell_type": "markdown",
   "metadata": {},
   "source": [
    "No se encontraron Outliers."
   ]
  },
  {
   "cell_type": "markdown",
   "metadata": {},
   "source": [
    "Separamos en tipo de productos: Aquellos que se pesan y aquellos que no, además, crearemos una columna extra que será la cantidad total, conformada por la suma entre los productos sin pesar con los que se pesan."
   ]
  },
  {
   "cell_type": "code",
   "execution_count": 20,
   "metadata": {},
   "outputs": [],
   "source": [
    "tipo = pd.get_dummies(productos['buy_unit'])"
   ]
  },
  {
   "cell_type": "code",
   "execution_count": 21,
   "metadata": {},
   "outputs": [],
   "source": [
    "productos['sin_pesar'] = tipo['UN']\n",
    "productos['pesados'] = tipo ['KG']\n",
    "productos['cantidad_total'] = productos['sin_pesar'] + productos['pesados']\n",
    "productos.drop(columns=['quantity', 'quantity_found', 'buy_unit', 'product_id', 'cantidad_ajustada'], inplace=True)"
   ]
  },
  {
   "cell_type": "code",
   "execution_count": 22,
   "metadata": {},
   "outputs": [],
   "source": [
    "productos_agrupados = productos.groupby(by='id_orden').sum().reset_index()"
   ]
  },
  {
   "cell_type": "code",
   "execution_count": 23,
   "metadata": {},
   "outputs": [
    {
     "data": {
      "text/html": [
       "<div>\n",
       "<style scoped>\n",
       "    .dataframe tbody tr th:only-of-type {\n",
       "        vertical-align: middle;\n",
       "    }\n",
       "\n",
       "    .dataframe tbody tr th {\n",
       "        vertical-align: top;\n",
       "    }\n",
       "\n",
       "    .dataframe thead th {\n",
       "        text-align: right;\n",
       "    }\n",
       "</style>\n",
       "<table border=\"1\" class=\"dataframe\">\n",
       "  <thead>\n",
       "    <tr style=\"text-align: right;\">\n",
       "      <th></th>\n",
       "      <th>id_orden</th>\n",
       "      <th>sin_pesar</th>\n",
       "      <th>pesados</th>\n",
       "      <th>cantidad_total</th>\n",
       "    </tr>\n",
       "  </thead>\n",
       "  <tbody>\n",
       "    <tr>\n",
       "      <th>0</th>\n",
       "      <td>001ef94c50c71cb0e674b6293e9b6068</td>\n",
       "      <td>30</td>\n",
       "      <td>5</td>\n",
       "      <td>35</td>\n",
       "    </tr>\n",
       "    <tr>\n",
       "      <th>1</th>\n",
       "      <td>001f7583bb106a338d09a12a89e54cbd</td>\n",
       "      <td>5</td>\n",
       "      <td>0</td>\n",
       "      <td>5</td>\n",
       "    </tr>\n",
       "    <tr>\n",
       "      <th>2</th>\n",
       "      <td>002b6dcb32fef90ebb1cb691afe6a413</td>\n",
       "      <td>9</td>\n",
       "      <td>0</td>\n",
       "      <td>9</td>\n",
       "    </tr>\n",
       "    <tr>\n",
       "      <th>3</th>\n",
       "      <td>002ebc46f3e40c49044aceb8311df432</td>\n",
       "      <td>3</td>\n",
       "      <td>1</td>\n",
       "      <td>4</td>\n",
       "    </tr>\n",
       "    <tr>\n",
       "      <th>4</th>\n",
       "      <td>002f97bd7dad0d275d8511436c18b572</td>\n",
       "      <td>7</td>\n",
       "      <td>4</td>\n",
       "      <td>11</td>\n",
       "    </tr>\n",
       "  </tbody>\n",
       "</table>\n",
       "</div>"
      ],
      "text/plain": [
       "                           id_orden  sin_pesar  pesados  cantidad_total\n",
       "0  001ef94c50c71cb0e674b6293e9b6068         30        5              35\n",
       "1  001f7583bb106a338d09a12a89e54cbd          5        0               5\n",
       "2  002b6dcb32fef90ebb1cb691afe6a413          9        0               9\n",
       "3  002ebc46f3e40c49044aceb8311df432          3        1               4\n",
       "4  002f97bd7dad0d275d8511436c18b572          7        4              11"
      ]
     },
     "execution_count": 23,
     "metadata": {},
     "output_type": "execute_result"
    }
   ],
   "source": [
    "productos_agrupados.head()"
   ]
  },
  {
   "cell_type": "markdown",
   "metadata": {},
   "source": [
    "Finalmente, se hizo una agrupación del dataframe por número de orden, así consideramos solamente los productos que son pesado y los que no son pesados y la suma total de ellos."
   ]
  },
  {
   "cell_type": "markdown",
   "metadata": {},
   "source": [
    "## Recolector"
   ]
  },
  {
   "cell_type": "code",
   "execution_count": 24,
   "metadata": {},
   "outputs": [
    {
     "data": {
      "text/html": [
       "<div>\n",
       "<style scoped>\n",
       "    .dataframe tbody tr th:only-of-type {\n",
       "        vertical-align: middle;\n",
       "    }\n",
       "\n",
       "    .dataframe tbody tr th {\n",
       "        vertical-align: top;\n",
       "    }\n",
       "\n",
       "    .dataframe thead th {\n",
       "        text-align: right;\n",
       "    }\n",
       "</style>\n",
       "<table border=\"1\" class=\"dataframe\">\n",
       "  <thead>\n",
       "    <tr style=\"text-align: right;\">\n",
       "      <th></th>\n",
       "      <th>shopper_id</th>\n",
       "      <th>seniority</th>\n",
       "      <th>found_rate</th>\n",
       "      <th>picking_speed</th>\n",
       "      <th>accepted_rate</th>\n",
       "      <th>rating</th>\n",
       "    </tr>\n",
       "  </thead>\n",
       "  <tbody>\n",
       "    <tr>\n",
       "      <th>0</th>\n",
       "      <td>087ab65ceca40dbef697f585dc159d5d</td>\n",
       "      <td>ADVANCED</td>\n",
       "      <td>0.8610</td>\n",
       "      <td>1.64</td>\n",
       "      <td>1.00</td>\n",
       "      <td>4.48</td>\n",
       "    </tr>\n",
       "    <tr>\n",
       "      <th>1</th>\n",
       "      <td>645973c41314d763b58dc2bceeeeffc9</td>\n",
       "      <td>INTERMEDIATE</td>\n",
       "      <td>0.8337</td>\n",
       "      <td>2.83</td>\n",
       "      <td>0.96</td>\n",
       "      <td>4.79</td>\n",
       "    </tr>\n",
       "    <tr>\n",
       "      <th>2</th>\n",
       "      <td>82810715fdda44962e7e422015ea1f32</td>\n",
       "      <td>ADVANCED</td>\n",
       "      <td>0.8681</td>\n",
       "      <td>1.27</td>\n",
       "      <td>0.88</td>\n",
       "      <td>4.84</td>\n",
       "    </tr>\n",
       "    <tr>\n",
       "      <th>3</th>\n",
       "      <td>416aa7dbd5a2f58d7bca96657e8faa1e</td>\n",
       "      <td>INTERMEDIATE</td>\n",
       "      <td>0.8784</td>\n",
       "      <td>2.11</td>\n",
       "      <td>1.00</td>\n",
       "      <td>NaN</td>\n",
       "    </tr>\n",
       "    <tr>\n",
       "      <th>4</th>\n",
       "      <td>27a3e845a4c3eb7ded4748f84140a843</td>\n",
       "      <td>ADVANCED</td>\n",
       "      <td>0.8466</td>\n",
       "      <td>1.50</td>\n",
       "      <td>1.00</td>\n",
       "      <td>4.84</td>\n",
       "    </tr>\n",
       "  </tbody>\n",
       "</table>\n",
       "</div>"
      ],
      "text/plain": [
       "                         shopper_id     seniority  found_rate  picking_speed  \\\n",
       "0  087ab65ceca40dbef697f585dc159d5d      ADVANCED      0.8610           1.64   \n",
       "1  645973c41314d763b58dc2bceeeeffc9  INTERMEDIATE      0.8337           2.83   \n",
       "2  82810715fdda44962e7e422015ea1f32      ADVANCED      0.8681           1.27   \n",
       "3  416aa7dbd5a2f58d7bca96657e8faa1e  INTERMEDIATE      0.8784           2.11   \n",
       "4  27a3e845a4c3eb7ded4748f84140a843      ADVANCED      0.8466           1.50   \n",
       "\n",
       "   accepted_rate  rating  \n",
       "0           1.00    4.48  \n",
       "1           0.96    4.79  \n",
       "2           0.88    4.84  \n",
       "3           1.00     NaN  \n",
       "4           1.00    4.84  "
      ]
     },
     "execution_count": 24,
     "metadata": {},
     "output_type": "execute_result"
    }
   ],
   "source": [
    "recolector = pd.read_csv('data/3_Recolector.csv', sep=\";\")\n",
    "recolector.head()"
   ]
  },
  {
   "cell_type": "code",
   "execution_count": 25,
   "metadata": {},
   "outputs": [
    {
     "name": "stdout",
     "output_type": "stream",
     "text": [
      "La cantidad de registros es de: 600\n",
      "La cantidad de atributos es de: 6\n"
     ]
    }
   ],
   "source": [
    "print(\"La cantidad de registros es de:\", recolector.shape[0])\n",
    "print(\"La cantidad de atributos es de:\", recolector.shape[1])"
   ]
  },
  {
   "cell_type": "code",
   "execution_count": 26,
   "metadata": {},
   "outputs": [],
   "source": [
    "#Se renombran las columnas del dataset\n",
    "recolector.rename(columns={'shopper_id':'id_recolector', 'seniority':'clasificacion_recolector', \n",
    "                           'found_rate':'p_aciertos', 'picking_speed':'velocidad', \n",
    "                           'accepted_rate':'p_aceptacion', 'rating':'score_recolector'}, inplace=True)"
   ]
  },
  {
   "cell_type": "markdown",
   "metadata": {},
   "source": [
    "Tenemos algunos datos perdidos en el dataset por lo que determinaremos el que cantidad representa en cada atributo para posteriormente aislar estos casos y analizarlos de una mejor manera."
   ]
  },
  {
   "cell_type": "code",
   "execution_count": 27,
   "metadata": {
    "scrolled": true
   },
   "outputs": [
    {
     "data": {
      "text/plain": [
       "id_recolector               False\n",
       "clasificacion_recolector    False\n",
       "p_aciertos                   True\n",
       "velocidad                   False\n",
       "p_aceptacion                 True\n",
       "score_recolector             True\n",
       "dtype: bool"
      ]
     },
     "execution_count": 27,
     "metadata": {},
     "output_type": "execute_result"
    }
   ],
   "source": [
    "recolector.isnull().any()"
   ]
  },
  {
   "cell_type": "code",
   "execution_count": 28,
   "metadata": {},
   "outputs": [
    {
     "data": {
      "text/html": [
       "<div>\n",
       "<style scoped>\n",
       "    .dataframe tbody tr th:only-of-type {\n",
       "        vertical-align: middle;\n",
       "    }\n",
       "\n",
       "    .dataframe tbody tr th {\n",
       "        vertical-align: top;\n",
       "    }\n",
       "\n",
       "    .dataframe thead th {\n",
       "        text-align: right;\n",
       "    }\n",
       "</style>\n",
       "<table border=\"1\" class=\"dataframe\">\n",
       "  <thead>\n",
       "    <tr style=\"text-align: right;\">\n",
       "      <th></th>\n",
       "      <th>Total</th>\n",
       "      <th>Porcentaje (%)</th>\n",
       "    </tr>\n",
       "  </thead>\n",
       "  <tbody>\n",
       "    <tr>\n",
       "      <th>p_aciertos</th>\n",
       "      <td>36</td>\n",
       "      <td>6.00</td>\n",
       "    </tr>\n",
       "    <tr>\n",
       "      <th>score_recolector</th>\n",
       "      <td>34</td>\n",
       "      <td>5.67</td>\n",
       "    </tr>\n",
       "    <tr>\n",
       "      <th>p_aceptacion</th>\n",
       "      <td>6</td>\n",
       "      <td>1.00</td>\n",
       "    </tr>\n",
       "    <tr>\n",
       "      <th>velocidad</th>\n",
       "      <td>0</td>\n",
       "      <td>0.00</td>\n",
       "    </tr>\n",
       "    <tr>\n",
       "      <th>clasificacion_recolector</th>\n",
       "      <td>0</td>\n",
       "      <td>0.00</td>\n",
       "    </tr>\n",
       "    <tr>\n",
       "      <th>id_recolector</th>\n",
       "      <td>0</td>\n",
       "      <td>0.00</td>\n",
       "    </tr>\n",
       "  </tbody>\n",
       "</table>\n",
       "</div>"
      ],
      "text/plain": [
       "                          Total  Porcentaje (%)\n",
       "p_aciertos                   36            6.00\n",
       "score_recolector             34            5.67\n",
       "p_aceptacion                  6            1.00\n",
       "velocidad                     0            0.00\n",
       "clasificacion_recolector      0            0.00\n",
       "id_recolector                 0            0.00"
      ]
     },
     "execution_count": 28,
     "metadata": {},
     "output_type": "execute_result"
    }
   ],
   "source": [
    "total = recolector.isnull().sum().sort_values(ascending=False)\n",
    "percent = round((recolector.isnull().sum() / recolector.isnull().count()) * 100, 2).sort_values(ascending=False)\n",
    "missing_values = pd.concat([total, percent], axis=1, keys=['Total', 'Porcentaje (%)'])\n",
    "missing_values"
   ]
  },
  {
   "cell_type": "markdown",
   "metadata": {},
   "source": [
    "Podemos apreciar que existen __3 atributos__ los cuales tienen algunos datos perdidos, donde se representa en porcentaje la cifra de ellos en c/u."
   ]
  },
  {
   "cell_type": "markdown",
   "metadata": {},
   "source": [
    "Para este caso tenemos pocos atributos en nuestro dataset, por lo que emplearemos la técnica `get_dummies` para separar y convertir en nuevos atributos la columna `clasificacion_recolector`, la cual representa la clasificación del recolector y para este caso tenemos sólo __4 tipos__."
   ]
  },
  {
   "cell_type": "code",
   "execution_count": 29,
   "metadata": {},
   "outputs": [
    {
     "data": {
      "text/plain": [
       "ADVANCED        268\n",
       "INTERMEDIATE    204\n",
       "REVIEW           99\n",
       "BEGINNER         29\n",
       "Name: clasificacion_recolector, dtype: int64"
      ]
     },
     "execution_count": 29,
     "metadata": {},
     "output_type": "execute_result"
    }
   ],
   "source": [
    "#Se contabilizan las categorías del atributo 'clasificacion_recolector'\n",
    "recolector['clasificacion_recolector'].value_counts()"
   ]
  },
  {
   "cell_type": "code",
   "execution_count": 30,
   "metadata": {},
   "outputs": [],
   "source": [
    "recolector = pd.get_dummies(recolector, columns=['clasificacion_recolector'], prefix='seniority', prefix_sep='_')"
   ]
  },
  {
   "cell_type": "code",
   "execution_count": 31,
   "metadata": {
    "scrolled": true
   },
   "outputs": [
    {
     "data": {
      "text/html": [
       "<div>\n",
       "<style scoped>\n",
       "    .dataframe tbody tr th:only-of-type {\n",
       "        vertical-align: middle;\n",
       "    }\n",
       "\n",
       "    .dataframe tbody tr th {\n",
       "        vertical-align: top;\n",
       "    }\n",
       "\n",
       "    .dataframe thead th {\n",
       "        text-align: right;\n",
       "    }\n",
       "</style>\n",
       "<table border=\"1\" class=\"dataframe\">\n",
       "  <thead>\n",
       "    <tr style=\"text-align: right;\">\n",
       "      <th></th>\n",
       "      <th>id_recolector</th>\n",
       "      <th>p_aciertos</th>\n",
       "      <th>velocidad</th>\n",
       "      <th>p_aceptacion</th>\n",
       "      <th>score_recolector</th>\n",
       "      <th>seniority_ADVANCED</th>\n",
       "      <th>seniority_BEGINNER</th>\n",
       "      <th>seniority_INTERMEDIATE</th>\n",
       "      <th>seniority_REVIEW</th>\n",
       "    </tr>\n",
       "  </thead>\n",
       "  <tbody>\n",
       "    <tr>\n",
       "      <th>0</th>\n",
       "      <td>087ab65ceca40dbef697f585dc159d5d</td>\n",
       "      <td>0.8610</td>\n",
       "      <td>1.64</td>\n",
       "      <td>1.00</td>\n",
       "      <td>4.48</td>\n",
       "      <td>1</td>\n",
       "      <td>0</td>\n",
       "      <td>0</td>\n",
       "      <td>0</td>\n",
       "    </tr>\n",
       "    <tr>\n",
       "      <th>1</th>\n",
       "      <td>645973c41314d763b58dc2bceeeeffc9</td>\n",
       "      <td>0.8337</td>\n",
       "      <td>2.83</td>\n",
       "      <td>0.96</td>\n",
       "      <td>4.79</td>\n",
       "      <td>0</td>\n",
       "      <td>0</td>\n",
       "      <td>1</td>\n",
       "      <td>0</td>\n",
       "    </tr>\n",
       "    <tr>\n",
       "      <th>2</th>\n",
       "      <td>82810715fdda44962e7e422015ea1f32</td>\n",
       "      <td>0.8681</td>\n",
       "      <td>1.27</td>\n",
       "      <td>0.88</td>\n",
       "      <td>4.84</td>\n",
       "      <td>1</td>\n",
       "      <td>0</td>\n",
       "      <td>0</td>\n",
       "      <td>0</td>\n",
       "    </tr>\n",
       "    <tr>\n",
       "      <th>3</th>\n",
       "      <td>416aa7dbd5a2f58d7bca96657e8faa1e</td>\n",
       "      <td>0.8784</td>\n",
       "      <td>2.11</td>\n",
       "      <td>1.00</td>\n",
       "      <td>NaN</td>\n",
       "      <td>0</td>\n",
       "      <td>0</td>\n",
       "      <td>1</td>\n",
       "      <td>0</td>\n",
       "    </tr>\n",
       "    <tr>\n",
       "      <th>4</th>\n",
       "      <td>27a3e845a4c3eb7ded4748f84140a843</td>\n",
       "      <td>0.8466</td>\n",
       "      <td>1.50</td>\n",
       "      <td>1.00</td>\n",
       "      <td>4.84</td>\n",
       "      <td>1</td>\n",
       "      <td>0</td>\n",
       "      <td>0</td>\n",
       "      <td>0</td>\n",
       "    </tr>\n",
       "  </tbody>\n",
       "</table>\n",
       "</div>"
      ],
      "text/plain": [
       "                      id_recolector  p_aciertos  velocidad  p_aceptacion  \\\n",
       "0  087ab65ceca40dbef697f585dc159d5d      0.8610       1.64          1.00   \n",
       "1  645973c41314d763b58dc2bceeeeffc9      0.8337       2.83          0.96   \n",
       "2  82810715fdda44962e7e422015ea1f32      0.8681       1.27          0.88   \n",
       "3  416aa7dbd5a2f58d7bca96657e8faa1e      0.8784       2.11          1.00   \n",
       "4  27a3e845a4c3eb7ded4748f84140a843      0.8466       1.50          1.00   \n",
       "\n",
       "   score_recolector  seniority_ADVANCED  seniority_BEGINNER  \\\n",
       "0              4.48                   1                   0   \n",
       "1              4.79                   0                   0   \n",
       "2              4.84                   1                   0   \n",
       "3               NaN                   0                   0   \n",
       "4              4.84                   1                   0   \n",
       "\n",
       "   seniority_INTERMEDIATE  seniority_REVIEW  \n",
       "0                       0                 0  \n",
       "1                       1                 0  \n",
       "2                       0                 0  \n",
       "3                       1                 0  \n",
       "4                       0                 0  "
      ]
     },
     "execution_count": 31,
     "metadata": {},
     "output_type": "execute_result"
    }
   ],
   "source": [
    "recolector.head()"
   ]
  },
  {
   "cell_type": "markdown",
   "metadata": {},
   "source": [
    "## Tiendas"
   ]
  },
  {
   "cell_type": "code",
   "execution_count": 32,
   "metadata": {},
   "outputs": [
    {
     "data": {
      "text/html": [
       "<div>\n",
       "<style scoped>\n",
       "    .dataframe tbody tr th:only-of-type {\n",
       "        vertical-align: middle;\n",
       "    }\n",
       "\n",
       "    .dataframe tbody tr th {\n",
       "        vertical-align: top;\n",
       "    }\n",
       "\n",
       "    .dataframe thead th {\n",
       "        text-align: right;\n",
       "    }\n",
       "</style>\n",
       "<table border=\"1\" class=\"dataframe\">\n",
       "  <thead>\n",
       "    <tr style=\"text-align: right;\">\n",
       "      <th></th>\n",
       "      <th>store_branch_id</th>\n",
       "      <th>store</th>\n",
       "      <th>lat</th>\n",
       "      <th>lng</th>\n",
       "    </tr>\n",
       "  </thead>\n",
       "  <tbody>\n",
       "    <tr>\n",
       "      <th>0</th>\n",
       "      <td>cf0895f1e3beb8164f0a86e6f940ae56</td>\n",
       "      <td>c0b93cf93cf854981b8d6bd849eec4b0</td>\n",
       "      <td>18.160.308.413.602.800</td>\n",
       "      <td>-10.026.067.265.111.100</td>\n",
       "    </tr>\n",
       "    <tr>\n",
       "      <th>1</th>\n",
       "      <td>3ddd4c29cab4178d89d549c6ba65c236</td>\n",
       "      <td>044d56734d20e04984d846dade6d39f3</td>\n",
       "      <td>1.827.282.968.914.450</td>\n",
       "      <td>-10.031.881.435.593.900</td>\n",
       "    </tr>\n",
       "    <tr>\n",
       "      <th>2</th>\n",
       "      <td>e9763f24fd46d0b9e52d423207a87c3c</td>\n",
       "      <td>452ae015bf846e1d2932b7ea15720d64</td>\n",
       "      <td>18.273.494.015.704.800</td>\n",
       "      <td>-10.031.958.539.978.200</td>\n",
       "    </tr>\n",
       "    <tr>\n",
       "      <th>3</th>\n",
       "      <td>49b7d60d6095a9f1129ce798102b62f4</td>\n",
       "      <td>6447951cd071f6f045fd4e6194920926</td>\n",
       "      <td>1.824.774.341.566.610</td>\n",
       "      <td>-10.040.355.771.938.600</td>\n",
       "    </tr>\n",
       "    <tr>\n",
       "      <th>4</th>\n",
       "      <td>8f21cfda17b340aeee062220d0bee8e5</td>\n",
       "      <td>452ae015bf846e1d2932b7ea15720d64</td>\n",
       "      <td>18.203.111.495.565.700</td>\n",
       "      <td>-10.029.771.361.550.100</td>\n",
       "    </tr>\n",
       "  </tbody>\n",
       "</table>\n",
       "</div>"
      ],
      "text/plain": [
       "                    store_branch_id                             store  \\\n",
       "0  cf0895f1e3beb8164f0a86e6f940ae56  c0b93cf93cf854981b8d6bd849eec4b0   \n",
       "1  3ddd4c29cab4178d89d549c6ba65c236  044d56734d20e04984d846dade6d39f3   \n",
       "2  e9763f24fd46d0b9e52d423207a87c3c  452ae015bf846e1d2932b7ea15720d64   \n",
       "3  49b7d60d6095a9f1129ce798102b62f4  6447951cd071f6f045fd4e6194920926   \n",
       "4  8f21cfda17b340aeee062220d0bee8e5  452ae015bf846e1d2932b7ea15720d64   \n",
       "\n",
       "                      lat                      lng  \n",
       "0  18.160.308.413.602.800  -10.026.067.265.111.100  \n",
       "1   1.827.282.968.914.450  -10.031.881.435.593.900  \n",
       "2  18.273.494.015.704.800  -10.031.958.539.978.200  \n",
       "3   1.824.774.341.566.610  -10.040.355.771.938.600  \n",
       "4  18.203.111.495.565.700  -10.029.771.361.550.100  "
      ]
     },
     "execution_count": 32,
     "metadata": {},
     "output_type": "execute_result"
    }
   ],
   "source": [
    "tienda = pd.read_csv('data/4_tienda.csv', sep=';')\n",
    "tienda.head()"
   ]
  },
  {
   "cell_type": "markdown",
   "metadata": {},
   "source": [
    "Podemos apreciar que no tenemos datos perdidos en el dataset."
   ]
  },
  {
   "cell_type": "code",
   "execution_count": 33,
   "metadata": {},
   "outputs": [
    {
     "data": {
      "text/plain": [
       "store_branch_id    False\n",
       "store              False\n",
       "lat                False\n",
       "lng                False\n",
       "dtype: bool"
      ]
     },
     "execution_count": 33,
     "metadata": {},
     "output_type": "execute_result"
    }
   ],
   "source": [
    "tienda.isnull().any()"
   ]
  },
  {
   "cell_type": "code",
   "execution_count": 34,
   "metadata": {},
   "outputs": [
    {
     "name": "stdout",
     "output_type": "stream",
     "text": [
      "La cantidad de registros es de: 113\n",
      "La cantidad de atributos es de: 4\n"
     ]
    }
   ],
   "source": [
    "print(\"La cantidad de registros es de:\", tienda.shape[0])\n",
    "print(\"La cantidad de atributos es de:\", tienda.shape[1])"
   ]
  },
  {
   "cell_type": "code",
   "execution_count": 35,
   "metadata": {},
   "outputs": [],
   "source": [
    "tienda.rename(columns={'store_branch_id':'id_tienda', 'store':'tienda', 'lat':'latitud_tienda',\n",
    "                       'lng':'longitud_tienda'}, inplace=True)"
   ]
  },
  {
   "cell_type": "markdown",
   "metadata": {},
   "source": [
    "## Consolidacion"
   ]
  },
  {
   "cell_type": "code",
   "execution_count": 36,
   "metadata": {},
   "outputs": [],
   "source": [
    "#Consolidación de los df compra y prodructos\n",
    "df = pd.merge(compra, productos_agrupados, how='left', on='id_orden')"
   ]
  },
  {
   "cell_type": "code",
   "execution_count": 37,
   "metadata": {},
   "outputs": [],
   "source": [
    "#Consolidación del df con recolector\n",
    "df = pd.merge(df, recolector, how='left', on='id_recolector')"
   ]
  },
  {
   "cell_type": "code",
   "execution_count": 38,
   "metadata": {},
   "outputs": [],
   "source": [
    "#consolidación de todos los dataset\n",
    "df = pd.merge(df, tienda, how='left', on='id_tienda')"
   ]
  },
  {
   "cell_type": "code",
   "execution_count": 39,
   "metadata": {},
   "outputs": [
    {
     "name": "stdout",
     "output_type": "stream",
     "text": [
      "La cantidad de registros final es de: 6543\n",
      "La cantidad de atributos final es de: 25\n"
     ]
    }
   ],
   "source": [
    "print(\"La cantidad de registros final es de:\", df.shape[0])\n",
    "print(\"La cantidad de atributos final es de:\", df.shape[1])"
   ]
  },
  {
   "cell_type": "code",
   "execution_count": 40,
   "metadata": {},
   "outputs": [],
   "source": [
    "df.to_csv('data/consolidado.csv', header=True, index=False)"
   ]
  },
  {
   "cell_type": "code",
   "execution_count": 41,
   "metadata": {},
   "outputs": [
    {
     "data": {
      "text/html": [
       "<div>\n",
       "<style scoped>\n",
       "    .dataframe tbody tr th:only-of-type {\n",
       "        vertical-align: middle;\n",
       "    }\n",
       "\n",
       "    .dataframe tbody tr th {\n",
       "        vertical-align: top;\n",
       "    }\n",
       "\n",
       "    .dataframe thead th {\n",
       "        text-align: right;\n",
       "    }\n",
       "</style>\n",
       "<table border=\"1\" class=\"dataframe\">\n",
       "  <thead>\n",
       "    <tr style=\"text-align: right;\">\n",
       "      <th></th>\n",
       "      <th>id_orden</th>\n",
       "      <th>latitud</th>\n",
       "      <th>longitud</th>\n",
       "      <th>dia</th>\n",
       "      <th>promesa</th>\n",
       "      <th>entrega</th>\n",
       "      <th>id_entrega</th>\n",
       "      <th>id_recolector</th>\n",
       "      <th>id_trasporte</th>\n",
       "      <th>id_tienda</th>\n",
       "      <th>...</th>\n",
       "      <th>velocidad</th>\n",
       "      <th>p_aceptacion</th>\n",
       "      <th>score_recolector</th>\n",
       "      <th>seniority_ADVANCED</th>\n",
       "      <th>seniority_BEGINNER</th>\n",
       "      <th>seniority_INTERMEDIATE</th>\n",
       "      <th>seniority_REVIEW</th>\n",
       "      <th>tienda</th>\n",
       "      <th>latitud_tienda</th>\n",
       "      <th>longitud_tienda</th>\n",
       "    </tr>\n",
       "  </thead>\n",
       "  <tbody>\n",
       "    <tr>\n",
       "      <th>0</th>\n",
       "      <td>6abd5e28d01b7c733fe37485294235dc</td>\n",
       "      <td>1.822.114.109.606.680</td>\n",
       "      <td>-10.031.391.366.664.600</td>\n",
       "      <td>2</td>\n",
       "      <td>13:00:00</td>\n",
       "      <td>12:00:15</td>\n",
       "      <td>1</td>\n",
       "      <td>09bb5bfe76adbb474dddbdd111a51623</td>\n",
       "      <td>09bb5bfe76adbb474dddbdd111a51623</td>\n",
       "      <td>0dc6fb5924a8b917bc641666ed02663c</td>\n",
       "      <td>...</td>\n",
       "      <td>1.56</td>\n",
       "      <td>1.00</td>\n",
       "      <td>4.68</td>\n",
       "      <td>1</td>\n",
       "      <td>0</td>\n",
       "      <td>0</td>\n",
       "      <td>0</td>\n",
       "      <td>60e4c4e1c1a8bc79123738227b9d0b08</td>\n",
       "      <td>1.823.190.132.492.320</td>\n",
       "      <td>-1.003.035.533.737.440</td>\n",
       "    </tr>\n",
       "    <tr>\n",
       "      <th>1</th>\n",
       "      <td>0d37a1eea001f01b40232ffd496ff663</td>\n",
       "      <td>18.177.712.202.580.300</td>\n",
       "      <td>-10.035.705.073.096.900</td>\n",
       "      <td>2</td>\n",
       "      <td>13:00:00</td>\n",
       "      <td>10:28:10</td>\n",
       "      <td>1</td>\n",
       "      <td>c4c722114a82fa21654e57e9636d68b0</td>\n",
       "      <td>c4c722114a82fa21654e57e9636d68b0</td>\n",
       "      <td>2bbf833e689d24b697f1f3529c3f3c4b</td>\n",
       "      <td>...</td>\n",
       "      <td>1.14</td>\n",
       "      <td>1.00</td>\n",
       "      <td>4.76</td>\n",
       "      <td>1</td>\n",
       "      <td>0</td>\n",
       "      <td>0</td>\n",
       "      <td>0</td>\n",
       "      <td>387d4a5b65cf4bf00ad805c4b00eed01</td>\n",
       "      <td>18.163.960.871.027.900</td>\n",
       "      <td>-10.032.899.405.911.000</td>\n",
       "    </tr>\n",
       "    <tr>\n",
       "      <th>2</th>\n",
       "      <td>528428e9b9eb5d3bd0dbdd8da692b087</td>\n",
       "      <td>1.826.683.205.404.410</td>\n",
       "      <td>-10.031.755.280.890.600</td>\n",
       "      <td>2</td>\n",
       "      <td>11:00:00</td>\n",
       "      <td>10:40:50</td>\n",
       "      <td>1</td>\n",
       "      <td>e15c7a67d0ea9a54dffb410bc1d8528b</td>\n",
       "      <td>e15c7a67d0ea9a54dffb410bc1d8528b</td>\n",
       "      <td>8d891dfc0e29d744c15c18adced74a68</td>\n",
       "      <td>...</td>\n",
       "      <td>2.03</td>\n",
       "      <td>1.00</td>\n",
       "      <td>4.96</td>\n",
       "      <td>0</td>\n",
       "      <td>0</td>\n",
       "      <td>1</td>\n",
       "      <td>0</td>\n",
       "      <td>0fae7b61265bc7ca4ce4d81440b62501</td>\n",
       "      <td>1.824.565.541.228.880</td>\n",
       "      <td>-1.003.324.934.760.470</td>\n",
       "    </tr>\n",
       "    <tr>\n",
       "      <th>3</th>\n",
       "      <td>d3f7be6d64eae7405b7bf024e04807a2</td>\n",
       "      <td>18.248.884.004.419.400</td>\n",
       "      <td>-1.003.226.215.187.040</td>\n",
       "      <td>2</td>\n",
       "      <td>10:00:00</td>\n",
       "      <td>9:41:47</td>\n",
       "      <td>1</td>\n",
       "      <td>d1f0bd4b237c1358f09db22076b940e7</td>\n",
       "      <td>d1f0bd4b237c1358f09db22076b940e7</td>\n",
       "      <td>0dc6fb5924a8b917bc641666ed02663c</td>\n",
       "      <td>...</td>\n",
       "      <td>2.06</td>\n",
       "      <td>0.92</td>\n",
       "      <td>4.92</td>\n",
       "      <td>0</td>\n",
       "      <td>0</td>\n",
       "      <td>1</td>\n",
       "      <td>0</td>\n",
       "      <td>60e4c4e1c1a8bc79123738227b9d0b08</td>\n",
       "      <td>1.823.190.132.492.320</td>\n",
       "      <td>-1.003.035.533.737.440</td>\n",
       "    </tr>\n",
       "    <tr>\n",
       "      <th>4</th>\n",
       "      <td>e0ad6533b6cd9a382ec6c1d473c5036c</td>\n",
       "      <td>1.822.911.027.242.010</td>\n",
       "      <td>-10.032.267.241.783.800</td>\n",
       "      <td>2</td>\n",
       "      <td>11:00:00</td>\n",
       "      <td>10:07:53</td>\n",
       "      <td>1</td>\n",
       "      <td>06a71e8ab0c6db5ce22a4689fd76a3f4</td>\n",
       "      <td>06a71e8ab0c6db5ce22a4689fd76a3f4</td>\n",
       "      <td>afd0a7b8d546fcc697bb93a5934b65c3</td>\n",
       "      <td>...</td>\n",
       "      <td>1.89</td>\n",
       "      <td>1.00</td>\n",
       "      <td>4.92</td>\n",
       "      <td>1</td>\n",
       "      <td>0</td>\n",
       "      <td>0</td>\n",
       "      <td>0</td>\n",
       "      <td>452ae015bf846e1d2932b7ea15720d64</td>\n",
       "      <td>1.823.159.108.764.060</td>\n",
       "      <td>-10.031.450.001.698.800</td>\n",
       "    </tr>\n",
       "  </tbody>\n",
       "</table>\n",
       "<p>5 rows × 25 columns</p>\n",
       "</div>"
      ],
      "text/plain": [
       "                           id_orden                 latitud  \\\n",
       "0  6abd5e28d01b7c733fe37485294235dc   1.822.114.109.606.680   \n",
       "1  0d37a1eea001f01b40232ffd496ff663  18.177.712.202.580.300   \n",
       "2  528428e9b9eb5d3bd0dbdd8da692b087   1.826.683.205.404.410   \n",
       "3  d3f7be6d64eae7405b7bf024e04807a2  18.248.884.004.419.400   \n",
       "4  e0ad6533b6cd9a382ec6c1d473c5036c   1.822.911.027.242.010   \n",
       "\n",
       "                  longitud  dia   promesa   entrega  id_entrega  \\\n",
       "0  -10.031.391.366.664.600    2  13:00:00  12:00:15           1   \n",
       "1  -10.035.705.073.096.900    2  13:00:00  10:28:10           1   \n",
       "2  -10.031.755.280.890.600    2  11:00:00  10:40:50           1   \n",
       "3   -1.003.226.215.187.040    2  10:00:00   9:41:47           1   \n",
       "4  -10.032.267.241.783.800    2  11:00:00  10:07:53           1   \n",
       "\n",
       "                      id_recolector                      id_trasporte  \\\n",
       "0  09bb5bfe76adbb474dddbdd111a51623  09bb5bfe76adbb474dddbdd111a51623   \n",
       "1  c4c722114a82fa21654e57e9636d68b0  c4c722114a82fa21654e57e9636d68b0   \n",
       "2  e15c7a67d0ea9a54dffb410bc1d8528b  e15c7a67d0ea9a54dffb410bc1d8528b   \n",
       "3  d1f0bd4b237c1358f09db22076b940e7  d1f0bd4b237c1358f09db22076b940e7   \n",
       "4  06a71e8ab0c6db5ce22a4689fd76a3f4  06a71e8ab0c6db5ce22a4689fd76a3f4   \n",
       "\n",
       "                          id_tienda           ...            velocidad  \\\n",
       "0  0dc6fb5924a8b917bc641666ed02663c           ...                 1.56   \n",
       "1  2bbf833e689d24b697f1f3529c3f3c4b           ...                 1.14   \n",
       "2  8d891dfc0e29d744c15c18adced74a68           ...                 2.03   \n",
       "3  0dc6fb5924a8b917bc641666ed02663c           ...                 2.06   \n",
       "4  afd0a7b8d546fcc697bb93a5934b65c3           ...                 1.89   \n",
       "\n",
       "   p_aceptacion  score_recolector  seniority_ADVANCED  seniority_BEGINNER  \\\n",
       "0          1.00              4.68                   1                   0   \n",
       "1          1.00              4.76                   1                   0   \n",
       "2          1.00              4.96                   0                   0   \n",
       "3          0.92              4.92                   0                   0   \n",
       "4          1.00              4.92                   1                   0   \n",
       "\n",
       "   seniority_INTERMEDIATE  seniority_REVIEW                            tienda  \\\n",
       "0                       0                 0  60e4c4e1c1a8bc79123738227b9d0b08   \n",
       "1                       0                 0  387d4a5b65cf4bf00ad805c4b00eed01   \n",
       "2                       1                 0  0fae7b61265bc7ca4ce4d81440b62501   \n",
       "3                       1                 0  60e4c4e1c1a8bc79123738227b9d0b08   \n",
       "4                       0                 0  452ae015bf846e1d2932b7ea15720d64   \n",
       "\n",
       "           latitud_tienda          longitud_tienda  \n",
       "0   1.823.190.132.492.320   -1.003.035.533.737.440  \n",
       "1  18.163.960.871.027.900  -10.032.899.405.911.000  \n",
       "2   1.824.565.541.228.880   -1.003.324.934.760.470  \n",
       "3   1.823.190.132.492.320   -1.003.035.533.737.440  \n",
       "4   1.823.159.108.764.060  -10.031.450.001.698.800  \n",
       "\n",
       "[5 rows x 25 columns]"
      ]
     },
     "execution_count": 41,
     "metadata": {},
     "output_type": "execute_result"
    }
   ],
   "source": [
    "df.head()"
   ]
  },
  {
   "cell_type": "code",
   "execution_count": 42,
   "metadata": {},
   "outputs": [
    {
     "data": {
      "text/plain": [
       "id_orden                  False\n",
       "latitud                   False\n",
       "longitud                  False\n",
       "dia                       False\n",
       "promesa                   False\n",
       "entrega                   False\n",
       "id_entrega                False\n",
       "id_recolector             False\n",
       "id_trasporte              False\n",
       "id_tienda                 False\n",
       "tiempo                    False\n",
       "sin_pesar                  True\n",
       "pesados                    True\n",
       "cantidad_total             True\n",
       "p_aciertos                 True\n",
       "velocidad                 False\n",
       "p_aceptacion               True\n",
       "score_recolector           True\n",
       "seniority_ADVANCED        False\n",
       "seniority_BEGINNER        False\n",
       "seniority_INTERMEDIATE    False\n",
       "seniority_REVIEW          False\n",
       "tienda                    False\n",
       "latitud_tienda            False\n",
       "longitud_tienda           False\n",
       "dtype: bool"
      ]
     },
     "execution_count": 42,
     "metadata": {},
     "output_type": "execute_result"
    }
   ],
   "source": [
    "df.isnull().any()"
   ]
  },
  {
   "cell_type": "markdown",
   "metadata": {},
   "source": [
    "Existen datos perdidos en el dataset consolidado,vamos a calcular la cantidad en cada atributo, se mostrarán dichos datos en una tabla."
   ]
  },
  {
   "cell_type": "markdown",
   "metadata": {},
   "source": [
    "Existen datos perdidos en el dataset consolidado,vamos a calcular la cantidad en cada atributo, se mostrarán dichos datos en una tabla."
   ]
  },
  {
   "cell_type": "code",
   "execution_count": 43,
   "metadata": {},
   "outputs": [
    {
     "data": {
      "text/html": [
       "<div>\n",
       "<style scoped>\n",
       "    .dataframe tbody tr th:only-of-type {\n",
       "        vertical-align: middle;\n",
       "    }\n",
       "\n",
       "    .dataframe tbody tr th {\n",
       "        vertical-align: top;\n",
       "    }\n",
       "\n",
       "    .dataframe thead th {\n",
       "        text-align: right;\n",
       "    }\n",
       "</style>\n",
       "<table border=\"1\" class=\"dataframe\">\n",
       "  <thead>\n",
       "    <tr style=\"text-align: right;\">\n",
       "      <th></th>\n",
       "      <th>Total</th>\n",
       "      <th>Porcentaje (%)</th>\n",
       "    </tr>\n",
       "  </thead>\n",
       "  <tbody>\n",
       "    <tr>\n",
       "      <th>p_aciertos</th>\n",
       "      <td>75</td>\n",
       "      <td>1.15</td>\n",
       "    </tr>\n",
       "    <tr>\n",
       "      <th>score_recolector</th>\n",
       "      <td>70</td>\n",
       "      <td>1.07</td>\n",
       "    </tr>\n",
       "    <tr>\n",
       "      <th>pesados</th>\n",
       "      <td>15</td>\n",
       "      <td>0.23</td>\n",
       "    </tr>\n",
       "    <tr>\n",
       "      <th>cantidad_total</th>\n",
       "      <td>15</td>\n",
       "      <td>0.23</td>\n",
       "    </tr>\n",
       "    <tr>\n",
       "      <th>sin_pesar</th>\n",
       "      <td>15</td>\n",
       "      <td>0.23</td>\n",
       "    </tr>\n",
       "    <tr>\n",
       "      <th>p_aceptacion</th>\n",
       "      <td>5</td>\n",
       "      <td>0.08</td>\n",
       "    </tr>\n",
       "    <tr>\n",
       "      <th>id_tienda</th>\n",
       "      <td>0</td>\n",
       "      <td>0.00</td>\n",
       "    </tr>\n",
       "    <tr>\n",
       "      <th>latitud</th>\n",
       "      <td>0</td>\n",
       "      <td>0.00</td>\n",
       "    </tr>\n",
       "    <tr>\n",
       "      <th>longitud</th>\n",
       "      <td>0</td>\n",
       "      <td>0.00</td>\n",
       "    </tr>\n",
       "    <tr>\n",
       "      <th>dia</th>\n",
       "      <td>0</td>\n",
       "      <td>0.00</td>\n",
       "    </tr>\n",
       "    <tr>\n",
       "      <th>promesa</th>\n",
       "      <td>0</td>\n",
       "      <td>0.00</td>\n",
       "    </tr>\n",
       "    <tr>\n",
       "      <th>entrega</th>\n",
       "      <td>0</td>\n",
       "      <td>0.00</td>\n",
       "    </tr>\n",
       "    <tr>\n",
       "      <th>id_entrega</th>\n",
       "      <td>0</td>\n",
       "      <td>0.00</td>\n",
       "    </tr>\n",
       "    <tr>\n",
       "      <th>id_recolector</th>\n",
       "      <td>0</td>\n",
       "      <td>0.00</td>\n",
       "    </tr>\n",
       "    <tr>\n",
       "      <th>id_trasporte</th>\n",
       "      <td>0</td>\n",
       "      <td>0.00</td>\n",
       "    </tr>\n",
       "    <tr>\n",
       "      <th>longitud_tienda</th>\n",
       "      <td>0</td>\n",
       "      <td>0.00</td>\n",
       "    </tr>\n",
       "    <tr>\n",
       "      <th>tiempo</th>\n",
       "      <td>0</td>\n",
       "      <td>0.00</td>\n",
       "    </tr>\n",
       "    <tr>\n",
       "      <th>latitud_tienda</th>\n",
       "      <td>0</td>\n",
       "      <td>0.00</td>\n",
       "    </tr>\n",
       "    <tr>\n",
       "      <th>velocidad</th>\n",
       "      <td>0</td>\n",
       "      <td>0.00</td>\n",
       "    </tr>\n",
       "    <tr>\n",
       "      <th>seniority_ADVANCED</th>\n",
       "      <td>0</td>\n",
       "      <td>0.00</td>\n",
       "    </tr>\n",
       "    <tr>\n",
       "      <th>seniority_BEGINNER</th>\n",
       "      <td>0</td>\n",
       "      <td>0.00</td>\n",
       "    </tr>\n",
       "    <tr>\n",
       "      <th>seniority_INTERMEDIATE</th>\n",
       "      <td>0</td>\n",
       "      <td>0.00</td>\n",
       "    </tr>\n",
       "    <tr>\n",
       "      <th>seniority_REVIEW</th>\n",
       "      <td>0</td>\n",
       "      <td>0.00</td>\n",
       "    </tr>\n",
       "    <tr>\n",
       "      <th>tienda</th>\n",
       "      <td>0</td>\n",
       "      <td>0.00</td>\n",
       "    </tr>\n",
       "    <tr>\n",
       "      <th>id_orden</th>\n",
       "      <td>0</td>\n",
       "      <td>0.00</td>\n",
       "    </tr>\n",
       "  </tbody>\n",
       "</table>\n",
       "</div>"
      ],
      "text/plain": [
       "                        Total  Porcentaje (%)\n",
       "p_aciertos                 75            1.15\n",
       "score_recolector           70            1.07\n",
       "pesados                    15            0.23\n",
       "cantidad_total             15            0.23\n",
       "sin_pesar                  15            0.23\n",
       "p_aceptacion                5            0.08\n",
       "id_tienda                   0            0.00\n",
       "latitud                     0            0.00\n",
       "longitud                    0            0.00\n",
       "dia                         0            0.00\n",
       "promesa                     0            0.00\n",
       "entrega                     0            0.00\n",
       "id_entrega                  0            0.00\n",
       "id_recolector               0            0.00\n",
       "id_trasporte                0            0.00\n",
       "longitud_tienda             0            0.00\n",
       "tiempo                      0            0.00\n",
       "latitud_tienda              0            0.00\n",
       "velocidad                   0            0.00\n",
       "seniority_ADVANCED          0            0.00\n",
       "seniority_BEGINNER          0            0.00\n",
       "seniority_INTERMEDIATE      0            0.00\n",
       "seniority_REVIEW            0            0.00\n",
       "tienda                      0            0.00\n",
       "id_orden                    0            0.00"
      ]
     },
     "execution_count": 43,
     "metadata": {},
     "output_type": "execute_result"
    }
   ],
   "source": [
    "total = df.isnull().sum().sort_values(ascending=False)\n",
    "percent = round((df.isnull().sum() / df.isnull().count()) * 100, 2).sort_values(ascending=False)\n",
    "missing_values = pd.concat([total, percent], axis=1, keys=['Total', 'Porcentaje (%)'])\n",
    "missing_values"
   ]
  },
  {
   "cell_type": "code",
   "execution_count": 44,
   "metadata": {},
   "outputs": [],
   "source": [
    "pd.set_option('display.max_columns', 100)"
   ]
  },
  {
   "cell_type": "code",
   "execution_count": 45,
   "metadata": {},
   "outputs": [],
   "source": [
    "df2 = df.copy()"
   ]
  },
  {
   "cell_type": "code",
   "execution_count": 46,
   "metadata": {},
   "outputs": [],
   "source": [
    "df2.dropna(inplace=True)"
   ]
  },
  {
   "cell_type": "code",
   "execution_count": 47,
   "metadata": {},
   "outputs": [
    {
     "name": "stderr",
     "output_type": "stream",
     "text": [
      "/home/krlos/anaconda3/lib/python3.6/site-packages/matplotlib/axes/_axes.py:6462: UserWarning: The 'normed' kwarg is deprecated, and has been replaced by the 'density' kwarg.\n",
      "  warnings.warn(\"The 'normed' kwarg is deprecated, and has been \"\n"
     ]
    },
    {
     "data": {
      "text/plain": [
       "<matplotlib.axes._subplots.AxesSubplot at 0x7f5a85bf7dd8>"
      ]
     },
     "execution_count": 47,
     "metadata": {},
     "output_type": "execute_result"
    },
    {
     "data": {
      "image/png": "[encoded data removed]",
      "text/plain": [
       "<Figure size 432x288 with 1 Axes>"
      ]
     },
     "metadata": {},
     "output_type": "display_data"
    }
   ],
   "source": [
    "sns.distplot(df2.p_aciertos)"
   ]
  },
  {
   "cell_type": "code",
   "execution_count": 48,
   "metadata": {},
   "outputs": [
    {
     "data": {
      "text/plain": [
       "<matplotlib.lines.Line2D at 0x7f5a821f4ef0>"
      ]
     },
     "execution_count": 48,
     "metadata": {},
     "output_type": "execute_result"
    },
    {
     "data": {
      "image/png": "[encoded data removed]",
      "text/plain": [
       "<Figure size 432x288 with 1 Axes>"
      ]
     },
     "metadata": {},
     "output_type": "display_data"
    }
   ],
   "source": [
    "plt.hist(df2['p_aciertos'])\n",
    "plt.axvline(df2.p_aciertos.mean(), color='tomato', ls='--')"
   ]
  },
  {
   "cell_type": "code",
   "execution_count": 49,
   "metadata": {},
   "outputs": [],
   "source": [
    "df['p_aciertos'].replace(np.nan, df2['p_aciertos'].mean(), inplace=True)"
   ]
  },
  {
   "cell_type": "code",
   "execution_count": 50,
   "metadata": {},
   "outputs": [
    {
     "name": "stderr",
     "output_type": "stream",
     "text": [
      "/home/krlos/anaconda3/lib/python3.6/site-packages/matplotlib/axes/_axes.py:6462: UserWarning: The 'normed' kwarg is deprecated, and has been replaced by the 'density' kwarg.\n",
      "  warnings.warn(\"The 'normed' kwarg is deprecated, and has been \"\n"
     ]
    },
    {
     "data": {
      "text/plain": [
       "<matplotlib.axes._subplots.AxesSubplot at 0x7f5a821435c0>"
      ]
     },
     "execution_count": 50,
     "metadata": {},
     "output_type": "execute_result"
    },
    {
     "data": {
      "image/png": "[encoded data removed]",
      "text/plain": [
       "<Figure size 432x288 with 1 Axes>"
      ]
     },
     "metadata": {},
     "output_type": "display_data"
    }
   ],
   "source": [
    "sns.distplot(df2['p_aceptacion'])"
   ]
  },
  {
   "cell_type": "code",
   "execution_count": 51,
   "metadata": {},
   "outputs": [
    {
     "data": {
      "text/plain": [
       "<matplotlib.lines.Line2D at 0x7f5a820c7f98>"
      ]
     },
     "execution_count": 51,
     "metadata": {},
     "output_type": "execute_result"
    },
    {
     "data": {
      "image/png": "[encoded data removed]",
      "text/plain": [
       "<Figure size 432x288 with 1 Axes>"
      ]
     },
     "metadata": {},
     "output_type": "display_data"
    }
   ],
   "source": [
    "plt.hist(df2['p_aceptacion'], alpha=0.8)\n",
    "plt.axvline(df2['p_aceptacion'].mean(), color='tomato', ls='--')"
   ]
  },
  {
   "cell_type": "code",
   "execution_count": 52,
   "metadata": {},
   "outputs": [],
   "source": [
    "df['p_aceptacion'].replace(np.nan, df2['p_aceptacion'].mean(), inplace=True)"
   ]
  },
  {
   "cell_type": "code",
   "execution_count": 53,
   "metadata": {},
   "outputs": [
    {
     "name": "stderr",
     "output_type": "stream",
     "text": [
      "/home/krlos/anaconda3/lib/python3.6/site-packages/matplotlib/axes/_axes.py:6462: UserWarning: The 'normed' kwarg is deprecated, and has been replaced by the 'density' kwarg.\n",
      "  warnings.warn(\"The 'normed' kwarg is deprecated, and has been \"\n"
     ]
    },
    {
     "data": {
      "text/plain": [
       "<matplotlib.axes._subplots.AxesSubplot at 0x7f5a820f4668>"
      ]
     },
     "execution_count": 53,
     "metadata": {},
     "output_type": "execute_result"
    },
    {
     "data": {
      "image/png": "[encoded data removed]",
      "text/plain": [
       "<Figure size 432x288 with 1 Axes>"
      ]
     },
     "metadata": {},
     "output_type": "display_data"
    }
   ],
   "source": [
    "sns.distplot(df2['score_recolector'])"
   ]
  },
  {
   "cell_type": "code",
   "execution_count": 54,
   "metadata": {},
   "outputs": [
    {
     "data": {
      "text/plain": [
       "<matplotlib.lines.Line2D at 0x7f5a81f2a668>"
      ]
     },
     "execution_count": 54,
     "metadata": {},
     "output_type": "execute_result"
    },
    {
     "data": {
      "image/png": "[encoded data removed]",
      "text/plain": [
       "<Figure size 432x288 with 1 Axes>"
      ]
     },
     "metadata": {},
     "output_type": "display_data"
    }
   ],
   "source": [
    "plt.hist(df2['score_recolector'])\n",
    "plt.axvline(df2['score_recolector'].mean(), color='tomato', ls='--')"
   ]
  },
  {
   "cell_type": "code",
   "execution_count": 55,
   "metadata": {},
   "outputs": [],
   "source": [
    "df['score_recolector'].replace(np.nan, df2['score_recolector'].mean(), inplace=True)"
   ]
  },
  {
   "cell_type": "code",
   "execution_count": 57,
   "metadata": {
    "scrolled": false
   },
   "outputs": [
    {
     "data": {
      "text/html": [
       "<div>\n",
       "<style scoped>\n",
       "    .dataframe tbody tr th:only-of-type {\n",
       "        vertical-align: middle;\n",
       "    }\n",
       "\n",
       "    .dataframe tbody tr th {\n",
       "        vertical-align: top;\n",
       "    }\n",
       "\n",
       "    .dataframe thead th {\n",
       "        text-align: right;\n",
       "    }\n",
       "</style>\n",
       "<table border=\"1\" class=\"dataframe\">\n",
       "  <thead>\n",
       "    <tr style=\"text-align: right;\">\n",
       "      <th></th>\n",
       "      <th>Total</th>\n",
       "      <th>Porcentaje (%)</th>\n",
       "    </tr>\n",
       "  </thead>\n",
       "  <tbody>\n",
       "    <tr>\n",
       "      <th>pesados</th>\n",
       "      <td>15</td>\n",
       "      <td>0.23</td>\n",
       "    </tr>\n",
       "    <tr>\n",
       "      <th>sin_pesar</th>\n",
       "      <td>15</td>\n",
       "      <td>0.23</td>\n",
       "    </tr>\n",
       "    <tr>\n",
       "      <th>cantidad_total</th>\n",
       "      <td>15</td>\n",
       "      <td>0.23</td>\n",
       "    </tr>\n",
       "    <tr>\n",
       "      <th>latitud</th>\n",
       "      <td>0</td>\n",
       "      <td>0.00</td>\n",
       "    </tr>\n",
       "    <tr>\n",
       "      <th>longitud</th>\n",
       "      <td>0</td>\n",
       "      <td>0.00</td>\n",
       "    </tr>\n",
       "    <tr>\n",
       "      <th>dia</th>\n",
       "      <td>0</td>\n",
       "      <td>0.00</td>\n",
       "    </tr>\n",
       "    <tr>\n",
       "      <th>promesa</th>\n",
       "      <td>0</td>\n",
       "      <td>0.00</td>\n",
       "    </tr>\n",
       "    <tr>\n",
       "      <th>entrega</th>\n",
       "      <td>0</td>\n",
       "      <td>0.00</td>\n",
       "    </tr>\n",
       "    <tr>\n",
       "      <th>id_entrega</th>\n",
       "      <td>0</td>\n",
       "      <td>0.00</td>\n",
       "    </tr>\n",
       "    <tr>\n",
       "      <th>id_recolector</th>\n",
       "      <td>0</td>\n",
       "      <td>0.00</td>\n",
       "    </tr>\n",
       "    <tr>\n",
       "      <th>id_trasporte</th>\n",
       "      <td>0</td>\n",
       "      <td>0.00</td>\n",
       "    </tr>\n",
       "    <tr>\n",
       "      <th>id_tienda</th>\n",
       "      <td>0</td>\n",
       "      <td>0.00</td>\n",
       "    </tr>\n",
       "    <tr>\n",
       "      <th>tiempo</th>\n",
       "      <td>0</td>\n",
       "      <td>0.00</td>\n",
       "    </tr>\n",
       "    <tr>\n",
       "      <th>longitud_tienda</th>\n",
       "      <td>0</td>\n",
       "      <td>0.00</td>\n",
       "    </tr>\n",
       "    <tr>\n",
       "      <th>latitud_tienda</th>\n",
       "      <td>0</td>\n",
       "      <td>0.00</td>\n",
       "    </tr>\n",
       "    <tr>\n",
       "      <th>p_aciertos</th>\n",
       "      <td>0</td>\n",
       "      <td>0.00</td>\n",
       "    </tr>\n",
       "    <tr>\n",
       "      <th>velocidad</th>\n",
       "      <td>0</td>\n",
       "      <td>0.00</td>\n",
       "    </tr>\n",
       "    <tr>\n",
       "      <th>p_aceptacion</th>\n",
       "      <td>0</td>\n",
       "      <td>0.00</td>\n",
       "    </tr>\n",
       "    <tr>\n",
       "      <th>score_recolector</th>\n",
       "      <td>0</td>\n",
       "      <td>0.00</td>\n",
       "    </tr>\n",
       "    <tr>\n",
       "      <th>seniority_ADVANCED</th>\n",
       "      <td>0</td>\n",
       "      <td>0.00</td>\n",
       "    </tr>\n",
       "    <tr>\n",
       "      <th>seniority_BEGINNER</th>\n",
       "      <td>0</td>\n",
       "      <td>0.00</td>\n",
       "    </tr>\n",
       "    <tr>\n",
       "      <th>seniority_INTERMEDIATE</th>\n",
       "      <td>0</td>\n",
       "      <td>0.00</td>\n",
       "    </tr>\n",
       "    <tr>\n",
       "      <th>seniority_REVIEW</th>\n",
       "      <td>0</td>\n",
       "      <td>0.00</td>\n",
       "    </tr>\n",
       "    <tr>\n",
       "      <th>tienda</th>\n",
       "      <td>0</td>\n",
       "      <td>0.00</td>\n",
       "    </tr>\n",
       "    <tr>\n",
       "      <th>id_orden</th>\n",
       "      <td>0</td>\n",
       "      <td>0.00</td>\n",
       "    </tr>\n",
       "  </tbody>\n",
       "</table>\n",
       "</div>"
      ],
      "text/plain": [
       "                        Total  Porcentaje (%)\n",
       "pesados                    15            0.23\n",
       "sin_pesar                  15            0.23\n",
       "cantidad_total             15            0.23\n",
       "latitud                     0            0.00\n",
       "longitud                    0            0.00\n",
       "dia                         0            0.00\n",
       "promesa                     0            0.00\n",
       "entrega                     0            0.00\n",
       "id_entrega                  0            0.00\n",
       "id_recolector               0            0.00\n",
       "id_trasporte                0            0.00\n",
       "id_tienda                   0            0.00\n",
       "tiempo                      0            0.00\n",
       "longitud_tienda             0            0.00\n",
       "latitud_tienda              0            0.00\n",
       "p_aciertos                  0            0.00\n",
       "velocidad                   0            0.00\n",
       "p_aceptacion                0            0.00\n",
       "score_recolector            0            0.00\n",
       "seniority_ADVANCED          0            0.00\n",
       "seniority_BEGINNER          0            0.00\n",
       "seniority_INTERMEDIATE      0            0.00\n",
       "seniority_REVIEW            0            0.00\n",
       "tienda                      0            0.00\n",
       "id_orden                    0            0.00"
      ]
     },
     "execution_count": 57,
     "metadata": {},
     "output_type": "execute_result"
    }
   ],
   "source": [
    "total = df.isnull().sum().sort_values(ascending=False)\n",
    "percent = round((df.isnull().sum() / df.isnull().count()) * 100, 2).sort_values(ascending=False)\n",
    "missing_values = pd.concat([total, percent], axis=1, keys=['Total', 'Porcentaje (%)'])\n",
    "missing_values"
   ]
  },
  {
   "cell_type": "code",
   "execution_count": 58,
   "metadata": {},
   "outputs": [
    {
     "data": {
      "text/plain": [
       "id_orden                  False\n",
       "latitud                   False\n",
       "longitud                  False\n",
       "dia                       False\n",
       "promesa                   False\n",
       "entrega                   False\n",
       "id_entrega                False\n",
       "id_recolector             False\n",
       "id_trasporte              False\n",
       "id_tienda                 False\n",
       "tiempo                    False\n",
       "sin_pesar                 False\n",
       "pesados                   False\n",
       "cantidad_total            False\n",
       "p_aciertos                False\n",
       "velocidad                 False\n",
       "p_aceptacion              False\n",
       "score_recolector          False\n",
       "seniority_ADVANCED        False\n",
       "seniority_BEGINNER        False\n",
       "seniority_INTERMEDIATE    False\n",
       "seniority_REVIEW          False\n",
       "tienda                    False\n",
       "latitud_tienda            False\n",
       "longitud_tienda           False\n",
       "dtype: bool"
      ]
     },
     "execution_count": 58,
     "metadata": {},
     "output_type": "execute_result"
    }
   ],
   "source": [
    "df.dropna(inplace=True)\n",
    "df.isnull().any()"
   ]
  },
  {
   "cell_type": "markdown",
   "metadata": {},
   "source": [
    "Ahora tenemos un dataset limpio, donde hemos considerado eliminar algunos registros que representan como datos perdidos el __1.63%__ de la data final."
   ]
  },
  {
   "cell_type": "code",
   "execution_count": 63,
   "metadata": {},
   "outputs": [],
   "source": [
    "#Se crea un dataframe temporal para calcular la distancia\n",
    "distancias = pd.DataFrame()\n",
    "\n",
    "distancias['latitud_x'] = pd.to_numeric(compra['latitud'].str.replace('.',''))*100/(10**(compra['latitud'].str.replace('.','').apply(len)))\n",
    "distancias['longitud_x'] = (pd.to_numeric(compra['longitud'].str.replace('.',''))/(10**(compra['longitud'].str.replace('.','').apply(len)))) * 1000\n",
    "\n",
    "distancias['latitud_y'] = pd.to_numeric(tienda['latitud_tienda'].str.replace('.',''))*100/(10**(tienda['latitud_tienda'].str.replace('.','').apply(len)))\n",
    "distancias['longitud_y'] = (pd.to_numeric(tienda['longitud_tienda'].str.replace('.',''))/(10**(tienda['longitud_tienda'].str.replace('.','').apply(len)))) * 1000"
   ]
  },
  {
   "cell_type": "code",
   "execution_count": 66,
   "metadata": {},
   "outputs": [],
   "source": [
    "df['distancia']= distancias.apply(lambda x: haversine((x['latitud_x'], x['longitud_x']),(x['latitud_y'], x['longitud_y'])), axis=1)"
   ]
  },
  {
   "cell_type": "code",
   "execution_count": 67,
   "metadata": {},
   "outputs": [
    {
     "data": {
      "text/html": [
       "<div>\n",
       "<style scoped>\n",
       "    .dataframe tbody tr th:only-of-type {\n",
       "        vertical-align: middle;\n",
       "    }\n",
       "\n",
       "    .dataframe tbody tr th {\n",
       "        vertical-align: top;\n",
       "    }\n",
       "\n",
       "    .dataframe thead th {\n",
       "        text-align: right;\n",
       "    }\n",
       "</style>\n",
       "<table border=\"1\" class=\"dataframe\">\n",
       "  <thead>\n",
       "    <tr style=\"text-align: right;\">\n",
       "      <th></th>\n",
       "      <th>id_orden</th>\n",
       "      <th>latitud</th>\n",
       "      <th>longitud</th>\n",
       "      <th>dia</th>\n",
       "      <th>promesa</th>\n",
       "      <th>entrega</th>\n",
       "      <th>id_entrega</th>\n",
       "      <th>id_recolector</th>\n",
       "      <th>id_trasporte</th>\n",
       "      <th>id_tienda</th>\n",
       "      <th>tiempo</th>\n",
       "      <th>sin_pesar</th>\n",
       "      <th>pesados</th>\n",
       "      <th>cantidad_total</th>\n",
       "      <th>p_aciertos</th>\n",
       "      <th>velocidad</th>\n",
       "      <th>p_aceptacion</th>\n",
       "      <th>score_recolector</th>\n",
       "      <th>seniority_ADVANCED</th>\n",
       "      <th>seniority_BEGINNER</th>\n",
       "      <th>seniority_INTERMEDIATE</th>\n",
       "      <th>seniority_REVIEW</th>\n",
       "      <th>tienda</th>\n",
       "      <th>latitud_tienda</th>\n",
       "      <th>longitud_tienda</th>\n",
       "      <th>distancia</th>\n",
       "    </tr>\n",
       "  </thead>\n",
       "  <tbody>\n",
       "    <tr>\n",
       "      <th>0</th>\n",
       "      <td>6abd5e28d01b7c733fe37485294235dc</td>\n",
       "      <td>1.822.114.109.606.680</td>\n",
       "      <td>-10.031.391.366.664.600</td>\n",
       "      <td>2</td>\n",
       "      <td>13:00:00</td>\n",
       "      <td>12:00:15</td>\n",
       "      <td>1</td>\n",
       "      <td>09bb5bfe76adbb474dddbdd111a51623</td>\n",
       "      <td>09bb5bfe76adbb474dddbdd111a51623</td>\n",
       "      <td>0dc6fb5924a8b917bc641666ed02663c</td>\n",
       "      <td>91.800.861</td>\n",
       "      <td>17.0</td>\n",
       "      <td>10.0</td>\n",
       "      <td>27.0</td>\n",
       "      <td>0.8564</td>\n",
       "      <td>1.56</td>\n",
       "      <td>1.00</td>\n",
       "      <td>4.68</td>\n",
       "      <td>1</td>\n",
       "      <td>0</td>\n",
       "      <td>0</td>\n",
       "      <td>0</td>\n",
       "      <td>60e4c4e1c1a8bc79123738227b9d0b08</td>\n",
       "      <td>1.823.190.132.492.320</td>\n",
       "      <td>-1.003.035.533.737.440</td>\n",
       "      <td>6.787637</td>\n",
       "    </tr>\n",
       "    <tr>\n",
       "      <th>1</th>\n",
       "      <td>0d37a1eea001f01b40232ffd496ff663</td>\n",
       "      <td>18.177.712.202.580.300</td>\n",
       "      <td>-10.035.705.073.096.900</td>\n",
       "      <td>2</td>\n",
       "      <td>13:00:00</td>\n",
       "      <td>10:28:10</td>\n",
       "      <td>1</td>\n",
       "      <td>c4c722114a82fa21654e57e9636d68b0</td>\n",
       "      <td>c4c722114a82fa21654e57e9636d68b0</td>\n",
       "      <td>2bbf833e689d24b697f1f3529c3f3c4b</td>\n",
       "      <td>206.599.732</td>\n",
       "      <td>88.0</td>\n",
       "      <td>15.0</td>\n",
       "      <td>103.0</td>\n",
       "      <td>0.8516</td>\n",
       "      <td>1.14</td>\n",
       "      <td>1.00</td>\n",
       "      <td>4.76</td>\n",
       "      <td>1</td>\n",
       "      <td>0</td>\n",
       "      <td>0</td>\n",
       "      <td>0</td>\n",
       "      <td>387d4a5b65cf4bf00ad805c4b00eed01</td>\n",
       "      <td>18.163.960.871.027.900</td>\n",
       "      <td>-10.032.899.405.911.000</td>\n",
       "      <td>10.584304</td>\n",
       "    </tr>\n",
       "    <tr>\n",
       "      <th>2</th>\n",
       "      <td>528428e9b9eb5d3bd0dbdd8da692b087</td>\n",
       "      <td>1.826.683.205.404.410</td>\n",
       "      <td>-10.031.755.280.890.600</td>\n",
       "      <td>2</td>\n",
       "      <td>11:00:00</td>\n",
       "      <td>10:40:50</td>\n",
       "      <td>1</td>\n",
       "      <td>e15c7a67d0ea9a54dffb410bc1d8528b</td>\n",
       "      <td>e15c7a67d0ea9a54dffb410bc1d8528b</td>\n",
       "      <td>8d891dfc0e29d744c15c18adced74a68</td>\n",
       "      <td>93.458.001</td>\n",
       "      <td>6.0</td>\n",
       "      <td>0.0</td>\n",
       "      <td>6.0</td>\n",
       "      <td>0.8337</td>\n",
       "      <td>2.03</td>\n",
       "      <td>1.00</td>\n",
       "      <td>4.96</td>\n",
       "      <td>0</td>\n",
       "      <td>0</td>\n",
       "      <td>1</td>\n",
       "      <td>0</td>\n",
       "      <td>0fae7b61265bc7ca4ce4d81440b62501</td>\n",
       "      <td>1.824.565.541.228.880</td>\n",
       "      <td>-1.003.324.934.760.470</td>\n",
       "      <td>0.741088</td>\n",
       "    </tr>\n",
       "    <tr>\n",
       "      <th>3</th>\n",
       "      <td>d3f7be6d64eae7405b7bf024e04807a2</td>\n",
       "      <td>18.248.884.004.419.400</td>\n",
       "      <td>-1.003.226.215.187.040</td>\n",
       "      <td>2</td>\n",
       "      <td>10:00:00</td>\n",
       "      <td>9:41:47</td>\n",
       "      <td>1</td>\n",
       "      <td>d1f0bd4b237c1358f09db22076b940e7</td>\n",
       "      <td>d1f0bd4b237c1358f09db22076b940e7</td>\n",
       "      <td>0dc6fb5924a8b917bc641666ed02663c</td>\n",
       "      <td>124.778.761</td>\n",
       "      <td>12.0</td>\n",
       "      <td>5.0</td>\n",
       "      <td>17.0</td>\n",
       "      <td>0.8571</td>\n",
       "      <td>2.06</td>\n",
       "      <td>0.92</td>\n",
       "      <td>4.92</td>\n",
       "      <td>0</td>\n",
       "      <td>0</td>\n",
       "      <td>1</td>\n",
       "      <td>0</td>\n",
       "      <td>60e4c4e1c1a8bc79123738227b9d0b08</td>\n",
       "      <td>1.823.190.132.492.320</td>\n",
       "      <td>-1.003.035.533.737.440</td>\n",
       "      <td>0.864068</td>\n",
       "    </tr>\n",
       "    <tr>\n",
       "      <th>4</th>\n",
       "      <td>e0ad6533b6cd9a382ec6c1d473c5036c</td>\n",
       "      <td>1.822.911.027.242.010</td>\n",
       "      <td>-10.032.267.241.783.800</td>\n",
       "      <td>2</td>\n",
       "      <td>11:00:00</td>\n",
       "      <td>10:07:53</td>\n",
       "      <td>1</td>\n",
       "      <td>06a71e8ab0c6db5ce22a4689fd76a3f4</td>\n",
       "      <td>06a71e8ab0c6db5ce22a4689fd76a3f4</td>\n",
       "      <td>afd0a7b8d546fcc697bb93a5934b65c3</td>\n",
       "      <td>130.321.208</td>\n",
       "      <td>28.0</td>\n",
       "      <td>16.0</td>\n",
       "      <td>44.0</td>\n",
       "      <td>0.8625</td>\n",
       "      <td>1.89</td>\n",
       "      <td>1.00</td>\n",
       "      <td>4.92</td>\n",
       "      <td>1</td>\n",
       "      <td>0</td>\n",
       "      <td>0</td>\n",
       "      <td>0</td>\n",
       "      <td>452ae015bf846e1d2932b7ea15720d64</td>\n",
       "      <td>1.823.159.108.764.060</td>\n",
       "      <td>-10.031.450.001.698.800</td>\n",
       "      <td>2.902931</td>\n",
       "    </tr>\n",
       "  </tbody>\n",
       "</table>\n",
       "</div>"
      ],
      "text/plain": [
       "                           id_orden                 latitud  \\\n",
       "0  6abd5e28d01b7c733fe37485294235dc   1.822.114.109.606.680   \n",
       "1  0d37a1eea001f01b40232ffd496ff663  18.177.712.202.580.300   \n",
       "2  528428e9b9eb5d3bd0dbdd8da692b087   1.826.683.205.404.410   \n",
       "3  d3f7be6d64eae7405b7bf024e04807a2  18.248.884.004.419.400   \n",
       "4  e0ad6533b6cd9a382ec6c1d473c5036c   1.822.911.027.242.010   \n",
       "\n",
       "                  longitud  dia   promesa   entrega  id_entrega  \\\n",
       "0  -10.031.391.366.664.600    2  13:00:00  12:00:15           1   \n",
       "1  -10.035.705.073.096.900    2  13:00:00  10:28:10           1   \n",
       "2  -10.031.755.280.890.600    2  11:00:00  10:40:50           1   \n",
       "3   -1.003.226.215.187.040    2  10:00:00   9:41:47           1   \n",
       "4  -10.032.267.241.783.800    2  11:00:00  10:07:53           1   \n",
       "\n",
       "                      id_recolector                      id_trasporte  \\\n",
       "0  09bb5bfe76adbb474dddbdd111a51623  09bb5bfe76adbb474dddbdd111a51623   \n",
       "1  c4c722114a82fa21654e57e9636d68b0  c4c722114a82fa21654e57e9636d68b0   \n",
       "2  e15c7a67d0ea9a54dffb410bc1d8528b  e15c7a67d0ea9a54dffb410bc1d8528b   \n",
       "3  d1f0bd4b237c1358f09db22076b940e7  d1f0bd4b237c1358f09db22076b940e7   \n",
       "4  06a71e8ab0c6db5ce22a4689fd76a3f4  06a71e8ab0c6db5ce22a4689fd76a3f4   \n",
       "\n",
       "                          id_tienda       tiempo  sin_pesar  pesados  \\\n",
       "0  0dc6fb5924a8b917bc641666ed02663c   91.800.861       17.0     10.0   \n",
       "1  2bbf833e689d24b697f1f3529c3f3c4b  206.599.732       88.0     15.0   \n",
       "2  8d891dfc0e29d744c15c18adced74a68   93.458.001        6.0      0.0   \n",
       "3  0dc6fb5924a8b917bc641666ed02663c  124.778.761       12.0      5.0   \n",
       "4  afd0a7b8d546fcc697bb93a5934b65c3  130.321.208       28.0     16.0   \n",
       "\n",
       "   cantidad_total  p_aciertos  velocidad  p_aceptacion  score_recolector  \\\n",
       "0            27.0      0.8564       1.56          1.00              4.68   \n",
       "1           103.0      0.8516       1.14          1.00              4.76   \n",
       "2             6.0      0.8337       2.03          1.00              4.96   \n",
       "3            17.0      0.8571       2.06          0.92              4.92   \n",
       "4            44.0      0.8625       1.89          1.00              4.92   \n",
       "\n",
       "   seniority_ADVANCED  seniority_BEGINNER  seniority_INTERMEDIATE  \\\n",
       "0                   1                   0                       0   \n",
       "1                   1                   0                       0   \n",
       "2                   0                   0                       1   \n",
       "3                   0                   0                       1   \n",
       "4                   1                   0                       0   \n",
       "\n",
       "   seniority_REVIEW                            tienda          latitud_tienda  \\\n",
       "0                 0  60e4c4e1c1a8bc79123738227b9d0b08   1.823.190.132.492.320   \n",
       "1                 0  387d4a5b65cf4bf00ad805c4b00eed01  18.163.960.871.027.900   \n",
       "2                 0  0fae7b61265bc7ca4ce4d81440b62501   1.824.565.541.228.880   \n",
       "3                 0  60e4c4e1c1a8bc79123738227b9d0b08   1.823.190.132.492.320   \n",
       "4                 0  452ae015bf846e1d2932b7ea15720d64   1.823.159.108.764.060   \n",
       "\n",
       "           longitud_tienda  distancia  \n",
       "0   -1.003.035.533.737.440   6.787637  \n",
       "1  -10.032.899.405.911.000  10.584304  \n",
       "2   -1.003.324.934.760.470   0.741088  \n",
       "3   -1.003.035.533.737.440   0.864068  \n",
       "4  -10.031.450.001.698.800   2.902931  "
      ]
     },
     "execution_count": 67,
     "metadata": {},
     "output_type": "execute_result"
    }
   ],
   "source": [
    "df.head()"
   ]
  },
  {
   "cell_type": "markdown",
   "metadata": {},
   "source": [
    "## Análisis descriptivo cantidad de productos por orden"
   ]
  },
  {
   "cell_type": "code",
   "execution_count": 69,
   "metadata": {},
   "outputs": [],
   "source": [
    "df_grafico = df.copy()\n",
    "df_grafico['pesaje'] = np.where(df_grafico['pesados'] >= 1, 1, 0)"
   ]
  },
  {
   "cell_type": "code",
   "execution_count": 70,
   "metadata": {},
   "outputs": [
    {
     "name": "stderr",
     "output_type": "stream",
     "text": [
      "/home/krlos/anaconda3/lib/python3.6/site-packages/matplotlib/axes/_axes.py:6462: UserWarning: The 'normed' kwarg is deprecated, and has been replaced by the 'density' kwarg.\n",
      "  warnings.warn(\"The 'normed' kwarg is deprecated, and has been \"\n"
     ]
    },
    {
     "data": {
      "image/png": "[encoded data removed]",
      "text/plain": [
       "<Figure size 576x360 with 1 Axes>"
      ]
     },
     "metadata": {},
     "output_type": "display_data"
    }
   ],
   "source": [
    "plt.figure(figsize=(8, 5))\n",
    "sns.distplot(df_grafico['cantidad_total'])\n",
    "plt.xlabel(\"Productos\")\n",
    "plt.title(\"Cantidad Total de Productos\");"
   ]
  },
  {
   "cell_type": "code",
   "execution_count": 71,
   "metadata": {},
   "outputs": [
    {
     "name": "stdout",
     "output_type": "stream",
     "text": [
      "Promedio de Productos por compra: 16.67\n"
     ]
    }
   ],
   "source": [
    "print(\"Promedio de Productos por compra:\", round(df_grafico['cantidad_total'].mean(), 2))"
   ]
  },
  {
   "cell_type": "markdown",
   "metadata": {},
   "source": [
    "La mayor cantidad de compras son de cantidades bajas de productos, con un promedio de 16.7 productos por pedido"
   ]
  },
  {
   "cell_type": "code",
   "execution_count": 72,
   "metadata": {},
   "outputs": [
    {
     "data": {
      "text/plain": [
       "1    4054\n",
       "0    2474\n",
       "Name: pesaje, dtype: int64"
      ]
     },
     "execution_count": 72,
     "metadata": {},
     "output_type": "execute_result"
    }
   ],
   "source": [
    "df_grafico.pesaje.value_counts()"
   ]
  },
  {
   "cell_type": "code",
   "execution_count": 73,
   "metadata": {},
   "outputs": [
    {
     "data": {
      "text/plain": [
       "1    4054\n",
       "0    2474\n",
       "Name: pesaje, dtype: int64"
      ]
     },
     "execution_count": 73,
     "metadata": {},
     "output_type": "execute_result"
    }
   ],
   "source": [
    "df_grafico.pesaje.value_counts()"
   ]
  },
  {
   "cell_type": "code",
   "execution_count": 74,
   "metadata": {},
   "outputs": [
    {
     "data": {
      "image/png": "[encoded data removed]",
      "text/plain": [
       "<Figure size 576x360 with 1 Axes>"
      ]
     },
     "metadata": {},
     "output_type": "display_data"
    }
   ],
   "source": [
    "plt.figure(figsize=(8, 5))\n",
    "sns.countplot(data=df_grafico, x='pesaje')\n",
    "plt.xlabel(\"Pesados\")\n",
    "plt.ylabel(\"Cantidad\")\n",
    "plt.title(\"Cantidad de Productos pesados\");"
   ]
  },
  {
   "cell_type": "code",
   "execution_count": 75,
   "metadata": {},
   "outputs": [
    {
     "name": "stderr",
     "output_type": "stream",
     "text": [
      "/home/krlos/anaconda3/lib/python3.6/site-packages/matplotlib/axes/_axes.py:6462: UserWarning: The 'normed' kwarg is deprecated, and has been replaced by the 'density' kwarg.\n",
      "  warnings.warn(\"The 'normed' kwarg is deprecated, and has been \"\n",
      "/home/krlos/anaconda3/lib/python3.6/site-packages/matplotlib/axes/_axes.py:6462: UserWarning: The 'normed' kwarg is deprecated, and has been replaced by the 'density' kwarg.\n",
      "  warnings.warn(\"The 'normed' kwarg is deprecated, and has been \"\n"
     ]
    },
    {
     "data": {
      "text/plain": [
       "<Figure size 720x360 with 0 Axes>"
      ]
     },
     "metadata": {},
     "output_type": "display_data"
    },
    {
     "data": {
      "image/png": "[encoded data removed]",
      "text/plain": [
       "<Figure size 473.625x288 with 1 Axes>"
      ]
     },
     "metadata": {},
     "output_type": "display_data"
    }
   ],
   "source": [
    "plt.figure(figsize=(10, 5))\n",
    "g = sns.FacetGrid(df_grafico, hue=\"pesaje\", size=4, aspect=1.5)\n",
    "g = g.map(sns.distplot, \"cantidad_total\")\n",
    "g.add_legend()\n",
    "plt.xlabel(\"Productos\");"
   ]
  },
  {
   "cell_type": "code",
   "execution_count": 76,
   "metadata": {},
   "outputs": [
    {
     "name": "stdout",
     "output_type": "stream",
     "text": [
      "Promedio de productos en ordenes sin productos que deban ser pesados =  7.04\n",
      "Promedio de productos en ordenes con productos que deban ser pesados =  22.54\n"
     ]
    }
   ],
   "source": [
    "print(\"Promedio de productos en ordenes sin productos que deban ser pesados = \", round(df_grafico.query(\"pesaje==0\")['cantidad_total'].mean(), 2))\n",
    "print(\"Promedio de productos en ordenes con productos que deban ser pesados = \", round(df_grafico.query(\"pesaje==1\")['cantidad_total'].mean(), 2))"
   ]
  },
  {
   "cell_type": "markdown",
   "metadata": {},
   "source": [
    "El gráfico ademas nos muestra que aquellas compras que tienen productos que se deben pesar, tienen una distribución diferente a aquellos en los que no se pide ningun producto de pesaje, siendo su promedio mayor en aquellos que deben ser pesados"
   ]
  },
  {
   "cell_type": "markdown",
   "metadata": {},
   "source": [
    "### Relacion con el tiempo de entrega"
   ]
  },
  {
   "cell_type": "code",
   "execution_count": 77,
   "metadata": {},
   "outputs": [],
   "source": [
    "df_grafico['tiempo_ajustado'] = pd.to_numeric(df_grafico.tiempo.str.replace('.',''))/1000000"
   ]
  },
  {
   "cell_type": "code",
   "execution_count": 78,
   "metadata": {},
   "outputs": [
    {
     "name": "stderr",
     "output_type": "stream",
     "text": [
      "/home/krlos/anaconda3/lib/python3.6/site-packages/matplotlib/axes/_axes.py:6462: UserWarning: The 'normed' kwarg is deprecated, and has been replaced by the 'density' kwarg.\n",
      "  warnings.warn(\"The 'normed' kwarg is deprecated, and has been \"\n"
     ]
    },
    {
     "data": {
      "image/png": "[encoded data removed]",
      "text/plain": [
       "<Figure size 432x288 with 1 Axes>"
      ]
     },
     "metadata": {},
     "output_type": "display_data"
    }
   ],
   "source": [
    "sns.distplot(df_grafico.tiempo_ajustado);"
   ]
  },
  {
   "cell_type": "markdown",
   "metadata": {},
   "source": [
    "Es necesario revisar ese peak en los valores más bajos, ya que se puede deber a una mala codificación"
   ]
  },
  {
   "cell_type": "markdown",
   "metadata": {},
   "source": [
    "El gráfico muestra evidencia para apoyar nuestra hipótesis, ya que se ve una correlación positiva entre la cantidad total de productos con el tiempo de entrega."
   ]
  },
  {
   "cell_type": "code",
   "execution_count": 92,
   "metadata": {},
   "outputs": [
    {
     "data": {
      "text/plain": [
       "<matplotlib.collections.PathCollection at 0x7f5a816c0c18>"
      ]
     },
     "execution_count": 92,
     "metadata": {},
     "output_type": "execute_result"
    },
    {
     "data": {
      "image/png": "[encoded data removed]",
      "text/plain": [
       "<Figure size 432x288 with 1 Axes>"
      ]
     },
     "metadata": {},
     "output_type": "display_data"
    }
   ],
   "source": [
    "import seaborn as sns\n",
    "plt.scatter(data=df_grafico, x='cantidad_total', y='tiempo_ajustado')"
   ]
  },
  {
   "cell_type": "markdown",
   "metadata": {},
   "source": [
    "# Rating repartidor"
   ]
  },
  {
   "cell_type": "code",
   "execution_count": 84,
   "metadata": {},
   "outputs": [
    {
     "name": "stderr",
     "output_type": "stream",
     "text": [
      "/home/krlos/anaconda3/lib/python3.6/site-packages/matplotlib/axes/_axes.py:6462: UserWarning: The 'normed' kwarg is deprecated, and has been replaced by the 'density' kwarg.\n",
      "  warnings.warn(\"The 'normed' kwarg is deprecated, and has been \"\n"
     ]
    },
    {
     "data": {
      "image/png": "[encoded data removed]",
      "text/plain": [
       "<Figure size 432x288 with 1 Axes>"
      ]
     },
     "metadata": {},
     "output_type": "display_data"
    }
   ],
   "source": [
    "sns.distplot(df_grafico.score_recolector);"
   ]
  },
  {
   "cell_type": "code",
   "execution_count": 87,
   "metadata": {},
   "outputs": [
    {
     "ename": "AttributeError",
     "evalue": "module 'seaborn' has no attribute 'scatterplot'",
     "output_type": "error",
     "traceback": [
      "\u001b[0;31m---------------------------------------------------------------------------\u001b[0m",
      "\u001b[0;31mAttributeError\u001b[0m                            Traceback (most recent call last)",
      "\u001b[0;32m<ipython-input-87-4229c69c7b29>\u001b[0m in \u001b[0;36m<module>\u001b[0;34m()\u001b[0m\n\u001b[0;32m----> 1\u001b[0;31m \u001b[0msns\u001b[0m\u001b[0;34m.\u001b[0m\u001b[0mscatterplot\u001b[0m\u001b[0;34m(\u001b[0m\u001b[0mdata\u001b[0m\u001b[0;34m=\u001b[0m\u001b[0mdf_grafico\u001b[0m\u001b[0;34m,\u001b[0m \u001b[0mx\u001b[0m\u001b[0;34m=\u001b[0m\u001b[0;34m'rating'\u001b[0m\u001b[0;34m,\u001b[0m \u001b[0my\u001b[0m\u001b[0;34m=\u001b[0m\u001b[0;34m'tiempo_ajustado'\u001b[0m\u001b[0;34m)\u001b[0m\u001b[0;34m;\u001b[0m\u001b[0;34m\u001b[0m\u001b[0m\n\u001b[0m",
      "\u001b[0;31mAttributeError\u001b[0m: module 'seaborn' has no attribute 'scatterplot'"
     ]
    }
   ],
   "source": [
    "sns.scatterplot(data=df_grafico, x='rating', y='tiempo_ajustado');"
   ]
  },
  {
   "cell_type": "markdown",
   "metadata": {},
   "source": [
    "En el caso del \"Rating\" del repartidor, de momento el gráfico no nos permite saber si es influyente en el tiempo de entrega, sobre todo por el hecho de que la distribución de las calificaciones es muy acotada entre 4.50 y 5"
   ]
  },
  {
   "cell_type": "markdown",
   "metadata": {},
   "source": [
    "## Hora / Dia de la semana"
   ]
  },
  {
   "cell_type": "markdown",
   "metadata": {},
   "source": [
    "### Hora"
   ]
  },
  {
   "cell_type": "code",
   "execution_count": 66,
   "metadata": {},
   "outputs": [
    {
     "ename": "AttributeError",
     "evalue": "'DataFrame' object has no attribute 'actual_time'",
     "output_type": "error",
     "traceback": [
      "\u001b[0;31m---------------------------------------------------------------------------\u001b[0m",
      "\u001b[0;31mAttributeError\u001b[0m                            Traceback (most recent call last)",
      "\u001b[0;32m<ipython-input-66-4f590bd4a9eb>\u001b[0m in \u001b[0;36m<module>\u001b[0;34m()\u001b[0m\n\u001b[0;32m----> 1\u001b[0;31m \u001b[0mtime\u001b[0m \u001b[0;34m=\u001b[0m \u001b[0mpd\u001b[0m\u001b[0;34m.\u001b[0m\u001b[0mDataFrame\u001b[0m\u001b[0;34m(\u001b[0m\u001b[0mdf\u001b[0m\u001b[0;34m.\u001b[0m\u001b[0mactual_time\u001b[0m\u001b[0;34m.\u001b[0m\u001b[0mstr\u001b[0m\u001b[0;34m.\u001b[0m\u001b[0msplit\u001b[0m\u001b[0;34m(\u001b[0m\u001b[0;34m':'\u001b[0m\u001b[0;34m,\u001b[0m \u001b[0mexpand\u001b[0m\u001b[0;34m=\u001b[0m\u001b[0;32mTrue\u001b[0m\u001b[0;34m)\u001b[0m\u001b[0;34m)\u001b[0m\u001b[0;34m\u001b[0m\u001b[0m\n\u001b[0m\u001b[1;32m      2\u001b[0m \u001b[0mtime\u001b[0m\u001b[0;34m.\u001b[0m\u001b[0mcolumns\u001b[0m \u001b[0;34m=\u001b[0m \u001b[0;34m(\u001b[0m\u001b[0;34m'hora'\u001b[0m\u001b[0;34m,\u001b[0m\u001b[0;34m'minuto'\u001b[0m\u001b[0;34m,\u001b[0m\u001b[0;34m'segundos'\u001b[0m\u001b[0;34m)\u001b[0m\u001b[0;34m\u001b[0m\u001b[0m\n",
      "\u001b[0;32m~/anaconda3/lib/python3.6/site-packages/pandas/core/generic.py\u001b[0m in \u001b[0;36m__getattr__\u001b[0;34m(self, name)\u001b[0m\n\u001b[1;32m   4370\u001b[0m             \u001b[0;32mif\u001b[0m \u001b[0mself\u001b[0m\u001b[0;34m.\u001b[0m\u001b[0m_info_axis\u001b[0m\u001b[0;34m.\u001b[0m\u001b[0m_can_hold_identifiers_and_holds_name\u001b[0m\u001b[0;34m(\u001b[0m\u001b[0mname\u001b[0m\u001b[0;34m)\u001b[0m\u001b[0;34m:\u001b[0m\u001b[0;34m\u001b[0m\u001b[0m\n\u001b[1;32m   4371\u001b[0m                 \u001b[0;32mreturn\u001b[0m \u001b[0mself\u001b[0m\u001b[0;34m[\u001b[0m\u001b[0mname\u001b[0m\u001b[0;34m]\u001b[0m\u001b[0;34m\u001b[0m\u001b[0m\n\u001b[0;32m-> 4372\u001b[0;31m             \u001b[0;32mreturn\u001b[0m \u001b[0mobject\u001b[0m\u001b[0;34m.\u001b[0m\u001b[0m__getattribute__\u001b[0m\u001b[0;34m(\u001b[0m\u001b[0mself\u001b[0m\u001b[0;34m,\u001b[0m \u001b[0mname\u001b[0m\u001b[0;34m)\u001b[0m\u001b[0;34m\u001b[0m\u001b[0m\n\u001b[0m\u001b[1;32m   4373\u001b[0m \u001b[0;34m\u001b[0m\u001b[0m\n\u001b[1;32m   4374\u001b[0m     \u001b[0;32mdef\u001b[0m \u001b[0m__setattr__\u001b[0m\u001b[0;34m(\u001b[0m\u001b[0mself\u001b[0m\u001b[0;34m,\u001b[0m \u001b[0mname\u001b[0m\u001b[0;34m,\u001b[0m \u001b[0mvalue\u001b[0m\u001b[0;34m)\u001b[0m\u001b[0;34m:\u001b[0m\u001b[0;34m\u001b[0m\u001b[0m\n",
      "\u001b[0;31mAttributeError\u001b[0m: 'DataFrame' object has no attribute 'actual_time'"
     ]
    }
   ],
   "source": [
    "time = pd.DataFrame(df.actual_time.str.split(':', expand=True))\n",
    "time.columns = ('hora','minuto','segundos')"
   ]
  },
  {
   "cell_type": "code",
   "execution_count": 67,
   "metadata": {},
   "outputs": [
    {
     "ename": "NameError",
     "evalue": "name 'time' is not defined",
     "output_type": "error",
     "traceback": [
      "\u001b[0;31m---------------------------------------------------------------------------\u001b[0m",
      "\u001b[0;31mNameError\u001b[0m                                 Traceback (most recent call last)",
      "\u001b[0;32m<ipython-input-67-6ce145be1db9>\u001b[0m in \u001b[0;36m<module>\u001b[0;34m()\u001b[0m\n\u001b[0;32m----> 1\u001b[0;31m \u001b[0mdf_grafico\u001b[0m\u001b[0;34m[\u001b[0m\u001b[0;34m'hora'\u001b[0m\u001b[0;34m]\u001b[0m \u001b[0;34m=\u001b[0m \u001b[0mpd\u001b[0m\u001b[0;34m.\u001b[0m\u001b[0mto_numeric\u001b[0m\u001b[0;34m(\u001b[0m\u001b[0mtime\u001b[0m\u001b[0;34m[\u001b[0m\u001b[0;34m'hora'\u001b[0m\u001b[0;34m]\u001b[0m\u001b[0;34m)\u001b[0m\u001b[0;34m\u001b[0m\u001b[0m\n\u001b[0m",
      "\u001b[0;31mNameError\u001b[0m: name 'time' is not defined"
     ]
    }
   ],
   "source": [
    "df_grafico['hora'] = pd.to_numeric(time['hora'])"
   ]
  },
  {
   "cell_type": "code",
   "execution_count": 68,
   "metadata": {},
   "outputs": [
    {
     "ename": "ValueError",
     "evalue": "Could not interpret input 'hora'",
     "output_type": "error",
     "traceback": [
      "\u001b[0;31m---------------------------------------------------------------------------\u001b[0m",
      "\u001b[0;31mValueError\u001b[0m                                Traceback (most recent call last)",
      "\u001b[0;32m<ipython-input-68-1ec43b4257c0>\u001b[0m in \u001b[0;36m<module>\u001b[0;34m()\u001b[0m\n\u001b[0;32m----> 1\u001b[0;31m \u001b[0msns\u001b[0m\u001b[0;34m.\u001b[0m\u001b[0mcountplot\u001b[0m\u001b[0;34m(\u001b[0m\u001b[0mdata\u001b[0m\u001b[0;34m=\u001b[0m\u001b[0mdf_grafico\u001b[0m\u001b[0;34m,\u001b[0m \u001b[0mx\u001b[0m\u001b[0;34m=\u001b[0m\u001b[0;34m'hora'\u001b[0m\u001b[0;34m,\u001b[0m\u001b[0;34m)\u001b[0m\u001b[0;34m.\u001b[0m\u001b[0mset_title\u001b[0m\u001b[0;34m(\u001b[0m\u001b[0;34m'Cantidad de Pedidos por hora'\u001b[0m\u001b[0;34m)\u001b[0m\u001b[0;34m;\u001b[0m\u001b[0;34m\u001b[0m\u001b[0m\n\u001b[0m",
      "\u001b[0;32m~/anaconda3/lib/python3.6/site-packages/seaborn/categorical.py\u001b[0m in \u001b[0;36mcountplot\u001b[0;34m(x, y, hue, data, order, hue_order, orient, color, palette, saturation, dodge, ax, **kwargs)\u001b[0m\n\u001b[1;32m   3357\u001b[0m                           \u001b[0mestimator\u001b[0m\u001b[0;34m,\u001b[0m \u001b[0mci\u001b[0m\u001b[0;34m,\u001b[0m \u001b[0mn_boot\u001b[0m\u001b[0;34m,\u001b[0m \u001b[0munits\u001b[0m\u001b[0;34m,\u001b[0m\u001b[0;34m\u001b[0m\u001b[0m\n\u001b[1;32m   3358\u001b[0m                           \u001b[0morient\u001b[0m\u001b[0;34m,\u001b[0m \u001b[0mcolor\u001b[0m\u001b[0;34m,\u001b[0m \u001b[0mpalette\u001b[0m\u001b[0;34m,\u001b[0m \u001b[0msaturation\u001b[0m\u001b[0;34m,\u001b[0m\u001b[0;34m\u001b[0m\u001b[0m\n\u001b[0;32m-> 3359\u001b[0;31m                           errcolor, errwidth, capsize, dodge)\n\u001b[0m\u001b[1;32m   3360\u001b[0m \u001b[0;34m\u001b[0m\u001b[0m\n\u001b[1;32m   3361\u001b[0m     \u001b[0mplotter\u001b[0m\u001b[0;34m.\u001b[0m\u001b[0mvalue_label\u001b[0m \u001b[0;34m=\u001b[0m \u001b[0;34m\"count\"\u001b[0m\u001b[0;34m\u001b[0m\u001b[0m\n",
      "\u001b[0;32m~/anaconda3/lib/python3.6/site-packages/seaborn/categorical.py\u001b[0m in \u001b[0;36m__init__\u001b[0;34m(self, x, y, hue, data, order, hue_order, estimator, ci, n_boot, units, orient, color, palette, saturation, errcolor, errwidth, capsize, dodge)\u001b[0m\n\u001b[1;32m   1594\u001b[0m         \u001b[0;34m\"\"\"Initialize the plotter.\"\"\"\u001b[0m\u001b[0;34m\u001b[0m\u001b[0m\n\u001b[1;32m   1595\u001b[0m         self.establish_variables(x, y, hue, data, orient,\n\u001b[0;32m-> 1596\u001b[0;31m                                  order, hue_order, units)\n\u001b[0m\u001b[1;32m   1597\u001b[0m         \u001b[0mself\u001b[0m\u001b[0;34m.\u001b[0m\u001b[0mestablish_colors\u001b[0m\u001b[0;34m(\u001b[0m\u001b[0mcolor\u001b[0m\u001b[0;34m,\u001b[0m \u001b[0mpalette\u001b[0m\u001b[0;34m,\u001b[0m \u001b[0msaturation\u001b[0m\u001b[0;34m)\u001b[0m\u001b[0;34m\u001b[0m\u001b[0m\n\u001b[1;32m   1598\u001b[0m         \u001b[0mself\u001b[0m\u001b[0;34m.\u001b[0m\u001b[0mestimate_statistic\u001b[0m\u001b[0;34m(\u001b[0m\u001b[0mestimator\u001b[0m\u001b[0;34m,\u001b[0m \u001b[0mci\u001b[0m\u001b[0;34m,\u001b[0m \u001b[0mn_boot\u001b[0m\u001b[0;34m)\u001b[0m\u001b[0;34m\u001b[0m\u001b[0m\n",
      "\u001b[0;32m~/anaconda3/lib/python3.6/site-packages/seaborn/categorical.py\u001b[0m in \u001b[0;36mestablish_variables\u001b[0;34m(self, x, y, hue, data, orient, order, hue_order, units)\u001b[0m\n\u001b[1;32m    149\u001b[0m                 \u001b[0;32mif\u001b[0m \u001b[0misinstance\u001b[0m\u001b[0;34m(\u001b[0m\u001b[0minput\u001b[0m\u001b[0;34m,\u001b[0m \u001b[0mstring_types\u001b[0m\u001b[0;34m)\u001b[0m\u001b[0;34m:\u001b[0m\u001b[0;34m\u001b[0m\u001b[0m\n\u001b[1;32m    150\u001b[0m                     \u001b[0merr\u001b[0m \u001b[0;34m=\u001b[0m \u001b[0;34m\"Could not interpret input '{}'\"\u001b[0m\u001b[0;34m.\u001b[0m\u001b[0mformat\u001b[0m\u001b[0;34m(\u001b[0m\u001b[0minput\u001b[0m\u001b[0;34m)\u001b[0m\u001b[0;34m\u001b[0m\u001b[0m\n\u001b[0;32m--> 151\u001b[0;31m                     \u001b[0;32mraise\u001b[0m \u001b[0mValueError\u001b[0m\u001b[0;34m(\u001b[0m\u001b[0merr\u001b[0m\u001b[0;34m)\u001b[0m\u001b[0;34m\u001b[0m\u001b[0m\n\u001b[0m\u001b[1;32m    152\u001b[0m \u001b[0;34m\u001b[0m\u001b[0m\n\u001b[1;32m    153\u001b[0m             \u001b[0;31m# Figure out the plotting orientation\u001b[0m\u001b[0;34m\u001b[0m\u001b[0;34m\u001b[0m\u001b[0m\n",
      "\u001b[0;31mValueError\u001b[0m: Could not interpret input 'hora'"
     ]
    }
   ],
   "source": [
    "sns.countplot(data=df_grafico, x='hora',).set_title('Cantidad de Pedidos por hora');"
   ]
  },
  {
   "cell_type": "markdown",
   "metadata": {},
   "source": [
    "La Mayor cantidad de pedidos se concentra entre 10 y 13, cayendo hasta retomar desde las 19 a las 21 hrs"
   ]
  },
  {
   "cell_type": "code",
   "execution_count": 69,
   "metadata": {},
   "outputs": [
    {
     "ename": "KeyError",
     "evalue": "'hora'",
     "output_type": "error",
     "traceback": [
      "\u001b[0;31m---------------------------------------------------------------------------\u001b[0m",
      "\u001b[0;31mKeyError\u001b[0m                                  Traceback (most recent call last)",
      "\u001b[0;32m<ipython-input-69-281ea31c81bf>\u001b[0m in \u001b[0;36m<module>\u001b[0;34m()\u001b[0m\n\u001b[0;32m----> 1\u001b[0;31m \u001b[0mdf_grafico\u001b[0m\u001b[0;34m.\u001b[0m\u001b[0mgroupby\u001b[0m\u001b[0;34m(\u001b[0m\u001b[0;34m'hora'\u001b[0m\u001b[0;34m)\u001b[0m\u001b[0;34m.\u001b[0m\u001b[0mmean\u001b[0m\u001b[0;34m(\u001b[0m\u001b[0;34m)\u001b[0m\u001b[0;34m[\u001b[0m\u001b[0;34m'tiempo_ajustado'\u001b[0m\u001b[0;34m]\u001b[0m\u001b[0;34m\u001b[0m\u001b[0m\n\u001b[0m",
      "\u001b[0;32m~/anaconda3/lib/python3.6/site-packages/pandas/core/generic.py\u001b[0m in \u001b[0;36mgroupby\u001b[0;34m(self, by, axis, level, as_index, sort, group_keys, squeeze, observed, **kwargs)\u001b[0m\n\u001b[1;32m   6657\u001b[0m         return groupby(self, by=by, axis=axis, level=level, as_index=as_index,\n\u001b[1;32m   6658\u001b[0m                        \u001b[0msort\u001b[0m\u001b[0;34m=\u001b[0m\u001b[0msort\u001b[0m\u001b[0;34m,\u001b[0m \u001b[0mgroup_keys\u001b[0m\u001b[0;34m=\u001b[0m\u001b[0mgroup_keys\u001b[0m\u001b[0;34m,\u001b[0m \u001b[0msqueeze\u001b[0m\u001b[0;34m=\u001b[0m\u001b[0msqueeze\u001b[0m\u001b[0;34m,\u001b[0m\u001b[0;34m\u001b[0m\u001b[0m\n\u001b[0;32m-> 6659\u001b[0;31m                        observed=observed, **kwargs)\n\u001b[0m\u001b[1;32m   6660\u001b[0m \u001b[0;34m\u001b[0m\u001b[0m\n\u001b[1;32m   6661\u001b[0m     def asfreq(self, freq, method=None, how=None, normalize=False,\n",
      "\u001b[0;32m~/anaconda3/lib/python3.6/site-packages/pandas/core/groupby/groupby.py\u001b[0m in \u001b[0;36mgroupby\u001b[0;34m(obj, by, **kwds)\u001b[0m\n\u001b[1;32m   2150\u001b[0m         \u001b[0;32mraise\u001b[0m \u001b[0mTypeError\u001b[0m\u001b[0;34m(\u001b[0m\u001b[0;34m'invalid type: %s'\u001b[0m \u001b[0;34m%\u001b[0m \u001b[0mtype\u001b[0m\u001b[0;34m(\u001b[0m\u001b[0mobj\u001b[0m\u001b[0;34m)\u001b[0m\u001b[0;34m)\u001b[0m\u001b[0;34m\u001b[0m\u001b[0m\n\u001b[1;32m   2151\u001b[0m \u001b[0;34m\u001b[0m\u001b[0m\n\u001b[0;32m-> 2152\u001b[0;31m     \u001b[0;32mreturn\u001b[0m \u001b[0mklass\u001b[0m\u001b[0;34m(\u001b[0m\u001b[0mobj\u001b[0m\u001b[0;34m,\u001b[0m \u001b[0mby\u001b[0m\u001b[0;34m,\u001b[0m \u001b[0;34m**\u001b[0m\u001b[0mkwds\u001b[0m\u001b[0;34m)\u001b[0m\u001b[0;34m\u001b[0m\u001b[0m\n\u001b[0m\u001b[1;32m   2153\u001b[0m \u001b[0;34m\u001b[0m\u001b[0m\n\u001b[1;32m   2154\u001b[0m \u001b[0;34m\u001b[0m\u001b[0m\n",
      "\u001b[0;32m~/anaconda3/lib/python3.6/site-packages/pandas/core/groupby/groupby.py\u001b[0m in \u001b[0;36m__init__\u001b[0;34m(self, obj, keys, axis, level, grouper, exclusions, selection, as_index, sort, group_keys, squeeze, observed, **kwargs)\u001b[0m\n\u001b[1;32m    597\u001b[0m                                                     \u001b[0msort\u001b[0m\u001b[0;34m=\u001b[0m\u001b[0msort\u001b[0m\u001b[0;34m,\u001b[0m\u001b[0;34m\u001b[0m\u001b[0m\n\u001b[1;32m    598\u001b[0m                                                     \u001b[0mobserved\u001b[0m\u001b[0;34m=\u001b[0m\u001b[0mobserved\u001b[0m\u001b[0;34m,\u001b[0m\u001b[0;34m\u001b[0m\u001b[0m\n\u001b[0;32m--> 599\u001b[0;31m                                                     mutated=self.mutated)\n\u001b[0m\u001b[1;32m    600\u001b[0m \u001b[0;34m\u001b[0m\u001b[0m\n\u001b[1;32m    601\u001b[0m         \u001b[0mself\u001b[0m\u001b[0;34m.\u001b[0m\u001b[0mobj\u001b[0m \u001b[0;34m=\u001b[0m \u001b[0mobj\u001b[0m\u001b[0;34m\u001b[0m\u001b[0m\n",
      "\u001b[0;32m~/anaconda3/lib/python3.6/site-packages/pandas/core/groupby/groupby.py\u001b[0m in \u001b[0;36m_get_grouper\u001b[0;34m(obj, key, axis, level, sort, observed, mutated, validate)\u001b[0m\n\u001b[1;32m   3289\u001b[0m                 \u001b[0min_axis\u001b[0m\u001b[0;34m,\u001b[0m \u001b[0mname\u001b[0m\u001b[0;34m,\u001b[0m \u001b[0mlevel\u001b[0m\u001b[0;34m,\u001b[0m \u001b[0mgpr\u001b[0m \u001b[0;34m=\u001b[0m \u001b[0;32mFalse\u001b[0m\u001b[0;34m,\u001b[0m \u001b[0;32mNone\u001b[0m\u001b[0;34m,\u001b[0m \u001b[0mgpr\u001b[0m\u001b[0;34m,\u001b[0m \u001b[0;32mNone\u001b[0m\u001b[0;34m\u001b[0m\u001b[0m\n\u001b[1;32m   3290\u001b[0m             \u001b[0;32melse\u001b[0m\u001b[0;34m:\u001b[0m\u001b[0;34m\u001b[0m\u001b[0m\n\u001b[0;32m-> 3291\u001b[0;31m                 \u001b[0;32mraise\u001b[0m \u001b[0mKeyError\u001b[0m\u001b[0;34m(\u001b[0m\u001b[0mgpr\u001b[0m\u001b[0;34m)\u001b[0m\u001b[0;34m\u001b[0m\u001b[0m\n\u001b[0m\u001b[1;32m   3292\u001b[0m         \u001b[0;32melif\u001b[0m \u001b[0misinstance\u001b[0m\u001b[0;34m(\u001b[0m\u001b[0mgpr\u001b[0m\u001b[0;34m,\u001b[0m \u001b[0mGrouper\u001b[0m\u001b[0;34m)\u001b[0m \u001b[0;32mand\u001b[0m \u001b[0mgpr\u001b[0m\u001b[0;34m.\u001b[0m\u001b[0mkey\u001b[0m \u001b[0;32mis\u001b[0m \u001b[0;32mnot\u001b[0m \u001b[0;32mNone\u001b[0m\u001b[0;34m:\u001b[0m\u001b[0;34m\u001b[0m\u001b[0m\n\u001b[1;32m   3293\u001b[0m             \u001b[0;31m# Add key to exclusions\u001b[0m\u001b[0;34m\u001b[0m\u001b[0;34m\u001b[0m\u001b[0m\n",
      "\u001b[0;31mKeyError\u001b[0m: 'hora'"
     ]
    }
   ],
   "source": [
    "df_grafico.groupby('hora').mean()['tiempo_ajustado']"
   ]
  },
  {
   "cell_type": "code",
   "execution_count": null,
   "metadata": {},
   "outputs": [],
   "source": [
    "plt.plot(df_grafico.groupby('hora').mean()['tiempo_ajustado'])\n",
    "plt.title('Hora vs Tiempo de entrega')"
   ]
  },
  {
   "cell_type": "markdown",
   "metadata": {},
   "source": [
    "Revisando las horas, notamos que a las 9 hay un peak, al igual que a las 19 horas y luego pasado las 21 hrs"
   ]
  },
  {
   "cell_type": "markdown",
   "metadata": {},
   "source": [
    "### Dia de la semana"
   ]
  },
  {
   "cell_type": "code",
   "execution_count": 70,
   "metadata": {},
   "outputs": [
    {
     "ename": "ValueError",
     "evalue": "Could not interpret input 'dow'",
     "output_type": "error",
     "traceback": [
      "\u001b[0;31m---------------------------------------------------------------------------\u001b[0m",
      "\u001b[0;31mValueError\u001b[0m                                Traceback (most recent call last)",
      "\u001b[0;32m<ipython-input-70-1d63dbe8b842>\u001b[0m in \u001b[0;36m<module>\u001b[0;34m()\u001b[0m\n\u001b[0;32m----> 1\u001b[0;31m \u001b[0msns\u001b[0m\u001b[0;34m.\u001b[0m\u001b[0mcountplot\u001b[0m\u001b[0;34m(\u001b[0m\u001b[0mdata\u001b[0m\u001b[0;34m=\u001b[0m\u001b[0mdf_grafico\u001b[0m\u001b[0;34m,\u001b[0m \u001b[0mx\u001b[0m\u001b[0;34m=\u001b[0m\u001b[0;34m'dow'\u001b[0m\u001b[0;34m,\u001b[0m\u001b[0;34m)\u001b[0m\u001b[0;34m.\u001b[0m\u001b[0mset_title\u001b[0m\u001b[0;34m(\u001b[0m\u001b[0;34m'Cantidad de Pedidos por dia de la semana'\u001b[0m\u001b[0;34m)\u001b[0m\u001b[0;34m;\u001b[0m\u001b[0;34m\u001b[0m\u001b[0m\n\u001b[0m",
      "\u001b[0;32m~/anaconda3/lib/python3.6/site-packages/seaborn/categorical.py\u001b[0m in \u001b[0;36mcountplot\u001b[0;34m(x, y, hue, data, order, hue_order, orient, color, palette, saturation, dodge, ax, **kwargs)\u001b[0m\n\u001b[1;32m   3357\u001b[0m                           \u001b[0mestimator\u001b[0m\u001b[0;34m,\u001b[0m \u001b[0mci\u001b[0m\u001b[0;34m,\u001b[0m \u001b[0mn_boot\u001b[0m\u001b[0;34m,\u001b[0m \u001b[0munits\u001b[0m\u001b[0;34m,\u001b[0m\u001b[0;34m\u001b[0m\u001b[0m\n\u001b[1;32m   3358\u001b[0m                           \u001b[0morient\u001b[0m\u001b[0;34m,\u001b[0m \u001b[0mcolor\u001b[0m\u001b[0;34m,\u001b[0m \u001b[0mpalette\u001b[0m\u001b[0;34m,\u001b[0m \u001b[0msaturation\u001b[0m\u001b[0;34m,\u001b[0m\u001b[0;34m\u001b[0m\u001b[0m\n\u001b[0;32m-> 3359\u001b[0;31m                           errcolor, errwidth, capsize, dodge)\n\u001b[0m\u001b[1;32m   3360\u001b[0m \u001b[0;34m\u001b[0m\u001b[0m\n\u001b[1;32m   3361\u001b[0m     \u001b[0mplotter\u001b[0m\u001b[0;34m.\u001b[0m\u001b[0mvalue_label\u001b[0m \u001b[0;34m=\u001b[0m \u001b[0;34m\"count\"\u001b[0m\u001b[0;34m\u001b[0m\u001b[0m\n",
      "\u001b[0;32m~/anaconda3/lib/python3.6/site-packages/seaborn/categorical.py\u001b[0m in \u001b[0;36m__init__\u001b[0;34m(self, x, y, hue, data, order, hue_order, estimator, ci, n_boot, units, orient, color, palette, saturation, errcolor, errwidth, capsize, dodge)\u001b[0m\n\u001b[1;32m   1594\u001b[0m         \u001b[0;34m\"\"\"Initialize the plotter.\"\"\"\u001b[0m\u001b[0;34m\u001b[0m\u001b[0m\n\u001b[1;32m   1595\u001b[0m         self.establish_variables(x, y, hue, data, orient,\n\u001b[0;32m-> 1596\u001b[0;31m                                  order, hue_order, units)\n\u001b[0m\u001b[1;32m   1597\u001b[0m         \u001b[0mself\u001b[0m\u001b[0;34m.\u001b[0m\u001b[0mestablish_colors\u001b[0m\u001b[0;34m(\u001b[0m\u001b[0mcolor\u001b[0m\u001b[0;34m,\u001b[0m \u001b[0mpalette\u001b[0m\u001b[0;34m,\u001b[0m \u001b[0msaturation\u001b[0m\u001b[0;34m)\u001b[0m\u001b[0;34m\u001b[0m\u001b[0m\n\u001b[1;32m   1598\u001b[0m         \u001b[0mself\u001b[0m\u001b[0;34m.\u001b[0m\u001b[0mestimate_statistic\u001b[0m\u001b[0;34m(\u001b[0m\u001b[0mestimator\u001b[0m\u001b[0;34m,\u001b[0m \u001b[0mci\u001b[0m\u001b[0;34m,\u001b[0m \u001b[0mn_boot\u001b[0m\u001b[0;34m)\u001b[0m\u001b[0;34m\u001b[0m\u001b[0m\n",
      "\u001b[0;32m~/anaconda3/lib/python3.6/site-packages/seaborn/categorical.py\u001b[0m in \u001b[0;36mestablish_variables\u001b[0;34m(self, x, y, hue, data, orient, order, hue_order, units)\u001b[0m\n\u001b[1;32m    149\u001b[0m                 \u001b[0;32mif\u001b[0m \u001b[0misinstance\u001b[0m\u001b[0;34m(\u001b[0m\u001b[0minput\u001b[0m\u001b[0;34m,\u001b[0m \u001b[0mstring_types\u001b[0m\u001b[0;34m)\u001b[0m\u001b[0;34m:\u001b[0m\u001b[0;34m\u001b[0m\u001b[0m\n\u001b[1;32m    150\u001b[0m                     \u001b[0merr\u001b[0m \u001b[0;34m=\u001b[0m \u001b[0;34m\"Could not interpret input '{}'\"\u001b[0m\u001b[0;34m.\u001b[0m\u001b[0mformat\u001b[0m\u001b[0;34m(\u001b[0m\u001b[0minput\u001b[0m\u001b[0;34m)\u001b[0m\u001b[0;34m\u001b[0m\u001b[0m\n\u001b[0;32m--> 151\u001b[0;31m                     \u001b[0;32mraise\u001b[0m \u001b[0mValueError\u001b[0m\u001b[0;34m(\u001b[0m\u001b[0merr\u001b[0m\u001b[0;34m)\u001b[0m\u001b[0;34m\u001b[0m\u001b[0m\n\u001b[0m\u001b[1;32m    152\u001b[0m \u001b[0;34m\u001b[0m\u001b[0m\n\u001b[1;32m    153\u001b[0m             \u001b[0;31m# Figure out the plotting orientation\u001b[0m\u001b[0;34m\u001b[0m\u001b[0;34m\u001b[0m\u001b[0m\n",
      "\u001b[0;31mValueError\u001b[0m: Could not interpret input 'dow'"
     ]
    }
   ],
   "source": [
    "sns.countplot(data=df_grafico, x='dow',).set_title('Cantidad de Pedidos por dia de la semana');"
   ]
  },
  {
   "cell_type": "markdown",
   "metadata": {},
   "source": [
    "De Lunes a jueves se concentra la mayor cantidad de pedidos, siendo viernes a domingo los que tienen menos edidos"
   ]
  },
  {
   "cell_type": "code",
   "execution_count": 71,
   "metadata": {},
   "outputs": [
    {
     "ename": "KeyError",
     "evalue": "'dow'",
     "output_type": "error",
     "traceback": [
      "\u001b[0;31m---------------------------------------------------------------------------\u001b[0m",
      "\u001b[0;31mKeyError\u001b[0m                                  Traceback (most recent call last)",
      "\u001b[0;32m<ipython-input-71-c9507f6c024d>\u001b[0m in \u001b[0;36m<module>\u001b[0;34m()\u001b[0m\n\u001b[0;32m----> 1\u001b[0;31m \u001b[0mdf_grafico\u001b[0m\u001b[0;34m.\u001b[0m\u001b[0mgroupby\u001b[0m\u001b[0;34m(\u001b[0m\u001b[0;34m'dow'\u001b[0m\u001b[0;34m)\u001b[0m\u001b[0;34m.\u001b[0m\u001b[0mmean\u001b[0m\u001b[0;34m(\u001b[0m\u001b[0;34m)\u001b[0m\u001b[0;34m[\u001b[0m\u001b[0;34m'tiempo_ajustado'\u001b[0m\u001b[0;34m]\u001b[0m\u001b[0;34m\u001b[0m\u001b[0m\n\u001b[0m",
      "\u001b[0;32m~/anaconda3/lib/python3.6/site-packages/pandas/core/generic.py\u001b[0m in \u001b[0;36mgroupby\u001b[0;34m(self, by, axis, level, as_index, sort, group_keys, squeeze, observed, **kwargs)\u001b[0m\n\u001b[1;32m   6657\u001b[0m         return groupby(self, by=by, axis=axis, level=level, as_index=as_index,\n\u001b[1;32m   6658\u001b[0m                        \u001b[0msort\u001b[0m\u001b[0;34m=\u001b[0m\u001b[0msort\u001b[0m\u001b[0;34m,\u001b[0m \u001b[0mgroup_keys\u001b[0m\u001b[0;34m=\u001b[0m\u001b[0mgroup_keys\u001b[0m\u001b[0;34m,\u001b[0m \u001b[0msqueeze\u001b[0m\u001b[0;34m=\u001b[0m\u001b[0msqueeze\u001b[0m\u001b[0;34m,\u001b[0m\u001b[0;34m\u001b[0m\u001b[0m\n\u001b[0;32m-> 6659\u001b[0;31m                        observed=observed, **kwargs)\n\u001b[0m\u001b[1;32m   6660\u001b[0m \u001b[0;34m\u001b[0m\u001b[0m\n\u001b[1;32m   6661\u001b[0m     def asfreq(self, freq, method=None, how=None, normalize=False,\n",
      "\u001b[0;32m~/anaconda3/lib/python3.6/site-packages/pandas/core/groupby/groupby.py\u001b[0m in \u001b[0;36mgroupby\u001b[0;34m(obj, by, **kwds)\u001b[0m\n\u001b[1;32m   2150\u001b[0m         \u001b[0;32mraise\u001b[0m \u001b[0mTypeError\u001b[0m\u001b[0;34m(\u001b[0m\u001b[0;34m'invalid type: %s'\u001b[0m \u001b[0;34m%\u001b[0m \u001b[0mtype\u001b[0m\u001b[0;34m(\u001b[0m\u001b[0mobj\u001b[0m\u001b[0;34m)\u001b[0m\u001b[0;34m)\u001b[0m\u001b[0;34m\u001b[0m\u001b[0m\n\u001b[1;32m   2151\u001b[0m \u001b[0;34m\u001b[0m\u001b[0m\n\u001b[0;32m-> 2152\u001b[0;31m     \u001b[0;32mreturn\u001b[0m \u001b[0mklass\u001b[0m\u001b[0;34m(\u001b[0m\u001b[0mobj\u001b[0m\u001b[0;34m,\u001b[0m \u001b[0mby\u001b[0m\u001b[0;34m,\u001b[0m \u001b[0;34m**\u001b[0m\u001b[0mkwds\u001b[0m\u001b[0;34m)\u001b[0m\u001b[0;34m\u001b[0m\u001b[0m\n\u001b[0m\u001b[1;32m   2153\u001b[0m \u001b[0;34m\u001b[0m\u001b[0m\n\u001b[1;32m   2154\u001b[0m \u001b[0;34m\u001b[0m\u001b[0m\n",
      "\u001b[0;32m~/anaconda3/lib/python3.6/site-packages/pandas/core/groupby/groupby.py\u001b[0m in \u001b[0;36m__init__\u001b[0;34m(self, obj, keys, axis, level, grouper, exclusions, selection, as_index, sort, group_keys, squeeze, observed, **kwargs)\u001b[0m\n\u001b[1;32m    597\u001b[0m                                                     \u001b[0msort\u001b[0m\u001b[0;34m=\u001b[0m\u001b[0msort\u001b[0m\u001b[0;34m,\u001b[0m\u001b[0;34m\u001b[0m\u001b[0m\n\u001b[1;32m    598\u001b[0m                                                     \u001b[0mobserved\u001b[0m\u001b[0;34m=\u001b[0m\u001b[0mobserved\u001b[0m\u001b[0;34m,\u001b[0m\u001b[0;34m\u001b[0m\u001b[0m\n\u001b[0;32m--> 599\u001b[0;31m                                                     mutated=self.mutated)\n\u001b[0m\u001b[1;32m    600\u001b[0m \u001b[0;34m\u001b[0m\u001b[0m\n\u001b[1;32m    601\u001b[0m         \u001b[0mself\u001b[0m\u001b[0;34m.\u001b[0m\u001b[0mobj\u001b[0m \u001b[0;34m=\u001b[0m \u001b[0mobj\u001b[0m\u001b[0;34m\u001b[0m\u001b[0m\n",
      "\u001b[0;32m~/anaconda3/lib/python3.6/site-packages/pandas/core/groupby/groupby.py\u001b[0m in \u001b[0;36m_get_grouper\u001b[0;34m(obj, key, axis, level, sort, observed, mutated, validate)\u001b[0m\n\u001b[1;32m   3289\u001b[0m                 \u001b[0min_axis\u001b[0m\u001b[0;34m,\u001b[0m \u001b[0mname\u001b[0m\u001b[0;34m,\u001b[0m \u001b[0mlevel\u001b[0m\u001b[0;34m,\u001b[0m \u001b[0mgpr\u001b[0m \u001b[0;34m=\u001b[0m \u001b[0;32mFalse\u001b[0m\u001b[0;34m,\u001b[0m \u001b[0;32mNone\u001b[0m\u001b[0;34m,\u001b[0m \u001b[0mgpr\u001b[0m\u001b[0;34m,\u001b[0m \u001b[0;32mNone\u001b[0m\u001b[0;34m\u001b[0m\u001b[0m\n\u001b[1;32m   3290\u001b[0m             \u001b[0;32melse\u001b[0m\u001b[0;34m:\u001b[0m\u001b[0;34m\u001b[0m\u001b[0m\n\u001b[0;32m-> 3291\u001b[0;31m                 \u001b[0;32mraise\u001b[0m \u001b[0mKeyError\u001b[0m\u001b[0;34m(\u001b[0m\u001b[0mgpr\u001b[0m\u001b[0;34m)\u001b[0m\u001b[0;34m\u001b[0m\u001b[0m\n\u001b[0m\u001b[1;32m   3292\u001b[0m         \u001b[0;32melif\u001b[0m \u001b[0misinstance\u001b[0m\u001b[0;34m(\u001b[0m\u001b[0mgpr\u001b[0m\u001b[0;34m,\u001b[0m \u001b[0mGrouper\u001b[0m\u001b[0;34m)\u001b[0m \u001b[0;32mand\u001b[0m \u001b[0mgpr\u001b[0m\u001b[0;34m.\u001b[0m\u001b[0mkey\u001b[0m \u001b[0;32mis\u001b[0m \u001b[0;32mnot\u001b[0m \u001b[0;32mNone\u001b[0m\u001b[0;34m:\u001b[0m\u001b[0;34m\u001b[0m\u001b[0m\n\u001b[1;32m   3293\u001b[0m             \u001b[0;31m# Add key to exclusions\u001b[0m\u001b[0;34m\u001b[0m\u001b[0;34m\u001b[0m\u001b[0m\n",
      "\u001b[0;31mKeyError\u001b[0m: 'dow'"
     ]
    }
   ],
   "source": [
    "df_grafico.groupby('dow').mean()['tiempo_ajustado']"
   ]
  },
  {
   "cell_type": "code",
   "execution_count": 72,
   "metadata": {},
   "outputs": [
    {
     "ename": "KeyError",
     "evalue": "'dow'",
     "output_type": "error",
     "traceback": [
      "\u001b[0;31m---------------------------------------------------------------------------\u001b[0m",
      "\u001b[0;31mKeyError\u001b[0m                                  Traceback (most recent call last)",
      "\u001b[0;32m<ipython-input-72-481f6b013b56>\u001b[0m in \u001b[0;36m<module>\u001b[0;34m()\u001b[0m\n\u001b[0;32m----> 1\u001b[0;31m \u001b[0mplt\u001b[0m\u001b[0;34m.\u001b[0m\u001b[0mplot\u001b[0m\u001b[0;34m(\u001b[0m\u001b[0mdf_grafico\u001b[0m\u001b[0;34m.\u001b[0m\u001b[0mgroupby\u001b[0m\u001b[0;34m(\u001b[0m\u001b[0;34m'dow'\u001b[0m\u001b[0;34m)\u001b[0m\u001b[0;34m.\u001b[0m\u001b[0mmean\u001b[0m\u001b[0;34m(\u001b[0m\u001b[0;34m)\u001b[0m\u001b[0;34m[\u001b[0m\u001b[0;34m'tiempo_ajustado'\u001b[0m\u001b[0;34m]\u001b[0m\u001b[0;34m)\u001b[0m\u001b[0;34m\u001b[0m\u001b[0m\n\u001b[0m\u001b[1;32m      2\u001b[0m \u001b[0mplt\u001b[0m\u001b[0;34m.\u001b[0m\u001b[0mtitle\u001b[0m\u001b[0;34m(\u001b[0m\u001b[0;34m'Dia de la Semana vs Tiempo de Entrega'\u001b[0m\u001b[0;34m)\u001b[0m\u001b[0;34m;\u001b[0m\u001b[0;34m\u001b[0m\u001b[0m\n",
      "\u001b[0;32m~/anaconda3/lib/python3.6/site-packages/pandas/core/generic.py\u001b[0m in \u001b[0;36mgroupby\u001b[0;34m(self, by, axis, level, as_index, sort, group_keys, squeeze, observed, **kwargs)\u001b[0m\n\u001b[1;32m   6657\u001b[0m         return groupby(self, by=by, axis=axis, level=level, as_index=as_index,\n\u001b[1;32m   6658\u001b[0m                        \u001b[0msort\u001b[0m\u001b[0;34m=\u001b[0m\u001b[0msort\u001b[0m\u001b[0;34m,\u001b[0m \u001b[0mgroup_keys\u001b[0m\u001b[0;34m=\u001b[0m\u001b[0mgroup_keys\u001b[0m\u001b[0;34m,\u001b[0m \u001b[0msqueeze\u001b[0m\u001b[0;34m=\u001b[0m\u001b[0msqueeze\u001b[0m\u001b[0;34m,\u001b[0m\u001b[0;34m\u001b[0m\u001b[0m\n\u001b[0;32m-> 6659\u001b[0;31m                        observed=observed, **kwargs)\n\u001b[0m\u001b[1;32m   6660\u001b[0m \u001b[0;34m\u001b[0m\u001b[0m\n\u001b[1;32m   6661\u001b[0m     def asfreq(self, freq, method=None, how=None, normalize=False,\n",
      "\u001b[0;32m~/anaconda3/lib/python3.6/site-packages/pandas/core/groupby/groupby.py\u001b[0m in \u001b[0;36mgroupby\u001b[0;34m(obj, by, **kwds)\u001b[0m\n\u001b[1;32m   2150\u001b[0m         \u001b[0;32mraise\u001b[0m \u001b[0mTypeError\u001b[0m\u001b[0;34m(\u001b[0m\u001b[0;34m'invalid type: %s'\u001b[0m \u001b[0;34m%\u001b[0m \u001b[0mtype\u001b[0m\u001b[0;34m(\u001b[0m\u001b[0mobj\u001b[0m\u001b[0;34m)\u001b[0m\u001b[0;34m)\u001b[0m\u001b[0;34m\u001b[0m\u001b[0m\n\u001b[1;32m   2151\u001b[0m \u001b[0;34m\u001b[0m\u001b[0m\n\u001b[0;32m-> 2152\u001b[0;31m     \u001b[0;32mreturn\u001b[0m \u001b[0mklass\u001b[0m\u001b[0;34m(\u001b[0m\u001b[0mobj\u001b[0m\u001b[0;34m,\u001b[0m \u001b[0mby\u001b[0m\u001b[0;34m,\u001b[0m \u001b[0;34m**\u001b[0m\u001b[0mkwds\u001b[0m\u001b[0;34m)\u001b[0m\u001b[0;34m\u001b[0m\u001b[0m\n\u001b[0m\u001b[1;32m   2153\u001b[0m \u001b[0;34m\u001b[0m\u001b[0m\n\u001b[1;32m   2154\u001b[0m \u001b[0;34m\u001b[0m\u001b[0m\n",
      "\u001b[0;32m~/anaconda3/lib/python3.6/site-packages/pandas/core/groupby/groupby.py\u001b[0m in \u001b[0;36m__init__\u001b[0;34m(self, obj, keys, axis, level, grouper, exclusions, selection, as_index, sort, group_keys, squeeze, observed, **kwargs)\u001b[0m\n\u001b[1;32m    597\u001b[0m                                                     \u001b[0msort\u001b[0m\u001b[0;34m=\u001b[0m\u001b[0msort\u001b[0m\u001b[0;34m,\u001b[0m\u001b[0;34m\u001b[0m\u001b[0m\n\u001b[1;32m    598\u001b[0m                                                     \u001b[0mobserved\u001b[0m\u001b[0;34m=\u001b[0m\u001b[0mobserved\u001b[0m\u001b[0;34m,\u001b[0m\u001b[0;34m\u001b[0m\u001b[0m\n\u001b[0;32m--> 599\u001b[0;31m                                                     mutated=self.mutated)\n\u001b[0m\u001b[1;32m    600\u001b[0m \u001b[0;34m\u001b[0m\u001b[0m\n\u001b[1;32m    601\u001b[0m         \u001b[0mself\u001b[0m\u001b[0;34m.\u001b[0m\u001b[0mobj\u001b[0m \u001b[0;34m=\u001b[0m \u001b[0mobj\u001b[0m\u001b[0;34m\u001b[0m\u001b[0m\n",
      "\u001b[0;32m~/anaconda3/lib/python3.6/site-packages/pandas/core/groupby/groupby.py\u001b[0m in \u001b[0;36m_get_grouper\u001b[0;34m(obj, key, axis, level, sort, observed, mutated, validate)\u001b[0m\n\u001b[1;32m   3289\u001b[0m                 \u001b[0min_axis\u001b[0m\u001b[0;34m,\u001b[0m \u001b[0mname\u001b[0m\u001b[0;34m,\u001b[0m \u001b[0mlevel\u001b[0m\u001b[0;34m,\u001b[0m \u001b[0mgpr\u001b[0m \u001b[0;34m=\u001b[0m \u001b[0;32mFalse\u001b[0m\u001b[0;34m,\u001b[0m \u001b[0;32mNone\u001b[0m\u001b[0;34m,\u001b[0m \u001b[0mgpr\u001b[0m\u001b[0;34m,\u001b[0m \u001b[0;32mNone\u001b[0m\u001b[0;34m\u001b[0m\u001b[0m\n\u001b[1;32m   3290\u001b[0m             \u001b[0;32melse\u001b[0m\u001b[0;34m:\u001b[0m\u001b[0;34m\u001b[0m\u001b[0m\n\u001b[0;32m-> 3291\u001b[0;31m                 \u001b[0;32mraise\u001b[0m \u001b[0mKeyError\u001b[0m\u001b[0;34m(\u001b[0m\u001b[0mgpr\u001b[0m\u001b[0;34m)\u001b[0m\u001b[0;34m\u001b[0m\u001b[0m\n\u001b[0m\u001b[1;32m   3292\u001b[0m         \u001b[0;32melif\u001b[0m \u001b[0misinstance\u001b[0m\u001b[0;34m(\u001b[0m\u001b[0mgpr\u001b[0m\u001b[0;34m,\u001b[0m \u001b[0mGrouper\u001b[0m\u001b[0;34m)\u001b[0m \u001b[0;32mand\u001b[0m \u001b[0mgpr\u001b[0m\u001b[0;34m.\u001b[0m\u001b[0mkey\u001b[0m \u001b[0;32mis\u001b[0m \u001b[0;32mnot\u001b[0m \u001b[0;32mNone\u001b[0m\u001b[0;34m:\u001b[0m\u001b[0;34m\u001b[0m\u001b[0m\n\u001b[1;32m   3293\u001b[0m             \u001b[0;31m# Add key to exclusions\u001b[0m\u001b[0;34m\u001b[0m\u001b[0;34m\u001b[0m\u001b[0m\n",
      "\u001b[0;31mKeyError\u001b[0m: 'dow'"
     ]
    }
   ],
   "source": [
    "plt.plot(df_grafico.groupby('dow').mean()['tiempo_ajustado'])\n",
    "plt.title('Dia de la Semana vs Tiempo de Entrega');"
   ]
  },
  {
   "cell_type": "markdown",
   "metadata": {},
   "source": [
    "El tiempo de entrega es consistente con la cantidad de pedidos de cada día, excepto en el dia jueves, donde es menor en promedio que la cantidad de pedidos del mismo día"
   ]
  },
  {
   "cell_type": "markdown",
   "metadata": {},
   "source": [
    "### Dia y Fecha"
   ]
  },
  {
   "cell_type": "code",
   "execution_count": 73,
   "metadata": {},
   "outputs": [
    {
     "ename": "KeyError",
     "evalue": "'hora'",
     "output_type": "error",
     "traceback": [
      "\u001b[0;31m---------------------------------------------------------------------------\u001b[0m",
      "\u001b[0;31mKeyError\u001b[0m                                  Traceback (most recent call last)",
      "\u001b[0;32m<ipython-input-73-9d38e1d8f219>\u001b[0m in \u001b[0;36m<module>\u001b[0;34m()\u001b[0m\n\u001b[0;32m----> 1\u001b[0;31m \u001b[0mtable\u001b[0m \u001b[0;34m=\u001b[0m \u001b[0mpd\u001b[0m\u001b[0;34m.\u001b[0m\u001b[0mpivot_table\u001b[0m\u001b[0;34m(\u001b[0m\u001b[0mdf_grafico\u001b[0m\u001b[0;34m,\u001b[0m \u001b[0mvalues\u001b[0m\u001b[0;34m=\u001b[0m\u001b[0;34m'tiempo_ajustado'\u001b[0m\u001b[0;34m,\u001b[0m \u001b[0mindex\u001b[0m\u001b[0;34m=\u001b[0m\u001b[0;34m[\u001b[0m\u001b[0;34m'hora'\u001b[0m\u001b[0;34m]\u001b[0m\u001b[0;34m,\u001b[0m \u001b[0mcolumns\u001b[0m\u001b[0;34m=\u001b[0m\u001b[0;34m[\u001b[0m\u001b[0;34m'dow'\u001b[0m\u001b[0;34m]\u001b[0m\u001b[0;34m,\u001b[0m \u001b[0maggfunc\u001b[0m\u001b[0;34m=\u001b[0m\u001b[0mnp\u001b[0m\u001b[0;34m.\u001b[0m\u001b[0mmean\u001b[0m\u001b[0;34m)\u001b[0m\u001b[0;34m\u001b[0m\u001b[0m\n\u001b[0m",
      "\u001b[0;32m~/anaconda3/lib/python3.6/site-packages/pandas/core/reshape/pivot.py\u001b[0m in \u001b[0;36mpivot_table\u001b[0;34m(data, values, index, columns, aggfunc, fill_value, margins, dropna, margins_name)\u001b[0m\n\u001b[1;32m     80\u001b[0m         \u001b[0mvalues\u001b[0m \u001b[0;34m=\u001b[0m \u001b[0mlist\u001b[0m\u001b[0;34m(\u001b[0m\u001b[0mvalues\u001b[0m\u001b[0;34m)\u001b[0m\u001b[0;34m\u001b[0m\u001b[0m\n\u001b[1;32m     81\u001b[0m \u001b[0;34m\u001b[0m\u001b[0m\n\u001b[0;32m---> 82\u001b[0;31m     \u001b[0mgrouped\u001b[0m \u001b[0;34m=\u001b[0m \u001b[0mdata\u001b[0m\u001b[0;34m.\u001b[0m\u001b[0mgroupby\u001b[0m\u001b[0;34m(\u001b[0m\u001b[0mkeys\u001b[0m\u001b[0;34m,\u001b[0m \u001b[0mobserved\u001b[0m\u001b[0;34m=\u001b[0m\u001b[0mdropna\u001b[0m\u001b[0;34m)\u001b[0m\u001b[0;34m\u001b[0m\u001b[0m\n\u001b[0m\u001b[1;32m     83\u001b[0m     \u001b[0magged\u001b[0m \u001b[0;34m=\u001b[0m \u001b[0mgrouped\u001b[0m\u001b[0;34m.\u001b[0m\u001b[0magg\u001b[0m\u001b[0;34m(\u001b[0m\u001b[0maggfunc\u001b[0m\u001b[0;34m)\u001b[0m\u001b[0;34m\u001b[0m\u001b[0m\n\u001b[1;32m     84\u001b[0m \u001b[0;34m\u001b[0m\u001b[0m\n",
      "\u001b[0;32m~/anaconda3/lib/python3.6/site-packages/pandas/core/generic.py\u001b[0m in \u001b[0;36mgroupby\u001b[0;34m(self, by, axis, level, as_index, sort, group_keys, squeeze, observed, **kwargs)\u001b[0m\n\u001b[1;32m   6657\u001b[0m         return groupby(self, by=by, axis=axis, level=level, as_index=as_index,\n\u001b[1;32m   6658\u001b[0m                        \u001b[0msort\u001b[0m\u001b[0;34m=\u001b[0m\u001b[0msort\u001b[0m\u001b[0;34m,\u001b[0m \u001b[0mgroup_keys\u001b[0m\u001b[0;34m=\u001b[0m\u001b[0mgroup_keys\u001b[0m\u001b[0;34m,\u001b[0m \u001b[0msqueeze\u001b[0m\u001b[0;34m=\u001b[0m\u001b[0msqueeze\u001b[0m\u001b[0;34m,\u001b[0m\u001b[0;34m\u001b[0m\u001b[0m\n\u001b[0;32m-> 6659\u001b[0;31m                        observed=observed, **kwargs)\n\u001b[0m\u001b[1;32m   6660\u001b[0m \u001b[0;34m\u001b[0m\u001b[0m\n\u001b[1;32m   6661\u001b[0m     def asfreq(self, freq, method=None, how=None, normalize=False,\n",
      "\u001b[0;32m~/anaconda3/lib/python3.6/site-packages/pandas/core/groupby/groupby.py\u001b[0m in \u001b[0;36mgroupby\u001b[0;34m(obj, by, **kwds)\u001b[0m\n\u001b[1;32m   2150\u001b[0m         \u001b[0;32mraise\u001b[0m \u001b[0mTypeError\u001b[0m\u001b[0;34m(\u001b[0m\u001b[0;34m'invalid type: %s'\u001b[0m \u001b[0;34m%\u001b[0m \u001b[0mtype\u001b[0m\u001b[0;34m(\u001b[0m\u001b[0mobj\u001b[0m\u001b[0;34m)\u001b[0m\u001b[0;34m)\u001b[0m\u001b[0;34m\u001b[0m\u001b[0m\n\u001b[1;32m   2151\u001b[0m \u001b[0;34m\u001b[0m\u001b[0m\n\u001b[0;32m-> 2152\u001b[0;31m     \u001b[0;32mreturn\u001b[0m \u001b[0mklass\u001b[0m\u001b[0;34m(\u001b[0m\u001b[0mobj\u001b[0m\u001b[0;34m,\u001b[0m \u001b[0mby\u001b[0m\u001b[0;34m,\u001b[0m \u001b[0;34m**\u001b[0m\u001b[0mkwds\u001b[0m\u001b[0;34m)\u001b[0m\u001b[0;34m\u001b[0m\u001b[0m\n\u001b[0m\u001b[1;32m   2153\u001b[0m \u001b[0;34m\u001b[0m\u001b[0m\n\u001b[1;32m   2154\u001b[0m \u001b[0;34m\u001b[0m\u001b[0m\n",
      "\u001b[0;32m~/anaconda3/lib/python3.6/site-packages/pandas/core/groupby/groupby.py\u001b[0m in \u001b[0;36m__init__\u001b[0;34m(self, obj, keys, axis, level, grouper, exclusions, selection, as_index, sort, group_keys, squeeze, observed, **kwargs)\u001b[0m\n\u001b[1;32m    597\u001b[0m                                                     \u001b[0msort\u001b[0m\u001b[0;34m=\u001b[0m\u001b[0msort\u001b[0m\u001b[0;34m,\u001b[0m\u001b[0;34m\u001b[0m\u001b[0m\n\u001b[1;32m    598\u001b[0m                                                     \u001b[0mobserved\u001b[0m\u001b[0;34m=\u001b[0m\u001b[0mobserved\u001b[0m\u001b[0;34m,\u001b[0m\u001b[0;34m\u001b[0m\u001b[0m\n\u001b[0;32m--> 599\u001b[0;31m                                                     mutated=self.mutated)\n\u001b[0m\u001b[1;32m    600\u001b[0m \u001b[0;34m\u001b[0m\u001b[0m\n\u001b[1;32m    601\u001b[0m         \u001b[0mself\u001b[0m\u001b[0;34m.\u001b[0m\u001b[0mobj\u001b[0m \u001b[0;34m=\u001b[0m \u001b[0mobj\u001b[0m\u001b[0;34m\u001b[0m\u001b[0m\n",
      "\u001b[0;32m~/anaconda3/lib/python3.6/site-packages/pandas/core/groupby/groupby.py\u001b[0m in \u001b[0;36m_get_grouper\u001b[0;34m(obj, key, axis, level, sort, observed, mutated, validate)\u001b[0m\n\u001b[1;32m   3289\u001b[0m                 \u001b[0min_axis\u001b[0m\u001b[0;34m,\u001b[0m \u001b[0mname\u001b[0m\u001b[0;34m,\u001b[0m \u001b[0mlevel\u001b[0m\u001b[0;34m,\u001b[0m \u001b[0mgpr\u001b[0m \u001b[0;34m=\u001b[0m \u001b[0;32mFalse\u001b[0m\u001b[0;34m,\u001b[0m \u001b[0;32mNone\u001b[0m\u001b[0;34m,\u001b[0m \u001b[0mgpr\u001b[0m\u001b[0;34m,\u001b[0m \u001b[0;32mNone\u001b[0m\u001b[0;34m\u001b[0m\u001b[0m\n\u001b[1;32m   3290\u001b[0m             \u001b[0;32melse\u001b[0m\u001b[0;34m:\u001b[0m\u001b[0;34m\u001b[0m\u001b[0m\n\u001b[0;32m-> 3291\u001b[0;31m                 \u001b[0;32mraise\u001b[0m \u001b[0mKeyError\u001b[0m\u001b[0;34m(\u001b[0m\u001b[0mgpr\u001b[0m\u001b[0;34m)\u001b[0m\u001b[0;34m\u001b[0m\u001b[0m\n\u001b[0m\u001b[1;32m   3292\u001b[0m         \u001b[0;32melif\u001b[0m \u001b[0misinstance\u001b[0m\u001b[0;34m(\u001b[0m\u001b[0mgpr\u001b[0m\u001b[0;34m,\u001b[0m \u001b[0mGrouper\u001b[0m\u001b[0;34m)\u001b[0m \u001b[0;32mand\u001b[0m \u001b[0mgpr\u001b[0m\u001b[0;34m.\u001b[0m\u001b[0mkey\u001b[0m \u001b[0;32mis\u001b[0m \u001b[0;32mnot\u001b[0m \u001b[0;32mNone\u001b[0m\u001b[0;34m:\u001b[0m\u001b[0;34m\u001b[0m\u001b[0m\n\u001b[1;32m   3293\u001b[0m             \u001b[0;31m# Add key to exclusions\u001b[0m\u001b[0;34m\u001b[0m\u001b[0;34m\u001b[0m\u001b[0m\n",
      "\u001b[0;31mKeyError\u001b[0m: 'hora'"
     ]
    }
   ],
   "source": [
    "table = pd.pivot_table(df_grafico, values='tiempo_ajustado', index=['hora'], columns=['dow'], aggfunc=np.mean)"
   ]
  },
  {
   "cell_type": "code",
   "execution_count": 74,
   "metadata": {},
   "outputs": [
    {
     "ename": "NameError",
     "evalue": "name 'table' is not defined",
     "output_type": "error",
     "traceback": [
      "\u001b[0;31m---------------------------------------------------------------------------\u001b[0m",
      "\u001b[0;31mNameError\u001b[0m                                 Traceback (most recent call last)",
      "\u001b[0;32m<ipython-input-74-586ff1d811a0>\u001b[0m in \u001b[0;36m<module>\u001b[0;34m()\u001b[0m\n\u001b[0;32m----> 1\u001b[0;31m \u001b[0msns\u001b[0m\u001b[0;34m.\u001b[0m\u001b[0mheatmap\u001b[0m\u001b[0;34m(\u001b[0m\u001b[0mtable\u001b[0m\u001b[0;34m,\u001b[0m\u001b[0mannot\u001b[0m\u001b[0;34m=\u001b[0m\u001b[0;32mTrue\u001b[0m\u001b[0;34m,\u001b[0m \u001b[0mcmap\u001b[0m\u001b[0;34m=\u001b[0m\u001b[0;34m'coolwarm'\u001b[0m\u001b[0;34m,\u001b[0m \u001b[0mfmt\u001b[0m\u001b[0;34m=\u001b[0m\u001b[0;34m\".1f\"\u001b[0m\u001b[0;34m)\u001b[0m\u001b[0;34m.\u001b[0m\u001b[0mset_title\u001b[0m\u001b[0;34m(\u001b[0m\u001b[0;34m\"Tiempo de entrega por dia/hora\"\u001b[0m\u001b[0;34m)\u001b[0m\u001b[0;34m;\u001b[0m\u001b[0;34m\u001b[0m\u001b[0m\n\u001b[0m",
      "\u001b[0;31mNameError\u001b[0m: name 'table' is not defined"
     ]
    }
   ],
   "source": [
    "sns.heatmap(table,annot=True, cmap='coolwarm', fmt=\".1f\").set_title(\"Tiempo de entrega por dia/hora\");"
   ]
  },
  {
   "cell_type": "markdown",
   "metadata": {},
   "source": [
    "Notamos que diferentes dias tienen diferentes peaks de tiempo de demora, por ejemplo, los dias lunes hay grandes tiempos de entrega entre 15 y 16, y luego entre 18 y 22. Por otro lado, el dia martes tiene altos tiempos de entrega duante la mañana. El dia miercoles a las 21 hrs tiene untiempode espera superlativamente mayor al resto de los dias.\n"
   ]
  },
  {
   "cell_type": "code",
   "execution_count": null,
   "metadata": {},
   "outputs": [],
   "source": []
  }
 ],
 "metadata": {
  "kernelspec": {
   "display_name": "Python 3",
   "language": "python",
   "name": "python3"
  },
  "language_info": {
   "codemirror_mode": {
    "name": "ipython",
    "version": 3
   },
   "file_extension": ".py",
   "mimetype": "text/x-python",
   "name": "python",
   "nbconvert_exporter": "python",
   "pygments_lexer": "ipython3",
   "version": "3.6.5"
  }
 },
 "nbformat": 4,
 "nbformat_minor": 2
}
