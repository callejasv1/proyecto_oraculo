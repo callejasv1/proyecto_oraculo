{
 "cells": [
  {
   "cell_type": "markdown",
   "metadata": {},
   "source": [
    "# Anexos\n",
    "\n",
    "Este apartado contiene en detalle el análisis de datos, preprocesamiento, análisis de exploratorio de las variables de interés junto con su explicación. La función de este anexo es de apoyo al texto principal."
   ]
  },
  {
   "cell_type": "markdown",
   "metadata": {},
   "source": [
    "## Importación de Librerías"
   ]
  },
  {
   "cell_type": "code",
   "execution_count": 1,
   "metadata": {},
   "outputs": [],
   "source": [
    "%matplotlib inline\n",
    "import pandas as pd\n",
    "import numpy as np\n",
    "import matplotlib.pyplot as plt\n",
    "import seaborn as sns\n",
    "from scipy.stats.mstats import winsorize\n",
    "from haversine import haversine, Unit\n",
    "from sklearn.preprocessing import StandardScaler\n",
    "from sklearn.model_selection import train_test_split, GridSearchCV\n",
    "from sklearn.linear_model import LinearRegression, LassoCV, RidgeCV, ElasticNetCV\n",
    "from pygam import LinearGAM\n",
    "from sklearn.tree import DecisionTreeRegressor\n",
    "from sklearn.ensemble import AdaBoostRegressor, RandomForestRegressor\n",
    "from sklearn.metrics import mean_absolute_error, mean_squared_error\n",
    "\n",
    "import warnings\n",
    "warnings.filterwarnings('ignore')\n",
    "\n",
    "plt.style.use('seaborn')"
   ]
  },
  {
   "cell_type": "markdown",
   "metadata": {},
   "source": [
    "## A1 - Analisis de datos\n",
    "\n",
    "El set de datos inicial esta compuesto por cuatros archivos .csv. Los atributos junto con su descripción se presentan a continuación:\n",
    "\n",
    "__Orden_compra__  \n",
    "- id_orden : Identificador del pedido de compra.\n",
    "- Latitud : Dirección de entrega.\n",
    "- Longitud : Dirección de entrega.\n",
    "- Dia : Día de la semana en que se prometió la orden\n",
    "    0: domingo\n",
    "    1: lunes\n",
    "    2: martes\n",
    "    3: miercoles\n",
    "    4: jueves\n",
    "    5: viernes\n",
    "    6: sabado\n",
    "- Promesa : Hora de entrega prometida al cliente.\n",
    "- Entrega : Hora en que se entregó el pedido al cliente.\n",
    "- id_entrega : Si el pedido fue solicitado en “Menos de 90 minutos” o en una ventana horario en el futuro.\n",
    "- id_recolector : Identificador de la persona que recolectó el pedido.\n",
    "- id_trasporte : Identificador de la persona que hizo transporte del pedido.\n",
    "- id_tienda : Identificador del local en que se realizó la compra.\n",
    "- Tiempo : Tiempo total que demoró completar la orden (desde la compra hasta la entrega).\n",
    "\n",
    "__Orden_productos__  \n",
    "- id_orden : Identificador del pedido de compra\n",
    "- id_productos : Identificador del producto.\n",
    "- cant_producto : Cantidad solicitada del producto por el cliente.\n",
    "- cant_encontrada : Cantidad solicitada del producto por el cliente.\n",
    "- Unidad : Formato en que se vendió el producto (Unidades o KG).\n",
    "\n",
    "__Recolector__  \n",
    "- id_recolector : Identificador recolector.\n",
    "- Clasificación_recolector : Clasificación de experiencia recolector.\n",
    "- P_aciertos : Porcentaje histórico de productos que el recolector encontró.\n",
    "- velocidad : Velocidad histórica de recogida de productos.\n",
    "- P_aceptacion : Porcentaje histórico de pedidos aceptado por el recolector.\n",
    "- Score_Recolector : Evaluación del recolector.\n",
    "\n",
    "__Tienda__  \n",
    "- id_tienda : Identificador de la tienda.\n",
    "- tienda : Identificador de la tienda a la cual pertenece de la tienda.\n",
    "- latitud_tienda : Latitud de la ubicación de la tienda.\n",
    "- Longitud_tienda : Longitud de la ubicación de la tienda."
   ]
  },
  {
   "cell_type": "markdown",
   "metadata": {},
   "source": [
    "### A1.1 - Compra"
   ]
  },
  {
   "cell_type": "code",
   "execution_count": 2,
   "metadata": {
    "scrolled": true
   },
   "outputs": [
    {
     "data": {
      "text/html": [
       "<div>\n",
       "<style scoped>\n",
       "    .dataframe tbody tr th:only-of-type {\n",
       "        vertical-align: middle;\n",
       "    }\n",
       "\n",
       "    .dataframe tbody tr th {\n",
       "        vertical-align: top;\n",
       "    }\n",
       "\n",
       "    .dataframe thead th {\n",
       "        text-align: right;\n",
       "    }\n",
       "</style>\n",
       "<table border=\"1\" class=\"dataframe\">\n",
       "  <thead>\n",
       "    <tr style=\"text-align: right;\">\n",
       "      <th></th>\n",
       "      <th>order_id</th>\n",
       "      <th>lat</th>\n",
       "      <th>lng</th>\n",
       "      <th>dow</th>\n",
       "      <th>promised_time</th>\n",
       "      <th>actual_time</th>\n",
       "      <th>on_demand</th>\n",
       "      <th>picker_id</th>\n",
       "      <th>driver_id</th>\n",
       "      <th>store_branch_id</th>\n",
       "      <th>total_minutes</th>\n",
       "    </tr>\n",
       "  </thead>\n",
       "  <tbody>\n",
       "    <tr>\n",
       "      <th>0</th>\n",
       "      <td>6abd5e28d01b7c733fe37485294235dc</td>\n",
       "      <td>1.822.114.109.606.680</td>\n",
       "      <td>-10.031.391.366.664.600</td>\n",
       "      <td>2</td>\n",
       "      <td>13:00:00</td>\n",
       "      <td>12:00:15</td>\n",
       "      <td>False</td>\n",
       "      <td>09bb5bfe76adbb474dddbdd111a51623</td>\n",
       "      <td>09bb5bfe76adbb474dddbdd111a51623</td>\n",
       "      <td>0dc6fb5924a8b917bc641666ed02663c</td>\n",
       "      <td>91.800.861</td>\n",
       "    </tr>\n",
       "    <tr>\n",
       "      <th>1</th>\n",
       "      <td>0d37a1eea001f01b40232ffd496ff663</td>\n",
       "      <td>18.177.712.202.580.300</td>\n",
       "      <td>-10.035.705.073.096.900</td>\n",
       "      <td>2</td>\n",
       "      <td>13:00:00</td>\n",
       "      <td>10:28:10</td>\n",
       "      <td>False</td>\n",
       "      <td>c4c722114a82fa21654e57e9636d68b0</td>\n",
       "      <td>c4c722114a82fa21654e57e9636d68b0</td>\n",
       "      <td>2bbf833e689d24b697f1f3529c3f3c4b</td>\n",
       "      <td>206.599.732</td>\n",
       "    </tr>\n",
       "    <tr>\n",
       "      <th>2</th>\n",
       "      <td>528428e9b9eb5d3bd0dbdd8da692b087</td>\n",
       "      <td>1.826.683.205.404.410</td>\n",
       "      <td>-10.031.755.280.890.600</td>\n",
       "      <td>2</td>\n",
       "      <td>11:00:00</td>\n",
       "      <td>10:40:50</td>\n",
       "      <td>False</td>\n",
       "      <td>e15c7a67d0ea9a54dffb410bc1d8528b</td>\n",
       "      <td>e15c7a67d0ea9a54dffb410bc1d8528b</td>\n",
       "      <td>8d891dfc0e29d744c15c18adced74a68</td>\n",
       "      <td>93.458.001</td>\n",
       "    </tr>\n",
       "    <tr>\n",
       "      <th>3</th>\n",
       "      <td>d3f7be6d64eae7405b7bf024e04807a2</td>\n",
       "      <td>18.248.884.004.419.400</td>\n",
       "      <td>-1.003.226.215.187.040</td>\n",
       "      <td>2</td>\n",
       "      <td>10:00:00</td>\n",
       "      <td>9:41:47</td>\n",
       "      <td>False</td>\n",
       "      <td>d1f0bd4b237c1358f09db22076b940e7</td>\n",
       "      <td>d1f0bd4b237c1358f09db22076b940e7</td>\n",
       "      <td>0dc6fb5924a8b917bc641666ed02663c</td>\n",
       "      <td>124.778.761</td>\n",
       "    </tr>\n",
       "    <tr>\n",
       "      <th>4</th>\n",
       "      <td>e0ad6533b6cd9a382ec6c1d473c5036c</td>\n",
       "      <td>1.822.911.027.242.010</td>\n",
       "      <td>-10.032.267.241.783.800</td>\n",
       "      <td>2</td>\n",
       "      <td>11:00:00</td>\n",
       "      <td>10:07:53</td>\n",
       "      <td>False</td>\n",
       "      <td>06a71e8ab0c6db5ce22a4689fd76a3f4</td>\n",
       "      <td>06a71e8ab0c6db5ce22a4689fd76a3f4</td>\n",
       "      <td>afd0a7b8d546fcc697bb93a5934b65c3</td>\n",
       "      <td>130.321.208</td>\n",
       "    </tr>\n",
       "  </tbody>\n",
       "</table>\n",
       "</div>"
      ],
      "text/plain": [
       "                           order_id                     lat  \\\n",
       "0  6abd5e28d01b7c733fe37485294235dc   1.822.114.109.606.680   \n",
       "1  0d37a1eea001f01b40232ffd496ff663  18.177.712.202.580.300   \n",
       "2  528428e9b9eb5d3bd0dbdd8da692b087   1.826.683.205.404.410   \n",
       "3  d3f7be6d64eae7405b7bf024e04807a2  18.248.884.004.419.400   \n",
       "4  e0ad6533b6cd9a382ec6c1d473c5036c   1.822.911.027.242.010   \n",
       "\n",
       "                       lng  dow promised_time actual_time  on_demand  \\\n",
       "0  -10.031.391.366.664.600    2      13:00:00    12:00:15      False   \n",
       "1  -10.035.705.073.096.900    2      13:00:00    10:28:10      False   \n",
       "2  -10.031.755.280.890.600    2      11:00:00    10:40:50      False   \n",
       "3   -1.003.226.215.187.040    2      10:00:00     9:41:47      False   \n",
       "4  -10.032.267.241.783.800    2      11:00:00    10:07:53      False   \n",
       "\n",
       "                          picker_id                         driver_id  \\\n",
       "0  09bb5bfe76adbb474dddbdd111a51623  09bb5bfe76adbb474dddbdd111a51623   \n",
       "1  c4c722114a82fa21654e57e9636d68b0  c4c722114a82fa21654e57e9636d68b0   \n",
       "2  e15c7a67d0ea9a54dffb410bc1d8528b  e15c7a67d0ea9a54dffb410bc1d8528b   \n",
       "3  d1f0bd4b237c1358f09db22076b940e7  d1f0bd4b237c1358f09db22076b940e7   \n",
       "4  06a71e8ab0c6db5ce22a4689fd76a3f4  06a71e8ab0c6db5ce22a4689fd76a3f4   \n",
       "\n",
       "                    store_branch_id total_minutes  \n",
       "0  0dc6fb5924a8b917bc641666ed02663c    91.800.861  \n",
       "1  2bbf833e689d24b697f1f3529c3f3c4b   206.599.732  \n",
       "2  8d891dfc0e29d744c15c18adced74a68    93.458.001  \n",
       "3  0dc6fb5924a8b917bc641666ed02663c   124.778.761  \n",
       "4  afd0a7b8d546fcc697bb93a5934b65c3   130.321.208  "
      ]
     },
     "execution_count": 2,
     "metadata": {},
     "output_type": "execute_result"
    }
   ],
   "source": [
    "compra = pd.read_csv('data/1_Orden_compra.csv', sep=';')\n",
    "compra.head()"
   ]
  },
  {
   "cell_type": "code",
   "execution_count": 3,
   "metadata": {},
   "outputs": [
    {
     "data": {
      "text/plain": [
       "False    4225\n",
       "True     3070\n",
       "Name: on_demand, dtype: int64"
      ]
     },
     "execution_count": 3,
     "metadata": {},
     "output_type": "execute_result"
    }
   ],
   "source": [
    "#Variable categorica\n",
    "compra['on_demand'].value_counts()"
   ]
  },
  {
   "cell_type": "code",
   "execution_count": 4,
   "metadata": {},
   "outputs": [],
   "source": [
    "#Se recodifica el atributo Booleano\n",
    "compra['on_demand'] = np.where(compra['on_demand'] == False, 1, 0)"
   ]
  },
  {
   "cell_type": "code",
   "execution_count": 5,
   "metadata": {},
   "outputs": [
    {
     "data": {
      "text/plain": [
       "1    4225\n",
       "0    3070\n",
       "Name: on_demand, dtype: int64"
      ]
     },
     "execution_count": 5,
     "metadata": {},
     "output_type": "execute_result"
    }
   ],
   "source": [
    "compra['on_demand'].value_counts()"
   ]
  },
  {
   "cell_type": "code",
   "execution_count": 6,
   "metadata": {},
   "outputs": [],
   "source": [
    "#Se actualizan los nombres de los atributos en el dataset\n",
    "compra.rename(columns={'order_id':'id_orden', 'lat':'latitud', 'lng':'longitud', 'dow':'dia', 'promised_time':'promesa',\n",
    "                       'actual_time':'entrega', 'on_demand':'id_entrega', 'picker_id':'id_recolector', \n",
    "                       'driver_id':'id_transporte', 'store_branch_id':'id_tienda', 'total_minutes':'tiempo'}, inplace=True)"
   ]
  },
  {
   "cell_type": "code",
   "execution_count": 7,
   "metadata": {
    "scrolled": true
   },
   "outputs": [
    {
     "name": "stdout",
     "output_type": "stream",
     "text": [
      "La cantidad de registros es de: 7295\n",
      "La cantidad de atributos es de: 11\n"
     ]
    }
   ],
   "source": [
    "print(\"La cantidad de registros es de:\", compra.shape[0])\n",
    "print(\"La cantidad de atributos es de:\", compra.shape[1])"
   ]
  },
  {
   "cell_type": "code",
   "execution_count": 8,
   "metadata": {
    "scrolled": false
   },
   "outputs": [
    {
     "data": {
      "text/html": [
       "<div>\n",
       "<style scoped>\n",
       "    .dataframe tbody tr th:only-of-type {\n",
       "        vertical-align: middle;\n",
       "    }\n",
       "\n",
       "    .dataframe tbody tr th {\n",
       "        vertical-align: top;\n",
       "    }\n",
       "\n",
       "    .dataframe thead th {\n",
       "        text-align: right;\n",
       "    }\n",
       "</style>\n",
       "<table border=\"1\" class=\"dataframe\">\n",
       "  <thead>\n",
       "    <tr style=\"text-align: right;\">\n",
       "      <th></th>\n",
       "      <th>Total</th>\n",
       "      <th>Porcentaje (%)</th>\n",
       "    </tr>\n",
       "  </thead>\n",
       "  <tbody>\n",
       "    <tr>\n",
       "      <th>tiempo</th>\n",
       "      <td>752</td>\n",
       "      <td>10.31</td>\n",
       "    </tr>\n",
       "    <tr>\n",
       "      <th>id_tienda</th>\n",
       "      <td>0</td>\n",
       "      <td>0.00</td>\n",
       "    </tr>\n",
       "    <tr>\n",
       "      <th>id_transporte</th>\n",
       "      <td>0</td>\n",
       "      <td>0.00</td>\n",
       "    </tr>\n",
       "    <tr>\n",
       "      <th>id_recolector</th>\n",
       "      <td>0</td>\n",
       "      <td>0.00</td>\n",
       "    </tr>\n",
       "    <tr>\n",
       "      <th>id_entrega</th>\n",
       "      <td>0</td>\n",
       "      <td>0.00</td>\n",
       "    </tr>\n",
       "    <tr>\n",
       "      <th>entrega</th>\n",
       "      <td>0</td>\n",
       "      <td>0.00</td>\n",
       "    </tr>\n",
       "    <tr>\n",
       "      <th>promesa</th>\n",
       "      <td>0</td>\n",
       "      <td>0.00</td>\n",
       "    </tr>\n",
       "    <tr>\n",
       "      <th>dia</th>\n",
       "      <td>0</td>\n",
       "      <td>0.00</td>\n",
       "    </tr>\n",
       "    <tr>\n",
       "      <th>longitud</th>\n",
       "      <td>0</td>\n",
       "      <td>0.00</td>\n",
       "    </tr>\n",
       "    <tr>\n",
       "      <th>latitud</th>\n",
       "      <td>0</td>\n",
       "      <td>0.00</td>\n",
       "    </tr>\n",
       "    <tr>\n",
       "      <th>id_orden</th>\n",
       "      <td>0</td>\n",
       "      <td>0.00</td>\n",
       "    </tr>\n",
       "  </tbody>\n",
       "</table>\n",
       "</div>"
      ],
      "text/plain": [
       "               Total  Porcentaje (%)\n",
       "tiempo           752           10.31\n",
       "id_tienda          0            0.00\n",
       "id_transporte      0            0.00\n",
       "id_recolector      0            0.00\n",
       "id_entrega         0            0.00\n",
       "entrega            0            0.00\n",
       "promesa            0            0.00\n",
       "dia                0            0.00\n",
       "longitud           0            0.00\n",
       "latitud            0            0.00\n",
       "id_orden           0            0.00"
      ]
     },
     "execution_count": 8,
     "metadata": {},
     "output_type": "execute_result"
    }
   ],
   "source": [
    "#Se hace una tabla para observar los missing values\n",
    "total = compra.isnull().sum().sort_values(ascending=False)\n",
    "percent = round((compra.isnull().sum() / compra.isnull().count()) * 100, 2).sort_values(ascending=False)\n",
    "missing_values = pd.concat([total, percent], axis=1, keys=['Total', 'Porcentaje (%)'])\n",
    "missing_values"
   ]
  },
  {
   "cell_type": "markdown",
   "metadata": {},
   "source": [
    "Se puede apreciar que en este dataset sólo el atributo `tiempo` contiene datos perdidos, con un monto de __752__ registros, los cuales representan el __10.31%__ de la data, por tal motivo se hará una eliminación de dichos datos, el motivo es que este atributo es nuestra variable objetivo y no queremos que se vea afectada por ningún motivo."
   ]
  },
  {
   "cell_type": "code",
   "execution_count": 9,
   "metadata": {},
   "outputs": [],
   "source": [
    "compra.dropna(inplace=True)"
   ]
  },
  {
   "cell_type": "code",
   "execution_count": 10,
   "metadata": {},
   "outputs": [
    {
     "name": "stdout",
     "output_type": "stream",
     "text": [
      "La cantidad de registros es de: 6543\n",
      "La cantidad de atributos es de: 11\n"
     ]
    }
   ],
   "source": [
    "print(\"La cantidad de registros es de:\", compra.shape[0])\n",
    "print(\"La cantidad de atributos es de:\", compra.shape[1])"
   ]
  },
  {
   "cell_type": "markdown",
   "metadata": {},
   "source": [
    "### A1.2 - Productos"
   ]
  },
  {
   "cell_type": "code",
   "execution_count": 11,
   "metadata": {
    "scrolled": false
   },
   "outputs": [
    {
     "data": {
      "text/html": [
       "<div>\n",
       "<style scoped>\n",
       "    .dataframe tbody tr th:only-of-type {\n",
       "        vertical-align: middle;\n",
       "    }\n",
       "\n",
       "    .dataframe tbody tr th {\n",
       "        vertical-align: top;\n",
       "    }\n",
       "\n",
       "    .dataframe thead th {\n",
       "        text-align: right;\n",
       "    }\n",
       "</style>\n",
       "<table border=\"1\" class=\"dataframe\">\n",
       "  <thead>\n",
       "    <tr style=\"text-align: right;\">\n",
       "      <th></th>\n",
       "      <th>order_id</th>\n",
       "      <th>product_id</th>\n",
       "      <th>quantity</th>\n",
       "      <th>quantity_found</th>\n",
       "      <th>buy_unit</th>\n",
       "    </tr>\n",
       "  </thead>\n",
       "  <tbody>\n",
       "    <tr>\n",
       "      <th>0</th>\n",
       "      <td>bdfc44fb525986b7bab8c589fc47e853</td>\n",
       "      <td>ab9757d9892b0e83ab3a1c1af0c84c52</td>\n",
       "      <td>0.75</td>\n",
       "      <td>0.155</td>\n",
       "      <td>KG</td>\n",
       "    </tr>\n",
       "    <tr>\n",
       "      <th>1</th>\n",
       "      <td>bdfc44fb525986b7bab8c589fc47e853</td>\n",
       "      <td>f1f042251bf634d44f338fbaf13b16e4</td>\n",
       "      <td>0.3</td>\n",
       "      <td>0.400</td>\n",
       "      <td>KG</td>\n",
       "    </tr>\n",
       "    <tr>\n",
       "      <th>2</th>\n",
       "      <td>bdfc44fb525986b7bab8c589fc47e853</td>\n",
       "      <td>0630d47440965509b0b3f80fd1b3578f</td>\n",
       "      <td>1</td>\n",
       "      <td>1.000</td>\n",
       "      <td>UN</td>\n",
       "    </tr>\n",
       "    <tr>\n",
       "      <th>3</th>\n",
       "      <td>bdfc44fb525986b7bab8c589fc47e853</td>\n",
       "      <td>9dd69b1f300666d5573e3a9934f2e03e</td>\n",
       "      <td>2</td>\n",
       "      <td>2.000</td>\n",
       "      <td>UN</td>\n",
       "    </tr>\n",
       "    <tr>\n",
       "      <th>4</th>\n",
       "      <td>bdfc44fb525986b7bab8c589fc47e853</td>\n",
       "      <td>3dfcdbe308bde67370649dd875f2507b</td>\n",
       "      <td>1</td>\n",
       "      <td>1.000</td>\n",
       "      <td>UN</td>\n",
       "    </tr>\n",
       "  </tbody>\n",
       "</table>\n",
       "</div>"
      ],
      "text/plain": [
       "                           order_id                        product_id  \\\n",
       "0  bdfc44fb525986b7bab8c589fc47e853  ab9757d9892b0e83ab3a1c1af0c84c52   \n",
       "1  bdfc44fb525986b7bab8c589fc47e853  f1f042251bf634d44f338fbaf13b16e4   \n",
       "2  bdfc44fb525986b7bab8c589fc47e853  0630d47440965509b0b3f80fd1b3578f   \n",
       "3  bdfc44fb525986b7bab8c589fc47e853  9dd69b1f300666d5573e3a9934f2e03e   \n",
       "4  bdfc44fb525986b7bab8c589fc47e853  3dfcdbe308bde67370649dd875f2507b   \n",
       "\n",
       "  quantity  quantity_found buy_unit  \n",
       "0     0.75           0.155       KG  \n",
       "1      0.3           0.400       KG  \n",
       "2        1           1.000       UN  \n",
       "3        2           2.000       UN  \n",
       "4        1           1.000       UN  "
      ]
     },
     "execution_count": 11,
     "metadata": {},
     "output_type": "execute_result"
    }
   ],
   "source": [
    "productos = pd.read_csv('data/2_Orden_productos.csv', sep=';')\n",
    "productos.head()"
   ]
  },
  {
   "cell_type": "code",
   "execution_count": 12,
   "metadata": {},
   "outputs": [],
   "source": [
    "#Se actualiza el nombre del atributo que identifica la orden de compra\n",
    "productos.rename(columns={'order_id':'id_orden'}, inplace=True)"
   ]
  },
  {
   "cell_type": "code",
   "execution_count": 13,
   "metadata": {},
   "outputs": [
    {
     "name": "stdout",
     "output_type": "stream",
     "text": [
      "La cantidad de registros es de: 120876\n",
      "La cantidad de atributos es de: 5\n"
     ]
    }
   ],
   "source": [
    "print(\"La cantidad de registros es de:\", productos.shape[0])\n",
    "print(\"La cantidad de atributos es de:\", productos.shape[1])"
   ]
  },
  {
   "cell_type": "markdown",
   "metadata": {},
   "source": [
    "No se encontraron datos perdidos en este dataset."
   ]
  },
  {
   "cell_type": "code",
   "execution_count": 14,
   "metadata": {
    "scrolled": true
   },
   "outputs": [
    {
     "data": {
      "text/plain": [
       "id_orden          False\n",
       "product_id        False\n",
       "quantity          False\n",
       "quantity_found    False\n",
       "buy_unit          False\n",
       "dtype: bool"
      ]
     },
     "execution_count": 14,
     "metadata": {},
     "output_type": "execute_result"
    }
   ],
   "source": [
    "productos.isnull().any()"
   ]
  },
  {
   "cell_type": "markdown",
   "metadata": {},
   "source": [
    "Se procederá a separar aquellos productos que se pesan y se contabilizan como 1, los que son por unidad mantendremos la cantidad. \n",
    "El objetivo de esta segmentación es posteriormente tener una columna de productos que son pesado y otras que son por unidad, ya que para este caso sólo nos importa la cantidad total de productos (pesados y por unidad) por orden, si bien tenemos un código de producto por el momento no podremos determinar el tipo de producto, si tendríamos esa información disponible podríamos determinar que productos que son pesados pueden influenciar más o menos en el tiempo de entrega, así que, nos concentraremos en la cantidad de productos por orden."
   ]
  },
  {
   "cell_type": "code",
   "execution_count": 15,
   "metadata": {},
   "outputs": [],
   "source": [
    "#Creamos una columna de tipo bandera, para determinar que las cantidades que están en el atributo quantity,\n",
    "#correspondan con su respectiva unidad\n",
    "productos['cantidad_ajustada'] = np.where(productos['buy_unit'] == 'KG' , 1, productos['quantity'])\n",
    "productos['cantidad_ajustada'] = pd.to_numeric(productos['cantidad_ajustada'])"
   ]
  },
  {
   "cell_type": "markdown",
   "metadata": {},
   "source": [
    "Para este caso cuando se evaluó la columna de \"tipo bandera\"--> `cantidad_ajustada`, se pudo apreciar que teníamos 2 casos anómalos ya que acá todos los valores tenían que ser entero y descubrimos que existen 2 casos donde en la columna `quantity` hay valores decimales y en la columna `buy_unit` su valor es __UN__ representando esto como Unidad, cuando en realidad es de tipo __KG__, se prodecerá a actualizar estos registros y volver a actualizar la columna `cantidad_ajustada`."
   ]
  },
  {
   "cell_type": "code",
   "execution_count": 16,
   "metadata": {
    "scrolled": true
   },
   "outputs": [
    {
     "data": {
      "text/html": [
       "<div>\n",
       "<style scoped>\n",
       "    .dataframe tbody tr th:only-of-type {\n",
       "        vertical-align: middle;\n",
       "    }\n",
       "\n",
       "    .dataframe tbody tr th {\n",
       "        vertical-align: top;\n",
       "    }\n",
       "\n",
       "    .dataframe thead th {\n",
       "        text-align: right;\n",
       "    }\n",
       "</style>\n",
       "<table border=\"1\" class=\"dataframe\">\n",
       "  <thead>\n",
       "    <tr style=\"text-align: right;\">\n",
       "      <th></th>\n",
       "      <th>id_orden</th>\n",
       "      <th>product_id</th>\n",
       "      <th>quantity</th>\n",
       "      <th>quantity_found</th>\n",
       "      <th>buy_unit</th>\n",
       "      <th>cantidad_ajustada</th>\n",
       "    </tr>\n",
       "  </thead>\n",
       "  <tbody>\n",
       "    <tr>\n",
       "      <th>29253</th>\n",
       "      <td>7a1be969ec97b66b710f7dc5b80f8a6f</td>\n",
       "      <td>068566a7b65d4093075f13ae383aa3d4</td>\n",
       "      <td>0.09</td>\n",
       "      <td>0.090</td>\n",
       "      <td>UN</td>\n",
       "      <td>0.090</td>\n",
       "    </tr>\n",
       "    <tr>\n",
       "      <th>96244</th>\n",
       "      <td>a5fc3ba3db31ac6a1ea5ddb87dcbc596</td>\n",
       "      <td>e0922ceeaeb05c556c27138d10305932</td>\n",
       "      <td>0.225</td>\n",
       "      <td>0.225</td>\n",
       "      <td>UN</td>\n",
       "      <td>0.225</td>\n",
       "    </tr>\n",
       "  </tbody>\n",
       "</table>\n",
       "</div>"
      ],
      "text/plain": [
       "                               id_orden                        product_id  \\\n",
       "29253  7a1be969ec97b66b710f7dc5b80f8a6f  068566a7b65d4093075f13ae383aa3d4   \n",
       "96244  a5fc3ba3db31ac6a1ea5ddb87dcbc596  e0922ceeaeb05c556c27138d10305932   \n",
       "\n",
       "      quantity  quantity_found buy_unit  cantidad_ajustada  \n",
       "29253     0.09           0.090       UN              0.090  \n",
       "96244    0.225           0.225       UN              0.225  "
      ]
     },
     "execution_count": 16,
     "metadata": {},
     "output_type": "execute_result"
    }
   ],
   "source": [
    "no_KG = productos.loc[(productos['cantidad_ajustada'] == 0.225) | (productos['cantidad_ajustada'] == 0.090)]\n",
    "no_KG.head()"
   ]
  },
  {
   "cell_type": "markdown",
   "metadata": {},
   "source": [
    "Existen par de productos que en la __unidad de compra__ marcan como __\"UN\"__ cuando en realidad son de tipo __\"KG\"__."
   ]
  },
  {
   "cell_type": "code",
   "execution_count": 17,
   "metadata": {},
   "outputs": [],
   "source": [
    "#Se reemplazan esos valores por los verdaderos\n",
    "productos.loc[29253, 'buy_unit'] = 'KG'\n",
    "productos.loc[96244, 'buy_unit'] = 'KG'"
   ]
  },
  {
   "cell_type": "code",
   "execution_count": 18,
   "metadata": {},
   "outputs": [],
   "source": [
    "#Se actualizan los datos\n",
    "productos['cantidad_ajustada'] = np.where(productos['buy_unit'] == 'KG' , 1, productos['quantity'])\n",
    "productos['cantidad_ajustada'] = pd.to_numeric(productos['cantidad_ajustada'])"
   ]
  },
  {
   "cell_type": "markdown",
   "metadata": {},
   "source": [
    "Separamos en tipo de productos: Aquellos que se pesan y aquellos que no, además, crearemos una columna extra que será la cantidad total, conformada por la suma entre los productos sin pesar con los que se pesan."
   ]
  },
  {
   "cell_type": "code",
   "execution_count": 19,
   "metadata": {},
   "outputs": [],
   "source": [
    "tipo = pd.get_dummies(productos['buy_unit'])"
   ]
  },
  {
   "cell_type": "code",
   "execution_count": 20,
   "metadata": {},
   "outputs": [],
   "source": [
    "productos['sin_pesar'] = tipo['UN']\n",
    "productos['pesados'] = tipo ['KG']\n",
    "productos['cantidad_total'] = productos['sin_pesar'] + productos['pesados']\n",
    "productos.drop(columns=['quantity', 'quantity_found', 'buy_unit', 'product_id', 'cantidad_ajustada'], inplace=True)"
   ]
  },
  {
   "cell_type": "code",
   "execution_count": 21,
   "metadata": {},
   "outputs": [],
   "source": [
    "productos_agrupados = productos.groupby(by='id_orden').sum().reset_index()"
   ]
  },
  {
   "cell_type": "code",
   "execution_count": 22,
   "metadata": {},
   "outputs": [
    {
     "data": {
      "text/html": [
       "<div>\n",
       "<style scoped>\n",
       "    .dataframe tbody tr th:only-of-type {\n",
       "        vertical-align: middle;\n",
       "    }\n",
       "\n",
       "    .dataframe tbody tr th {\n",
       "        vertical-align: top;\n",
       "    }\n",
       "\n",
       "    .dataframe thead th {\n",
       "        text-align: right;\n",
       "    }\n",
       "</style>\n",
       "<table border=\"1\" class=\"dataframe\">\n",
       "  <thead>\n",
       "    <tr style=\"text-align: right;\">\n",
       "      <th></th>\n",
       "      <th>id_orden</th>\n",
       "      <th>sin_pesar</th>\n",
       "      <th>pesados</th>\n",
       "      <th>cantidad_total</th>\n",
       "    </tr>\n",
       "  </thead>\n",
       "  <tbody>\n",
       "    <tr>\n",
       "      <th>0</th>\n",
       "      <td>001ef94c50c71cb0e674b6293e9b6068</td>\n",
       "      <td>30</td>\n",
       "      <td>5</td>\n",
       "      <td>35</td>\n",
       "    </tr>\n",
       "    <tr>\n",
       "      <th>1</th>\n",
       "      <td>001f7583bb106a338d09a12a89e54cbd</td>\n",
       "      <td>5</td>\n",
       "      <td>0</td>\n",
       "      <td>5</td>\n",
       "    </tr>\n",
       "    <tr>\n",
       "      <th>2</th>\n",
       "      <td>002b6dcb32fef90ebb1cb691afe6a413</td>\n",
       "      <td>9</td>\n",
       "      <td>0</td>\n",
       "      <td>9</td>\n",
       "    </tr>\n",
       "    <tr>\n",
       "      <th>3</th>\n",
       "      <td>002ebc46f3e40c49044aceb8311df432</td>\n",
       "      <td>3</td>\n",
       "      <td>1</td>\n",
       "      <td>4</td>\n",
       "    </tr>\n",
       "    <tr>\n",
       "      <th>4</th>\n",
       "      <td>002f97bd7dad0d275d8511436c18b572</td>\n",
       "      <td>7</td>\n",
       "      <td>4</td>\n",
       "      <td>11</td>\n",
       "    </tr>\n",
       "  </tbody>\n",
       "</table>\n",
       "</div>"
      ],
      "text/plain": [
       "                           id_orden  sin_pesar  pesados  cantidad_total\n",
       "0  001ef94c50c71cb0e674b6293e9b6068         30        5              35\n",
       "1  001f7583bb106a338d09a12a89e54cbd          5        0               5\n",
       "2  002b6dcb32fef90ebb1cb691afe6a413          9        0               9\n",
       "3  002ebc46f3e40c49044aceb8311df432          3        1               4\n",
       "4  002f97bd7dad0d275d8511436c18b572          7        4              11"
      ]
     },
     "execution_count": 22,
     "metadata": {},
     "output_type": "execute_result"
    }
   ],
   "source": [
    "productos_agrupados.head()"
   ]
  },
  {
   "cell_type": "markdown",
   "metadata": {},
   "source": [
    "Finalmente, se hizo una agrupación del dataframe por número de orden, así consideramos solamente los productos que son pesado y los que no son pesados y la suma total de ellos."
   ]
  },
  {
   "cell_type": "markdown",
   "metadata": {},
   "source": [
    "### A1.3 - Recolector"
   ]
  },
  {
   "cell_type": "code",
   "execution_count": 23,
   "metadata": {},
   "outputs": [
    {
     "data": {
      "text/html": [
       "<div>\n",
       "<style scoped>\n",
       "    .dataframe tbody tr th:only-of-type {\n",
       "        vertical-align: middle;\n",
       "    }\n",
       "\n",
       "    .dataframe tbody tr th {\n",
       "        vertical-align: top;\n",
       "    }\n",
       "\n",
       "    .dataframe thead th {\n",
       "        text-align: right;\n",
       "    }\n",
       "</style>\n",
       "<table border=\"1\" class=\"dataframe\">\n",
       "  <thead>\n",
       "    <tr style=\"text-align: right;\">\n",
       "      <th></th>\n",
       "      <th>shopper_id</th>\n",
       "      <th>seniority</th>\n",
       "      <th>found_rate</th>\n",
       "      <th>picking_speed</th>\n",
       "      <th>accepted_rate</th>\n",
       "      <th>rating</th>\n",
       "    </tr>\n",
       "  </thead>\n",
       "  <tbody>\n",
       "    <tr>\n",
       "      <th>0</th>\n",
       "      <td>087ab65ceca40dbef697f585dc159d5d</td>\n",
       "      <td>ADVANCED</td>\n",
       "      <td>0.8610</td>\n",
       "      <td>1.64</td>\n",
       "      <td>1.00</td>\n",
       "      <td>4.48</td>\n",
       "    </tr>\n",
       "    <tr>\n",
       "      <th>1</th>\n",
       "      <td>645973c41314d763b58dc2bceeeeffc9</td>\n",
       "      <td>INTERMEDIATE</td>\n",
       "      <td>0.8337</td>\n",
       "      <td>2.83</td>\n",
       "      <td>0.96</td>\n",
       "      <td>4.79</td>\n",
       "    </tr>\n",
       "    <tr>\n",
       "      <th>2</th>\n",
       "      <td>82810715fdda44962e7e422015ea1f32</td>\n",
       "      <td>ADVANCED</td>\n",
       "      <td>0.8681</td>\n",
       "      <td>1.27</td>\n",
       "      <td>0.88</td>\n",
       "      <td>4.84</td>\n",
       "    </tr>\n",
       "    <tr>\n",
       "      <th>3</th>\n",
       "      <td>416aa7dbd5a2f58d7bca96657e8faa1e</td>\n",
       "      <td>INTERMEDIATE</td>\n",
       "      <td>0.8784</td>\n",
       "      <td>2.11</td>\n",
       "      <td>1.00</td>\n",
       "      <td>NaN</td>\n",
       "    </tr>\n",
       "    <tr>\n",
       "      <th>4</th>\n",
       "      <td>27a3e845a4c3eb7ded4748f84140a843</td>\n",
       "      <td>ADVANCED</td>\n",
       "      <td>0.8466</td>\n",
       "      <td>1.50</td>\n",
       "      <td>1.00</td>\n",
       "      <td>4.84</td>\n",
       "    </tr>\n",
       "  </tbody>\n",
       "</table>\n",
       "</div>"
      ],
      "text/plain": [
       "                         shopper_id     seniority  found_rate  picking_speed  \\\n",
       "0  087ab65ceca40dbef697f585dc159d5d      ADVANCED      0.8610           1.64   \n",
       "1  645973c41314d763b58dc2bceeeeffc9  INTERMEDIATE      0.8337           2.83   \n",
       "2  82810715fdda44962e7e422015ea1f32      ADVANCED      0.8681           1.27   \n",
       "3  416aa7dbd5a2f58d7bca96657e8faa1e  INTERMEDIATE      0.8784           2.11   \n",
       "4  27a3e845a4c3eb7ded4748f84140a843      ADVANCED      0.8466           1.50   \n",
       "\n",
       "   accepted_rate  rating  \n",
       "0           1.00    4.48  \n",
       "1           0.96    4.79  \n",
       "2           0.88    4.84  \n",
       "3           1.00     NaN  \n",
       "4           1.00    4.84  "
      ]
     },
     "execution_count": 23,
     "metadata": {},
     "output_type": "execute_result"
    }
   ],
   "source": [
    "recolector = pd.read_csv('data/3_Recolector.csv', sep=\";\")\n",
    "recolector.head()"
   ]
  },
  {
   "cell_type": "code",
   "execution_count": 24,
   "metadata": {},
   "outputs": [
    {
     "name": "stdout",
     "output_type": "stream",
     "text": [
      "La cantidad de registros es de: 600\n",
      "La cantidad de atributos es de: 6\n"
     ]
    }
   ],
   "source": [
    "print(\"La cantidad de registros es de:\", recolector.shape[0])\n",
    "print(\"La cantidad de atributos es de:\", recolector.shape[1])"
   ]
  },
  {
   "cell_type": "code",
   "execution_count": 25,
   "metadata": {},
   "outputs": [],
   "source": [
    "#Se renombran las columnas del dataset\n",
    "recolector.rename(columns={'shopper_id':'id_recolector', 'seniority':'clasificacion_recolector', \n",
    "                           'found_rate':'p_aciertos', 'picking_speed':'velocidad', \n",
    "                           'accepted_rate':'p_aceptacion', 'rating':'score_recolector'}, inplace=True)"
   ]
  },
  {
   "cell_type": "markdown",
   "metadata": {},
   "source": [
    "Tenemos algunos datos perdidos en el dataset por lo que determinaremos la cantidad que representa cada atributo para posteriormente aislar estos casos y analizarlos de una mejor manera."
   ]
  },
  {
   "cell_type": "code",
   "execution_count": 26,
   "metadata": {
    "scrolled": true
   },
   "outputs": [
    {
     "data": {
      "text/plain": [
       "id_recolector               False\n",
       "clasificacion_recolector    False\n",
       "p_aciertos                   True\n",
       "velocidad                   False\n",
       "p_aceptacion                 True\n",
       "score_recolector             True\n",
       "dtype: bool"
      ]
     },
     "execution_count": 26,
     "metadata": {},
     "output_type": "execute_result"
    }
   ],
   "source": [
    "recolector.isnull().any()"
   ]
  },
  {
   "cell_type": "code",
   "execution_count": 27,
   "metadata": {},
   "outputs": [
    {
     "data": {
      "text/html": [
       "<div>\n",
       "<style scoped>\n",
       "    .dataframe tbody tr th:only-of-type {\n",
       "        vertical-align: middle;\n",
       "    }\n",
       "\n",
       "    .dataframe tbody tr th {\n",
       "        vertical-align: top;\n",
       "    }\n",
       "\n",
       "    .dataframe thead th {\n",
       "        text-align: right;\n",
       "    }\n",
       "</style>\n",
       "<table border=\"1\" class=\"dataframe\">\n",
       "  <thead>\n",
       "    <tr style=\"text-align: right;\">\n",
       "      <th></th>\n",
       "      <th>Total</th>\n",
       "      <th>Porcentaje (%)</th>\n",
       "    </tr>\n",
       "  </thead>\n",
       "  <tbody>\n",
       "    <tr>\n",
       "      <th>p_aciertos</th>\n",
       "      <td>36</td>\n",
       "      <td>6.00</td>\n",
       "    </tr>\n",
       "    <tr>\n",
       "      <th>score_recolector</th>\n",
       "      <td>34</td>\n",
       "      <td>5.67</td>\n",
       "    </tr>\n",
       "    <tr>\n",
       "      <th>p_aceptacion</th>\n",
       "      <td>6</td>\n",
       "      <td>1.00</td>\n",
       "    </tr>\n",
       "    <tr>\n",
       "      <th>velocidad</th>\n",
       "      <td>0</td>\n",
       "      <td>0.00</td>\n",
       "    </tr>\n",
       "    <tr>\n",
       "      <th>clasificacion_recolector</th>\n",
       "      <td>0</td>\n",
       "      <td>0.00</td>\n",
       "    </tr>\n",
       "    <tr>\n",
       "      <th>id_recolector</th>\n",
       "      <td>0</td>\n",
       "      <td>0.00</td>\n",
       "    </tr>\n",
       "  </tbody>\n",
       "</table>\n",
       "</div>"
      ],
      "text/plain": [
       "                          Total  Porcentaje (%)\n",
       "p_aciertos                   36            6.00\n",
       "score_recolector             34            5.67\n",
       "p_aceptacion                  6            1.00\n",
       "velocidad                     0            0.00\n",
       "clasificacion_recolector      0            0.00\n",
       "id_recolector                 0            0.00"
      ]
     },
     "execution_count": 27,
     "metadata": {},
     "output_type": "execute_result"
    }
   ],
   "source": [
    "total = recolector.isnull().sum().sort_values(ascending=False)\n",
    "percent = round((recolector.isnull().sum() / recolector.isnull().count()) * 100, 2).sort_values(ascending=False)\n",
    "missing_values = pd.concat([total, percent], axis=1, keys=['Total', 'Porcentaje (%)'])\n",
    "missing_values"
   ]
  },
  {
   "cell_type": "markdown",
   "metadata": {},
   "source": [
    "Podemos apreciar que existen __3 atributos__ los cuales tienen algunos datos perdidos, donde se representa en porcentaje la cifra de ellos en c/u. No vamos a eliminarlos hasta cruzar este dataset con los otros y tener el consolidado."
   ]
  },
  {
   "cell_type": "markdown",
   "metadata": {},
   "source": [
    "Para este caso tenemos pocos atributos en nuestro dataset, por lo que emplearemos la técnica `get_dummies` para separar y convertir en nuevos atributos la columna `clasificacion_recolector`, la cual representa la clasificación del recolector y para este caso tenemos sólo __4 tipos__."
   ]
  },
  {
   "cell_type": "code",
   "execution_count": 28,
   "metadata": {},
   "outputs": [
    {
     "data": {
      "text/plain": [
       "ADVANCED        268\n",
       "INTERMEDIATE    204\n",
       "REVIEW           99\n",
       "BEGINNER         29\n",
       "Name: clasificacion_recolector, dtype: int64"
      ]
     },
     "execution_count": 28,
     "metadata": {},
     "output_type": "execute_result"
    }
   ],
   "source": [
    "#Se contabilizan las categorías del atributo 'clasificacion_recolector'\n",
    "recolector['clasificacion_recolector'].value_counts()"
   ]
  },
  {
   "cell_type": "code",
   "execution_count": 29,
   "metadata": {},
   "outputs": [],
   "source": [
    "recolector['seniority_copy'] = recolector['clasificacion_recolector']\n",
    "recolector = pd.get_dummies(recolector, columns=['clasificacion_recolector'], prefix='seniority', prefix_sep='_', \n",
    "                            drop_first=True)"
   ]
  },
  {
   "cell_type": "code",
   "execution_count": 30,
   "metadata": {
    "scrolled": false
   },
   "outputs": [
    {
     "data": {
      "text/html": [
       "<div>\n",
       "<style scoped>\n",
       "    .dataframe tbody tr th:only-of-type {\n",
       "        vertical-align: middle;\n",
       "    }\n",
       "\n",
       "    .dataframe tbody tr th {\n",
       "        vertical-align: top;\n",
       "    }\n",
       "\n",
       "    .dataframe thead th {\n",
       "        text-align: right;\n",
       "    }\n",
       "</style>\n",
       "<table border=\"1\" class=\"dataframe\">\n",
       "  <thead>\n",
       "    <tr style=\"text-align: right;\">\n",
       "      <th></th>\n",
       "      <th>id_recolector</th>\n",
       "      <th>p_aciertos</th>\n",
       "      <th>velocidad</th>\n",
       "      <th>p_aceptacion</th>\n",
       "      <th>score_recolector</th>\n",
       "      <th>seniority_copy</th>\n",
       "      <th>seniority_BEGINNER</th>\n",
       "      <th>seniority_INTERMEDIATE</th>\n",
       "      <th>seniority_REVIEW</th>\n",
       "    </tr>\n",
       "  </thead>\n",
       "  <tbody>\n",
       "    <tr>\n",
       "      <th>0</th>\n",
       "      <td>087ab65ceca40dbef697f585dc159d5d</td>\n",
       "      <td>0.8610</td>\n",
       "      <td>1.64</td>\n",
       "      <td>1.00</td>\n",
       "      <td>4.48</td>\n",
       "      <td>ADVANCED</td>\n",
       "      <td>0</td>\n",
       "      <td>0</td>\n",
       "      <td>0</td>\n",
       "    </tr>\n",
       "    <tr>\n",
       "      <th>1</th>\n",
       "      <td>645973c41314d763b58dc2bceeeeffc9</td>\n",
       "      <td>0.8337</td>\n",
       "      <td>2.83</td>\n",
       "      <td>0.96</td>\n",
       "      <td>4.79</td>\n",
       "      <td>INTERMEDIATE</td>\n",
       "      <td>0</td>\n",
       "      <td>1</td>\n",
       "      <td>0</td>\n",
       "    </tr>\n",
       "    <tr>\n",
       "      <th>2</th>\n",
       "      <td>82810715fdda44962e7e422015ea1f32</td>\n",
       "      <td>0.8681</td>\n",
       "      <td>1.27</td>\n",
       "      <td>0.88</td>\n",
       "      <td>4.84</td>\n",
       "      <td>ADVANCED</td>\n",
       "      <td>0</td>\n",
       "      <td>0</td>\n",
       "      <td>0</td>\n",
       "    </tr>\n",
       "    <tr>\n",
       "      <th>3</th>\n",
       "      <td>416aa7dbd5a2f58d7bca96657e8faa1e</td>\n",
       "      <td>0.8784</td>\n",
       "      <td>2.11</td>\n",
       "      <td>1.00</td>\n",
       "      <td>NaN</td>\n",
       "      <td>INTERMEDIATE</td>\n",
       "      <td>0</td>\n",
       "      <td>1</td>\n",
       "      <td>0</td>\n",
       "    </tr>\n",
       "    <tr>\n",
       "      <th>4</th>\n",
       "      <td>27a3e845a4c3eb7ded4748f84140a843</td>\n",
       "      <td>0.8466</td>\n",
       "      <td>1.50</td>\n",
       "      <td>1.00</td>\n",
       "      <td>4.84</td>\n",
       "      <td>ADVANCED</td>\n",
       "      <td>0</td>\n",
       "      <td>0</td>\n",
       "      <td>0</td>\n",
       "    </tr>\n",
       "  </tbody>\n",
       "</table>\n",
       "</div>"
      ],
      "text/plain": [
       "                      id_recolector  p_aciertos  velocidad  p_aceptacion  \\\n",
       "0  087ab65ceca40dbef697f585dc159d5d      0.8610       1.64          1.00   \n",
       "1  645973c41314d763b58dc2bceeeeffc9      0.8337       2.83          0.96   \n",
       "2  82810715fdda44962e7e422015ea1f32      0.8681       1.27          0.88   \n",
       "3  416aa7dbd5a2f58d7bca96657e8faa1e      0.8784       2.11          1.00   \n",
       "4  27a3e845a4c3eb7ded4748f84140a843      0.8466       1.50          1.00   \n",
       "\n",
       "   score_recolector seniority_copy  seniority_BEGINNER  \\\n",
       "0              4.48       ADVANCED                   0   \n",
       "1              4.79   INTERMEDIATE                   0   \n",
       "2              4.84       ADVANCED                   0   \n",
       "3               NaN   INTERMEDIATE                   0   \n",
       "4              4.84       ADVANCED                   0   \n",
       "\n",
       "   seniority_INTERMEDIATE  seniority_REVIEW  \n",
       "0                       0                 0  \n",
       "1                       1                 0  \n",
       "2                       0                 0  \n",
       "3                       1                 0  \n",
       "4                       0                 0  "
      ]
     },
     "execution_count": 30,
     "metadata": {},
     "output_type": "execute_result"
    }
   ],
   "source": [
    "recolector.head()"
   ]
  },
  {
   "cell_type": "code",
   "execution_count": 31,
   "metadata": {},
   "outputs": [],
   "source": [
    "recolector.rename(columns={'seniority_copy':'clasificacion_recolector'}, inplace=True)"
   ]
  },
  {
   "cell_type": "markdown",
   "metadata": {},
   "source": [
    "### A1.4 - Tiendas"
   ]
  },
  {
   "cell_type": "code",
   "execution_count": 32,
   "metadata": {},
   "outputs": [
    {
     "data": {
      "text/html": [
       "<div>\n",
       "<style scoped>\n",
       "    .dataframe tbody tr th:only-of-type {\n",
       "        vertical-align: middle;\n",
       "    }\n",
       "\n",
       "    .dataframe tbody tr th {\n",
       "        vertical-align: top;\n",
       "    }\n",
       "\n",
       "    .dataframe thead th {\n",
       "        text-align: right;\n",
       "    }\n",
       "</style>\n",
       "<table border=\"1\" class=\"dataframe\">\n",
       "  <thead>\n",
       "    <tr style=\"text-align: right;\">\n",
       "      <th></th>\n",
       "      <th>store_branch_id</th>\n",
       "      <th>store</th>\n",
       "      <th>lat</th>\n",
       "      <th>lng</th>\n",
       "    </tr>\n",
       "  </thead>\n",
       "  <tbody>\n",
       "    <tr>\n",
       "      <th>0</th>\n",
       "      <td>cf0895f1e3beb8164f0a86e6f940ae56</td>\n",
       "      <td>c0b93cf93cf854981b8d6bd849eec4b0</td>\n",
       "      <td>18.160.308.413.602.800</td>\n",
       "      <td>-10.026.067.265.111.100</td>\n",
       "    </tr>\n",
       "    <tr>\n",
       "      <th>1</th>\n",
       "      <td>3ddd4c29cab4178d89d549c6ba65c236</td>\n",
       "      <td>044d56734d20e04984d846dade6d39f3</td>\n",
       "      <td>1.827.282.968.914.450</td>\n",
       "      <td>-10.031.881.435.593.900</td>\n",
       "    </tr>\n",
       "    <tr>\n",
       "      <th>2</th>\n",
       "      <td>e9763f24fd46d0b9e52d423207a87c3c</td>\n",
       "      <td>452ae015bf846e1d2932b7ea15720d64</td>\n",
       "      <td>18.273.494.015.704.800</td>\n",
       "      <td>-10.031.958.539.978.200</td>\n",
       "    </tr>\n",
       "    <tr>\n",
       "      <th>3</th>\n",
       "      <td>49b7d60d6095a9f1129ce798102b62f4</td>\n",
       "      <td>6447951cd071f6f045fd4e6194920926</td>\n",
       "      <td>1.824.774.341.566.610</td>\n",
       "      <td>-10.040.355.771.938.600</td>\n",
       "    </tr>\n",
       "    <tr>\n",
       "      <th>4</th>\n",
       "      <td>8f21cfda17b340aeee062220d0bee8e5</td>\n",
       "      <td>452ae015bf846e1d2932b7ea15720d64</td>\n",
       "      <td>18.203.111.495.565.700</td>\n",
       "      <td>-10.029.771.361.550.100</td>\n",
       "    </tr>\n",
       "  </tbody>\n",
       "</table>\n",
       "</div>"
      ],
      "text/plain": [
       "                    store_branch_id                             store  \\\n",
       "0  cf0895f1e3beb8164f0a86e6f940ae56  c0b93cf93cf854981b8d6bd849eec4b0   \n",
       "1  3ddd4c29cab4178d89d549c6ba65c236  044d56734d20e04984d846dade6d39f3   \n",
       "2  e9763f24fd46d0b9e52d423207a87c3c  452ae015bf846e1d2932b7ea15720d64   \n",
       "3  49b7d60d6095a9f1129ce798102b62f4  6447951cd071f6f045fd4e6194920926   \n",
       "4  8f21cfda17b340aeee062220d0bee8e5  452ae015bf846e1d2932b7ea15720d64   \n",
       "\n",
       "                      lat                      lng  \n",
       "0  18.160.308.413.602.800  -10.026.067.265.111.100  \n",
       "1   1.827.282.968.914.450  -10.031.881.435.593.900  \n",
       "2  18.273.494.015.704.800  -10.031.958.539.978.200  \n",
       "3   1.824.774.341.566.610  -10.040.355.771.938.600  \n",
       "4  18.203.111.495.565.700  -10.029.771.361.550.100  "
      ]
     },
     "execution_count": 32,
     "metadata": {},
     "output_type": "execute_result"
    }
   ],
   "source": [
    "tienda = pd.read_csv('data/4_tienda.csv', sep=';')\n",
    "tienda.head()"
   ]
  },
  {
   "cell_type": "markdown",
   "metadata": {},
   "source": [
    "Podemos apreciar que no tenemos datos perdidos en el dataset."
   ]
  },
  {
   "cell_type": "code",
   "execution_count": 33,
   "metadata": {},
   "outputs": [
    {
     "data": {
      "text/plain": [
       "store_branch_id    False\n",
       "store              False\n",
       "lat                False\n",
       "lng                False\n",
       "dtype: bool"
      ]
     },
     "execution_count": 33,
     "metadata": {},
     "output_type": "execute_result"
    }
   ],
   "source": [
    "tienda.isnull().any()"
   ]
  },
  {
   "cell_type": "code",
   "execution_count": 34,
   "metadata": {},
   "outputs": [
    {
     "name": "stdout",
     "output_type": "stream",
     "text": [
      "La cantidad de registros es de: 113\n",
      "La cantidad de atributos es de: 4\n"
     ]
    }
   ],
   "source": [
    "print(\"La cantidad de registros es de:\", tienda.shape[0])\n",
    "print(\"La cantidad de atributos es de:\", tienda.shape[1])"
   ]
  },
  {
   "cell_type": "code",
   "execution_count": 35,
   "metadata": {},
   "outputs": [],
   "source": [
    "#Se renombran las columnas del dataset\n",
    "tienda.rename(columns={'store_branch_id':'id_tienda', 'store':'tienda', 'lat':'latitud_tienda',\n",
    "                       'lng':'longitud_tienda'}, inplace=True)"
   ]
  },
  {
   "cell_type": "markdown",
   "metadata": {},
   "source": [
    "### A1.5 - Consolidación"
   ]
  },
  {
   "cell_type": "code",
   "execution_count": 36,
   "metadata": {},
   "outputs": [],
   "source": [
    "#Consolidación de los df compra y prodructos\n",
    "df = pd.merge(compra, productos_agrupados, how='left', on='id_orden')"
   ]
  },
  {
   "cell_type": "code",
   "execution_count": 37,
   "metadata": {},
   "outputs": [],
   "source": [
    "#Consolidación del df con recolector\n",
    "df = pd.merge(df, recolector, how='left', on='id_recolector')"
   ]
  },
  {
   "cell_type": "code",
   "execution_count": 38,
   "metadata": {},
   "outputs": [],
   "source": [
    "#consolidación de todos los dataset\n",
    "df = pd.merge(df, tienda, how='left', on='id_tienda')"
   ]
  },
  {
   "cell_type": "code",
   "execution_count": 39,
   "metadata": {},
   "outputs": [
    {
     "name": "stdout",
     "output_type": "stream",
     "text": [
      "La cantidad de registros final es de: 6543\n",
      "La cantidad de atributos final es de: 25\n"
     ]
    }
   ],
   "source": [
    "print(\"La cantidad de registros final es de:\", df.shape[0])\n",
    "print(\"La cantidad de atributos final es de:\", df.shape[1])"
   ]
  },
  {
   "cell_type": "code",
   "execution_count": 40,
   "metadata": {},
   "outputs": [],
   "source": [
    "df.to_csv('data/consolidado.csv', header=True, index=False)"
   ]
  },
  {
   "cell_type": "markdown",
   "metadata": {},
   "source": [
    "Tenemos nuestro dataset consolidado, vamos a proceder a evaluarlo para determinar si hay casos con datos perdidos y/o anómalos, posteriormente se aplicarán más técnicas de recodificación para dejar limpio en su totalidad."
   ]
  },
  {
   "cell_type": "code",
   "execution_count": 41,
   "metadata": {},
   "outputs": [
    {
     "data": {
      "text/html": [
       "<div>\n",
       "<style scoped>\n",
       "    .dataframe tbody tr th:only-of-type {\n",
       "        vertical-align: middle;\n",
       "    }\n",
       "\n",
       "    .dataframe tbody tr th {\n",
       "        vertical-align: top;\n",
       "    }\n",
       "\n",
       "    .dataframe thead th {\n",
       "        text-align: right;\n",
       "    }\n",
       "</style>\n",
       "<table border=\"1\" class=\"dataframe\">\n",
       "  <thead>\n",
       "    <tr style=\"text-align: right;\">\n",
       "      <th></th>\n",
       "      <th>id_orden</th>\n",
       "      <th>latitud</th>\n",
       "      <th>longitud</th>\n",
       "      <th>dia</th>\n",
       "      <th>promesa</th>\n",
       "      <th>entrega</th>\n",
       "      <th>id_entrega</th>\n",
       "      <th>id_recolector</th>\n",
       "      <th>id_transporte</th>\n",
       "      <th>id_tienda</th>\n",
       "      <th>...</th>\n",
       "      <th>velocidad</th>\n",
       "      <th>p_aceptacion</th>\n",
       "      <th>score_recolector</th>\n",
       "      <th>clasificacion_recolector</th>\n",
       "      <th>seniority_BEGINNER</th>\n",
       "      <th>seniority_INTERMEDIATE</th>\n",
       "      <th>seniority_REVIEW</th>\n",
       "      <th>tienda</th>\n",
       "      <th>latitud_tienda</th>\n",
       "      <th>longitud_tienda</th>\n",
       "    </tr>\n",
       "  </thead>\n",
       "  <tbody>\n",
       "    <tr>\n",
       "      <th>0</th>\n",
       "      <td>6abd5e28d01b7c733fe37485294235dc</td>\n",
       "      <td>1.822.114.109.606.680</td>\n",
       "      <td>-10.031.391.366.664.600</td>\n",
       "      <td>2</td>\n",
       "      <td>13:00:00</td>\n",
       "      <td>12:00:15</td>\n",
       "      <td>1</td>\n",
       "      <td>09bb5bfe76adbb474dddbdd111a51623</td>\n",
       "      <td>09bb5bfe76adbb474dddbdd111a51623</td>\n",
       "      <td>0dc6fb5924a8b917bc641666ed02663c</td>\n",
       "      <td>...</td>\n",
       "      <td>1.56</td>\n",
       "      <td>1.00</td>\n",
       "      <td>4.68</td>\n",
       "      <td>ADVANCED</td>\n",
       "      <td>0</td>\n",
       "      <td>0</td>\n",
       "      <td>0</td>\n",
       "      <td>60e4c4e1c1a8bc79123738227b9d0b08</td>\n",
       "      <td>1.823.190.132.492.320</td>\n",
       "      <td>-1.003.035.533.737.440</td>\n",
       "    </tr>\n",
       "    <tr>\n",
       "      <th>1</th>\n",
       "      <td>0d37a1eea001f01b40232ffd496ff663</td>\n",
       "      <td>18.177.712.202.580.300</td>\n",
       "      <td>-10.035.705.073.096.900</td>\n",
       "      <td>2</td>\n",
       "      <td>13:00:00</td>\n",
       "      <td>10:28:10</td>\n",
       "      <td>1</td>\n",
       "      <td>c4c722114a82fa21654e57e9636d68b0</td>\n",
       "      <td>c4c722114a82fa21654e57e9636d68b0</td>\n",
       "      <td>2bbf833e689d24b697f1f3529c3f3c4b</td>\n",
       "      <td>...</td>\n",
       "      <td>1.14</td>\n",
       "      <td>1.00</td>\n",
       "      <td>4.76</td>\n",
       "      <td>ADVANCED</td>\n",
       "      <td>0</td>\n",
       "      <td>0</td>\n",
       "      <td>0</td>\n",
       "      <td>387d4a5b65cf4bf00ad805c4b00eed01</td>\n",
       "      <td>18.163.960.871.027.900</td>\n",
       "      <td>-10.032.899.405.911.000</td>\n",
       "    </tr>\n",
       "    <tr>\n",
       "      <th>2</th>\n",
       "      <td>528428e9b9eb5d3bd0dbdd8da692b087</td>\n",
       "      <td>1.826.683.205.404.410</td>\n",
       "      <td>-10.031.755.280.890.600</td>\n",
       "      <td>2</td>\n",
       "      <td>11:00:00</td>\n",
       "      <td>10:40:50</td>\n",
       "      <td>1</td>\n",
       "      <td>e15c7a67d0ea9a54dffb410bc1d8528b</td>\n",
       "      <td>e15c7a67d0ea9a54dffb410bc1d8528b</td>\n",
       "      <td>8d891dfc0e29d744c15c18adced74a68</td>\n",
       "      <td>...</td>\n",
       "      <td>2.03</td>\n",
       "      <td>1.00</td>\n",
       "      <td>4.96</td>\n",
       "      <td>INTERMEDIATE</td>\n",
       "      <td>0</td>\n",
       "      <td>1</td>\n",
       "      <td>0</td>\n",
       "      <td>0fae7b61265bc7ca4ce4d81440b62501</td>\n",
       "      <td>1.824.565.541.228.880</td>\n",
       "      <td>-1.003.324.934.760.470</td>\n",
       "    </tr>\n",
       "    <tr>\n",
       "      <th>3</th>\n",
       "      <td>d3f7be6d64eae7405b7bf024e04807a2</td>\n",
       "      <td>18.248.884.004.419.400</td>\n",
       "      <td>-1.003.226.215.187.040</td>\n",
       "      <td>2</td>\n",
       "      <td>10:00:00</td>\n",
       "      <td>9:41:47</td>\n",
       "      <td>1</td>\n",
       "      <td>d1f0bd4b237c1358f09db22076b940e7</td>\n",
       "      <td>d1f0bd4b237c1358f09db22076b940e7</td>\n",
       "      <td>0dc6fb5924a8b917bc641666ed02663c</td>\n",
       "      <td>...</td>\n",
       "      <td>2.06</td>\n",
       "      <td>0.92</td>\n",
       "      <td>4.92</td>\n",
       "      <td>INTERMEDIATE</td>\n",
       "      <td>0</td>\n",
       "      <td>1</td>\n",
       "      <td>0</td>\n",
       "      <td>60e4c4e1c1a8bc79123738227b9d0b08</td>\n",
       "      <td>1.823.190.132.492.320</td>\n",
       "      <td>-1.003.035.533.737.440</td>\n",
       "    </tr>\n",
       "    <tr>\n",
       "      <th>4</th>\n",
       "      <td>e0ad6533b6cd9a382ec6c1d473c5036c</td>\n",
       "      <td>1.822.911.027.242.010</td>\n",
       "      <td>-10.032.267.241.783.800</td>\n",
       "      <td>2</td>\n",
       "      <td>11:00:00</td>\n",
       "      <td>10:07:53</td>\n",
       "      <td>1</td>\n",
       "      <td>06a71e8ab0c6db5ce22a4689fd76a3f4</td>\n",
       "      <td>06a71e8ab0c6db5ce22a4689fd76a3f4</td>\n",
       "      <td>afd0a7b8d546fcc697bb93a5934b65c3</td>\n",
       "      <td>...</td>\n",
       "      <td>1.89</td>\n",
       "      <td>1.00</td>\n",
       "      <td>4.92</td>\n",
       "      <td>ADVANCED</td>\n",
       "      <td>0</td>\n",
       "      <td>0</td>\n",
       "      <td>0</td>\n",
       "      <td>452ae015bf846e1d2932b7ea15720d64</td>\n",
       "      <td>1.823.159.108.764.060</td>\n",
       "      <td>-10.031.450.001.698.800</td>\n",
       "    </tr>\n",
       "  </tbody>\n",
       "</table>\n",
       "<p>5 rows × 25 columns</p>\n",
       "</div>"
      ],
      "text/plain": [
       "                           id_orden                 latitud  \\\n",
       "0  6abd5e28d01b7c733fe37485294235dc   1.822.114.109.606.680   \n",
       "1  0d37a1eea001f01b40232ffd496ff663  18.177.712.202.580.300   \n",
       "2  528428e9b9eb5d3bd0dbdd8da692b087   1.826.683.205.404.410   \n",
       "3  d3f7be6d64eae7405b7bf024e04807a2  18.248.884.004.419.400   \n",
       "4  e0ad6533b6cd9a382ec6c1d473c5036c   1.822.911.027.242.010   \n",
       "\n",
       "                  longitud  dia   promesa   entrega  id_entrega  \\\n",
       "0  -10.031.391.366.664.600    2  13:00:00  12:00:15           1   \n",
       "1  -10.035.705.073.096.900    2  13:00:00  10:28:10           1   \n",
       "2  -10.031.755.280.890.600    2  11:00:00  10:40:50           1   \n",
       "3   -1.003.226.215.187.040    2  10:00:00   9:41:47           1   \n",
       "4  -10.032.267.241.783.800    2  11:00:00  10:07:53           1   \n",
       "\n",
       "                      id_recolector                     id_transporte  \\\n",
       "0  09bb5bfe76adbb474dddbdd111a51623  09bb5bfe76adbb474dddbdd111a51623   \n",
       "1  c4c722114a82fa21654e57e9636d68b0  c4c722114a82fa21654e57e9636d68b0   \n",
       "2  e15c7a67d0ea9a54dffb410bc1d8528b  e15c7a67d0ea9a54dffb410bc1d8528b   \n",
       "3  d1f0bd4b237c1358f09db22076b940e7  d1f0bd4b237c1358f09db22076b940e7   \n",
       "4  06a71e8ab0c6db5ce22a4689fd76a3f4  06a71e8ab0c6db5ce22a4689fd76a3f4   \n",
       "\n",
       "                          id_tienda           ...            velocidad  \\\n",
       "0  0dc6fb5924a8b917bc641666ed02663c           ...                 1.56   \n",
       "1  2bbf833e689d24b697f1f3529c3f3c4b           ...                 1.14   \n",
       "2  8d891dfc0e29d744c15c18adced74a68           ...                 2.03   \n",
       "3  0dc6fb5924a8b917bc641666ed02663c           ...                 2.06   \n",
       "4  afd0a7b8d546fcc697bb93a5934b65c3           ...                 1.89   \n",
       "\n",
       "   p_aceptacion  score_recolector  clasificacion_recolector  \\\n",
       "0          1.00              4.68                  ADVANCED   \n",
       "1          1.00              4.76                  ADVANCED   \n",
       "2          1.00              4.96              INTERMEDIATE   \n",
       "3          0.92              4.92              INTERMEDIATE   \n",
       "4          1.00              4.92                  ADVANCED   \n",
       "\n",
       "   seniority_BEGINNER  seniority_INTERMEDIATE  seniority_REVIEW  \\\n",
       "0                   0                       0                 0   \n",
       "1                   0                       0                 0   \n",
       "2                   0                       1                 0   \n",
       "3                   0                       1                 0   \n",
       "4                   0                       0                 0   \n",
       "\n",
       "                             tienda          latitud_tienda  \\\n",
       "0  60e4c4e1c1a8bc79123738227b9d0b08   1.823.190.132.492.320   \n",
       "1  387d4a5b65cf4bf00ad805c4b00eed01  18.163.960.871.027.900   \n",
       "2  0fae7b61265bc7ca4ce4d81440b62501   1.824.565.541.228.880   \n",
       "3  60e4c4e1c1a8bc79123738227b9d0b08   1.823.190.132.492.320   \n",
       "4  452ae015bf846e1d2932b7ea15720d64   1.823.159.108.764.060   \n",
       "\n",
       "           longitud_tienda  \n",
       "0   -1.003.035.533.737.440  \n",
       "1  -10.032.899.405.911.000  \n",
       "2   -1.003.324.934.760.470  \n",
       "3   -1.003.035.533.737.440  \n",
       "4  -10.031.450.001.698.800  \n",
       "\n",
       "[5 rows x 25 columns]"
      ]
     },
     "execution_count": 41,
     "metadata": {},
     "output_type": "execute_result"
    }
   ],
   "source": [
    "df.head()"
   ]
  },
  {
   "cell_type": "markdown",
   "metadata": {},
   "source": [
    "Existen datos perdidos en el dataset consolidado,vamos a calcular la cantidad en cada atributo, se mostrarán dichos datos en una tabla."
   ]
  },
  {
   "cell_type": "code",
   "execution_count": 42,
   "metadata": {},
   "outputs": [
    {
     "name": "stdout",
     "output_type": "stream",
     "text": [
      "<class 'pandas.core.frame.DataFrame'>\n",
      "Int64Index: 6543 entries, 0 to 6542\n",
      "Data columns (total 25 columns):\n",
      "id_orden                    6543 non-null object\n",
      "latitud                     6543 non-null object\n",
      "longitud                    6543 non-null object\n",
      "dia                         6543 non-null int64\n",
      "promesa                     6543 non-null object\n",
      "entrega                     6543 non-null object\n",
      "id_entrega                  6543 non-null int64\n",
      "id_recolector               6543 non-null object\n",
      "id_transporte               6543 non-null object\n",
      "id_tienda                   6543 non-null object\n",
      "tiempo                      6543 non-null object\n",
      "sin_pesar                   6528 non-null float64\n",
      "pesados                     6528 non-null float64\n",
      "cantidad_total              6528 non-null float64\n",
      "p_aciertos                  6468 non-null float64\n",
      "velocidad                   6543 non-null float64\n",
      "p_aceptacion                6538 non-null float64\n",
      "score_recolector            6473 non-null float64\n",
      "clasificacion_recolector    6543 non-null object\n",
      "seniority_BEGINNER          6543 non-null uint8\n",
      "seniority_INTERMEDIATE      6543 non-null uint8\n",
      "seniority_REVIEW            6543 non-null uint8\n",
      "tienda                      6543 non-null object\n",
      "latitud_tienda              6543 non-null object\n",
      "longitud_tienda             6543 non-null object\n",
      "dtypes: float64(7), int64(2), object(13), uint8(3)\n",
      "memory usage: 1.2+ MB\n"
     ]
    }
   ],
   "source": [
    "df.info()"
   ]
  },
  {
   "cell_type": "markdown",
   "metadata": {},
   "source": [
    "Antes de pasar a realizar nuestro análisis exploratorio y posteriormente el descriptivo, terminaremos de recodificar ciertas variables en nuestro dataset para así asegurar la legibilidad de los datos al momento de implementar la modelación de ellos. En esta ocasión nuestro dataset consolidado está constituido por __latitudes y longitudes__ tanto de los pedidos como de las tiendas, acá vamos a trabajar con la distancia que se genera entre ellos, aplicando una transformación con la librería `haversine`, el resultado nos dará automáticamente en __Kilometros__ ya que viene por defecto en dicha librería."
   ]
  },
  {
   "cell_type": "code",
   "execution_count": 43,
   "metadata": {},
   "outputs": [],
   "source": [
    "#Se crea un dataframe temporal para calcular la distancia\n",
    "distancias = pd.DataFrame()\n",
    "\n",
    "distancias['latitud_x'] = pd.to_numeric(df['latitud'].str.replace('.',''))*100/(10**(df['latitud'].str.replace('.','').apply(len)))\n",
    "distancias['longitud_x'] = (pd.to_numeric(df['longitud'].str.replace('.',''))/(10**(df['longitud'].str.replace('.','').apply(len)))) * 1000\n",
    "\n",
    "distancias['latitud_y'] = pd.to_numeric(df['latitud_tienda'].str.replace('.',''))*100/(10**(df['latitud_tienda'].str.replace('.','').apply(len)))\n",
    "distancias['longitud_y'] = (pd.to_numeric(df['longitud_tienda'].str.replace('.',''))/(10**(df['longitud_tienda'].str.replace('.','').apply(len)))) * 1000\n",
    "\n",
    "df['distancia']= distancias.apply(lambda x: haversine((x['latitud_x'], x['longitud_x']),(x['latitud_y'], x['longitud_y'])), axis=1)"
   ]
  },
  {
   "cell_type": "markdown",
   "metadata": {},
   "source": [
    "Aislamos los datos que tienen un tiempo menor a 25 minutos, para mantener una distribución normal en los datos, esto con el objetivo de hacer una comparación en los resultados que tanto puede afectar las ordenes de compra con dicho tiempo. Estos datos con esta característica en particular son de una cantidad de __657 registros__."
   ]
  },
  {
   "cell_type": "code",
   "execution_count": 44,
   "metadata": {},
   "outputs": [],
   "source": [
    "#Extendemos la vista de las columnas o atributos del dataframe\n",
    "pd.set_option('display.max_columns', 100)"
   ]
  },
  {
   "cell_type": "code",
   "execution_count": 45,
   "metadata": {},
   "outputs": [],
   "source": [
    "#Convertimos la variable tiempo a minutos\n",
    "df['tiempo'] = pd.to_numeric(df.tiempo.str.replace('.',''))/1000000"
   ]
  },
  {
   "cell_type": "code",
   "execution_count": 46,
   "metadata": {},
   "outputs": [],
   "source": [
    "#Creamos un dataframe con el tiempo menor a 25 minutos para tener una distribución casi normal y \n",
    "#modelar sin ellos para posteriormente realizar un análisis\n",
    "p_anomalos = df[df['tiempo'] < 25]"
   ]
  },
  {
   "cell_type": "code",
   "execution_count": 47,
   "metadata": {},
   "outputs": [
    {
     "data": {
      "text/html": [
       "<div>\n",
       "<style scoped>\n",
       "    .dataframe tbody tr th:only-of-type {\n",
       "        vertical-align: middle;\n",
       "    }\n",
       "\n",
       "    .dataframe tbody tr th {\n",
       "        vertical-align: top;\n",
       "    }\n",
       "\n",
       "    .dataframe thead th {\n",
       "        text-align: right;\n",
       "    }\n",
       "</style>\n",
       "<table border=\"1\" class=\"dataframe\">\n",
       "  <thead>\n",
       "    <tr style=\"text-align: right;\">\n",
       "      <th></th>\n",
       "      <th>id_orden</th>\n",
       "      <th>latitud</th>\n",
       "      <th>longitud</th>\n",
       "      <th>dia</th>\n",
       "      <th>promesa</th>\n",
       "      <th>entrega</th>\n",
       "      <th>id_entrega</th>\n",
       "      <th>id_recolector</th>\n",
       "      <th>id_transporte</th>\n",
       "      <th>id_tienda</th>\n",
       "      <th>tiempo</th>\n",
       "      <th>sin_pesar</th>\n",
       "      <th>pesados</th>\n",
       "      <th>cantidad_total</th>\n",
       "      <th>p_aciertos</th>\n",
       "      <th>velocidad</th>\n",
       "      <th>p_aceptacion</th>\n",
       "      <th>score_recolector</th>\n",
       "      <th>clasificacion_recolector</th>\n",
       "      <th>seniority_BEGINNER</th>\n",
       "      <th>seniority_INTERMEDIATE</th>\n",
       "      <th>seniority_REVIEW</th>\n",
       "      <th>tienda</th>\n",
       "      <th>latitud_tienda</th>\n",
       "      <th>longitud_tienda</th>\n",
       "      <th>distancia</th>\n",
       "    </tr>\n",
       "  </thead>\n",
       "  <tbody>\n",
       "    <tr>\n",
       "      <th>8</th>\n",
       "      <td>c1800bdd3c666b497b39d6e526917167</td>\n",
       "      <td>18.220.946.960.795.100</td>\n",
       "      <td>-10.041.727.333.923.400</td>\n",
       "      <td>2</td>\n",
       "      <td>10:00:00</td>\n",
       "      <td>8:46:04</td>\n",
       "      <td>1</td>\n",
       "      <td>a083ea904c55052cdb58917ed790ca96</td>\n",
       "      <td>a083ea904c55052cdb58917ed790ca96</td>\n",
       "      <td>2d69acabaafd2516eeffd3c69b3c1328</td>\n",
       "      <td>0.665212</td>\n",
       "      <td>19.0</td>\n",
       "      <td>1.0</td>\n",
       "      <td>20.0</td>\n",
       "      <td>0.8556</td>\n",
       "      <td>1.50</td>\n",
       "      <td>0.96</td>\n",
       "      <td>4.72</td>\n",
       "      <td>ADVANCED</td>\n",
       "      <td>0</td>\n",
       "      <td>0</td>\n",
       "      <td>0</td>\n",
       "      <td>60e4c4e1c1a8bc79123738227b9d0b08</td>\n",
       "      <td>18.218.347.218.797.100</td>\n",
       "      <td>-10.041.579.255.293.500</td>\n",
       "      <td>0.289501</td>\n",
       "    </tr>\n",
       "    <tr>\n",
       "      <th>12</th>\n",
       "      <td>df5de78cdde5a1fcd3ab2e1854a4b7a0</td>\n",
       "      <td>1.826.850.386.845.330</td>\n",
       "      <td>-10.031.256.569.770.200</td>\n",
       "      <td>2</td>\n",
       "      <td>12:00:00</td>\n",
       "      <td>11:36:23</td>\n",
       "      <td>1</td>\n",
       "      <td>91b508d81eb559e384062d1c046594b9</td>\n",
       "      <td>91b508d81eb559e384062d1c046594b9</td>\n",
       "      <td>8d891dfc0e29d744c15c18adced74a68</td>\n",
       "      <td>1.533419</td>\n",
       "      <td>17.0</td>\n",
       "      <td>3.0</td>\n",
       "      <td>20.0</td>\n",
       "      <td>0.8652</td>\n",
       "      <td>2.43</td>\n",
       "      <td>1.00</td>\n",
       "      <td>5.00</td>\n",
       "      <td>INTERMEDIATE</td>\n",
       "      <td>0</td>\n",
       "      <td>1</td>\n",
       "      <td>0</td>\n",
       "      <td>0fae7b61265bc7ca4ce4d81440b62501</td>\n",
       "      <td>1.824.565.541.228.880</td>\n",
       "      <td>-1.003.324.934.760.470</td>\n",
       "      <td>2.549336</td>\n",
       "    </tr>\n",
       "    <tr>\n",
       "      <th>27</th>\n",
       "      <td>605db8da3965581ea0bf6d56082600bf</td>\n",
       "      <td>18.245.512.889.554.400</td>\n",
       "      <td>-10.040.992.084.939.800</td>\n",
       "      <td>2</td>\n",
       "      <td>10:00:00</td>\n",
       "      <td>8:41:50</td>\n",
       "      <td>1</td>\n",
       "      <td>b7e1166967f3ad4aa76d6090cf099f80</td>\n",
       "      <td>b7e1166967f3ad4aa76d6090cf099f80</td>\n",
       "      <td>afab9a94cf9d3d20ba7192204d5e48b3</td>\n",
       "      <td>5.329401</td>\n",
       "      <td>9.0</td>\n",
       "      <td>0.0</td>\n",
       "      <td>9.0</td>\n",
       "      <td>0.8519</td>\n",
       "      <td>1.69</td>\n",
       "      <td>1.00</td>\n",
       "      <td>4.92</td>\n",
       "      <td>ADVANCED</td>\n",
       "      <td>0</td>\n",
       "      <td>0</td>\n",
       "      <td>0</td>\n",
       "      <td>60e4c4e1c1a8bc79123738227b9d0b08</td>\n",
       "      <td>1.826.087.441.600.350</td>\n",
       "      <td>-1.004.115.704.253.060</td>\n",
       "      <td>1.708215</td>\n",
       "    </tr>\n",
       "    <tr>\n",
       "      <th>28</th>\n",
       "      <td>e1d9a4f57ffe610c5fb453a0ab350ea0</td>\n",
       "      <td>18.245.506.201.052.900</td>\n",
       "      <td>-10.041.015.840.731.400</td>\n",
       "      <td>2</td>\n",
       "      <td>10:00:00</td>\n",
       "      <td>8:44:07</td>\n",
       "      <td>1</td>\n",
       "      <td>056c7cc586dece322e35970ee60234da</td>\n",
       "      <td>056c7cc586dece322e35970ee60234da</td>\n",
       "      <td>7a44728dc60bafc53140a9f5ef7e4e75</td>\n",
       "      <td>4.281824</td>\n",
       "      <td>1.0</td>\n",
       "      <td>0.0</td>\n",
       "      <td>1.0</td>\n",
       "      <td>0.8272</td>\n",
       "      <td>2.07</td>\n",
       "      <td>1.00</td>\n",
       "      <td>4.88</td>\n",
       "      <td>INTERMEDIATE</td>\n",
       "      <td>0</td>\n",
       "      <td>1</td>\n",
       "      <td>0</td>\n",
       "      <td>451eb58b96f0a36f31d2beebd1c9a7a8</td>\n",
       "      <td>18.265.531.115.122.400</td>\n",
       "      <td>-10.041.410.817.239.000</td>\n",
       "      <td>2.227063</td>\n",
       "    </tr>\n",
       "    <tr>\n",
       "      <th>52</th>\n",
       "      <td>b145ee8b457318dc87e334379e9e61f7</td>\n",
       "      <td>1.822.428.085.969.520</td>\n",
       "      <td>-10.041.237.791.251.600</td>\n",
       "      <td>2</td>\n",
       "      <td>11:00:00</td>\n",
       "      <td>10:51:25</td>\n",
       "      <td>1</td>\n",
       "      <td>8b59adedc5c1ea8defcc5e970fae8322</td>\n",
       "      <td>8b59adedc5c1ea8defcc5e970fae8322</td>\n",
       "      <td>3dd9ae393aa5327edfb27388758436bd</td>\n",
       "      <td>9.662399</td>\n",
       "      <td>4.0</td>\n",
       "      <td>0.0</td>\n",
       "      <td>4.0</td>\n",
       "      <td>0.8471</td>\n",
       "      <td>1.50</td>\n",
       "      <td>1.00</td>\n",
       "      <td>4.64</td>\n",
       "      <td>ADVANCED</td>\n",
       "      <td>0</td>\n",
       "      <td>0</td>\n",
       "      <td>0</td>\n",
       "      <td>0fae7b61265bc7ca4ce4d81440b62501</td>\n",
       "      <td>1.826.223.164.590.900</td>\n",
       "      <td>-1.004.150.072.862.420</td>\n",
       "      <td>4.220032</td>\n",
       "    </tr>\n",
       "  </tbody>\n",
       "</table>\n",
       "</div>"
      ],
      "text/plain": [
       "                            id_orden                 latitud  \\\n",
       "8   c1800bdd3c666b497b39d6e526917167  18.220.946.960.795.100   \n",
       "12  df5de78cdde5a1fcd3ab2e1854a4b7a0   1.826.850.386.845.330   \n",
       "27  605db8da3965581ea0bf6d56082600bf  18.245.512.889.554.400   \n",
       "28  e1d9a4f57ffe610c5fb453a0ab350ea0  18.245.506.201.052.900   \n",
       "52  b145ee8b457318dc87e334379e9e61f7   1.822.428.085.969.520   \n",
       "\n",
       "                   longitud  dia   promesa   entrega  id_entrega  \\\n",
       "8   -10.041.727.333.923.400    2  10:00:00   8:46:04           1   \n",
       "12  -10.031.256.569.770.200    2  12:00:00  11:36:23           1   \n",
       "27  -10.040.992.084.939.800    2  10:00:00   8:41:50           1   \n",
       "28  -10.041.015.840.731.400    2  10:00:00   8:44:07           1   \n",
       "52  -10.041.237.791.251.600    2  11:00:00  10:51:25           1   \n",
       "\n",
       "                       id_recolector                     id_transporte  \\\n",
       "8   a083ea904c55052cdb58917ed790ca96  a083ea904c55052cdb58917ed790ca96   \n",
       "12  91b508d81eb559e384062d1c046594b9  91b508d81eb559e384062d1c046594b9   \n",
       "27  b7e1166967f3ad4aa76d6090cf099f80  b7e1166967f3ad4aa76d6090cf099f80   \n",
       "28  056c7cc586dece322e35970ee60234da  056c7cc586dece322e35970ee60234da   \n",
       "52  8b59adedc5c1ea8defcc5e970fae8322  8b59adedc5c1ea8defcc5e970fae8322   \n",
       "\n",
       "                           id_tienda    tiempo  sin_pesar  pesados  \\\n",
       "8   2d69acabaafd2516eeffd3c69b3c1328  0.665212       19.0      1.0   \n",
       "12  8d891dfc0e29d744c15c18adced74a68  1.533419       17.0      3.0   \n",
       "27  afab9a94cf9d3d20ba7192204d5e48b3  5.329401        9.0      0.0   \n",
       "28  7a44728dc60bafc53140a9f5ef7e4e75  4.281824        1.0      0.0   \n",
       "52  3dd9ae393aa5327edfb27388758436bd  9.662399        4.0      0.0   \n",
       "\n",
       "    cantidad_total  p_aciertos  velocidad  p_aceptacion  score_recolector  \\\n",
       "8             20.0      0.8556       1.50          0.96              4.72   \n",
       "12            20.0      0.8652       2.43          1.00              5.00   \n",
       "27             9.0      0.8519       1.69          1.00              4.92   \n",
       "28             1.0      0.8272       2.07          1.00              4.88   \n",
       "52             4.0      0.8471       1.50          1.00              4.64   \n",
       "\n",
       "   clasificacion_recolector  seniority_BEGINNER  seniority_INTERMEDIATE  \\\n",
       "8                  ADVANCED                   0                       0   \n",
       "12             INTERMEDIATE                   0                       1   \n",
       "27                 ADVANCED                   0                       0   \n",
       "28             INTERMEDIATE                   0                       1   \n",
       "52                 ADVANCED                   0                       0   \n",
       "\n",
       "    seniority_REVIEW                            tienda  \\\n",
       "8                  0  60e4c4e1c1a8bc79123738227b9d0b08   \n",
       "12                 0  0fae7b61265bc7ca4ce4d81440b62501   \n",
       "27                 0  60e4c4e1c1a8bc79123738227b9d0b08   \n",
       "28                 0  451eb58b96f0a36f31d2beebd1c9a7a8   \n",
       "52                 0  0fae7b61265bc7ca4ce4d81440b62501   \n",
       "\n",
       "            latitud_tienda          longitud_tienda  distancia  \n",
       "8   18.218.347.218.797.100  -10.041.579.255.293.500   0.289501  \n",
       "12   1.824.565.541.228.880   -1.003.324.934.760.470   2.549336  \n",
       "27   1.826.087.441.600.350   -1.004.115.704.253.060   1.708215  \n",
       "28  18.265.531.115.122.400  -10.041.410.817.239.000   2.227063  \n",
       "52   1.826.223.164.590.900   -1.004.150.072.862.420   4.220032  "
      ]
     },
     "execution_count": 47,
     "metadata": {},
     "output_type": "execute_result"
    }
   ],
   "source": [
    "p_anomalos.head()"
   ]
  },
  {
   "cell_type": "markdown",
   "metadata": {},
   "source": [
    "Tenemos un total de 657 registros que tienen tiempo menor igual a 25 minutos, procederemos a eliminarlos."
   ]
  },
  {
   "cell_type": "code",
   "execution_count": 48,
   "metadata": {},
   "outputs": [
    {
     "name": "stdout",
     "output_type": "stream",
     "text": [
      "La cantidad de registros es de: 657\n",
      "La cantidad de atributos es de: 26\n"
     ]
    }
   ],
   "source": [
    "print(\"La cantidad de registros es de:\", p_anomalos.shape[0])\n",
    "print(\"La cantidad de atributos es de:\", p_anomalos.shape[1])"
   ]
  },
  {
   "cell_type": "code",
   "execution_count": 49,
   "metadata": {},
   "outputs": [],
   "source": [
    "#Se hace una copia del dataframe primero, debido a que este nuevo dataframe se harán las imputaciones de\n",
    "#atributos y evaluarlo en nuestros modelos posteriormente también.\n",
    "df_imputados = df.copy()"
   ]
  },
  {
   "cell_type": "code",
   "execution_count": 50,
   "metadata": {},
   "outputs": [],
   "source": [
    "#Se eliminan los registros con un tiempo menor a 25 minutos\n",
    "df.drop( df[ df['tiempo'] < 25 ].index , inplace=True)"
   ]
  },
  {
   "cell_type": "code",
   "execution_count": 51,
   "metadata": {},
   "outputs": [
    {
     "data": {
      "image/png": "[encoded data removed]",
      "text/plain": [
       "<Figure size 576x360 with 1 Axes>"
      ]
     },
     "metadata": {},
     "output_type": "display_data"
    }
   ],
   "source": [
    "plt.figure(figsize=(8, 5))\n",
    "sns.distplot(df['tiempo'])\n",
    "plt.xlabel(\"Tiempo\")\n",
    "plt.title(\"Distribución del tiempo\");"
   ]
  },
  {
   "cell_type": "markdown",
   "metadata": {},
   "source": [
    "Acá podremos observar la cantidad de datos perdidos por atributo y cuanto significa cada uno de ellos en porcentaje; tenemos 6 atributos con datos perdidos, para este caso vamos a imputar 3 de ellos `p_aciertos, score_recolector y p_aceptacion`, la imputación se hará rellenando los valores perdidos con la media de la columna, para efecto en el modelamiento no tendrá ninguno ya que los valores de los registros están concentrados en esa área y no afectaría de manera relevante, además, salvaríamos esos datos para obtener un mejor resultado. A continuación, se detalla el proceso de cada variable:"
   ]
  },
  {
   "cell_type": "code",
   "execution_count": 52,
   "metadata": {},
   "outputs": [
    {
     "data": {
      "text/html": [
       "<div>\n",
       "<style scoped>\n",
       "    .dataframe tbody tr th:only-of-type {\n",
       "        vertical-align: middle;\n",
       "    }\n",
       "\n",
       "    .dataframe tbody tr th {\n",
       "        vertical-align: top;\n",
       "    }\n",
       "\n",
       "    .dataframe thead th {\n",
       "        text-align: right;\n",
       "    }\n",
       "</style>\n",
       "<table border=\"1\" class=\"dataframe\">\n",
       "  <thead>\n",
       "    <tr style=\"text-align: right;\">\n",
       "      <th></th>\n",
       "      <th>Total</th>\n",
       "      <th>Porcentaje (%)</th>\n",
       "    </tr>\n",
       "  </thead>\n",
       "  <tbody>\n",
       "    <tr>\n",
       "      <th>p_aciertos</th>\n",
       "      <td>66</td>\n",
       "      <td>1.12</td>\n",
       "    </tr>\n",
       "    <tr>\n",
       "      <th>score_recolector</th>\n",
       "      <td>63</td>\n",
       "      <td>1.07</td>\n",
       "    </tr>\n",
       "    <tr>\n",
       "      <th>pesados</th>\n",
       "      <td>13</td>\n",
       "      <td>0.22</td>\n",
       "    </tr>\n",
       "    <tr>\n",
       "      <th>cantidad_total</th>\n",
       "      <td>13</td>\n",
       "      <td>0.22</td>\n",
       "    </tr>\n",
       "    <tr>\n",
       "      <th>sin_pesar</th>\n",
       "      <td>13</td>\n",
       "      <td>0.22</td>\n",
       "    </tr>\n",
       "    <tr>\n",
       "      <th>p_aceptacion</th>\n",
       "      <td>5</td>\n",
       "      <td>0.08</td>\n",
       "    </tr>\n",
       "    <tr>\n",
       "      <th>id_tienda</th>\n",
       "      <td>0</td>\n",
       "      <td>0.00</td>\n",
       "    </tr>\n",
       "    <tr>\n",
       "      <th>latitud</th>\n",
       "      <td>0</td>\n",
       "      <td>0.00</td>\n",
       "    </tr>\n",
       "    <tr>\n",
       "      <th>longitud</th>\n",
       "      <td>0</td>\n",
       "      <td>0.00</td>\n",
       "    </tr>\n",
       "    <tr>\n",
       "      <th>dia</th>\n",
       "      <td>0</td>\n",
       "      <td>0.00</td>\n",
       "    </tr>\n",
       "    <tr>\n",
       "      <th>promesa</th>\n",
       "      <td>0</td>\n",
       "      <td>0.00</td>\n",
       "    </tr>\n",
       "    <tr>\n",
       "      <th>entrega</th>\n",
       "      <td>0</td>\n",
       "      <td>0.00</td>\n",
       "    </tr>\n",
       "    <tr>\n",
       "      <th>id_entrega</th>\n",
       "      <td>0</td>\n",
       "      <td>0.00</td>\n",
       "    </tr>\n",
       "    <tr>\n",
       "      <th>id_recolector</th>\n",
       "      <td>0</td>\n",
       "      <td>0.00</td>\n",
       "    </tr>\n",
       "    <tr>\n",
       "      <th>id_transporte</th>\n",
       "      <td>0</td>\n",
       "      <td>0.00</td>\n",
       "    </tr>\n",
       "    <tr>\n",
       "      <th>distancia</th>\n",
       "      <td>0</td>\n",
       "      <td>0.00</td>\n",
       "    </tr>\n",
       "    <tr>\n",
       "      <th>tiempo</th>\n",
       "      <td>0</td>\n",
       "      <td>0.00</td>\n",
       "    </tr>\n",
       "    <tr>\n",
       "      <th>longitud_tienda</th>\n",
       "      <td>0</td>\n",
       "      <td>0.00</td>\n",
       "    </tr>\n",
       "    <tr>\n",
       "      <th>velocidad</th>\n",
       "      <td>0</td>\n",
       "      <td>0.00</td>\n",
       "    </tr>\n",
       "    <tr>\n",
       "      <th>clasificacion_recolector</th>\n",
       "      <td>0</td>\n",
       "      <td>0.00</td>\n",
       "    </tr>\n",
       "    <tr>\n",
       "      <th>seniority_BEGINNER</th>\n",
       "      <td>0</td>\n",
       "      <td>0.00</td>\n",
       "    </tr>\n",
       "    <tr>\n",
       "      <th>seniority_INTERMEDIATE</th>\n",
       "      <td>0</td>\n",
       "      <td>0.00</td>\n",
       "    </tr>\n",
       "    <tr>\n",
       "      <th>seniority_REVIEW</th>\n",
       "      <td>0</td>\n",
       "      <td>0.00</td>\n",
       "    </tr>\n",
       "    <tr>\n",
       "      <th>tienda</th>\n",
       "      <td>0</td>\n",
       "      <td>0.00</td>\n",
       "    </tr>\n",
       "    <tr>\n",
       "      <th>latitud_tienda</th>\n",
       "      <td>0</td>\n",
       "      <td>0.00</td>\n",
       "    </tr>\n",
       "    <tr>\n",
       "      <th>id_orden</th>\n",
       "      <td>0</td>\n",
       "      <td>0.00</td>\n",
       "    </tr>\n",
       "  </tbody>\n",
       "</table>\n",
       "</div>"
      ],
      "text/plain": [
       "                          Total  Porcentaje (%)\n",
       "p_aciertos                   66            1.12\n",
       "score_recolector             63            1.07\n",
       "pesados                      13            0.22\n",
       "cantidad_total               13            0.22\n",
       "sin_pesar                    13            0.22\n",
       "p_aceptacion                  5            0.08\n",
       "id_tienda                     0            0.00\n",
       "latitud                       0            0.00\n",
       "longitud                      0            0.00\n",
       "dia                           0            0.00\n",
       "promesa                       0            0.00\n",
       "entrega                       0            0.00\n",
       "id_entrega                    0            0.00\n",
       "id_recolector                 0            0.00\n",
       "id_transporte                 0            0.00\n",
       "distancia                     0            0.00\n",
       "tiempo                        0            0.00\n",
       "longitud_tienda               0            0.00\n",
       "velocidad                     0            0.00\n",
       "clasificacion_recolector      0            0.00\n",
       "seniority_BEGINNER            0            0.00\n",
       "seniority_INTERMEDIATE        0            0.00\n",
       "seniority_REVIEW              0            0.00\n",
       "tienda                        0            0.00\n",
       "latitud_tienda                0            0.00\n",
       "id_orden                      0            0.00"
      ]
     },
     "execution_count": 52,
     "metadata": {},
     "output_type": "execute_result"
    }
   ],
   "source": [
    "total = df.isnull().sum().sort_values(ascending=False)\n",
    "percent = round((df.isnull().sum() / df.isnull().count()) * 100, 2).sort_values(ascending=False)\n",
    "missing_values = pd.concat([total, percent], axis=1, keys=['Total', 'Porcentaje (%)'])\n",
    "missing_values"
   ]
  },
  {
   "cell_type": "code",
   "execution_count": 53,
   "metadata": {},
   "outputs": [],
   "source": [
    "#Eliminación de los datos perdidos para trabajar con el dataset sin imputar\n",
    "df.dropna(inplace=True)"
   ]
  },
  {
   "cell_type": "code",
   "execution_count": 54,
   "metadata": {},
   "outputs": [
    {
     "data": {
      "text/plain": [
       "id_orden                    False\n",
       "latitud                     False\n",
       "longitud                    False\n",
       "dia                         False\n",
       "promesa                     False\n",
       "entrega                     False\n",
       "id_entrega                  False\n",
       "id_recolector               False\n",
       "id_transporte               False\n",
       "id_tienda                   False\n",
       "tiempo                      False\n",
       "sin_pesar                   False\n",
       "pesados                     False\n",
       "cantidad_total              False\n",
       "p_aciertos                  False\n",
       "velocidad                   False\n",
       "p_aceptacion                False\n",
       "score_recolector            False\n",
       "clasificacion_recolector    False\n",
       "seniority_BEGINNER          False\n",
       "seniority_INTERMEDIATE      False\n",
       "seniority_REVIEW            False\n",
       "tienda                      False\n",
       "latitud_tienda              False\n",
       "longitud_tienda             False\n",
       "distancia                   False\n",
       "dtype: bool"
      ]
     },
     "execution_count": 54,
     "metadata": {},
     "output_type": "execute_result"
    }
   ],
   "source": [
    "df.isnull().any()"
   ]
  },
  {
   "cell_type": "code",
   "execution_count": 55,
   "metadata": {},
   "outputs": [],
   "source": [
    "#Eliminamos las columnas sin relevancia\n",
    "df.drop(columns=['id_orden', 'latitud', 'longitud', 'id_entrega', 'id_recolector', 'id_transporte', \n",
    "                 'id_tienda', 'tienda', 'latitud_tienda', 'longitud_tienda', 'clasificacion_recolector'], \n",
    "        inplace=True)"
   ]
  },
  {
   "cell_type": "markdown",
   "metadata": {},
   "source": [
    "### Dataset para modelar sin imputaciones"
   ]
  },
  {
   "cell_type": "code",
   "execution_count": 56,
   "metadata": {},
   "outputs": [
    {
     "data": {
      "text/html": [
       "<div>\n",
       "<style scoped>\n",
       "    .dataframe tbody tr th:only-of-type {\n",
       "        vertical-align: middle;\n",
       "    }\n",
       "\n",
       "    .dataframe tbody tr th {\n",
       "        vertical-align: top;\n",
       "    }\n",
       "\n",
       "    .dataframe thead th {\n",
       "        text-align: right;\n",
       "    }\n",
       "</style>\n",
       "<table border=\"1\" class=\"dataframe\">\n",
       "  <thead>\n",
       "    <tr style=\"text-align: right;\">\n",
       "      <th></th>\n",
       "      <th>promesa</th>\n",
       "      <th>entrega</th>\n",
       "      <th>tiempo</th>\n",
       "      <th>sin_pesar</th>\n",
       "      <th>pesados</th>\n",
       "      <th>cantidad_total</th>\n",
       "      <th>p_aciertos</th>\n",
       "      <th>velocidad</th>\n",
       "      <th>p_aceptacion</th>\n",
       "      <th>score_recolector</th>\n",
       "      <th>seniority_BEGINNER</th>\n",
       "      <th>seniority_INTERMEDIATE</th>\n",
       "      <th>seniority_REVIEW</th>\n",
       "      <th>distancia</th>\n",
       "      <th>dia</th>\n",
       "      <th>lunes</th>\n",
       "      <th>martes</th>\n",
       "      <th>miercoles</th>\n",
       "      <th>jueves</th>\n",
       "      <th>viernes</th>\n",
       "      <th>sabado</th>\n",
       "    </tr>\n",
       "  </thead>\n",
       "  <tbody>\n",
       "    <tr>\n",
       "      <th>0</th>\n",
       "      <td>13:00:00</td>\n",
       "      <td>12:00:15</td>\n",
       "      <td>91.800861</td>\n",
       "      <td>17.0</td>\n",
       "      <td>10.0</td>\n",
       "      <td>27.0</td>\n",
       "      <td>0.8564</td>\n",
       "      <td>1.56</td>\n",
       "      <td>1.00</td>\n",
       "      <td>4.68</td>\n",
       "      <td>0</td>\n",
       "      <td>0</td>\n",
       "      <td>0</td>\n",
       "      <td>1.201478</td>\n",
       "      <td>2</td>\n",
       "      <td>0</td>\n",
       "      <td>1</td>\n",
       "      <td>0</td>\n",
       "      <td>0</td>\n",
       "      <td>0</td>\n",
       "      <td>0</td>\n",
       "    </tr>\n",
       "    <tr>\n",
       "      <th>1</th>\n",
       "      <td>13:00:00</td>\n",
       "      <td>10:28:10</td>\n",
       "      <td>206.599732</td>\n",
       "      <td>88.0</td>\n",
       "      <td>15.0</td>\n",
       "      <td>103.0</td>\n",
       "      <td>0.8516</td>\n",
       "      <td>1.14</td>\n",
       "      <td>1.00</td>\n",
       "      <td>4.76</td>\n",
       "      <td>0</td>\n",
       "      <td>0</td>\n",
       "      <td>0</td>\n",
       "      <td>1.557546</td>\n",
       "      <td>2</td>\n",
       "      <td>0</td>\n",
       "      <td>1</td>\n",
       "      <td>0</td>\n",
       "      <td>0</td>\n",
       "      <td>0</td>\n",
       "      <td>0</td>\n",
       "    </tr>\n",
       "    <tr>\n",
       "      <th>2</th>\n",
       "      <td>11:00:00</td>\n",
       "      <td>10:40:50</td>\n",
       "      <td>93.458001</td>\n",
       "      <td>6.0</td>\n",
       "      <td>0.0</td>\n",
       "      <td>6.0</td>\n",
       "      <td>0.8337</td>\n",
       "      <td>2.03</td>\n",
       "      <td>1.00</td>\n",
       "      <td>4.96</td>\n",
       "      <td>0</td>\n",
       "      <td>1</td>\n",
       "      <td>0</td>\n",
       "      <td>2.360018</td>\n",
       "      <td>2</td>\n",
       "      <td>0</td>\n",
       "      <td>1</td>\n",
       "      <td>0</td>\n",
       "      <td>0</td>\n",
       "      <td>0</td>\n",
       "      <td>0</td>\n",
       "    </tr>\n",
       "    <tr>\n",
       "      <th>3</th>\n",
       "      <td>10:00:00</td>\n",
       "      <td>9:41:47</td>\n",
       "      <td>124.778761</td>\n",
       "      <td>12.0</td>\n",
       "      <td>5.0</td>\n",
       "      <td>17.0</td>\n",
       "      <td>0.8571</td>\n",
       "      <td>2.06</td>\n",
       "      <td>0.92</td>\n",
       "      <td>4.92</td>\n",
       "      <td>0</td>\n",
       "      <td>1</td>\n",
       "      <td>0</td>\n",
       "      <td>1.899097</td>\n",
       "      <td>2</td>\n",
       "      <td>0</td>\n",
       "      <td>1</td>\n",
       "      <td>0</td>\n",
       "      <td>0</td>\n",
       "      <td>0</td>\n",
       "      <td>0</td>\n",
       "    </tr>\n",
       "    <tr>\n",
       "      <th>4</th>\n",
       "      <td>11:00:00</td>\n",
       "      <td>10:07:53</td>\n",
       "      <td>130.321208</td>\n",
       "      <td>28.0</td>\n",
       "      <td>16.0</td>\n",
       "      <td>44.0</td>\n",
       "      <td>0.8625</td>\n",
       "      <td>1.89</td>\n",
       "      <td>1.00</td>\n",
       "      <td>4.92</td>\n",
       "      <td>0</td>\n",
       "      <td>0</td>\n",
       "      <td>0</td>\n",
       "      <td>0.289042</td>\n",
       "      <td>2</td>\n",
       "      <td>0</td>\n",
       "      <td>1</td>\n",
       "      <td>0</td>\n",
       "      <td>0</td>\n",
       "      <td>0</td>\n",
       "      <td>0</td>\n",
       "    </tr>\n",
       "  </tbody>\n",
       "</table>\n",
       "</div>"
      ],
      "text/plain": [
       "    promesa   entrega      tiempo  sin_pesar  pesados  cantidad_total  \\\n",
       "0  13:00:00  12:00:15   91.800861       17.0     10.0            27.0   \n",
       "1  13:00:00  10:28:10  206.599732       88.0     15.0           103.0   \n",
       "2  11:00:00  10:40:50   93.458001        6.0      0.0             6.0   \n",
       "3  10:00:00   9:41:47  124.778761       12.0      5.0            17.0   \n",
       "4  11:00:00  10:07:53  130.321208       28.0     16.0            44.0   \n",
       "\n",
       "   p_aciertos  velocidad  p_aceptacion  score_recolector  seniority_BEGINNER  \\\n",
       "0      0.8564       1.56          1.00              4.68                   0   \n",
       "1      0.8516       1.14          1.00              4.76                   0   \n",
       "2      0.8337       2.03          1.00              4.96                   0   \n",
       "3      0.8571       2.06          0.92              4.92                   0   \n",
       "4      0.8625       1.89          1.00              4.92                   0   \n",
       "\n",
       "   seniority_INTERMEDIATE  seniority_REVIEW  distancia  dia  lunes  martes  \\\n",
       "0                       0                 0   1.201478    2      0       1   \n",
       "1                       0                 0   1.557546    2      0       1   \n",
       "2                       1                 0   2.360018    2      0       1   \n",
       "3                       1                 0   1.899097    2      0       1   \n",
       "4                       0                 0   0.289042    2      0       1   \n",
       "\n",
       "   miercoles  jueves  viernes  sabado  \n",
       "0          0       0        0       0  \n",
       "1          0       0        0       0  \n",
       "2          0       0        0       0  \n",
       "3          0       0        0       0  \n",
       "4          0       0        0       0  "
      ]
     },
     "execution_count": 56,
     "metadata": {},
     "output_type": "execute_result"
    }
   ],
   "source": [
    "#Dataset modelamiento sin imputaciones\n",
    "df_sin_imputaciones = df.copy()\n",
    "\n",
    "#Dejar atributo día mientras tanto para posterior análisis exploratorio\n",
    "df_sin_imputaciones['dia_copy'] = df_sin_imputaciones['dia']\n",
    "\n",
    "#one-hot-enconding al atributo dia\n",
    "df_sin_imputaciones = pd.get_dummies(df_sin_imputaciones, prefix='dia', prefix_sep='_', columns=['dia'], \n",
    "                                     drop_first=True)\n",
    "\n",
    "#Se renombran ciertas columnas del dataframe\n",
    "df_sin_imputaciones.rename(columns={'dia_copy':'dia', 'dia_1':'lunes', 'dia_2':'martes', 'dia_3':'miercoles',\n",
    "                                 'dia_4':'jueves', 'dia_5':'viernes', 'dia_6':'sabado'}, inplace=True)\n",
    "\n",
    "\n",
    "df_sin_imputaciones.head()"
   ]
  },
  {
   "cell_type": "markdown",
   "metadata": {},
   "source": [
    "### Dataset para modelar con imputaciones"
   ]
  },
  {
   "cell_type": "code",
   "execution_count": 57,
   "metadata": {},
   "outputs": [
    {
     "data": {
      "text/html": [
       "<div>\n",
       "<style scoped>\n",
       "    .dataframe tbody tr th:only-of-type {\n",
       "        vertical-align: middle;\n",
       "    }\n",
       "\n",
       "    .dataframe tbody tr th {\n",
       "        vertical-align: top;\n",
       "    }\n",
       "\n",
       "    .dataframe thead th {\n",
       "        text-align: right;\n",
       "    }\n",
       "</style>\n",
       "<table border=\"1\" class=\"dataframe\">\n",
       "  <thead>\n",
       "    <tr style=\"text-align: right;\">\n",
       "      <th></th>\n",
       "      <th>id_orden</th>\n",
       "      <th>latitud</th>\n",
       "      <th>longitud</th>\n",
       "      <th>dia</th>\n",
       "      <th>promesa</th>\n",
       "      <th>entrega</th>\n",
       "      <th>id_entrega</th>\n",
       "      <th>id_recolector</th>\n",
       "      <th>id_transporte</th>\n",
       "      <th>id_tienda</th>\n",
       "      <th>tiempo</th>\n",
       "      <th>sin_pesar</th>\n",
       "      <th>pesados</th>\n",
       "      <th>cantidad_total</th>\n",
       "      <th>p_aciertos</th>\n",
       "      <th>velocidad</th>\n",
       "      <th>p_aceptacion</th>\n",
       "      <th>score_recolector</th>\n",
       "      <th>clasificacion_recolector</th>\n",
       "      <th>seniority_BEGINNER</th>\n",
       "      <th>seniority_INTERMEDIATE</th>\n",
       "      <th>seniority_REVIEW</th>\n",
       "      <th>tienda</th>\n",
       "      <th>latitud_tienda</th>\n",
       "      <th>longitud_tienda</th>\n",
       "      <th>distancia</th>\n",
       "    </tr>\n",
       "  </thead>\n",
       "  <tbody>\n",
       "    <tr>\n",
       "      <th>0</th>\n",
       "      <td>6abd5e28d01b7c733fe37485294235dc</td>\n",
       "      <td>1.822.114.109.606.680</td>\n",
       "      <td>-10.031.391.366.664.600</td>\n",
       "      <td>2</td>\n",
       "      <td>13:00:00</td>\n",
       "      <td>12:00:15</td>\n",
       "      <td>1</td>\n",
       "      <td>09bb5bfe76adbb474dddbdd111a51623</td>\n",
       "      <td>09bb5bfe76adbb474dddbdd111a51623</td>\n",
       "      <td>0dc6fb5924a8b917bc641666ed02663c</td>\n",
       "      <td>91.800861</td>\n",
       "      <td>17.0</td>\n",
       "      <td>10.0</td>\n",
       "      <td>27.0</td>\n",
       "      <td>0.8564</td>\n",
       "      <td>1.56</td>\n",
       "      <td>1.00</td>\n",
       "      <td>4.68</td>\n",
       "      <td>ADVANCED</td>\n",
       "      <td>0</td>\n",
       "      <td>0</td>\n",
       "      <td>0</td>\n",
       "      <td>60e4c4e1c1a8bc79123738227b9d0b08</td>\n",
       "      <td>1.823.190.132.492.320</td>\n",
       "      <td>-1.003.035.533.737.440</td>\n",
       "      <td>1.201478</td>\n",
       "    </tr>\n",
       "    <tr>\n",
       "      <th>1</th>\n",
       "      <td>0d37a1eea001f01b40232ffd496ff663</td>\n",
       "      <td>18.177.712.202.580.300</td>\n",
       "      <td>-10.035.705.073.096.900</td>\n",
       "      <td>2</td>\n",
       "      <td>13:00:00</td>\n",
       "      <td>10:28:10</td>\n",
       "      <td>1</td>\n",
       "      <td>c4c722114a82fa21654e57e9636d68b0</td>\n",
       "      <td>c4c722114a82fa21654e57e9636d68b0</td>\n",
       "      <td>2bbf833e689d24b697f1f3529c3f3c4b</td>\n",
       "      <td>206.599732</td>\n",
       "      <td>88.0</td>\n",
       "      <td>15.0</td>\n",
       "      <td>103.0</td>\n",
       "      <td>0.8516</td>\n",
       "      <td>1.14</td>\n",
       "      <td>1.00</td>\n",
       "      <td>4.76</td>\n",
       "      <td>ADVANCED</td>\n",
       "      <td>0</td>\n",
       "      <td>0</td>\n",
       "      <td>0</td>\n",
       "      <td>387d4a5b65cf4bf00ad805c4b00eed01</td>\n",
       "      <td>18.163.960.871.027.900</td>\n",
       "      <td>-10.032.899.405.911.000</td>\n",
       "      <td>1.557546</td>\n",
       "    </tr>\n",
       "    <tr>\n",
       "      <th>2</th>\n",
       "      <td>528428e9b9eb5d3bd0dbdd8da692b087</td>\n",
       "      <td>1.826.683.205.404.410</td>\n",
       "      <td>-10.031.755.280.890.600</td>\n",
       "      <td>2</td>\n",
       "      <td>11:00:00</td>\n",
       "      <td>10:40:50</td>\n",
       "      <td>1</td>\n",
       "      <td>e15c7a67d0ea9a54dffb410bc1d8528b</td>\n",
       "      <td>e15c7a67d0ea9a54dffb410bc1d8528b</td>\n",
       "      <td>8d891dfc0e29d744c15c18adced74a68</td>\n",
       "      <td>93.458001</td>\n",
       "      <td>6.0</td>\n",
       "      <td>0.0</td>\n",
       "      <td>6.0</td>\n",
       "      <td>0.8337</td>\n",
       "      <td>2.03</td>\n",
       "      <td>1.00</td>\n",
       "      <td>4.96</td>\n",
       "      <td>INTERMEDIATE</td>\n",
       "      <td>0</td>\n",
       "      <td>1</td>\n",
       "      <td>0</td>\n",
       "      <td>0fae7b61265bc7ca4ce4d81440b62501</td>\n",
       "      <td>1.824.565.541.228.880</td>\n",
       "      <td>-1.003.324.934.760.470</td>\n",
       "      <td>2.360018</td>\n",
       "    </tr>\n",
       "    <tr>\n",
       "      <th>3</th>\n",
       "      <td>d3f7be6d64eae7405b7bf024e04807a2</td>\n",
       "      <td>18.248.884.004.419.400</td>\n",
       "      <td>-1.003.226.215.187.040</td>\n",
       "      <td>2</td>\n",
       "      <td>10:00:00</td>\n",
       "      <td>9:41:47</td>\n",
       "      <td>1</td>\n",
       "      <td>d1f0bd4b237c1358f09db22076b940e7</td>\n",
       "      <td>d1f0bd4b237c1358f09db22076b940e7</td>\n",
       "      <td>0dc6fb5924a8b917bc641666ed02663c</td>\n",
       "      <td>124.778761</td>\n",
       "      <td>12.0</td>\n",
       "      <td>5.0</td>\n",
       "      <td>17.0</td>\n",
       "      <td>0.8571</td>\n",
       "      <td>2.06</td>\n",
       "      <td>0.92</td>\n",
       "      <td>4.92</td>\n",
       "      <td>INTERMEDIATE</td>\n",
       "      <td>0</td>\n",
       "      <td>1</td>\n",
       "      <td>0</td>\n",
       "      <td>60e4c4e1c1a8bc79123738227b9d0b08</td>\n",
       "      <td>1.823.190.132.492.320</td>\n",
       "      <td>-1.003.035.533.737.440</td>\n",
       "      <td>1.899097</td>\n",
       "    </tr>\n",
       "    <tr>\n",
       "      <th>4</th>\n",
       "      <td>e0ad6533b6cd9a382ec6c1d473c5036c</td>\n",
       "      <td>1.822.911.027.242.010</td>\n",
       "      <td>-10.032.267.241.783.800</td>\n",
       "      <td>2</td>\n",
       "      <td>11:00:00</td>\n",
       "      <td>10:07:53</td>\n",
       "      <td>1</td>\n",
       "      <td>06a71e8ab0c6db5ce22a4689fd76a3f4</td>\n",
       "      <td>06a71e8ab0c6db5ce22a4689fd76a3f4</td>\n",
       "      <td>afd0a7b8d546fcc697bb93a5934b65c3</td>\n",
       "      <td>130.321208</td>\n",
       "      <td>28.0</td>\n",
       "      <td>16.0</td>\n",
       "      <td>44.0</td>\n",
       "      <td>0.8625</td>\n",
       "      <td>1.89</td>\n",
       "      <td>1.00</td>\n",
       "      <td>4.92</td>\n",
       "      <td>ADVANCED</td>\n",
       "      <td>0</td>\n",
       "      <td>0</td>\n",
       "      <td>0</td>\n",
       "      <td>452ae015bf846e1d2932b7ea15720d64</td>\n",
       "      <td>1.823.159.108.764.060</td>\n",
       "      <td>-10.031.450.001.698.800</td>\n",
       "      <td>0.289042</td>\n",
       "    </tr>\n",
       "  </tbody>\n",
       "</table>\n",
       "</div>"
      ],
      "text/plain": [
       "                           id_orden                 latitud  \\\n",
       "0  6abd5e28d01b7c733fe37485294235dc   1.822.114.109.606.680   \n",
       "1  0d37a1eea001f01b40232ffd496ff663  18.177.712.202.580.300   \n",
       "2  528428e9b9eb5d3bd0dbdd8da692b087   1.826.683.205.404.410   \n",
       "3  d3f7be6d64eae7405b7bf024e04807a2  18.248.884.004.419.400   \n",
       "4  e0ad6533b6cd9a382ec6c1d473c5036c   1.822.911.027.242.010   \n",
       "\n",
       "                  longitud  dia   promesa   entrega  id_entrega  \\\n",
       "0  -10.031.391.366.664.600    2  13:00:00  12:00:15           1   \n",
       "1  -10.035.705.073.096.900    2  13:00:00  10:28:10           1   \n",
       "2  -10.031.755.280.890.600    2  11:00:00  10:40:50           1   \n",
       "3   -1.003.226.215.187.040    2  10:00:00   9:41:47           1   \n",
       "4  -10.032.267.241.783.800    2  11:00:00  10:07:53           1   \n",
       "\n",
       "                      id_recolector                     id_transporte  \\\n",
       "0  09bb5bfe76adbb474dddbdd111a51623  09bb5bfe76adbb474dddbdd111a51623   \n",
       "1  c4c722114a82fa21654e57e9636d68b0  c4c722114a82fa21654e57e9636d68b0   \n",
       "2  e15c7a67d0ea9a54dffb410bc1d8528b  e15c7a67d0ea9a54dffb410bc1d8528b   \n",
       "3  d1f0bd4b237c1358f09db22076b940e7  d1f0bd4b237c1358f09db22076b940e7   \n",
       "4  06a71e8ab0c6db5ce22a4689fd76a3f4  06a71e8ab0c6db5ce22a4689fd76a3f4   \n",
       "\n",
       "                          id_tienda      tiempo  sin_pesar  pesados  \\\n",
       "0  0dc6fb5924a8b917bc641666ed02663c   91.800861       17.0     10.0   \n",
       "1  2bbf833e689d24b697f1f3529c3f3c4b  206.599732       88.0     15.0   \n",
       "2  8d891dfc0e29d744c15c18adced74a68   93.458001        6.0      0.0   \n",
       "3  0dc6fb5924a8b917bc641666ed02663c  124.778761       12.0      5.0   \n",
       "4  afd0a7b8d546fcc697bb93a5934b65c3  130.321208       28.0     16.0   \n",
       "\n",
       "   cantidad_total  p_aciertos  velocidad  p_aceptacion  score_recolector  \\\n",
       "0            27.0      0.8564       1.56          1.00              4.68   \n",
       "1           103.0      0.8516       1.14          1.00              4.76   \n",
       "2             6.0      0.8337       2.03          1.00              4.96   \n",
       "3            17.0      0.8571       2.06          0.92              4.92   \n",
       "4            44.0      0.8625       1.89          1.00              4.92   \n",
       "\n",
       "  clasificacion_recolector  seniority_BEGINNER  seniority_INTERMEDIATE  \\\n",
       "0                 ADVANCED                   0                       0   \n",
       "1                 ADVANCED                   0                       0   \n",
       "2             INTERMEDIATE                   0                       1   \n",
       "3             INTERMEDIATE                   0                       1   \n",
       "4                 ADVANCED                   0                       0   \n",
       "\n",
       "   seniority_REVIEW                            tienda          latitud_tienda  \\\n",
       "0                 0  60e4c4e1c1a8bc79123738227b9d0b08   1.823.190.132.492.320   \n",
       "1                 0  387d4a5b65cf4bf00ad805c4b00eed01  18.163.960.871.027.900   \n",
       "2                 0  0fae7b61265bc7ca4ce4d81440b62501   1.824.565.541.228.880   \n",
       "3                 0  60e4c4e1c1a8bc79123738227b9d0b08   1.823.190.132.492.320   \n",
       "4                 0  452ae015bf846e1d2932b7ea15720d64   1.823.159.108.764.060   \n",
       "\n",
       "           longitud_tienda  distancia  \n",
       "0   -1.003.035.533.737.440   1.201478  \n",
       "1  -10.032.899.405.911.000   1.557546  \n",
       "2   -1.003.324.934.760.470   2.360018  \n",
       "3   -1.003.035.533.737.440   1.899097  \n",
       "4  -10.031.450.001.698.800   0.289042  "
      ]
     },
     "execution_count": 57,
     "metadata": {},
     "output_type": "execute_result"
    }
   ],
   "source": [
    "df_imputados.head()"
   ]
  },
  {
   "cell_type": "markdown",
   "metadata": {},
   "source": [
    "Tenemos datos perdidos en nuestro dataset, vamos a imputar ciertas variables para no eliminar registros, posteriormente haremos nuestra modelación y compararemos."
   ]
  },
  {
   "cell_type": "code",
   "execution_count": 58,
   "metadata": {},
   "outputs": [
    {
     "data": {
      "text/html": [
       "<div>\n",
       "<style scoped>\n",
       "    .dataframe tbody tr th:only-of-type {\n",
       "        vertical-align: middle;\n",
       "    }\n",
       "\n",
       "    .dataframe tbody tr th {\n",
       "        vertical-align: top;\n",
       "    }\n",
       "\n",
       "    .dataframe thead th {\n",
       "        text-align: right;\n",
       "    }\n",
       "</style>\n",
       "<table border=\"1\" class=\"dataframe\">\n",
       "  <thead>\n",
       "    <tr style=\"text-align: right;\">\n",
       "      <th></th>\n",
       "      <th>Total</th>\n",
       "      <th>Porcentaje (%)</th>\n",
       "    </tr>\n",
       "  </thead>\n",
       "  <tbody>\n",
       "    <tr>\n",
       "      <th>p_aciertos</th>\n",
       "      <td>75</td>\n",
       "      <td>1.15</td>\n",
       "    </tr>\n",
       "    <tr>\n",
       "      <th>score_recolector</th>\n",
       "      <td>70</td>\n",
       "      <td>1.07</td>\n",
       "    </tr>\n",
       "    <tr>\n",
       "      <th>pesados</th>\n",
       "      <td>15</td>\n",
       "      <td>0.23</td>\n",
       "    </tr>\n",
       "    <tr>\n",
       "      <th>cantidad_total</th>\n",
       "      <td>15</td>\n",
       "      <td>0.23</td>\n",
       "    </tr>\n",
       "    <tr>\n",
       "      <th>sin_pesar</th>\n",
       "      <td>15</td>\n",
       "      <td>0.23</td>\n",
       "    </tr>\n",
       "    <tr>\n",
       "      <th>p_aceptacion</th>\n",
       "      <td>5</td>\n",
       "      <td>0.08</td>\n",
       "    </tr>\n",
       "    <tr>\n",
       "      <th>id_tienda</th>\n",
       "      <td>0</td>\n",
       "      <td>0.00</td>\n",
       "    </tr>\n",
       "    <tr>\n",
       "      <th>latitud</th>\n",
       "      <td>0</td>\n",
       "      <td>0.00</td>\n",
       "    </tr>\n",
       "    <tr>\n",
       "      <th>longitud</th>\n",
       "      <td>0</td>\n",
       "      <td>0.00</td>\n",
       "    </tr>\n",
       "    <tr>\n",
       "      <th>dia</th>\n",
       "      <td>0</td>\n",
       "      <td>0.00</td>\n",
       "    </tr>\n",
       "    <tr>\n",
       "      <th>promesa</th>\n",
       "      <td>0</td>\n",
       "      <td>0.00</td>\n",
       "    </tr>\n",
       "    <tr>\n",
       "      <th>entrega</th>\n",
       "      <td>0</td>\n",
       "      <td>0.00</td>\n",
       "    </tr>\n",
       "    <tr>\n",
       "      <th>id_entrega</th>\n",
       "      <td>0</td>\n",
       "      <td>0.00</td>\n",
       "    </tr>\n",
       "    <tr>\n",
       "      <th>id_recolector</th>\n",
       "      <td>0</td>\n",
       "      <td>0.00</td>\n",
       "    </tr>\n",
       "    <tr>\n",
       "      <th>id_transporte</th>\n",
       "      <td>0</td>\n",
       "      <td>0.00</td>\n",
       "    </tr>\n",
       "    <tr>\n",
       "      <th>distancia</th>\n",
       "      <td>0</td>\n",
       "      <td>0.00</td>\n",
       "    </tr>\n",
       "    <tr>\n",
       "      <th>tiempo</th>\n",
       "      <td>0</td>\n",
       "      <td>0.00</td>\n",
       "    </tr>\n",
       "    <tr>\n",
       "      <th>longitud_tienda</th>\n",
       "      <td>0</td>\n",
       "      <td>0.00</td>\n",
       "    </tr>\n",
       "    <tr>\n",
       "      <th>velocidad</th>\n",
       "      <td>0</td>\n",
       "      <td>0.00</td>\n",
       "    </tr>\n",
       "    <tr>\n",
       "      <th>clasificacion_recolector</th>\n",
       "      <td>0</td>\n",
       "      <td>0.00</td>\n",
       "    </tr>\n",
       "    <tr>\n",
       "      <th>seniority_BEGINNER</th>\n",
       "      <td>0</td>\n",
       "      <td>0.00</td>\n",
       "    </tr>\n",
       "    <tr>\n",
       "      <th>seniority_INTERMEDIATE</th>\n",
       "      <td>0</td>\n",
       "      <td>0.00</td>\n",
       "    </tr>\n",
       "    <tr>\n",
       "      <th>seniority_REVIEW</th>\n",
       "      <td>0</td>\n",
       "      <td>0.00</td>\n",
       "    </tr>\n",
       "    <tr>\n",
       "      <th>tienda</th>\n",
       "      <td>0</td>\n",
       "      <td>0.00</td>\n",
       "    </tr>\n",
       "    <tr>\n",
       "      <th>latitud_tienda</th>\n",
       "      <td>0</td>\n",
       "      <td>0.00</td>\n",
       "    </tr>\n",
       "    <tr>\n",
       "      <th>id_orden</th>\n",
       "      <td>0</td>\n",
       "      <td>0.00</td>\n",
       "    </tr>\n",
       "  </tbody>\n",
       "</table>\n",
       "</div>"
      ],
      "text/plain": [
       "                          Total  Porcentaje (%)\n",
       "p_aciertos                   75            1.15\n",
       "score_recolector             70            1.07\n",
       "pesados                      15            0.23\n",
       "cantidad_total               15            0.23\n",
       "sin_pesar                    15            0.23\n",
       "p_aceptacion                  5            0.08\n",
       "id_tienda                     0            0.00\n",
       "latitud                       0            0.00\n",
       "longitud                      0            0.00\n",
       "dia                           0            0.00\n",
       "promesa                       0            0.00\n",
       "entrega                       0            0.00\n",
       "id_entrega                    0            0.00\n",
       "id_recolector                 0            0.00\n",
       "id_transporte                 0            0.00\n",
       "distancia                     0            0.00\n",
       "tiempo                        0            0.00\n",
       "longitud_tienda               0            0.00\n",
       "velocidad                     0            0.00\n",
       "clasificacion_recolector      0            0.00\n",
       "seniority_BEGINNER            0            0.00\n",
       "seniority_INTERMEDIATE        0            0.00\n",
       "seniority_REVIEW              0            0.00\n",
       "tienda                        0            0.00\n",
       "latitud_tienda                0            0.00\n",
       "id_orden                      0            0.00"
      ]
     },
     "execution_count": 58,
     "metadata": {},
     "output_type": "execute_result"
    }
   ],
   "source": [
    "total = df_imputados.isnull().sum().sort_values(ascending=False)\n",
    "percent = round((df_imputados.isnull().sum() / df_imputados.isnull().count()) * 100, 2).sort_values(ascending=False)\n",
    "missing_values = pd.concat([total, percent], axis=1, keys=['Total', 'Porcentaje (%)'])\n",
    "missing_values"
   ]
  },
  {
   "cell_type": "markdown",
   "metadata": {},
   "source": [
    "#### Imputación de los atributos\n",
    "\n",
    "Imputaremos los datos perdidos de los siguientes atributos: `p_aciertos, p_aceptacion, score_recolector, pesados y sin_pesar` por la media del atributo con respecto a la categoría de `clasificacion_recolector`."
   ]
  },
  {
   "cell_type": "code",
   "execution_count": 59,
   "metadata": {},
   "outputs": [],
   "source": [
    "#Aislamos los datos nulos del atributo\n",
    "p_aciertos = df_imputados[df_imputados['p_aciertos'].isnull()]"
   ]
  },
  {
   "cell_type": "code",
   "execution_count": 60,
   "metadata": {},
   "outputs": [
    {
     "data": {
      "text/plain": [
       "BEGINNER        53\n",
       "REVIEW          18\n",
       "INTERMEDIATE     4\n",
       "Name: clasificacion_recolector, dtype: int64"
      ]
     },
     "execution_count": 60,
     "metadata": {},
     "output_type": "execute_result"
    }
   ],
   "source": [
    "#Verificamos cuales son las categorías del atributo de la clasificación del recolector\n",
    "#para luego hacer la imputación a ellos\n",
    "p_aciertos.clasificacion_recolector.value_counts()"
   ]
  },
  {
   "cell_type": "code",
   "execution_count": 61,
   "metadata": {},
   "outputs": [
    {
     "data": {
      "text/plain": [
       "clasificacion_recolector\n",
       "ADVANCED        0.863677\n",
       "BEGINNER        0.836530\n",
       "INTERMEDIATE    0.849510\n",
       "REVIEW          0.828049\n",
       "Name: p_aciertos, dtype: float64"
      ]
     },
     "execution_count": 61,
     "metadata": {},
     "output_type": "execute_result"
    }
   ],
   "source": [
    "#Obtenemos la media de p_aciertos por categoría del recolector\n",
    "media_cr = df_imputados.groupby('clasificacion_recolector')['p_aciertos'].mean()\n",
    "media_cr"
   ]
  },
  {
   "cell_type": "code",
   "execution_count": 62,
   "metadata": {},
   "outputs": [],
   "source": [
    "#Hacemos la imputación de los datos perdidos de p_aciertos con la media del atributo con respecto \n",
    "#a la categoría \n",
    "\n",
    "df_imputados['p_aciertos'] = np.where((df_imputados['clasificacion_recolector'] == 'BEGINNER') & \n",
    "                                      (df_imputados['p_aciertos'].isnull()), 0.836530, df_imputados['p_aciertos'])\n",
    "\n",
    "df_imputados['p_aciertos'] = np.where((df_imputados['clasificacion_recolector'] == 'REVIEW') & \n",
    "                                      (df_imputados['p_aciertos'].isnull()), 0.828049, df_imputados['p_aciertos'])\n",
    "\n",
    "df_imputados['p_aciertos'] = np.where((df_imputados['clasificacion_recolector'] == 'INTERMEDIATE') & \n",
    "                                      (df_imputados['p_aciertos'].isnull()), 0.849510, df_imputados['p_aciertos'])"
   ]
  },
  {
   "cell_type": "code",
   "execution_count": 63,
   "metadata": {},
   "outputs": [
    {
     "data": {
      "text/html": [
       "<div>\n",
       "<style scoped>\n",
       "    .dataframe tbody tr th:only-of-type {\n",
       "        vertical-align: middle;\n",
       "    }\n",
       "\n",
       "    .dataframe tbody tr th {\n",
       "        vertical-align: top;\n",
       "    }\n",
       "\n",
       "    .dataframe thead th {\n",
       "        text-align: right;\n",
       "    }\n",
       "</style>\n",
       "<table border=\"1\" class=\"dataframe\">\n",
       "  <thead>\n",
       "    <tr style=\"text-align: right;\">\n",
       "      <th></th>\n",
       "      <th>id_orden</th>\n",
       "      <th>latitud</th>\n",
       "      <th>longitud</th>\n",
       "      <th>dia</th>\n",
       "      <th>promesa</th>\n",
       "      <th>entrega</th>\n",
       "      <th>id_entrega</th>\n",
       "      <th>id_recolector</th>\n",
       "      <th>id_transporte</th>\n",
       "      <th>id_tienda</th>\n",
       "      <th>tiempo</th>\n",
       "      <th>sin_pesar</th>\n",
       "      <th>pesados</th>\n",
       "      <th>cantidad_total</th>\n",
       "      <th>p_aciertos</th>\n",
       "      <th>velocidad</th>\n",
       "      <th>p_aceptacion</th>\n",
       "      <th>score_recolector</th>\n",
       "      <th>clasificacion_recolector</th>\n",
       "      <th>seniority_BEGINNER</th>\n",
       "      <th>seniority_INTERMEDIATE</th>\n",
       "      <th>seniority_REVIEW</th>\n",
       "      <th>tienda</th>\n",
       "      <th>latitud_tienda</th>\n",
       "      <th>longitud_tienda</th>\n",
       "      <th>distancia</th>\n",
       "    </tr>\n",
       "  </thead>\n",
       "  <tbody>\n",
       "    <tr>\n",
       "      <th>532</th>\n",
       "      <td>fdd5ba893f325dd8f21a14717261ff4c</td>\n",
       "      <td>18.177.901.456.272.600</td>\n",
       "      <td>-10.036.665.946.228.000</td>\n",
       "      <td>2</td>\n",
       "      <td>20:00:00</td>\n",
       "      <td>19:39:23</td>\n",
       "      <td>1</td>\n",
       "      <td>22d1884f71a7cd382d9972186548c687</td>\n",
       "      <td>22d1884f71a7cd382d9972186548c687</td>\n",
       "      <td>ea19343a1b5262c624347d89cc17aa9e</td>\n",
       "      <td>111.746763</td>\n",
       "      <td>10.0</td>\n",
       "      <td>3.0</td>\n",
       "      <td>13.0</td>\n",
       "      <td>0.836530</td>\n",
       "      <td>2.37</td>\n",
       "      <td>NaN</td>\n",
       "      <td>NaN</td>\n",
       "      <td>BEGINNER</td>\n",
       "      <td>1</td>\n",
       "      <td>0</td>\n",
       "      <td>0</td>\n",
       "      <td>60e4c4e1c1a8bc79123738227b9d0b08</td>\n",
       "      <td>18.157.752.795.391.800</td>\n",
       "      <td>-10.035.393.427.395.500</td>\n",
       "      <td>2.244462</td>\n",
       "    </tr>\n",
       "    <tr>\n",
       "      <th>1316</th>\n",
       "      <td>0408b5c9581c53336debb7f8daba9a5c</td>\n",
       "      <td>1.828.493.651.748.040</td>\n",
       "      <td>-10.035.820.137.817.700</td>\n",
       "      <td>4</td>\n",
       "      <td>13:00:00</td>\n",
       "      <td>12:21:33</td>\n",
       "      <td>1</td>\n",
       "      <td>f92b63427b71a539d368d266d121e06e</td>\n",
       "      <td>f92b63427b71a539d368d266d121e06e</td>\n",
       "      <td>258f4c26a82a5239920a082ffe23cfc4</td>\n",
       "      <td>81.959728</td>\n",
       "      <td>4.0</td>\n",
       "      <td>0.0</td>\n",
       "      <td>4.0</td>\n",
       "      <td>0.836530</td>\n",
       "      <td>2.37</td>\n",
       "      <td>NaN</td>\n",
       "      <td>NaN</td>\n",
       "      <td>BEGINNER</td>\n",
       "      <td>1</td>\n",
       "      <td>0</td>\n",
       "      <td>0</td>\n",
       "      <td>e27789d5e619b255663b2bfa68b5851f</td>\n",
       "      <td>18.298.407.008.064.500</td>\n",
       "      <td>-1.003.417.427.666.350</td>\n",
       "      <td>1.507898</td>\n",
       "    </tr>\n",
       "    <tr>\n",
       "      <th>1507</th>\n",
       "      <td>1011b1e06bb67a235289e62493d6e10c</td>\n",
       "      <td>18.300.366.845.024.200</td>\n",
       "      <td>-10.034.120.474.302.500</td>\n",
       "      <td>4</td>\n",
       "      <td>14:18:00</td>\n",
       "      <td>14:28:17</td>\n",
       "      <td>0</td>\n",
       "      <td>f92b63427b71a539d368d266d121e06e</td>\n",
       "      <td>f92b63427b71a539d368d266d121e06e</td>\n",
       "      <td>86e6e48d0cb57f794b0c48162409fa74</td>\n",
       "      <td>99.426557</td>\n",
       "      <td>8.0</td>\n",
       "      <td>1.0</td>\n",
       "      <td>9.0</td>\n",
       "      <td>0.836530</td>\n",
       "      <td>2.37</td>\n",
       "      <td>NaN</td>\n",
       "      <td>NaN</td>\n",
       "      <td>BEGINNER</td>\n",
       "      <td>1</td>\n",
       "      <td>0</td>\n",
       "      <td>0</td>\n",
       "      <td>60e4c4e1c1a8bc79123738227b9d0b08</td>\n",
       "      <td>18.299.885.413.279.500</td>\n",
       "      <td>-10.034.848.650.909.700</td>\n",
       "      <td>0.093677</td>\n",
       "    </tr>\n",
       "    <tr>\n",
       "      <th>2132</th>\n",
       "      <td>ba07ccb17ecfecc3704bf4a8eaaabdfc</td>\n",
       "      <td>1.828.350.784.657.940</td>\n",
       "      <td>-10.035.750.338.803.800</td>\n",
       "      <td>5</td>\n",
       "      <td>13:41:00</td>\n",
       "      <td>14:31:10</td>\n",
       "      <td>0</td>\n",
       "      <td>976dab4af89ac6584b335192e1cb4ad1</td>\n",
       "      <td>976dab4af89ac6584b335192e1cb4ad1</td>\n",
       "      <td>9d65282d498c0338377867996e761399</td>\n",
       "      <td>138.597911</td>\n",
       "      <td>17.0</td>\n",
       "      <td>1.0</td>\n",
       "      <td>18.0</td>\n",
       "      <td>0.836530</td>\n",
       "      <td>2.37</td>\n",
       "      <td>NaN</td>\n",
       "      <td>NaN</td>\n",
       "      <td>BEGINNER</td>\n",
       "      <td>1</td>\n",
       "      <td>0</td>\n",
       "      <td>0</td>\n",
       "      <td>452ae015bf846e1d2932b7ea15720d64</td>\n",
       "      <td>1.829.395.022.781.570</td>\n",
       "      <td>-10.035.116.440.086.400</td>\n",
       "      <td>1.163069</td>\n",
       "    </tr>\n",
       "    <tr>\n",
       "      <th>5199</th>\n",
       "      <td>ef75a716763bd53f12dfba07447c52e6</td>\n",
       "      <td>18.288.544.898.218.600</td>\n",
       "      <td>-10.030.847.100.424.900</td>\n",
       "      <td>2</td>\n",
       "      <td>20:00:00</td>\n",
       "      <td>19:37:08</td>\n",
       "      <td>1</td>\n",
       "      <td>cacf984f9adc27a9abe9c642713e1064</td>\n",
       "      <td>cacf984f9adc27a9abe9c642713e1064</td>\n",
       "      <td>4f01884af565f4d2df35419e09cf58d0</td>\n",
       "      <td>115.622551</td>\n",
       "      <td>3.0</td>\n",
       "      <td>1.0</td>\n",
       "      <td>4.0</td>\n",
       "      <td>0.828049</td>\n",
       "      <td>2.37</td>\n",
       "      <td>NaN</td>\n",
       "      <td>NaN</td>\n",
       "      <td>REVIEW</td>\n",
       "      <td>0</td>\n",
       "      <td>0</td>\n",
       "      <td>1</td>\n",
       "      <td>0fae7b61265bc7ca4ce4d81440b62501</td>\n",
       "      <td>18.300.290.799.329.400</td>\n",
       "      <td>-10.034.753.283.029.000</td>\n",
       "      <td>1.369646</td>\n",
       "    </tr>\n",
       "  </tbody>\n",
       "</table>\n",
       "</div>"
      ],
      "text/plain": [
       "                              id_orden                 latitud  \\\n",
       "532   fdd5ba893f325dd8f21a14717261ff4c  18.177.901.456.272.600   \n",
       "1316  0408b5c9581c53336debb7f8daba9a5c   1.828.493.651.748.040   \n",
       "1507  1011b1e06bb67a235289e62493d6e10c  18.300.366.845.024.200   \n",
       "2132  ba07ccb17ecfecc3704bf4a8eaaabdfc   1.828.350.784.657.940   \n",
       "5199  ef75a716763bd53f12dfba07447c52e6  18.288.544.898.218.600   \n",
       "\n",
       "                     longitud  dia   promesa   entrega  id_entrega  \\\n",
       "532   -10.036.665.946.228.000    2  20:00:00  19:39:23           1   \n",
       "1316  -10.035.820.137.817.700    4  13:00:00  12:21:33           1   \n",
       "1507  -10.034.120.474.302.500    4  14:18:00  14:28:17           0   \n",
       "2132  -10.035.750.338.803.800    5  13:41:00  14:31:10           0   \n",
       "5199  -10.030.847.100.424.900    2  20:00:00  19:37:08           1   \n",
       "\n",
       "                         id_recolector                     id_transporte  \\\n",
       "532   22d1884f71a7cd382d9972186548c687  22d1884f71a7cd382d9972186548c687   \n",
       "1316  f92b63427b71a539d368d266d121e06e  f92b63427b71a539d368d266d121e06e   \n",
       "1507  f92b63427b71a539d368d266d121e06e  f92b63427b71a539d368d266d121e06e   \n",
       "2132  976dab4af89ac6584b335192e1cb4ad1  976dab4af89ac6584b335192e1cb4ad1   \n",
       "5199  cacf984f9adc27a9abe9c642713e1064  cacf984f9adc27a9abe9c642713e1064   \n",
       "\n",
       "                             id_tienda      tiempo  sin_pesar  pesados  \\\n",
       "532   ea19343a1b5262c624347d89cc17aa9e  111.746763       10.0      3.0   \n",
       "1316  258f4c26a82a5239920a082ffe23cfc4   81.959728        4.0      0.0   \n",
       "1507  86e6e48d0cb57f794b0c48162409fa74   99.426557        8.0      1.0   \n",
       "2132  9d65282d498c0338377867996e761399  138.597911       17.0      1.0   \n",
       "5199  4f01884af565f4d2df35419e09cf58d0  115.622551        3.0      1.0   \n",
       "\n",
       "      cantidad_total  p_aciertos  velocidad  p_aceptacion  score_recolector  \\\n",
       "532             13.0    0.836530       2.37           NaN               NaN   \n",
       "1316             4.0    0.836530       2.37           NaN               NaN   \n",
       "1507             9.0    0.836530       2.37           NaN               NaN   \n",
       "2132            18.0    0.836530       2.37           NaN               NaN   \n",
       "5199             4.0    0.828049       2.37           NaN               NaN   \n",
       "\n",
       "     clasificacion_recolector  seniority_BEGINNER  seniority_INTERMEDIATE  \\\n",
       "532                  BEGINNER                   1                       0   \n",
       "1316                 BEGINNER                   1                       0   \n",
       "1507                 BEGINNER                   1                       0   \n",
       "2132                 BEGINNER                   1                       0   \n",
       "5199                   REVIEW                   0                       0   \n",
       "\n",
       "      seniority_REVIEW                            tienda  \\\n",
       "532                  0  60e4c4e1c1a8bc79123738227b9d0b08   \n",
       "1316                 0  e27789d5e619b255663b2bfa68b5851f   \n",
       "1507                 0  60e4c4e1c1a8bc79123738227b9d0b08   \n",
       "2132                 0  452ae015bf846e1d2932b7ea15720d64   \n",
       "5199                 1  0fae7b61265bc7ca4ce4d81440b62501   \n",
       "\n",
       "              latitud_tienda          longitud_tienda  distancia  \n",
       "532   18.157.752.795.391.800  -10.035.393.427.395.500   2.244462  \n",
       "1316  18.298.407.008.064.500   -1.003.417.427.666.350   1.507898  \n",
       "1507  18.299.885.413.279.500  -10.034.848.650.909.700   0.093677  \n",
       "2132   1.829.395.022.781.570  -10.035.116.440.086.400   1.163069  \n",
       "5199  18.300.290.799.329.400  -10.034.753.283.029.000   1.369646  "
      ]
     },
     "execution_count": 63,
     "metadata": {},
     "output_type": "execute_result"
    }
   ],
   "source": [
    "#Aislamos los casos de p_aceptacion\n",
    "p_aceptacion = df_imputados[df_imputados['p_aceptacion'].isnull()]\n",
    "p_aceptacion.head()"
   ]
  },
  {
   "cell_type": "code",
   "execution_count": 64,
   "metadata": {},
   "outputs": [
    {
     "data": {
      "text/plain": [
       "BEGINNER    4\n",
       "REVIEW      1\n",
       "Name: clasificacion_recolector, dtype: int64"
      ]
     },
     "execution_count": 64,
     "metadata": {},
     "output_type": "execute_result"
    }
   ],
   "source": [
    "#Verificamos cuales son los datos perdidos con respecto al atributo de\n",
    "#clasificación del recolector\n",
    "p_aceptacion.clasificacion_recolector.value_counts()"
   ]
  },
  {
   "cell_type": "code",
   "execution_count": 65,
   "metadata": {},
   "outputs": [
    {
     "data": {
      "text/plain": [
       "clasificacion_recolector\n",
       "ADVANCED        0.972896\n",
       "BEGINNER        0.906551\n",
       "INTERMEDIATE    0.969937\n",
       "REVIEW          0.874873\n",
       "Name: p_aceptacion, dtype: float64"
      ]
     },
     "execution_count": 65,
     "metadata": {},
     "output_type": "execute_result"
    }
   ],
   "source": [
    "#Obtenemos la media del atributo con respecto a la clasificación del recolector\n",
    "media_cr = df_imputados.groupby('clasificacion_recolector')['p_aceptacion'].mean()\n",
    "media_cr"
   ]
  },
  {
   "cell_type": "code",
   "execution_count": 66,
   "metadata": {},
   "outputs": [],
   "source": [
    "#Hacemos la imputación de los datos perdidos de p_aceptacion con la media del atributo con respecto \n",
    "#a la categoría \n",
    "\n",
    "df_imputados['p_aceptacion'] = np.where((df_imputados['clasificacion_recolector'] == 'BEGINNER') & \n",
    "                                      (df_imputados['p_aceptacion'].isnull()), 0.906551, df_imputados['p_aceptacion'])\n",
    "\n",
    "df_imputados['p_aceptacion'] = np.where((df_imputados['clasificacion_recolector'] == 'REVIEW') & \n",
    "                                      (df_imputados['p_aceptacion'].isnull()), 0.874873, df_imputados['p_aceptacion'])\n"
   ]
  },
  {
   "cell_type": "code",
   "execution_count": 67,
   "metadata": {
    "scrolled": true
   },
   "outputs": [],
   "source": [
    "#Aislamos los datos perdidos para el atributo score recolectoe\n",
    "score_recolector = df_imputados[df_imputados['score_recolector'].isnull()]"
   ]
  },
  {
   "cell_type": "code",
   "execution_count": 68,
   "metadata": {},
   "outputs": [
    {
     "data": {
      "text/plain": [
       "BEGINNER        39\n",
       "INTERMEDIATE    16\n",
       "REVIEW          15\n",
       "Name: clasificacion_recolector, dtype: int64"
      ]
     },
     "execution_count": 68,
     "metadata": {},
     "output_type": "execute_result"
    }
   ],
   "source": [
    "#Obtenemos la categoría de los datos perdidos con respecto a\n",
    "#clasificación del recolector\n",
    "score_recolector.clasificacion_recolector.value_counts()"
   ]
  },
  {
   "cell_type": "code",
   "execution_count": 69,
   "metadata": {},
   "outputs": [
    {
     "data": {
      "text/plain": [
       "clasificacion_recolector\n",
       "ADVANCED        4.782094\n",
       "BEGINNER        4.929706\n",
       "INTERMEDIATE    4.813990\n",
       "REVIEW          4.793000\n",
       "Name: score_recolector, dtype: float64"
      ]
     },
     "execution_count": 69,
     "metadata": {},
     "output_type": "execute_result"
    }
   ],
   "source": [
    "#Media de scorerecolector con respecto a la clasificación del recolector\n",
    "media_cr = df_imputados.groupby('clasificacion_recolector')['score_recolector'].mean()\n",
    "media_cr"
   ]
  },
  {
   "cell_type": "code",
   "execution_count": 70,
   "metadata": {},
   "outputs": [],
   "source": [
    "#Imputación de los datos\n",
    "\n",
    "df_imputados['score_recolector'] = np.where((df_imputados['clasificacion_recolector'] == 'BEGINNER') &\n",
    "                                (df_imputados['score_recolector'].isnull()), 4.929706, df_imputados['score_recolector'])\n",
    "\n",
    "\n",
    "df_imputados['score_recolector'] = np.where((df_imputados['clasificacion_recolector'] == 'INTERMEDIATE') &\n",
    "                                (df_imputados['score_recolector'].isnull()), 4.813990, df_imputados['score_recolector'])\n",
    "\n",
    "\n",
    "df_imputados['score_recolector'] = np.where((df_imputados['clasificacion_recolector'] == 'REVIEW') &\n",
    "                                (df_imputados['score_recolector'].isnull()), 4.793000, df_imputados['score_recolector'])"
   ]
  },
  {
   "cell_type": "code",
   "execution_count": 71,
   "metadata": {},
   "outputs": [],
   "source": [
    "#Imputamos columnas de pesados y sin pesar con la media de c/u\n",
    "df_imputados['cantidad_total'] = np.where(df_imputados['cantidad_total'].isnull(), df_imputados['cantidad_total'].mean(), df_imputados['cantidad_total'])\n",
    "df_imputados['pesados'] = np.where(df_imputados['pesados'].isnull(), df_imputados['pesados'].mean(), df_imputados['pesados'])\n",
    "df_imputados['sin_pesar'] = np.where(df_imputados['sin_pesar'].isnull(), df_imputados['sin_pesar'].mean(), df_imputados['sin_pesar'])"
   ]
  },
  {
   "cell_type": "code",
   "execution_count": 72,
   "metadata": {},
   "outputs": [],
   "source": [
    "#one-hot-enconding al atributo dia\n",
    "df_imputados = pd.get_dummies(df_imputados, prefix='dia', prefix_sep='_', columns=['dia'], \n",
    "                                     drop_first=True)\n",
    "\n",
    "#Se renombran ciertas columnas del dataframe\n",
    "df_imputados.rename(columns={'dia_1':'lunes', 'dia_2':'martes', 'dia_3':'miercoles',\n",
    "                                 'dia_4':'jueves', 'dia_5':'viernes', 'dia_6':'sabado'}, inplace=True)\n",
    "\n",
    "#Borramos columnos sin relevancia y evitar multicolinealidad\n",
    "df_imputados.drop(columns=['id_orden', 'latitud', 'longitud', 'promesa', 'entrega', 'cantidad_total',\n",
    "                           'id_entrega', 'id_recolector', 'id_transporte', 'id_tienda', 'clasificacion_recolector',\n",
    "                           'tienda', 'latitud_tienda', 'longitud_tienda'], inplace=True)"
   ]
  },
  {
   "cell_type": "markdown",
   "metadata": {},
   "source": [
    "Una vez imputados los atributos antes mencionados, procederemos a evaluar cada dataframe en nuestros modelos, para luego hacer una comparación del comportamiento y las métricas de evaluación."
   ]
  },
  {
   "cell_type": "markdown",
   "metadata": {},
   "source": [
    "## A2 - Análisis Exploratorio\n",
    "\n",
    "En esta sección se realizará el análisis bivariado entre nuestras variables de interés (seleccionadas en la hipótesis) y la variable objetivo \"tiempo\" del dataset de 'orden_compras'. Este análisis contendrá gráficos y su respectivas conclusiones."
   ]
  },
  {
   "cell_type": "markdown",
   "metadata": {},
   "source": [
    "### A2.1 - Análisis de distancia v/s tiempo de entrega"
   ]
  },
  {
   "cell_type": "code",
   "execution_count": 73,
   "metadata": {},
   "outputs": [
    {
     "data": {
      "text/html": [
       "<div>\n",
       "<style scoped>\n",
       "    .dataframe tbody tr th:only-of-type {\n",
       "        vertical-align: middle;\n",
       "    }\n",
       "\n",
       "    .dataframe tbody tr th {\n",
       "        vertical-align: top;\n",
       "    }\n",
       "\n",
       "    .dataframe thead th {\n",
       "        text-align: right;\n",
       "    }\n",
       "</style>\n",
       "<table border=\"1\" class=\"dataframe\">\n",
       "  <thead>\n",
       "    <tr style=\"text-align: right;\">\n",
       "      <th></th>\n",
       "      <th>dia</th>\n",
       "      <th>promesa</th>\n",
       "      <th>entrega</th>\n",
       "      <th>tiempo</th>\n",
       "      <th>sin_pesar</th>\n",
       "      <th>pesados</th>\n",
       "      <th>cantidad_total</th>\n",
       "      <th>p_aciertos</th>\n",
       "      <th>velocidad</th>\n",
       "      <th>p_aceptacion</th>\n",
       "      <th>score_recolector</th>\n",
       "      <th>seniority_BEGINNER</th>\n",
       "      <th>seniority_INTERMEDIATE</th>\n",
       "      <th>seniority_REVIEW</th>\n",
       "      <th>distancia</th>\n",
       "    </tr>\n",
       "  </thead>\n",
       "  <tbody>\n",
       "    <tr>\n",
       "      <th>0</th>\n",
       "      <td>2</td>\n",
       "      <td>13:00:00</td>\n",
       "      <td>12:00:15</td>\n",
       "      <td>91.800861</td>\n",
       "      <td>17.0</td>\n",
       "      <td>10.0</td>\n",
       "      <td>27.0</td>\n",
       "      <td>0.8564</td>\n",
       "      <td>1.56</td>\n",
       "      <td>1.00</td>\n",
       "      <td>4.68</td>\n",
       "      <td>0</td>\n",
       "      <td>0</td>\n",
       "      <td>0</td>\n",
       "      <td>1.201478</td>\n",
       "    </tr>\n",
       "    <tr>\n",
       "      <th>1</th>\n",
       "      <td>2</td>\n",
       "      <td>13:00:00</td>\n",
       "      <td>10:28:10</td>\n",
       "      <td>206.599732</td>\n",
       "      <td>88.0</td>\n",
       "      <td>15.0</td>\n",
       "      <td>103.0</td>\n",
       "      <td>0.8516</td>\n",
       "      <td>1.14</td>\n",
       "      <td>1.00</td>\n",
       "      <td>4.76</td>\n",
       "      <td>0</td>\n",
       "      <td>0</td>\n",
       "      <td>0</td>\n",
       "      <td>1.557546</td>\n",
       "    </tr>\n",
       "    <tr>\n",
       "      <th>2</th>\n",
       "      <td>2</td>\n",
       "      <td>11:00:00</td>\n",
       "      <td>10:40:50</td>\n",
       "      <td>93.458001</td>\n",
       "      <td>6.0</td>\n",
       "      <td>0.0</td>\n",
       "      <td>6.0</td>\n",
       "      <td>0.8337</td>\n",
       "      <td>2.03</td>\n",
       "      <td>1.00</td>\n",
       "      <td>4.96</td>\n",
       "      <td>0</td>\n",
       "      <td>1</td>\n",
       "      <td>0</td>\n",
       "      <td>2.360018</td>\n",
       "    </tr>\n",
       "    <tr>\n",
       "      <th>3</th>\n",
       "      <td>2</td>\n",
       "      <td>10:00:00</td>\n",
       "      <td>9:41:47</td>\n",
       "      <td>124.778761</td>\n",
       "      <td>12.0</td>\n",
       "      <td>5.0</td>\n",
       "      <td>17.0</td>\n",
       "      <td>0.8571</td>\n",
       "      <td>2.06</td>\n",
       "      <td>0.92</td>\n",
       "      <td>4.92</td>\n",
       "      <td>0</td>\n",
       "      <td>1</td>\n",
       "      <td>0</td>\n",
       "      <td>1.899097</td>\n",
       "    </tr>\n",
       "    <tr>\n",
       "      <th>4</th>\n",
       "      <td>2</td>\n",
       "      <td>11:00:00</td>\n",
       "      <td>10:07:53</td>\n",
       "      <td>130.321208</td>\n",
       "      <td>28.0</td>\n",
       "      <td>16.0</td>\n",
       "      <td>44.0</td>\n",
       "      <td>0.8625</td>\n",
       "      <td>1.89</td>\n",
       "      <td>1.00</td>\n",
       "      <td>4.92</td>\n",
       "      <td>0</td>\n",
       "      <td>0</td>\n",
       "      <td>0</td>\n",
       "      <td>0.289042</td>\n",
       "    </tr>\n",
       "  </tbody>\n",
       "</table>\n",
       "</div>"
      ],
      "text/plain": [
       "   dia   promesa   entrega      tiempo  sin_pesar  pesados  cantidad_total  \\\n",
       "0    2  13:00:00  12:00:15   91.800861       17.0     10.0            27.0   \n",
       "1    2  13:00:00  10:28:10  206.599732       88.0     15.0           103.0   \n",
       "2    2  11:00:00  10:40:50   93.458001        6.0      0.0             6.0   \n",
       "3    2  10:00:00   9:41:47  124.778761       12.0      5.0            17.0   \n",
       "4    2  11:00:00  10:07:53  130.321208       28.0     16.0            44.0   \n",
       "\n",
       "   p_aciertos  velocidad  p_aceptacion  score_recolector  seniority_BEGINNER  \\\n",
       "0      0.8564       1.56          1.00              4.68                   0   \n",
       "1      0.8516       1.14          1.00              4.76                   0   \n",
       "2      0.8337       2.03          1.00              4.96                   0   \n",
       "3      0.8571       2.06          0.92              4.92                   0   \n",
       "4      0.8625       1.89          1.00              4.92                   0   \n",
       "\n",
       "   seniority_INTERMEDIATE  seniority_REVIEW  distancia  \n",
       "0                       0                 0   1.201478  \n",
       "1                       0                 0   1.557546  \n",
       "2                       1                 0   2.360018  \n",
       "3                       1                 0   1.899097  \n",
       "4                       0                 0   0.289042  "
      ]
     },
     "execution_count": 73,
     "metadata": {},
     "output_type": "execute_result"
    }
   ],
   "source": [
    "df.head()"
   ]
  },
  {
   "cell_type": "code",
   "execution_count": 74,
   "metadata": {},
   "outputs": [
    {
     "data": {
      "image/png": "[encoded data removed]",
      "text/plain": [
       "<Figure size 576x288 with 1 Axes>"
      ]
     },
     "metadata": {},
     "output_type": "display_data"
    }
   ],
   "source": [
    "plt.figure(figsize=(8, 4))\n",
    "sns.distplot(df_sin_imputaciones['distancia'], axlabel='Distancia en km')\n",
    "plt.axvline(df_sin_imputaciones['distancia'].mean(), color = 'tomato', ls='--', label=\"Media\")\n",
    "plt.title(\"Distribución de los KM\")\n",
    "plt.legend();"
   ]
  },
  {
   "cell_type": "markdown",
   "metadata": {},
   "source": [
    "La distancia en kms se encuentrean principalmente entre 0 y 5 kms, incluyendo datos que podemos considerar outliers (como 25 kms de distancia)"
   ]
  },
  {
   "cell_type": "code",
   "execution_count": 75,
   "metadata": {},
   "outputs": [
    {
     "name": "stdout",
     "output_type": "stream",
     "text": [
      "Distancia en km vs tiempo en minutos\n"
     ]
    },
    {
     "data": {
      "image/png": "[encoded data removed]",
      "text/plain": [
       "<Figure size 432x432 with 3 Axes>"
      ]
     },
     "metadata": {},
     "output_type": "display_data"
    }
   ],
   "source": [
    "print(\"Distancia en km vs tiempo en minutos\")\n",
    "sns.jointplot(y='tiempo', x='distancia', data=df_sin_imputaciones, kind=\"reg\")\n",
    "plt.xlabel(\"Distancia\")\n",
    "plt.ylabel(\"Tiempo\");"
   ]
  },
  {
   "cell_type": "markdown",
   "metadata": {},
   "source": [
    "Hay una correlación positiva entre distancia y tiempo, sin embargo es baja y se puede deber a que no puede ser que hay otros atributos que afectan de forma más directa al tiempo, como el día y hora de la semana.\n",
    "\n",
    "Por ejemplo, si aislamos el día domingo, a las 22 hrs, vemos una correlación positiva entre ambas variables, pero en otros casos esta variable parece no influir, como por ejemplo dia 1 y hora 22."
   ]
  },
  {
   "cell_type": "code",
   "execution_count": 76,
   "metadata": {},
   "outputs": [],
   "source": [
    "time = pd.DataFrame(df_sin_imputaciones['entrega'].str.split(':', expand=True))\n",
    "time.columns = ('hora','minuto','segundos')\n",
    "\n",
    "df_sin_imputaciones['hora'] = pd.to_numeric(time['hora'])"
   ]
  },
  {
   "cell_type": "code",
   "execution_count": 77,
   "metadata": {},
   "outputs": [
    {
     "data": {
      "image/png": "[encoded data removed]",
      "text/plain": [
       "<Figure size 432x288 with 1 Axes>"
      ]
     },
     "metadata": {},
     "output_type": "display_data"
    }
   ],
   "source": [
    "sns.regplot(data=df_sin_imputaciones.query(\"dia==0 and hora==22\"), x='distancia', y='tiempo');"
   ]
  },
  {
   "cell_type": "markdown",
   "metadata": {},
   "source": [
    "A diferencia del ejemplo anterior aislando el día lunes a la misma hora podemos observar que que la regresión tiende a ser levemente negativa, por lo cual no estamos tan seguro de que el día y la hora son variables relevantes que afecten al tiempo con respecto a la distancia.Ç"
   ]
  },
  {
   "cell_type": "code",
   "execution_count": 78,
   "metadata": {},
   "outputs": [
    {
     "data": {
      "image/png": "[encoded data removed]",
      "text/plain": [
       "<Figure size 432x288 with 1 Axes>"
      ]
     },
     "metadata": {},
     "output_type": "display_data"
    }
   ],
   "source": [
    "sns.regplot(data=df_sin_imputaciones.query(\"dia==1 and hora==22\"), x='distancia', y='tiempo');"
   ]
  },
  {
   "cell_type": "markdown",
   "metadata": {},
   "source": [
    "### A2.2 - Análisis de cantidad de productos por orden v/s tiempo de entrega"
   ]
  },
  {
   "cell_type": "markdown",
   "metadata": {},
   "source": [
    "### A2.2.1 - Distribución de productos por orden"
   ]
  },
  {
   "cell_type": "code",
   "execution_count": 79,
   "metadata": {},
   "outputs": [],
   "source": [
    "df_sin_imputaciones['pesaje'] = np.where(df['pesados'] >= 1, 1, 0)"
   ]
  },
  {
   "cell_type": "markdown",
   "metadata": {},
   "source": [
    "La mayor cantidad de compras son de cantidades bajas de productos, con un promedio de 16.7 productos por pedido, lo que representa el ticket promedio de la compra de los clientes."
   ]
  },
  {
   "cell_type": "code",
   "execution_count": 80,
   "metadata": {},
   "outputs": [
    {
     "data": {
      "image/png": "[encoded data removed]",
      "text/plain": [
       "<Figure size 576x360 with 1 Axes>"
      ]
     },
     "metadata": {},
     "output_type": "display_data"
    }
   ],
   "source": [
    "plt.figure(figsize=(8, 5))\n",
    "sns.distplot(df_sin_imputaciones['cantidad_total'])\n",
    "plt.axvline(df_sin_imputaciones['cantidad_total'].mean(), color='tomato', ls='--', label=\"Media\")\n",
    "plt.xlabel(\"Productos\")\n",
    "plt.title(\"Cantidad Total de Productos\");\n",
    "plt.legend();"
   ]
  },
  {
   "cell_type": "code",
   "execution_count": 81,
   "metadata": {},
   "outputs": [
    {
     "name": "stdout",
     "output_type": "stream",
     "text": [
      "Promedio de Productos por compra: 16.73\n"
     ]
    }
   ],
   "source": [
    "print(\"Promedio de Productos por compra:\", round(df['cantidad_total'].mean(), 2))"
   ]
  },
  {
   "cell_type": "markdown",
   "metadata": {},
   "source": [
    "Se puede observar que en las ordenes de compra mayormente los productos que solicitan son de tipo que deben ser pesados, lo que representa el __62%__ en los __KG__ y un __38%__ en __UN__."
   ]
  },
  {
   "cell_type": "code",
   "execution_count": 82,
   "metadata": {},
   "outputs": [
    {
     "data": {
      "text/plain": [
       "1    3595\n",
       "0    2195\n",
       "Name: pesaje, dtype: int64"
      ]
     },
     "execution_count": 82,
     "metadata": {},
     "output_type": "execute_result"
    }
   ],
   "source": [
    "df_sin_imputaciones['pesaje'].value_counts()"
   ]
  },
  {
   "cell_type": "code",
   "execution_count": 83,
   "metadata": {},
   "outputs": [
    {
     "data": {
      "image/png": "[encoded data removed]",
      "text/plain": [
       "<Figure size 576x360 with 1 Axes>"
      ]
     },
     "metadata": {},
     "output_type": "display_data"
    }
   ],
   "source": [
    "plt.figure(figsize=(8, 5))\n",
    "sns.countplot(data=df_sin_imputaciones, x='pesaje')\n",
    "plt.xlabel(\"Pesados\")\n",
    "plt.ylabel(\"Cantidad\")\n",
    "plt.title(\"Cantidad de Productos pesados\");"
   ]
  },
  {
   "cell_type": "markdown",
   "metadata": {},
   "source": [
    "El gráfico ademas nos muestra que aquellas compras que tienen productos que se deben pesar, tienen una distribución diferente a aquellos en los que no se pide ningun producto de pesaje, siendo su promedio mayor en aquellos que deben ser pesados. Se logra apreciar que en las compras con una cantidad hasta 10 productos, predomina los productos que no se pesan, es decir, estas compras chicas mayormente son productos por unidad, por otra parte, a medida que la cantidad de productos de una orden aumenta, los productos por unidad empiezan a decrecer y aumentan los productos que deben ser pesados."
   ]
  },
  {
   "cell_type": "code",
   "execution_count": 84,
   "metadata": {},
   "outputs": [
    {
     "data": {
      "text/plain": [
       "<Figure size 720x360 with 0 Axes>"
      ]
     },
     "metadata": {},
     "output_type": "display_data"
    },
    {
     "data": {
      "image/png": "[encoded data removed]",
      "text/plain": [
       "<Figure size 473.625x288 with 1 Axes>"
      ]
     },
     "metadata": {},
     "output_type": "display_data"
    }
   ],
   "source": [
    "plt.figure(figsize=(10, 5))\n",
    "g = sns.FacetGrid(df_sin_imputaciones, hue=\"pesaje\", size=4, aspect=1.5)\n",
    "g = g.map(sns.distplot, \"cantidad_total\")\n",
    "g.add_legend()\n",
    "plt.xlabel(\"Productos\")\n",
    "plt.title(\"Distribución por tipo de producto en la compra\");"
   ]
  },
  {
   "cell_type": "code",
   "execution_count": 85,
   "metadata": {},
   "outputs": [
    {
     "name": "stdout",
     "output_type": "stream",
     "text": [
      "Promedio de productos en ordenes sin productos que deban ser pesados =  7.14\n",
      "Promedio de productos en ordenes con productos que deban ser pesados =  22.59\n"
     ]
    }
   ],
   "source": [
    "print(\"Promedio de productos en ordenes sin productos que deban ser pesados = \", round(df_sin_imputaciones.query(\"pesaje==0\")['cantidad_total'].mean(), 2))\n",
    "print(\"Promedio de productos en ordenes con productos que deban ser pesados = \", round(df_sin_imputaciones.query(\"pesaje==1\")['cantidad_total'].mean(), 2))"
   ]
  },
  {
   "cell_type": "markdown",
   "metadata": {},
   "source": [
    "### A2.2.2 - Relación con el tiempo de entrega"
   ]
  },
  {
   "cell_type": "code",
   "execution_count": 86,
   "metadata": {
    "scrolled": false
   },
   "outputs": [
    {
     "data": {
      "image/png": "[encoded data removed]",
      "text/plain": [
       "<Figure size 576x360 with 1 Axes>"
      ]
     },
     "metadata": {},
     "output_type": "display_data"
    }
   ],
   "source": [
    "plt.figure(figsize=(8, 5))\n",
    "sns.distplot(df_sin_imputaciones['tiempo'])\n",
    "plt.xlabel(\"Tiempo (min)\")\n",
    "plt.axvline(df_sin_imputaciones['tiempo'].mean(), color='tomato', ls='--', label=\"Media\")\n",
    "plt.title(\"Distribución del Tiempo\");"
   ]
  },
  {
   "cell_type": "code",
   "execution_count": 87,
   "metadata": {},
   "outputs": [
    {
     "name": "stdout",
     "output_type": "stream",
     "text": [
      "Promedio del tiempo de entrega: 86.99\n"
     ]
    }
   ],
   "source": [
    "print(\"Promedio del tiempo de entrega:\", round(df_sin_imputaciones['tiempo'].mean(), 2))"
   ]
  },
  {
   "cell_type": "markdown",
   "metadata": {},
   "source": [
    "El gráfico muestra evidencia para apoyar nuestra hipótesis, ya que se ve una correlación positiva entre la cantidad total de productos con el tiempo de entrega, es decir, a mayor cantidad de productos en una orden de compra, mayor tiempo en la entrega, lo que es algo lógico en este tipo de proceso de compras."
   ]
  },
  {
   "cell_type": "code",
   "execution_count": 88,
   "metadata": {},
   "outputs": [
    {
     "data": {
      "image/png": "[encoded data removed]",
      "text/plain": [
       "<Figure size 432x288 with 1 Axes>"
      ]
     },
     "metadata": {},
     "output_type": "display_data"
    }
   ],
   "source": [
    "sns.scatterplot(data=df_sin_imputaciones, x='cantidad_total', y='tiempo')\n",
    "plt.xlabel(\"Cantidad de Productos\")\n",
    "plt.ylabel(\"Tiempo\")\n",
    "plt.title(\"Cantidad de Productos con relación al tiempo\");"
   ]
  },
  {
   "cell_type": "markdown",
   "metadata": {},
   "source": [
    "### A2.3 - Calificación del repartidor v/s tiempo de entrega"
   ]
  },
  {
   "cell_type": "markdown",
   "metadata": {},
   "source": [
    "La calificación del recolector se encuentra muy acotada entre los valores 4.50 y 5, haremos una prueba posterior con respecto al tiempo para saber que tan influyente o relevante puede ser."
   ]
  },
  {
   "cell_type": "code",
   "execution_count": 89,
   "metadata": {},
   "outputs": [
    {
     "data": {
      "image/png": "[encoded data removed]",
      "text/plain": [
       "<Figure size 432x288 with 1 Axes>"
      ]
     },
     "metadata": {},
     "output_type": "display_data"
    }
   ],
   "source": [
    "sns.distplot(df_sin_imputaciones.score_recolector)\n",
    "plt.xlabel(\"Score\")\n",
    "plt.ylabel(\"Cantidad\")\n",
    "plt.title(\"Clasificación Recolector\");"
   ]
  },
  {
   "cell_type": "markdown",
   "metadata": {},
   "source": [
    "En el caso del \"Rating\" del repartidor, de momento el gráfico no nos permite saber si es influyente en el tiempo de entrega, sobre todo por el hecho de que la distribución de las calificaciones es muy acotada entre 4.50 y 5"
   ]
  },
  {
   "cell_type": "code",
   "execution_count": 90,
   "metadata": {},
   "outputs": [
    {
     "data": {
      "image/png": "[encoded data removed]",
      "text/plain": [
       "<Figure size 432x288 with 1 Axes>"
      ]
     },
     "metadata": {},
     "output_type": "display_data"
    }
   ],
   "source": [
    "sns.scatterplot(data=df_sin_imputaciones, x='score_recolector', y='tiempo')\n",
    "plt.xlabel(\"Clasificación Recolector\")\n",
    "plt.ylabel(\"Tiempo\")\n",
    "plt.title(\"Clasificación del Recolector con respecto al tiempo\");"
   ]
  },
  {
   "cell_type": "markdown",
   "metadata": {},
   "source": [
    "### A2.4 - Hora/Día de la semana v/s tiempo de entrega"
   ]
  },
  {
   "cell_type": "markdown",
   "metadata": {},
   "source": [
    "### A2.4.1 - Hora"
   ]
  },
  {
   "cell_type": "markdown",
   "metadata": {},
   "source": [
    "La Mayor cantidad de pedidos se concentra entre 10 y 13, cayendo hasta retomar desde las 19 a las 21 hrs"
   ]
  },
  {
   "cell_type": "code",
   "execution_count": 91,
   "metadata": {},
   "outputs": [
    {
     "data": {
      "image/png": "[encoded data removed]",
      "text/plain": [
       "<Figure size 432x288 with 1 Axes>"
      ]
     },
     "metadata": {},
     "output_type": "display_data"
    }
   ],
   "source": [
    "sns.countplot(data=df_sin_imputaciones, x='hora',).set_title('Cantidad de Pedidos por hora');"
   ]
  },
  {
   "cell_type": "code",
   "execution_count": 92,
   "metadata": {},
   "outputs": [
    {
     "data": {
      "text/plain": [
       "hora\n",
       "0      74.654834\n",
       "7      49.992801\n",
       "8      75.386880\n",
       "9      92.638187\n",
       "10     85.860162\n",
       "11     88.057951\n",
       "12     86.113893\n",
       "13     88.011048\n",
       "14     89.563744\n",
       "15     87.846318\n",
       "16     83.758758\n",
       "17     79.285798\n",
       "18     86.844920\n",
       "19     87.160881\n",
       "20     84.746453\n",
       "21     90.396917\n",
       "22     92.929559\n",
       "23    108.009700\n",
       "Name: tiempo, dtype: float64"
      ]
     },
     "execution_count": 92,
     "metadata": {},
     "output_type": "execute_result"
    }
   ],
   "source": [
    "df_sin_imputaciones.groupby('hora').mean()['tiempo']"
   ]
  },
  {
   "cell_type": "markdown",
   "metadata": {},
   "source": [
    "Revisando las horas, notamos que a las 9 hay un peak, al igual que a las 19 horas y luego pasado las 21 hrs"
   ]
  },
  {
   "cell_type": "code",
   "execution_count": 93,
   "metadata": {},
   "outputs": [
    {
     "data": {
      "image/png": "[encoded data removed]",
      "text/plain": [
       "<Figure size 432x288 with 1 Axes>"
      ]
     },
     "metadata": {},
     "output_type": "display_data"
    }
   ],
   "source": [
    "plt.plot(df_sin_imputaciones.groupby('hora').mean()['tiempo'])\n",
    "plt.xlabel(\"Tiempo (Hora)\")\n",
    "plt.ylabel(\"Promedio\")\n",
    "plt.title('Hora vs Tiempo de entrega');"
   ]
  },
  {
   "cell_type": "markdown",
   "metadata": {},
   "source": [
    "### A.2.4.2 - Dia de la semana"
   ]
  },
  {
   "cell_type": "markdown",
   "metadata": {},
   "source": [
    "De Lunes a jueves se concentra la mayor cantidad de pedidos, siendo viernes a domingo los que tienen menos pedidos."
   ]
  },
  {
   "cell_type": "code",
   "execution_count": 94,
   "metadata": {},
   "outputs": [
    {
     "data": {
      "image/png": "[encoded data removed]",
      "text/plain": [
       "<Figure size 432x288 with 1 Axes>"
      ]
     },
     "metadata": {},
     "output_type": "display_data"
    }
   ],
   "source": [
    "sns.countplot(data=df_sin_imputaciones, x='dia')\n",
    "plt.xlabel(\"Día\")\n",
    "plt.ylabel(\"Cantidad\")\n",
    "plt.title('Cantidad de Pedidos por dia de la semana');"
   ]
  },
  {
   "cell_type": "markdown",
   "metadata": {},
   "source": [
    "El tiempo de entrega es consistente con la cantidad de pedidos de cada día, excepto en el día jueves, donde es menor en promedio que la cantidad de pedidos del mismo día"
   ]
  },
  {
   "cell_type": "code",
   "execution_count": 95,
   "metadata": {},
   "outputs": [
    {
     "data": {
      "text/plain": [
       "dia\n",
       "0    81.147438\n",
       "1    90.756681\n",
       "2    90.570261\n",
       "3    88.816851\n",
       "4    85.028184\n",
       "5    84.869103\n",
       "6    80.887471\n",
       "Name: tiempo, dtype: float64"
      ]
     },
     "execution_count": 95,
     "metadata": {},
     "output_type": "execute_result"
    }
   ],
   "source": [
    "df_sin_imputaciones.groupby('dia').mean()['tiempo']"
   ]
  },
  {
   "cell_type": "code",
   "execution_count": 96,
   "metadata": {},
   "outputs": [
    {
     "data": {
      "image/png": "[encoded data removed]",
      "text/plain": [
       "<Figure size 432x288 with 1 Axes>"
      ]
     },
     "metadata": {},
     "output_type": "display_data"
    }
   ],
   "source": [
    "plt.plot(df_sin_imputaciones.groupby('dia').mean()['tiempo'])\n",
    "plt.title('Día de la Semana vs Tiempo de Entrega')\n",
    "plt.xlabel(\"Día\")\n",
    "plt.ylabel(\"Tiempo (min)\");"
   ]
  },
  {
   "cell_type": "markdown",
   "metadata": {},
   "source": [
    "### A2.4.3 - Día y Fecha"
   ]
  },
  {
   "cell_type": "markdown",
   "metadata": {},
   "source": [
    "Notamos que diferentes días tienen diferentes peaks de tiempo de demora, por ejemplo, los dias lunes hay grandes tiempos de entrega entre 15 y 16, y luego entre 18 y 22. Por otro lado, el dia martes tiene altos tiempos de entrega duante la mañana. El dia miercoles a las 21 hrs tiene un tiempo de espera superlativamente mayor al resto de los dias.\n"
   ]
  },
  {
   "cell_type": "code",
   "execution_count": 97,
   "metadata": {},
   "outputs": [],
   "source": [
    "table = pd.pivot_table(df_sin_imputaciones, values='tiempo', index=['hora'], columns=['dia'], aggfunc=np.mean)"
   ]
  },
  {
   "cell_type": "code",
   "execution_count": 98,
   "metadata": {},
   "outputs": [
    {
     "data": {
      "image/png": "[encoded data removed]",
      "text/plain": [
       "<Figure size 864x720 with 2 Axes>"
      ]
     },
     "metadata": {},
     "output_type": "display_data"
    }
   ],
   "source": [
    "plt.figure(figsize=(12, 10))\n",
    "sns.heatmap(table,annot=True, cmap='coolwarm', fmt=\".1f\")\n",
    "plt.xlabel(\"Día\")\n",
    "plt.ylabel(\"Hora\")\n",
    "plt.title(\"Tiempo de entrega por Día/Hora\");"
   ]
  },
  {
   "cell_type": "markdown",
   "metadata": {},
   "source": [
    "### A.4 - Modelamiento con Dataset imputado"
   ]
  },
  {
   "cell_type": "code",
   "execution_count": 99,
   "metadata": {},
   "outputs": [],
   "source": [
    "#Procedo a dividir la data en entrenamiento y validación\n",
    "X = df_imputados.drop(columns='tiempo')\n",
    "Y = df_imputados.pop('tiempo')\n",
    "\n",
    "#Dividimos la data en 70/30\n",
    "X_train, X_test, y_train, y_test = train_test_split(X, Y, test_size=.30, random_state=123)\n",
    "\n",
    "#Normalizamos la data\n",
    "X_train_scaled = StandardScaler().fit_transform(X_train)\n",
    "X_test_scaled = StandardScaler().fit_transform(X_test)"
   ]
  },
  {
   "cell_type": "markdown",
   "metadata": {},
   "source": [
    "#### Implementamos los modelos:\n",
    "1. LinearRegression\n",
    "2. LassoCV\n",
    "3. RidgeCV"
   ]
  },
  {
   "cell_type": "markdown",
   "metadata": {},
   "source": [
    "#### 1.- Linear Regression"
   ]
  },
  {
   "cell_type": "code",
   "execution_count": 100,
   "metadata": {},
   "outputs": [],
   "source": [
    "model_lr = LinearRegression().fit(X_train_scaled, y_train)\n",
    "model_lr_pred = model_lr.predict(X_test_scaled)"
   ]
  },
  {
   "cell_type": "code",
   "execution_count": 101,
   "metadata": {},
   "outputs": [
    {
     "name": "stdout",
     "output_type": "stream",
     "text": [
      "MAE: 22.4470171442638\n",
      "RMSE: 31.89021474411099\n"
     ]
    }
   ],
   "source": [
    "print(\"MAE:\", mean_absolute_error(y_test, model_lr_pred))\n",
    "print(\"RMSE:\", np.sqrt(mean_squared_error(y_test, model_lr_pred)))"
   ]
  },
  {
   "cell_type": "code",
   "execution_count": 102,
   "metadata": {},
   "outputs": [],
   "source": [
    "#Buscando la mejor combinación de hiperparametros\n",
    "fit_intercept = [True]\n",
    "param_grid = dict(fit_intercept=fit_intercept)\n",
    "gridsearch = GridSearchCV(LinearRegression(), param_grid=param_grid, cv=5, n_jobs=-1, verbose=False)\n",
    "result = gridsearch.fit(X_train_scaled, y_train)"
   ]
  },
  {
   "cell_type": "code",
   "execution_count": 103,
   "metadata": {},
   "outputs": [
    {
     "name": "stdout",
     "output_type": "stream",
     "text": [
      "Best Scoring: 0.306611 using: LinearRegression(copy_X=True, fit_intercept=True, n_jobs=1, normalize=False)\n"
     ]
    }
   ],
   "source": [
    "print(\"Best Scoring: %f using: %s\" %(result.best_score_, result.best_estimator_))"
   ]
  },
  {
   "cell_type": "code",
   "execution_count": 104,
   "metadata": {},
   "outputs": [],
   "source": [
    "model_lr_cv = LinearRegression(fit_intercept=True, copy_X=True, n_jobs=-1, normalize=False)\n",
    "model_lr_cv = model_lr_cv.fit(X_train_scaled, y_train)\n",
    "model_lr_cv_pred = model_lr_cv.predict(X_test_scaled)"
   ]
  },
  {
   "cell_type": "code",
   "execution_count": 105,
   "metadata": {},
   "outputs": [
    {
     "name": "stdout",
     "output_type": "stream",
     "text": [
      "MAE: 22.4470171442638\n",
      "RMSE: 31.89021474411099\n"
     ]
    }
   ],
   "source": [
    "print(\"MAE:\", mean_absolute_error(y_test, model_lr_cv_pred))\n",
    "print(\"RMSE:\", np.sqrt(mean_squared_error(y_test, model_lr_cv_pred)))"
   ]
  },
  {
   "cell_type": "markdown",
   "metadata": {},
   "source": [
    "#### 2.- LassoCV"
   ]
  },
  {
   "cell_type": "code",
   "execution_count": 106,
   "metadata": {},
   "outputs": [],
   "source": [
    "model_lasso = LassoCV().fit(X_train_scaled, y_train)\n",
    "model_lasso_pred = model_lasso.predict(X_test_scaled)"
   ]
  },
  {
   "cell_type": "code",
   "execution_count": 107,
   "metadata": {},
   "outputs": [
    {
     "name": "stdout",
     "output_type": "stream",
     "text": [
      "MAE: 22.451750411828687\n",
      "RMSE: 31.889551140005736\n"
     ]
    }
   ],
   "source": [
    "print(\"MAE:\", mean_absolute_error(y_test, model_lasso_pred))\n",
    "print(\"RMSE:\", np.sqrt(mean_squared_error(y_test, model_lasso_pred)))"
   ]
  },
  {
   "cell_type": "markdown",
   "metadata": {},
   "source": [
    "#### 3.- RidgeCV"
   ]
  },
  {
   "cell_type": "code",
   "execution_count": 108,
   "metadata": {},
   "outputs": [],
   "source": [
    "model_ridge = RidgeCV().fit(X_train_scaled, y_train)\n",
    "model_ridge_pred = model_ridge.predict(X_test_scaled)"
   ]
  },
  {
   "cell_type": "code",
   "execution_count": 109,
   "metadata": {},
   "outputs": [
    {
     "name": "stdout",
     "output_type": "stream",
     "text": [
      "MAE: 22.44981989871722\n",
      "RMSE: 31.890609484090774\n"
     ]
    }
   ],
   "source": [
    "print(\"MAE:\", mean_absolute_error(y_test, model_ridge_pred))\n",
    "print(\"RMSE:\", np.sqrt(mean_squared_error(y_test, model_ridge_pred)))"
   ]
  },
  {
   "cell_type": "markdown",
   "metadata": {},
   "source": [
    "#### 4.- DecissionTreeRegressor"
   ]
  },
  {
   "cell_type": "code",
   "execution_count": 110,
   "metadata": {},
   "outputs": [],
   "source": [
    "model_dtr = DecisionTreeRegressor().fit(X_train_scaled, y_train)\n",
    "model_dtr_pred = model_dtr.predict(X_test_scaled)"
   ]
  },
  {
   "cell_type": "code",
   "execution_count": 111,
   "metadata": {},
   "outputs": [
    {
     "name": "stdout",
     "output_type": "stream",
     "text": [
      "MAE: 34.42719553642384\n",
      "RMSE: 47.06134214007179\n"
     ]
    }
   ],
   "source": [
    "print(\"MAE:\", mean_absolute_error(y_test, model_dtr_pred))\n",
    "print(\"RMSE:\", np.sqrt(mean_squared_error(y_test, model_dtr_pred)))"
   ]
  },
  {
   "cell_type": "code",
   "execution_count": 112,
   "metadata": {},
   "outputs": [
    {
     "name": "stdout",
     "output_type": "stream",
     "text": [
      "CPU times: user 2.03 s, sys: 79.9 ms, total: 2.11 s\n",
      "Wall time: 16.3 s\n"
     ]
    }
   ],
   "source": [
    "%%time\n",
    "#Implementación de GridSearch\n",
    "max_features = list(range(1,X_train_scaled.shape[1]))\n",
    "max_depth = np.linspace(1, 32, 32)\n",
    "param_grid = dict(max_features= max_features, max_depth=max_depth)\n",
    "grid_search = GridSearchCV(DecisionTreeRegressor(), param_grid=param_grid, cv=5, n_jobs=-1, verbose=0)\n",
    "result = grid_search.fit(X_train_scaled, y_train)"
   ]
  },
  {
   "cell_type": "code",
   "execution_count": 113,
   "metadata": {},
   "outputs": [
    {
     "name": "stdout",
     "output_type": "stream",
     "text": [
      "Best Scoring: 0.249010 using: DecisionTreeRegressor(criterion='mse', max_depth=4.0, max_features=10,\n",
      "           max_leaf_nodes=None, min_impurity_decrease=0.0,\n",
      "           min_impurity_split=None, min_samples_leaf=1,\n",
      "           min_samples_split=2, min_weight_fraction_leaf=0.0,\n",
      "           presort=False, random_state=None, splitter='best')\n"
     ]
    }
   ],
   "source": [
    "print(\"Best Scoring: %f using: %s\" %(result.best_score_, result.best_estimator_))"
   ]
  },
  {
   "cell_type": "code",
   "execution_count": 114,
   "metadata": {},
   "outputs": [],
   "source": [
    "model_dtr_cv = DecisionTreeRegressor(max_depth=4, max_features=13)\n",
    "model_dtr_cv = model_dtr_cv.fit(X_train_scaled, y_train)\n",
    "model_dtr_cv_pred = model_dtr_cv.predict(X_test_scaled)"
   ]
  },
  {
   "cell_type": "code",
   "execution_count": 115,
   "metadata": {},
   "outputs": [
    {
     "name": "stdout",
     "output_type": "stream",
     "text": [
      "MAE: 24.34975140278517\n",
      "RMSE: 33.60499461839941\n"
     ]
    }
   ],
   "source": [
    "print(\"MAE:\", mean_absolute_error(y_test, model_dtr_cv_pred))\n",
    "print(\"RMSE:\", np.sqrt(mean_squared_error(y_test, model_dtr_cv_pred)))"
   ]
  },
  {
   "cell_type": "markdown",
   "metadata": {},
   "source": [
    "#### 5.- RandomForestRegressor"
   ]
  },
  {
   "cell_type": "code",
   "execution_count": 116,
   "metadata": {},
   "outputs": [],
   "source": [
    "model_rf = RandomForestRegressor().fit(X_train_scaled, y_train)\n",
    "model_rf_pred = model_rf.predict(X_test_scaled)"
   ]
  },
  {
   "cell_type": "code",
   "execution_count": 117,
   "metadata": {},
   "outputs": [
    {
     "name": "stdout",
     "output_type": "stream",
     "text": [
      "MAE: 25.2866960075191\n",
      "RMSE: 34.29868041223241\n"
     ]
    }
   ],
   "source": [
    "print(\"MAE:\", mean_absolute_error(y_test, model_rf_pred))\n",
    "print(\"RMSE:\", np.sqrt(mean_squared_error(y_test, model_rf_pred)))"
   ]
  },
  {
   "cell_type": "code",
   "execution_count": 118,
   "metadata": {},
   "outputs": [],
   "source": [
    "# generamos una serie de listas para guardar los valores\n",
    "tmp_oob_none, tmp_oob_sqrt, tmp_oob_log2 = [], [], []\n",
    "n_estimators = range(20, 1000, 50)"
   ]
  },
  {
   "cell_type": "code",
   "execution_count": 119,
   "metadata": {},
   "outputs": [],
   "source": [
    "# para cada rango de modelos estimados\n",
    "for i in n_estimators:\n",
    "    # Implementamos una variante con todos los atributos\n",
    "    voting_rf_none = RandomForestRegressor(n_estimators= i,max_features=None,\n",
    "                                       oob_score=True,\n",
    "                                       random_state=123).fit(X_train_scaled, y_train)\n",
    "    # Implementamos una variante donde los atributos se escogen con sqrt\n",
    "    voting_rf_sqrt = RandomForestRegressor(n_estimators= i, max_features=\"sqrt\",\n",
    "                               warm_start=True,\n",
    "                               oob_score=True,\n",
    "                               random_state=123).fit(X_train_scaled, y_train)\n",
    "    # Implementamos una variante donde los atributos se escogen con log\n",
    "    voting_rf_log = RandomForestRegressor(n_estimators= i, max_features=\"log2\",\n",
    "                               warm_start=True,\n",
    "                               oob_score=True,\n",
    "                               random_state=123).fit(X_train_scaled, y_train)\n",
    "    # Estimamos el error en OOB\n",
    "    tmp_oob_none.append(1 - voting_rf_none.oob_score_)\n",
    "    tmp_oob_sqrt.append(1 - voting_rf_sqrt.oob_score_)\n",
    "    tmp_oob_log2.append(1 - voting_rf_log.oob_score_)\n",
    "    \n"
   ]
  },
  {
   "cell_type": "code",
   "execution_count": 120,
   "metadata": {},
   "outputs": [
    {
     "data": {
      "text/plain": [
       "<Figure size 1152x216 with 0 Axes>"
      ]
     },
     "metadata": {},
     "output_type": "display_data"
    },
    {
     "data": {
      "image/png": "[encoded data removed]",
      "text/plain": [
       "<Figure size 432x288 with 3 Axes>"
      ]
     },
     "metadata": {},
     "output_type": "display_data"
    }
   ],
   "source": [
    "#Graficamos el comportamiento por cada variable\n",
    "plt.figure(figsize=(16, 3));\n",
    "fig, axs = plt.subplots(1, 3, sharex=True, sharey=True);\n",
    "axs[0].plot(tmp_oob_none, '.-', label=\"OBB None\");\n",
    "axs[0].set_title(\"None\");\n",
    "axs[1].plot(tmp_oob_sqrt, '.-', label= 'OBB sqrt');\n",
    "axs[1].set_title(\"sqrt\");\n",
    "axs[2].plot(tmp_oob_log2, '.-', label=\"OBB log2\");\n",
    "axs[2].set_title(\"log2\");\n",
    "plt.legend();"
   ]
  },
  {
   "cell_type": "code",
   "execution_count": 121,
   "metadata": {},
   "outputs": [],
   "source": [
    "#Ajustando hiperparametros en el modelo\n",
    "model_rf_cv = RandomForestRegressor(max_features='log2', n_estimators=15, random_state=15)\n",
    "model_rf_cv = model_rf_cv.fit(X_train_scaled, y_train)\n",
    "model_rf_cv_pred = model_rf_cv.predict(X_test_scaled)"
   ]
  },
  {
   "cell_type": "code",
   "execution_count": 122,
   "metadata": {},
   "outputs": [
    {
     "name": "stdout",
     "output_type": "stream",
     "text": [
      "MAE: 23.898188859840378\n",
      "RMSE: 33.239775436609285\n"
     ]
    }
   ],
   "source": [
    "print(\"MAE:\", mean_absolute_error(y_test, model_rf_cv_pred))\n",
    "print(\"RMSE:\", np.sqrt(mean_squared_error(y_test, model_rf_cv_pred)))"
   ]
  },
  {
   "cell_type": "markdown",
   "metadata": {},
   "source": [
    "#### 6.- AdaBoostRegressor"
   ]
  },
  {
   "cell_type": "code",
   "execution_count": 123,
   "metadata": {},
   "outputs": [],
   "source": [
    "model_adaboost = AdaBoostRegressor().fit(X_train_scaled, y_train)\n",
    "model_adaboost_pred = model_adaboost.predict(X_test_scaled)"
   ]
  },
  {
   "cell_type": "code",
   "execution_count": 124,
   "metadata": {},
   "outputs": [
    {
     "name": "stdout",
     "output_type": "stream",
     "text": [
      "MAE: 25.725866717517473\n",
      "RMSE: 34.59039632994831\n"
     ]
    }
   ],
   "source": [
    "print(\"MAE:\", mean_absolute_error(y_test, model_adaboost_pred))\n",
    "print(\"RMSE:\", np.sqrt(mean_squared_error(y_test, model_adaboost_pred)))"
   ]
  },
  {
   "cell_type": "code",
   "execution_count": 125,
   "metadata": {},
   "outputs": [],
   "source": [
    "#Buscamos la mejor combinación de hiperparametros\n",
    "learning_rate = [0.01, 0.1, 0.5]\n",
    "n_estimators = [50, 100, 500, 1000, 2000]\n",
    "param_grid = dict(learning_rate=learning_rate, n_estimators=n_estimators)\n",
    "gridsearch = GridSearchCV(AdaBoostRegressor(), param_grid=param_grid, n_jobs=-1, cv=5, verbose=0)\n",
    "result = gridsearch.fit(X_train_scaled, y_train)"
   ]
  },
  {
   "cell_type": "code",
   "execution_count": 126,
   "metadata": {},
   "outputs": [
    {
     "name": "stdout",
     "output_type": "stream",
     "text": [
      "Best scoring: 0.257939 using: AdaBoostRegressor(base_estimator=None, learning_rate=0.01, loss='linear',\n",
      "         n_estimators=50, random_state=None)\n"
     ]
    }
   ],
   "source": [
    "print(\"Best scoring: %f using: %s\" %(result.best_score_, result.best_estimator_))"
   ]
  },
  {
   "cell_type": "code",
   "execution_count": 127,
   "metadata": {},
   "outputs": [],
   "source": [
    "model_adaboost_cv = AdaBoostRegressor(learning_rate=0.01, n_estimators=50)\n",
    "model_adaboost_cv = model_adaboost_cv.fit(X_train_scaled, y_train)\n",
    "model_adaboost_cv_pred = model_adaboost_cv.predict(X_test_scaled)"
   ]
  },
  {
   "cell_type": "code",
   "execution_count": 128,
   "metadata": {},
   "outputs": [
    {
     "name": "stdout",
     "output_type": "stream",
     "text": [
      "MAE: 24.01292321270627\n",
      "RMSE: 32.935381098873904\n"
     ]
    }
   ],
   "source": [
    "print(\"MAE:\", mean_absolute_error(y_test, model_adaboost_cv_pred))\n",
    "print(\"RMSE:\", np.sqrt(mean_squared_error(y_test, model_adaboost_cv_pred)))"
   ]
  },
  {
   "cell_type": "code",
   "execution_count": null,
   "metadata": {},
   "outputs": [],
   "source": []
  },
  {
   "cell_type": "code",
   "execution_count": null,
   "metadata": {},
   "outputs": [],
   "source": []
  },
  {
   "cell_type": "code",
   "execution_count": null,
   "metadata": {},
   "outputs": [],
   "source": []
  },
  {
   "cell_type": "code",
   "execution_count": null,
   "metadata": {},
   "outputs": [],
   "source": []
  },
  {
   "cell_type": "code",
   "execution_count": null,
   "metadata": {},
   "outputs": [],
   "source": []
  }
 ],
 "metadata": {
  "kernelspec": {
   "display_name": "Python 3",
   "language": "python",
   "name": "python3"
  },
  "language_info": {
   "codemirror_mode": {
    "name": "ipython",
    "version": 3
   },
   "file_extension": ".py",
   "mimetype": "text/x-python",
   "name": "python",
   "nbconvert_exporter": "python",
   "pygments_lexer": "ipython3",
   "version": "3.6.8"
  }
 },
 "nbformat": 4,
 "nbformat_minor": 2
}
