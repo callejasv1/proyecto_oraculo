{
 "cells": [
  {
   "cell_type": "code",
   "execution_count": 1,
   "metadata": {},
   "outputs": [],
   "source": [
    "import pandas as pd\n",
    "import numpy as np\n",
    "import matplotlib.pyplot as plt\n",
    "import seaborn as sns\n",
    "\n",
    "plt.style.use('seaborn')"
   ]
  },
  {
   "cell_type": "code",
   "execution_count": 2,
   "metadata": {},
   "outputs": [
    {
     "data": {
      "text/html": [
       "<div>\n",
       "<style scoped>\n",
       "    .dataframe tbody tr th:only-of-type {\n",
       "        vertical-align: middle;\n",
       "    }\n",
       "\n",
       "    .dataframe tbody tr th {\n",
       "        vertical-align: top;\n",
       "    }\n",
       "\n",
       "    .dataframe thead th {\n",
       "        text-align: right;\n",
       "    }\n",
       "</style>\n",
       "<table border=\"1\" class=\"dataframe\">\n",
       "  <thead>\n",
       "    <tr style=\"text-align: right;\">\n",
       "      <th></th>\n",
       "      <th>order_id</th>\n",
       "      <th>lat</th>\n",
       "      <th>lng</th>\n",
       "      <th>dow</th>\n",
       "      <th>promised_time</th>\n",
       "      <th>actual_time</th>\n",
       "      <th>on_demand</th>\n",
       "      <th>picker_id</th>\n",
       "      <th>driver_id</th>\n",
       "      <th>store_branch_id</th>\n",
       "      <th>total_minutes</th>\n",
       "    </tr>\n",
       "  </thead>\n",
       "  <tbody>\n",
       "    <tr>\n",
       "      <th>0</th>\n",
       "      <td>6abd5e28d01b7c733fe37485294235dc</td>\n",
       "      <td>1.822.114.109.606.680</td>\n",
       "      <td>-10.031.391.366.664.600</td>\n",
       "      <td>2</td>\n",
       "      <td>13:00:00</td>\n",
       "      <td>12:00:15</td>\n",
       "      <td>False</td>\n",
       "      <td>09bb5bfe76adbb474dddbdd111a51623</td>\n",
       "      <td>09bb5bfe76adbb474dddbdd111a51623</td>\n",
       "      <td>0dc6fb5924a8b917bc641666ed02663c</td>\n",
       "      <td>91.800.861</td>\n",
       "    </tr>\n",
       "    <tr>\n",
       "      <th>1</th>\n",
       "      <td>0d37a1eea001f01b40232ffd496ff663</td>\n",
       "      <td>18.177.712.202.580.300</td>\n",
       "      <td>-10.035.705.073.096.900</td>\n",
       "      <td>2</td>\n",
       "      <td>13:00:00</td>\n",
       "      <td>10:28:10</td>\n",
       "      <td>False</td>\n",
       "      <td>c4c722114a82fa21654e57e9636d68b0</td>\n",
       "      <td>c4c722114a82fa21654e57e9636d68b0</td>\n",
       "      <td>2bbf833e689d24b697f1f3529c3f3c4b</td>\n",
       "      <td>206.599.732</td>\n",
       "    </tr>\n",
       "    <tr>\n",
       "      <th>2</th>\n",
       "      <td>528428e9b9eb5d3bd0dbdd8da692b087</td>\n",
       "      <td>1.826.683.205.404.410</td>\n",
       "      <td>-10.031.755.280.890.600</td>\n",
       "      <td>2</td>\n",
       "      <td>11:00:00</td>\n",
       "      <td>10:40:50</td>\n",
       "      <td>False</td>\n",
       "      <td>e15c7a67d0ea9a54dffb410bc1d8528b</td>\n",
       "      <td>e15c7a67d0ea9a54dffb410bc1d8528b</td>\n",
       "      <td>8d891dfc0e29d744c15c18adced74a68</td>\n",
       "      <td>93.458.001</td>\n",
       "    </tr>\n",
       "    <tr>\n",
       "      <th>3</th>\n",
       "      <td>d3f7be6d64eae7405b7bf024e04807a2</td>\n",
       "      <td>18.248.884.004.419.400</td>\n",
       "      <td>-1.003.226.215.187.040</td>\n",
       "      <td>2</td>\n",
       "      <td>10:00:00</td>\n",
       "      <td>9:41:47</td>\n",
       "      <td>False</td>\n",
       "      <td>d1f0bd4b237c1358f09db22076b940e7</td>\n",
       "      <td>d1f0bd4b237c1358f09db22076b940e7</td>\n",
       "      <td>0dc6fb5924a8b917bc641666ed02663c</td>\n",
       "      <td>124.778.761</td>\n",
       "    </tr>\n",
       "    <tr>\n",
       "      <th>4</th>\n",
       "      <td>e0ad6533b6cd9a382ec6c1d473c5036c</td>\n",
       "      <td>1.822.911.027.242.010</td>\n",
       "      <td>-10.032.267.241.783.800</td>\n",
       "      <td>2</td>\n",
       "      <td>11:00:00</td>\n",
       "      <td>10:07:53</td>\n",
       "      <td>False</td>\n",
       "      <td>06a71e8ab0c6db5ce22a4689fd76a3f4</td>\n",
       "      <td>06a71e8ab0c6db5ce22a4689fd76a3f4</td>\n",
       "      <td>afd0a7b8d546fcc697bb93a5934b65c3</td>\n",
       "      <td>130.321.208</td>\n",
       "    </tr>\n",
       "  </tbody>\n",
       "</table>\n",
       "</div>"
      ],
      "text/plain": [
       "                           order_id                     lat  \\\n",
       "0  6abd5e28d01b7c733fe37485294235dc   1.822.114.109.606.680   \n",
       "1  0d37a1eea001f01b40232ffd496ff663  18.177.712.202.580.300   \n",
       "2  528428e9b9eb5d3bd0dbdd8da692b087   1.826.683.205.404.410   \n",
       "3  d3f7be6d64eae7405b7bf024e04807a2  18.248.884.004.419.400   \n",
       "4  e0ad6533b6cd9a382ec6c1d473c5036c   1.822.911.027.242.010   \n",
       "\n",
       "                       lng  dow promised_time actual_time  on_demand  \\\n",
       "0  -10.031.391.366.664.600    2      13:00:00    12:00:15      False   \n",
       "1  -10.035.705.073.096.900    2      13:00:00    10:28:10      False   \n",
       "2  -10.031.755.280.890.600    2      11:00:00    10:40:50      False   \n",
       "3   -1.003.226.215.187.040    2      10:00:00     9:41:47      False   \n",
       "4  -10.032.267.241.783.800    2      11:00:00    10:07:53      False   \n",
       "\n",
       "                          picker_id                         driver_id  \\\n",
       "0  09bb5bfe76adbb474dddbdd111a51623  09bb5bfe76adbb474dddbdd111a51623   \n",
       "1  c4c722114a82fa21654e57e9636d68b0  c4c722114a82fa21654e57e9636d68b0   \n",
       "2  e15c7a67d0ea9a54dffb410bc1d8528b  e15c7a67d0ea9a54dffb410bc1d8528b   \n",
       "3  d1f0bd4b237c1358f09db22076b940e7  d1f0bd4b237c1358f09db22076b940e7   \n",
       "4  06a71e8ab0c6db5ce22a4689fd76a3f4  06a71e8ab0c6db5ce22a4689fd76a3f4   \n",
       "\n",
       "                    store_branch_id total_minutes  \n",
       "0  0dc6fb5924a8b917bc641666ed02663c    91.800.861  \n",
       "1  2bbf833e689d24b697f1f3529c3f3c4b   206.599.732  \n",
       "2  8d891dfc0e29d744c15c18adced74a68    93.458.001  \n",
       "3  0dc6fb5924a8b917bc641666ed02663c   124.778.761  \n",
       "4  afd0a7b8d546fcc697bb93a5934b65c3   130.321.208  "
      ]
     },
     "execution_count": 2,
     "metadata": {},
     "output_type": "execute_result"
    }
   ],
   "source": [
    "compra = pd.read_csv('data/1_Orden_compra.csv', sep=';')\n",
    "compra.head()"
   ]
  },
  {
   "cell_type": "code",
   "execution_count": 4,
   "metadata": {},
   "outputs": [
    {
     "data": {
      "text/plain": [
       "(7295, 11)"
      ]
     },
     "execution_count": 4,
     "metadata": {},
     "output_type": "execute_result"
    }
   ],
   "source": [
    "compra.shape"
   ]
  },
  {
   "cell_type": "code",
   "execution_count": 5,
   "metadata": {},
   "outputs": [
    {
     "data": {
      "text/html": [
       "<div>\n",
       "<style scoped>\n",
       "    .dataframe tbody tr th:only-of-type {\n",
       "        vertical-align: middle;\n",
       "    }\n",
       "\n",
       "    .dataframe tbody tr th {\n",
       "        vertical-align: top;\n",
       "    }\n",
       "\n",
       "    .dataframe thead th {\n",
       "        text-align: right;\n",
       "    }\n",
       "</style>\n",
       "<table border=\"1\" class=\"dataframe\">\n",
       "  <thead>\n",
       "    <tr style=\"text-align: right;\">\n",
       "      <th></th>\n",
       "      <th>order_id</th>\n",
       "      <th>product_id</th>\n",
       "      <th>quantity</th>\n",
       "      <th>quantity_found</th>\n",
       "      <th>buy_unit</th>\n",
       "    </tr>\n",
       "  </thead>\n",
       "  <tbody>\n",
       "    <tr>\n",
       "      <th>0</th>\n",
       "      <td>bdfc44fb525986b7bab8c589fc47e853</td>\n",
       "      <td>ab9757d9892b0e83ab3a1c1af0c84c52</td>\n",
       "      <td>0.75</td>\n",
       "      <td>0.155</td>\n",
       "      <td>KG</td>\n",
       "    </tr>\n",
       "    <tr>\n",
       "      <th>1</th>\n",
       "      <td>bdfc44fb525986b7bab8c589fc47e853</td>\n",
       "      <td>f1f042251bf634d44f338fbaf13b16e4</td>\n",
       "      <td>0.3</td>\n",
       "      <td>0.400</td>\n",
       "      <td>KG</td>\n",
       "    </tr>\n",
       "    <tr>\n",
       "      <th>2</th>\n",
       "      <td>bdfc44fb525986b7bab8c589fc47e853</td>\n",
       "      <td>0630d47440965509b0b3f80fd1b3578f</td>\n",
       "      <td>1</td>\n",
       "      <td>1.000</td>\n",
       "      <td>UN</td>\n",
       "    </tr>\n",
       "    <tr>\n",
       "      <th>3</th>\n",
       "      <td>bdfc44fb525986b7bab8c589fc47e853</td>\n",
       "      <td>9dd69b1f300666d5573e3a9934f2e03e</td>\n",
       "      <td>2</td>\n",
       "      <td>2.000</td>\n",
       "      <td>UN</td>\n",
       "    </tr>\n",
       "    <tr>\n",
       "      <th>4</th>\n",
       "      <td>bdfc44fb525986b7bab8c589fc47e853</td>\n",
       "      <td>3dfcdbe308bde67370649dd875f2507b</td>\n",
       "      <td>1</td>\n",
       "      <td>1.000</td>\n",
       "      <td>UN</td>\n",
       "    </tr>\n",
       "  </tbody>\n",
       "</table>\n",
       "</div>"
      ],
      "text/plain": [
       "                           order_id                        product_id  \\\n",
       "0  bdfc44fb525986b7bab8c589fc47e853  ab9757d9892b0e83ab3a1c1af0c84c52   \n",
       "1  bdfc44fb525986b7bab8c589fc47e853  f1f042251bf634d44f338fbaf13b16e4   \n",
       "2  bdfc44fb525986b7bab8c589fc47e853  0630d47440965509b0b3f80fd1b3578f   \n",
       "3  bdfc44fb525986b7bab8c589fc47e853  9dd69b1f300666d5573e3a9934f2e03e   \n",
       "4  bdfc44fb525986b7bab8c589fc47e853  3dfcdbe308bde67370649dd875f2507b   \n",
       "\n",
       "  quantity  quantity_found buy_unit  \n",
       "0     0.75           0.155       KG  \n",
       "1      0.3           0.400       KG  \n",
       "2        1           1.000       UN  \n",
       "3        2           2.000       UN  \n",
       "4        1           1.000       UN  "
      ]
     },
     "execution_count": 5,
     "metadata": {},
     "output_type": "execute_result"
    }
   ],
   "source": [
    "productos = pd.read_csv('data/2_Orden_productos.csv', sep=';')\n",
    "productos.head()"
   ]
  },
  {
   "cell_type": "code",
   "execution_count": 6,
   "metadata": {},
   "outputs": [
    {
     "data": {
      "text/plain": [
       "(120876, 5)"
      ]
     },
     "execution_count": 6,
     "metadata": {},
     "output_type": "execute_result"
    }
   ],
   "source": [
    "productos.shape"
   ]
  },
  {
   "cell_type": "code",
   "execution_count": 7,
   "metadata": {},
   "outputs": [
    {
     "data": {
      "text/html": [
       "<div>\n",
       "<style scoped>\n",
       "    .dataframe tbody tr th:only-of-type {\n",
       "        vertical-align: middle;\n",
       "    }\n",
       "\n",
       "    .dataframe tbody tr th {\n",
       "        vertical-align: top;\n",
       "    }\n",
       "\n",
       "    .dataframe thead th {\n",
       "        text-align: right;\n",
       "    }\n",
       "</style>\n",
       "<table border=\"1\" class=\"dataframe\">\n",
       "  <thead>\n",
       "    <tr style=\"text-align: right;\">\n",
       "      <th></th>\n",
       "      <th>shopper_id</th>\n",
       "      <th>seniority</th>\n",
       "      <th>found_rate</th>\n",
       "      <th>picking_speed</th>\n",
       "      <th>accepted_rate</th>\n",
       "      <th>rating</th>\n",
       "    </tr>\n",
       "  </thead>\n",
       "  <tbody>\n",
       "    <tr>\n",
       "      <th>0</th>\n",
       "      <td>087ab65ceca40dbef697f585dc159d5d</td>\n",
       "      <td>ADVANCED</td>\n",
       "      <td>0.8610</td>\n",
       "      <td>1.64</td>\n",
       "      <td>1.00</td>\n",
       "      <td>4.48</td>\n",
       "    </tr>\n",
       "    <tr>\n",
       "      <th>1</th>\n",
       "      <td>645973c41314d763b58dc2bceeeeffc9</td>\n",
       "      <td>INTERMEDIATE</td>\n",
       "      <td>0.8337</td>\n",
       "      <td>2.83</td>\n",
       "      <td>0.96</td>\n",
       "      <td>4.79</td>\n",
       "    </tr>\n",
       "    <tr>\n",
       "      <th>2</th>\n",
       "      <td>82810715fdda44962e7e422015ea1f32</td>\n",
       "      <td>ADVANCED</td>\n",
       "      <td>0.8681</td>\n",
       "      <td>1.27</td>\n",
       "      <td>0.88</td>\n",
       "      <td>4.84</td>\n",
       "    </tr>\n",
       "    <tr>\n",
       "      <th>3</th>\n",
       "      <td>416aa7dbd5a2f58d7bca96657e8faa1e</td>\n",
       "      <td>INTERMEDIATE</td>\n",
       "      <td>0.8784</td>\n",
       "      <td>2.11</td>\n",
       "      <td>1.00</td>\n",
       "      <td>NaN</td>\n",
       "    </tr>\n",
       "    <tr>\n",
       "      <th>4</th>\n",
       "      <td>27a3e845a4c3eb7ded4748f84140a843</td>\n",
       "      <td>ADVANCED</td>\n",
       "      <td>0.8466</td>\n",
       "      <td>1.50</td>\n",
       "      <td>1.00</td>\n",
       "      <td>4.84</td>\n",
       "    </tr>\n",
       "  </tbody>\n",
       "</table>\n",
       "</div>"
      ],
      "text/plain": [
       "                         shopper_id     seniority  found_rate  picking_speed  \\\n",
       "0  087ab65ceca40dbef697f585dc159d5d      ADVANCED      0.8610           1.64   \n",
       "1  645973c41314d763b58dc2bceeeeffc9  INTERMEDIATE      0.8337           2.83   \n",
       "2  82810715fdda44962e7e422015ea1f32      ADVANCED      0.8681           1.27   \n",
       "3  416aa7dbd5a2f58d7bca96657e8faa1e  INTERMEDIATE      0.8784           2.11   \n",
       "4  27a3e845a4c3eb7ded4748f84140a843      ADVANCED      0.8466           1.50   \n",
       "\n",
       "   accepted_rate  rating  \n",
       "0           1.00    4.48  \n",
       "1           0.96    4.79  \n",
       "2           0.88    4.84  \n",
       "3           1.00     NaN  \n",
       "4           1.00    4.84  "
      ]
     },
     "execution_count": 7,
     "metadata": {},
     "output_type": "execute_result"
    }
   ],
   "source": [
    "recolector = pd.read_csv('data/3_Recolector.csv', sep=';')\n",
    "recolector.head()"
   ]
  },
  {
   "cell_type": "code",
   "execution_count": 8,
   "metadata": {},
   "outputs": [
    {
     "data": {
      "text/plain": [
       "(600, 6)"
      ]
     },
     "execution_count": 8,
     "metadata": {},
     "output_type": "execute_result"
    }
   ],
   "source": [
    "recolector.shape"
   ]
  },
  {
   "cell_type": "code",
   "execution_count": 9,
   "metadata": {},
   "outputs": [
    {
     "data": {
      "text/html": [
       "<div>\n",
       "<style scoped>\n",
       "    .dataframe tbody tr th:only-of-type {\n",
       "        vertical-align: middle;\n",
       "    }\n",
       "\n",
       "    .dataframe tbody tr th {\n",
       "        vertical-align: top;\n",
       "    }\n",
       "\n",
       "    .dataframe thead th {\n",
       "        text-align: right;\n",
       "    }\n",
       "</style>\n",
       "<table border=\"1\" class=\"dataframe\">\n",
       "  <thead>\n",
       "    <tr style=\"text-align: right;\">\n",
       "      <th></th>\n",
       "      <th>store_branch_id</th>\n",
       "      <th>store</th>\n",
       "      <th>lat</th>\n",
       "      <th>lng</th>\n",
       "    </tr>\n",
       "  </thead>\n",
       "  <tbody>\n",
       "    <tr>\n",
       "      <th>0</th>\n",
       "      <td>cf0895f1e3beb8164f0a86e6f940ae56</td>\n",
       "      <td>c0b93cf93cf854981b8d6bd849eec4b0</td>\n",
       "      <td>18.160.308.413.602.800</td>\n",
       "      <td>-10.026.067.265.111.100</td>\n",
       "    </tr>\n",
       "    <tr>\n",
       "      <th>1</th>\n",
       "      <td>3ddd4c29cab4178d89d549c6ba65c236</td>\n",
       "      <td>044d56734d20e04984d846dade6d39f3</td>\n",
       "      <td>1.827.282.968.914.450</td>\n",
       "      <td>-10.031.881.435.593.900</td>\n",
       "    </tr>\n",
       "    <tr>\n",
       "      <th>2</th>\n",
       "      <td>e9763f24fd46d0b9e52d423207a87c3c</td>\n",
       "      <td>452ae015bf846e1d2932b7ea15720d64</td>\n",
       "      <td>18.273.494.015.704.800</td>\n",
       "      <td>-10.031.958.539.978.200</td>\n",
       "    </tr>\n",
       "    <tr>\n",
       "      <th>3</th>\n",
       "      <td>49b7d60d6095a9f1129ce798102b62f4</td>\n",
       "      <td>6447951cd071f6f045fd4e6194920926</td>\n",
       "      <td>1.824.774.341.566.610</td>\n",
       "      <td>-10.040.355.771.938.600</td>\n",
       "    </tr>\n",
       "    <tr>\n",
       "      <th>4</th>\n",
       "      <td>8f21cfda17b340aeee062220d0bee8e5</td>\n",
       "      <td>452ae015bf846e1d2932b7ea15720d64</td>\n",
       "      <td>18.203.111.495.565.700</td>\n",
       "      <td>-10.029.771.361.550.100</td>\n",
       "    </tr>\n",
       "  </tbody>\n",
       "</table>\n",
       "</div>"
      ],
      "text/plain": [
       "                    store_branch_id                             store  \\\n",
       "0  cf0895f1e3beb8164f0a86e6f940ae56  c0b93cf93cf854981b8d6bd849eec4b0   \n",
       "1  3ddd4c29cab4178d89d549c6ba65c236  044d56734d20e04984d846dade6d39f3   \n",
       "2  e9763f24fd46d0b9e52d423207a87c3c  452ae015bf846e1d2932b7ea15720d64   \n",
       "3  49b7d60d6095a9f1129ce798102b62f4  6447951cd071f6f045fd4e6194920926   \n",
       "4  8f21cfda17b340aeee062220d0bee8e5  452ae015bf846e1d2932b7ea15720d64   \n",
       "\n",
       "                      lat                      lng  \n",
       "0  18.160.308.413.602.800  -10.026.067.265.111.100  \n",
       "1   1.827.282.968.914.450  -10.031.881.435.593.900  \n",
       "2  18.273.494.015.704.800  -10.031.958.539.978.200  \n",
       "3   1.824.774.341.566.610  -10.040.355.771.938.600  \n",
       "4  18.203.111.495.565.700  -10.029.771.361.550.100  "
      ]
     },
     "execution_count": 9,
     "metadata": {},
     "output_type": "execute_result"
    }
   ],
   "source": [
    "tienda = pd.read_csv('data/4_tienda.csv', sep=';')\n",
    "tienda.head()"
   ]
  },
  {
   "cell_type": "code",
   "execution_count": 10,
   "metadata": {},
   "outputs": [
    {
     "data": {
      "text/plain": [
       "(113, 4)"
      ]
     },
     "execution_count": 10,
     "metadata": {},
     "output_type": "execute_result"
    }
   ],
   "source": [
    "tienda.shape"
   ]
  },
  {
   "cell_type": "code",
   "execution_count": 11,
   "metadata": {},
   "outputs": [],
   "source": [
    "#Consolidación de los df compra y prodructos\n",
    "df = pd.merge(compra, productos, how='left', on='order_id')"
   ]
  },
  {
   "cell_type": "code",
   "execution_count": 12,
   "metadata": {},
   "outputs": [],
   "source": [
    "#se cambia el nombre de la columna del df recolector\n",
    "recolector.rename(columns={'shopper_id':'picker_id'}, inplace=True)\n",
    "#Consolidación del df con recolector\n",
    "df = pd.merge(df, recolector, how='left', on='picker_id')"
   ]
  },
  {
   "cell_type": "code",
   "execution_count": 13,
   "metadata": {},
   "outputs": [],
   "source": [
    "#consolidación de todos los dataset\n",
    "df = pd.merge(df, tienda, how='left', on='store_branch_id')"
   ]
  },
  {
   "cell_type": "code",
   "execution_count": 14,
   "metadata": {},
   "outputs": [
    {
     "data": {
      "text/plain": [
       "(120893, 23)"
      ]
     },
     "execution_count": 14,
     "metadata": {},
     "output_type": "execute_result"
    }
   ],
   "source": [
    "df.shape"
   ]
  },
  {
   "cell_type": "code",
   "execution_count": 15,
   "metadata": {},
   "outputs": [],
   "source": [
    "df.to_csv('data/consolidado.csv', header=True, index=False)"
   ]
  },
  {
   "cell_type": "code",
   "execution_count": 16,
   "metadata": {},
   "outputs": [
    {
     "data": {
      "text/html": [
       "<div>\n",
       "<style scoped>\n",
       "    .dataframe tbody tr th:only-of-type {\n",
       "        vertical-align: middle;\n",
       "    }\n",
       "\n",
       "    .dataframe tbody tr th {\n",
       "        vertical-align: top;\n",
       "    }\n",
       "\n",
       "    .dataframe thead th {\n",
       "        text-align: right;\n",
       "    }\n",
       "</style>\n",
       "<table border=\"1\" class=\"dataframe\">\n",
       "  <thead>\n",
       "    <tr style=\"text-align: right;\">\n",
       "      <th></th>\n",
       "      <th>order_id</th>\n",
       "      <th>lat_x</th>\n",
       "      <th>lng_x</th>\n",
       "      <th>dow</th>\n",
       "      <th>promised_time</th>\n",
       "      <th>actual_time</th>\n",
       "      <th>on_demand</th>\n",
       "      <th>picker_id</th>\n",
       "      <th>driver_id</th>\n",
       "      <th>store_branch_id</th>\n",
       "      <th>...</th>\n",
       "      <th>quantity_found</th>\n",
       "      <th>buy_unit</th>\n",
       "      <th>seniority</th>\n",
       "      <th>found_rate</th>\n",
       "      <th>picking_speed</th>\n",
       "      <th>accepted_rate</th>\n",
       "      <th>rating</th>\n",
       "      <th>store</th>\n",
       "      <th>lat_y</th>\n",
       "      <th>lng_y</th>\n",
       "    </tr>\n",
       "  </thead>\n",
       "  <tbody>\n",
       "    <tr>\n",
       "      <th>0</th>\n",
       "      <td>6abd5e28d01b7c733fe37485294235dc</td>\n",
       "      <td>1.822.114.109.606.680</td>\n",
       "      <td>-10.031.391.366.664.600</td>\n",
       "      <td>2</td>\n",
       "      <td>13:00:00</td>\n",
       "      <td>12:00:15</td>\n",
       "      <td>False</td>\n",
       "      <td>09bb5bfe76adbb474dddbdd111a51623</td>\n",
       "      <td>09bb5bfe76adbb474dddbdd111a51623</td>\n",
       "      <td>0dc6fb5924a8b917bc641666ed02663c</td>\n",
       "      <td>...</td>\n",
       "      <td>1.000</td>\n",
       "      <td>UN</td>\n",
       "      <td>ADVANCED</td>\n",
       "      <td>0.8564</td>\n",
       "      <td>1.56</td>\n",
       "      <td>1.0</td>\n",
       "      <td>4.68</td>\n",
       "      <td>60e4c4e1c1a8bc79123738227b9d0b08</td>\n",
       "      <td>1.823.190.132.492.320</td>\n",
       "      <td>-1.003.035.533.737.440</td>\n",
       "    </tr>\n",
       "    <tr>\n",
       "      <th>1</th>\n",
       "      <td>6abd5e28d01b7c733fe37485294235dc</td>\n",
       "      <td>1.822.114.109.606.680</td>\n",
       "      <td>-10.031.391.366.664.600</td>\n",
       "      <td>2</td>\n",
       "      <td>13:00:00</td>\n",
       "      <td>12:00:15</td>\n",
       "      <td>False</td>\n",
       "      <td>09bb5bfe76adbb474dddbdd111a51623</td>\n",
       "      <td>09bb5bfe76adbb474dddbdd111a51623</td>\n",
       "      <td>0dc6fb5924a8b917bc641666ed02663c</td>\n",
       "      <td>...</td>\n",
       "      <td>3.000</td>\n",
       "      <td>UN</td>\n",
       "      <td>ADVANCED</td>\n",
       "      <td>0.8564</td>\n",
       "      <td>1.56</td>\n",
       "      <td>1.0</td>\n",
       "      <td>4.68</td>\n",
       "      <td>60e4c4e1c1a8bc79123738227b9d0b08</td>\n",
       "      <td>1.823.190.132.492.320</td>\n",
       "      <td>-1.003.035.533.737.440</td>\n",
       "    </tr>\n",
       "    <tr>\n",
       "      <th>2</th>\n",
       "      <td>6abd5e28d01b7c733fe37485294235dc</td>\n",
       "      <td>1.822.114.109.606.680</td>\n",
       "      <td>-10.031.391.366.664.600</td>\n",
       "      <td>2</td>\n",
       "      <td>13:00:00</td>\n",
       "      <td>12:00:15</td>\n",
       "      <td>False</td>\n",
       "      <td>09bb5bfe76adbb474dddbdd111a51623</td>\n",
       "      <td>09bb5bfe76adbb474dddbdd111a51623</td>\n",
       "      <td>0dc6fb5924a8b917bc641666ed02663c</td>\n",
       "      <td>...</td>\n",
       "      <td>1.000</td>\n",
       "      <td>UN</td>\n",
       "      <td>ADVANCED</td>\n",
       "      <td>0.8564</td>\n",
       "      <td>1.56</td>\n",
       "      <td>1.0</td>\n",
       "      <td>4.68</td>\n",
       "      <td>60e4c4e1c1a8bc79123738227b9d0b08</td>\n",
       "      <td>1.823.190.132.492.320</td>\n",
       "      <td>-1.003.035.533.737.440</td>\n",
       "    </tr>\n",
       "    <tr>\n",
       "      <th>3</th>\n",
       "      <td>6abd5e28d01b7c733fe37485294235dc</td>\n",
       "      <td>1.822.114.109.606.680</td>\n",
       "      <td>-10.031.391.366.664.600</td>\n",
       "      <td>2</td>\n",
       "      <td>13:00:00</td>\n",
       "      <td>12:00:15</td>\n",
       "      <td>False</td>\n",
       "      <td>09bb5bfe76adbb474dddbdd111a51623</td>\n",
       "      <td>09bb5bfe76adbb474dddbdd111a51623</td>\n",
       "      <td>0dc6fb5924a8b917bc641666ed02663c</td>\n",
       "      <td>...</td>\n",
       "      <td>1.000</td>\n",
       "      <td>UN</td>\n",
       "      <td>ADVANCED</td>\n",
       "      <td>0.8564</td>\n",
       "      <td>1.56</td>\n",
       "      <td>1.0</td>\n",
       "      <td>4.68</td>\n",
       "      <td>60e4c4e1c1a8bc79123738227b9d0b08</td>\n",
       "      <td>1.823.190.132.492.320</td>\n",
       "      <td>-1.003.035.533.737.440</td>\n",
       "    </tr>\n",
       "    <tr>\n",
       "      <th>4</th>\n",
       "      <td>6abd5e28d01b7c733fe37485294235dc</td>\n",
       "      <td>1.822.114.109.606.680</td>\n",
       "      <td>-10.031.391.366.664.600</td>\n",
       "      <td>2</td>\n",
       "      <td>13:00:00</td>\n",
       "      <td>12:00:15</td>\n",
       "      <td>False</td>\n",
       "      <td>09bb5bfe76adbb474dddbdd111a51623</td>\n",
       "      <td>09bb5bfe76adbb474dddbdd111a51623</td>\n",
       "      <td>0dc6fb5924a8b917bc641666ed02663c</td>\n",
       "      <td>...</td>\n",
       "      <td>0.415</td>\n",
       "      <td>KG</td>\n",
       "      <td>ADVANCED</td>\n",
       "      <td>0.8564</td>\n",
       "      <td>1.56</td>\n",
       "      <td>1.0</td>\n",
       "      <td>4.68</td>\n",
       "      <td>60e4c4e1c1a8bc79123738227b9d0b08</td>\n",
       "      <td>1.823.190.132.492.320</td>\n",
       "      <td>-1.003.035.533.737.440</td>\n",
       "    </tr>\n",
       "  </tbody>\n",
       "</table>\n",
       "<p>5 rows × 23 columns</p>\n",
       "</div>"
      ],
      "text/plain": [
       "                           order_id                  lat_x  \\\n",
       "0  6abd5e28d01b7c733fe37485294235dc  1.822.114.109.606.680   \n",
       "1  6abd5e28d01b7c733fe37485294235dc  1.822.114.109.606.680   \n",
       "2  6abd5e28d01b7c733fe37485294235dc  1.822.114.109.606.680   \n",
       "3  6abd5e28d01b7c733fe37485294235dc  1.822.114.109.606.680   \n",
       "4  6abd5e28d01b7c733fe37485294235dc  1.822.114.109.606.680   \n",
       "\n",
       "                     lng_x  dow promised_time actual_time  on_demand  \\\n",
       "0  -10.031.391.366.664.600    2      13:00:00    12:00:15      False   \n",
       "1  -10.031.391.366.664.600    2      13:00:00    12:00:15      False   \n",
       "2  -10.031.391.366.664.600    2      13:00:00    12:00:15      False   \n",
       "3  -10.031.391.366.664.600    2      13:00:00    12:00:15      False   \n",
       "4  -10.031.391.366.664.600    2      13:00:00    12:00:15      False   \n",
       "\n",
       "                          picker_id                         driver_id  \\\n",
       "0  09bb5bfe76adbb474dddbdd111a51623  09bb5bfe76adbb474dddbdd111a51623   \n",
       "1  09bb5bfe76adbb474dddbdd111a51623  09bb5bfe76adbb474dddbdd111a51623   \n",
       "2  09bb5bfe76adbb474dddbdd111a51623  09bb5bfe76adbb474dddbdd111a51623   \n",
       "3  09bb5bfe76adbb474dddbdd111a51623  09bb5bfe76adbb474dddbdd111a51623   \n",
       "4  09bb5bfe76adbb474dddbdd111a51623  09bb5bfe76adbb474dddbdd111a51623   \n",
       "\n",
       "                    store_branch_id           ...           quantity_found  \\\n",
       "0  0dc6fb5924a8b917bc641666ed02663c           ...                    1.000   \n",
       "1  0dc6fb5924a8b917bc641666ed02663c           ...                    3.000   \n",
       "2  0dc6fb5924a8b917bc641666ed02663c           ...                    1.000   \n",
       "3  0dc6fb5924a8b917bc641666ed02663c           ...                    1.000   \n",
       "4  0dc6fb5924a8b917bc641666ed02663c           ...                    0.415   \n",
       "\n",
       "  buy_unit seniority  found_rate picking_speed accepted_rate  rating  \\\n",
       "0       UN  ADVANCED      0.8564          1.56           1.0    4.68   \n",
       "1       UN  ADVANCED      0.8564          1.56           1.0    4.68   \n",
       "2       UN  ADVANCED      0.8564          1.56           1.0    4.68   \n",
       "3       UN  ADVANCED      0.8564          1.56           1.0    4.68   \n",
       "4       KG  ADVANCED      0.8564          1.56           1.0    4.68   \n",
       "\n",
       "                              store                  lat_y  \\\n",
       "0  60e4c4e1c1a8bc79123738227b9d0b08  1.823.190.132.492.320   \n",
       "1  60e4c4e1c1a8bc79123738227b9d0b08  1.823.190.132.492.320   \n",
       "2  60e4c4e1c1a8bc79123738227b9d0b08  1.823.190.132.492.320   \n",
       "3  60e4c4e1c1a8bc79123738227b9d0b08  1.823.190.132.492.320   \n",
       "4  60e4c4e1c1a8bc79123738227b9d0b08  1.823.190.132.492.320   \n",
       "\n",
       "                    lng_y  \n",
       "0  -1.003.035.533.737.440  \n",
       "1  -1.003.035.533.737.440  \n",
       "2  -1.003.035.533.737.440  \n",
       "3  -1.003.035.533.737.440  \n",
       "4  -1.003.035.533.737.440  \n",
       "\n",
       "[5 rows x 23 columns]"
      ]
     },
     "execution_count": 16,
     "metadata": {},
     "output_type": "execute_result"
    }
   ],
   "source": [
    "df.head()"
   ]
  },
  {
   "cell_type": "code",
   "execution_count": 17,
   "metadata": {},
   "outputs": [
    {
     "name": "stdout",
     "output_type": "stream",
     "text": [
      "<class 'pandas.core.frame.DataFrame'>\n",
      "Int64Index: 120893 entries, 0 to 120892\n",
      "Data columns (total 23 columns):\n",
      "order_id           120893 non-null object\n",
      "lat_x              120893 non-null object\n",
      "lng_x              120893 non-null object\n",
      "dow                120893 non-null int64\n",
      "promised_time      120893 non-null object\n",
      "actual_time        120893 non-null object\n",
      "on_demand          120893 non-null bool\n",
      "picker_id          120893 non-null object\n",
      "driver_id          120893 non-null object\n",
      "store_branch_id    120893 non-null object\n",
      "total_minutes      108828 non-null object\n",
      "product_id         120876 non-null object\n",
      "quantity           120876 non-null object\n",
      "quantity_found     120876 non-null float64\n",
      "buy_unit           120876 non-null object\n",
      "seniority          120893 non-null object\n",
      "found_rate         120100 non-null float64\n",
      "picking_speed      120893 non-null float64\n",
      "accepted_rate      120828 non-null float64\n",
      "rating             120131 non-null float64\n",
      "store              120893 non-null object\n",
      "lat_y              120893 non-null object\n",
      "lng_y              120893 non-null object\n",
      "dtypes: bool(1), float64(5), int64(1), object(16)\n",
      "memory usage: 21.3+ MB\n"
     ]
    }
   ],
   "source": [
    "df.info()"
   ]
  },
  {
   "cell_type": "code",
   "execution_count": 19,
   "metadata": {},
   "outputs": [
    {
     "data": {
      "text/plain": [
       "order_id           False\n",
       "lat_x              False\n",
       "lng_x              False\n",
       "dow                False\n",
       "promised_time      False\n",
       "actual_time        False\n",
       "on_demand          False\n",
       "picker_id          False\n",
       "driver_id          False\n",
       "store_branch_id    False\n",
       "total_minutes       True\n",
       "product_id          True\n",
       "quantity            True\n",
       "quantity_found      True\n",
       "buy_unit            True\n",
       "seniority          False\n",
       "found_rate          True\n",
       "picking_speed      False\n",
       "accepted_rate       True\n",
       "rating              True\n",
       "store              False\n",
       "lat_y              False\n",
       "lng_y              False\n",
       "dtype: bool"
      ]
     },
     "execution_count": 19,
     "metadata": {},
     "output_type": "execute_result"
    }
   ],
   "source": [
    "df.isnull().any()"
   ]
  },
  {
   "cell_type": "code",
   "execution_count": 27,
   "metadata": {},
   "outputs": [],
   "source": [
    "#Reemplazo los nan\n",
    "df.replace('nan', np.nan, inplace=True)"
   ]
  },
  {
   "cell_type": "code",
   "execution_count": 32,
   "metadata": {},
   "outputs": [
    {
     "data": {
      "text/plain": [
       "order_id           False\n",
       "lat_x              False\n",
       "lng_x              False\n",
       "dow                False\n",
       "promised_time      False\n",
       "actual_time        False\n",
       "on_demand          False\n",
       "picker_id          False\n",
       "driver_id          False\n",
       "store_branch_id    False\n",
       "total_minutes       True\n",
       "product_id          True\n",
       "quantity            True\n",
       "quantity_found      True\n",
       "buy_unit            True\n",
       "seniority          False\n",
       "found_rate          True\n",
       "picking_speed      False\n",
       "accepted_rate       True\n",
       "rating              True\n",
       "store              False\n",
       "lat_y              False\n",
       "lng_y              False\n",
       "dtype: bool"
      ]
     },
     "execution_count": 32,
     "metadata": {},
     "output_type": "execute_result"
    }
   ],
   "source": [
    "df.isnull().any()"
   ]
  },
  {
   "cell_type": "code",
   "execution_count": 33,
   "metadata": {},
   "outputs": [
    {
     "data": {
      "text/plain": [
       "order_id           False\n",
       "lat_x              False\n",
       "lng_x              False\n",
       "dow                False\n",
       "promised_time      False\n",
       "actual_time        False\n",
       "on_demand          False\n",
       "picker_id          False\n",
       "driver_id          False\n",
       "store_branch_id    False\n",
       "total_minutes      False\n",
       "product_id         False\n",
       "quantity           False\n",
       "quantity_found     False\n",
       "buy_unit           False\n",
       "seniority          False\n",
       "found_rate         False\n",
       "picking_speed      False\n",
       "accepted_rate      False\n",
       "rating             False\n",
       "store              False\n",
       "lat_y              False\n",
       "lng_y              False\n",
       "dtype: bool"
      ]
     },
     "execution_count": 33,
     "metadata": {},
     "output_type": "execute_result"
    }
   ],
   "source": [
    "df.dropna(inplace=True)\n",
    "df.isnull().any()"
   ]
  },
  {
   "cell_type": "code",
   "execution_count": 34,
   "metadata": {},
   "outputs": [
    {
     "data": {
      "text/plain": [
       "(107952, 23)"
      ]
     },
     "execution_count": 34,
     "metadata": {},
     "output_type": "execute_result"
    }
   ],
   "source": [
    "df.shape"
   ]
  },
  {
   "cell_type": "code",
   "execution_count": null,
   "metadata": {},
   "outputs": [],
   "source": []
  }
 ],
 "metadata": {
  "kernelspec": {
   "display_name": "Python 3",
   "language": "python",
   "name": "python3"
  },
  "language_info": {
   "codemirror_mode": {
    "name": "ipython",
    "version": 3
   },
   "file_extension": ".py",
   "mimetype": "text/x-python",
   "name": "python",
   "nbconvert_exporter": "python",
   "pygments_lexer": "ipython3",
   "version": "3.7.1"
  }
 },
 "nbformat": 4,
 "nbformat_minor": 2
}
