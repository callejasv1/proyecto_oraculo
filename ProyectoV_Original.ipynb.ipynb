{
 "cells": [
  {
   "cell_type": "markdown",
   "metadata": {},
   "source": [
    "# Anexos\n",
    "\n",
    "Este apartado contiene en detalle el análisis de datos, preprocesamiento, análisis de exploratorio de las variables de interés junto con su explicación. La función de este anexo es de apoyo al texto principal."
   ]
  },
  {
   "cell_type": "markdown",
   "metadata": {},
   "source": [
    "## Importación de Librerías"
   ]
  },
  {
   "cell_type": "code",
   "execution_count": 2,
   "metadata": {},
   "outputs": [],
   "source": [
    "import pandas as pd\n",
    "import numpy as np\n",
    "import matplotlib.pyplot as plt\n",
    "import seaborn as sns\n",
    "from scipy.stats.mstats import winsorize\n",
    "from haversine import haversine, Unit\n",
    "\n",
    "plt.style.use('seaborn')\n",
    "%matplotlib inline"
   ]
  },
  {
   "cell_type": "markdown",
   "metadata": {},
   "source": [
    "## A1 - Analisis de datos\n",
    "\n",
    "El set de datos inicial esta compuesto por cuatros archivos .csv. Los atributos junto con su descripción se presentan a continuación:\n",
    "\n",
    "__Orden_compra__  \n",
    "- id_orden : Identificador del pedido de compra.\n",
    "- Latitud : Dirección de entrega.\n",
    "- Longitud : Dirección de entrega.\n",
    "- Dia : Día de la semana en que se prometió la orden\n",
    "    0: domingo\n",
    "    1: lunes\n",
    "    2: martes\n",
    "    3: miercoles\n",
    "    4: jueves\n",
    "    5: viernes\n",
    "    6: sabado\n",
    "- Promesa : Hora de entrega prometida al cliente.\n",
    "- Entrega : Hora en que se entregó el pedido al cliente.\n",
    "- id_entrega : Si el pedido fue solicitado en “Menos de 90 minutos” o en una ventana horario en el futuro.\n",
    "- id_recolector : Identificador de la persona que recolectó el pedido.\n",
    "- id_trasporte : Identificador de la persona que hizo transporte del pedido.\n",
    "- id_tienda : Identificador del local en que se realizó la compra.\n",
    "- Tiempo : Tiempo total que demoró completar la orden (desde la compra hasta la entrega).\n",
    "\n",
    "__Orden_productos__  \n",
    "- id_orden : Identificador del pedido de compra\n",
    "- id_productos : Identificador del producto.\n",
    "- cant_producto : Cantidad solicitada del producto por el cliente.\n",
    "- cant_encontrada : Cantidad solicitada del producto por el cliente.\n",
    "- Unidad : Formato en que se vendió el producto (Unidades o KG).\n",
    "\n",
    "__Recolector__  \n",
    "- id_recolector : Identificador recolector.\n",
    "- Clasificación_recolector : Clasificación de experiencia recolector.\n",
    "- P_aciertos : Porcentaje histórico de productos que el recolector encontró.\n",
    "- velocidad : Velocidad histórica de recogida de productos.\n",
    "- P_aceptacion : Porcentaje histórico de pedidos aceptado por el recolector.\n",
    "- Score_Recolector : Evaluación del recolector.\n",
    "\n",
    "__Tienda__  \n",
    "- id_tienda : Identificador de la tienda.\n",
    "- tienda : Identificador de la tienda a la cual pertenece de la tienda.\n",
    "- latitud_tienda : Latitud de la ubicación de la tienda.\n",
    "- Longitud_tienda : Longitud de la ubicación de la tienda."
   ]
  },
  {
   "cell_type": "markdown",
   "metadata": {},
   "source": [
    "### A1.1 - Compra"
   ]
  },
  {
   "cell_type": "code",
   "execution_count": 3,
   "metadata": {
    "scrolled": true
   },
   "outputs": [
    {
     "data": {
      "text/html": [
       "<div>\n",
       "<style scoped>\n",
       "    .dataframe tbody tr th:only-of-type {\n",
       "        vertical-align: middle;\n",
       "    }\n",
       "\n",
       "    .dataframe tbody tr th {\n",
       "        vertical-align: top;\n",
       "    }\n",
       "\n",
       "    .dataframe thead th {\n",
       "        text-align: right;\n",
       "    }\n",
       "</style>\n",
       "<table border=\"1\" class=\"dataframe\">\n",
       "  <thead>\n",
       "    <tr style=\"text-align: right;\">\n",
       "      <th></th>\n",
       "      <th>order_id</th>\n",
       "      <th>lat</th>\n",
       "      <th>lng</th>\n",
       "      <th>dow</th>\n",
       "      <th>promised_time</th>\n",
       "      <th>actual_time</th>\n",
       "      <th>on_demand</th>\n",
       "      <th>picker_id</th>\n",
       "      <th>driver_id</th>\n",
       "      <th>store_branch_id</th>\n",
       "      <th>total_minutes</th>\n",
       "    </tr>\n",
       "  </thead>\n",
       "  <tbody>\n",
       "    <tr>\n",
       "      <th>0</th>\n",
       "      <td>6abd5e28d01b7c733fe37485294235dc</td>\n",
       "      <td>1.822.114.109.606.680</td>\n",
       "      <td>-10.031.391.366.664.600</td>\n",
       "      <td>2</td>\n",
       "      <td>13:00:00</td>\n",
       "      <td>12:00:15</td>\n",
       "      <td>False</td>\n",
       "      <td>09bb5bfe76adbb474dddbdd111a51623</td>\n",
       "      <td>09bb5bfe76adbb474dddbdd111a51623</td>\n",
       "      <td>0dc6fb5924a8b917bc641666ed02663c</td>\n",
       "      <td>91.800.861</td>\n",
       "    </tr>\n",
       "    <tr>\n",
       "      <th>1</th>\n",
       "      <td>0d37a1eea001f01b40232ffd496ff663</td>\n",
       "      <td>18.177.712.202.580.300</td>\n",
       "      <td>-10.035.705.073.096.900</td>\n",
       "      <td>2</td>\n",
       "      <td>13:00:00</td>\n",
       "      <td>10:28:10</td>\n",
       "      <td>False</td>\n",
       "      <td>c4c722114a82fa21654e57e9636d68b0</td>\n",
       "      <td>c4c722114a82fa21654e57e9636d68b0</td>\n",
       "      <td>2bbf833e689d24b697f1f3529c3f3c4b</td>\n",
       "      <td>206.599.732</td>\n",
       "    </tr>\n",
       "    <tr>\n",
       "      <th>2</th>\n",
       "      <td>528428e9b9eb5d3bd0dbdd8da692b087</td>\n",
       "      <td>1.826.683.205.404.410</td>\n",
       "      <td>-10.031.755.280.890.600</td>\n",
       "      <td>2</td>\n",
       "      <td>11:00:00</td>\n",
       "      <td>10:40:50</td>\n",
       "      <td>False</td>\n",
       "      <td>e15c7a67d0ea9a54dffb410bc1d8528b</td>\n",
       "      <td>e15c7a67d0ea9a54dffb410bc1d8528b</td>\n",
       "      <td>8d891dfc0e29d744c15c18adced74a68</td>\n",
       "      <td>93.458.001</td>\n",
       "    </tr>\n",
       "    <tr>\n",
       "      <th>3</th>\n",
       "      <td>d3f7be6d64eae7405b7bf024e04807a2</td>\n",
       "      <td>18.248.884.004.419.400</td>\n",
       "      <td>-1.003.226.215.187.040</td>\n",
       "      <td>2</td>\n",
       "      <td>10:00:00</td>\n",
       "      <td>9:41:47</td>\n",
       "      <td>False</td>\n",
       "      <td>d1f0bd4b237c1358f09db22076b940e7</td>\n",
       "      <td>d1f0bd4b237c1358f09db22076b940e7</td>\n",
       "      <td>0dc6fb5924a8b917bc641666ed02663c</td>\n",
       "      <td>124.778.761</td>\n",
       "    </tr>\n",
       "    <tr>\n",
       "      <th>4</th>\n",
       "      <td>e0ad6533b6cd9a382ec6c1d473c5036c</td>\n",
       "      <td>1.822.911.027.242.010</td>\n",
       "      <td>-10.032.267.241.783.800</td>\n",
       "      <td>2</td>\n",
       "      <td>11:00:00</td>\n",
       "      <td>10:07:53</td>\n",
       "      <td>False</td>\n",
       "      <td>06a71e8ab0c6db5ce22a4689fd76a3f4</td>\n",
       "      <td>06a71e8ab0c6db5ce22a4689fd76a3f4</td>\n",
       "      <td>afd0a7b8d546fcc697bb93a5934b65c3</td>\n",
       "      <td>130.321.208</td>\n",
       "    </tr>\n",
       "  </tbody>\n",
       "</table>\n",
       "</div>"
      ],
      "text/plain": [
       "                           order_id                     lat  \\\n",
       "0  6abd5e28d01b7c733fe37485294235dc   1.822.114.109.606.680   \n",
       "1  0d37a1eea001f01b40232ffd496ff663  18.177.712.202.580.300   \n",
       "2  528428e9b9eb5d3bd0dbdd8da692b087   1.826.683.205.404.410   \n",
       "3  d3f7be6d64eae7405b7bf024e04807a2  18.248.884.004.419.400   \n",
       "4  e0ad6533b6cd9a382ec6c1d473c5036c   1.822.911.027.242.010   \n",
       "\n",
       "                       lng  dow promised_time actual_time  on_demand  \\\n",
       "0  -10.031.391.366.664.600    2      13:00:00    12:00:15      False   \n",
       "1  -10.035.705.073.096.900    2      13:00:00    10:28:10      False   \n",
       "2  -10.031.755.280.890.600    2      11:00:00    10:40:50      False   \n",
       "3   -1.003.226.215.187.040    2      10:00:00     9:41:47      False   \n",
       "4  -10.032.267.241.783.800    2      11:00:00    10:07:53      False   \n",
       "\n",
       "                          picker_id                         driver_id  \\\n",
       "0  09bb5bfe76adbb474dddbdd111a51623  09bb5bfe76adbb474dddbdd111a51623   \n",
       "1  c4c722114a82fa21654e57e9636d68b0  c4c722114a82fa21654e57e9636d68b0   \n",
       "2  e15c7a67d0ea9a54dffb410bc1d8528b  e15c7a67d0ea9a54dffb410bc1d8528b   \n",
       "3  d1f0bd4b237c1358f09db22076b940e7  d1f0bd4b237c1358f09db22076b940e7   \n",
       "4  06a71e8ab0c6db5ce22a4689fd76a3f4  06a71e8ab0c6db5ce22a4689fd76a3f4   \n",
       "\n",
       "                    store_branch_id total_minutes  \n",
       "0  0dc6fb5924a8b917bc641666ed02663c    91.800.861  \n",
       "1  2bbf833e689d24b697f1f3529c3f3c4b   206.599.732  \n",
       "2  8d891dfc0e29d744c15c18adced74a68    93.458.001  \n",
       "3  0dc6fb5924a8b917bc641666ed02663c   124.778.761  \n",
       "4  afd0a7b8d546fcc697bb93a5934b65c3   130.321.208  "
      ]
     },
     "execution_count": 3,
     "metadata": {},
     "output_type": "execute_result"
    }
   ],
   "source": [
    "compra = pd.read_csv('data/1_Orden_compra.csv', sep=';')\n",
    "compra.head()"
   ]
  },
  {
   "cell_type": "code",
   "execution_count": 4,
   "metadata": {},
   "outputs": [
    {
     "data": {
      "text/plain": [
       "False    4225\n",
       "True     3070\n",
       "Name: on_demand, dtype: int64"
      ]
     },
     "execution_count": 4,
     "metadata": {},
     "output_type": "execute_result"
    }
   ],
   "source": [
    "#Variable categorica\n",
    "compra['on_demand'].value_counts()"
   ]
  },
  {
   "cell_type": "code",
   "execution_count": 5,
   "metadata": {},
   "outputs": [],
   "source": [
    "#Se recodifica el atributo Booleano\n",
    "compra['on_demand'] = np.where(compra['on_demand'] == False, 1, 0)"
   ]
  },
  {
   "cell_type": "code",
   "execution_count": 6,
   "metadata": {},
   "outputs": [
    {
     "data": {
      "text/plain": [
       "1    4225\n",
       "0    3070\n",
       "Name: on_demand, dtype: int64"
      ]
     },
     "execution_count": 6,
     "metadata": {},
     "output_type": "execute_result"
    }
   ],
   "source": [
    "compra['on_demand'].value_counts()"
   ]
  },
  {
   "cell_type": "code",
   "execution_count": 7,
   "metadata": {},
   "outputs": [],
   "source": [
    "#Se actualizan los nombres de los atributos en el dataset\n",
    "compra.rename(columns={'order_id':'id_orden', 'lat':'latitud', 'lng':'longitud', 'dow':'dia', 'promised_time':'promesa',\n",
    "                       'actual_time':'entrega', 'on_demand':'id_entrega', 'picker_id':'id_recolector', \n",
    "                       'driver_id':'id_transporte', 'store_branch_id':'id_tienda', 'total_minutes':'tiempo'}, inplace=True)"
   ]
  },
  {
   "cell_type": "code",
   "execution_count": 8,
   "metadata": {
    "scrolled": true
   },
   "outputs": [
    {
     "name": "stdout",
     "output_type": "stream",
     "text": [
      "La cantidad de registros es de: 7295\n",
      "La cantidad de atributos es de: 11\n"
     ]
    }
   ],
   "source": [
    "print(\"La cantidad de registros es de:\", compra.shape[0])\n",
    "print(\"La cantidad de atributos es de:\", compra.shape[1])"
   ]
  },
  {
   "cell_type": "code",
   "execution_count": 9,
   "metadata": {
    "scrolled": false
   },
   "outputs": [
    {
     "data": {
      "text/html": [
       "<div>\n",
       "<style scoped>\n",
       "    .dataframe tbody tr th:only-of-type {\n",
       "        vertical-align: middle;\n",
       "    }\n",
       "\n",
       "    .dataframe tbody tr th {\n",
       "        vertical-align: top;\n",
       "    }\n",
       "\n",
       "    .dataframe thead th {\n",
       "        text-align: right;\n",
       "    }\n",
       "</style>\n",
       "<table border=\"1\" class=\"dataframe\">\n",
       "  <thead>\n",
       "    <tr style=\"text-align: right;\">\n",
       "      <th></th>\n",
       "      <th>Total</th>\n",
       "      <th>Porcentaje (%)</th>\n",
       "    </tr>\n",
       "  </thead>\n",
       "  <tbody>\n",
       "    <tr>\n",
       "      <th>tiempo</th>\n",
       "      <td>752</td>\n",
       "      <td>10.31</td>\n",
       "    </tr>\n",
       "    <tr>\n",
       "      <th>id_tienda</th>\n",
       "      <td>0</td>\n",
       "      <td>0.00</td>\n",
       "    </tr>\n",
       "    <tr>\n",
       "      <th>id_transporte</th>\n",
       "      <td>0</td>\n",
       "      <td>0.00</td>\n",
       "    </tr>\n",
       "    <tr>\n",
       "      <th>id_recolector</th>\n",
       "      <td>0</td>\n",
       "      <td>0.00</td>\n",
       "    </tr>\n",
       "    <tr>\n",
       "      <th>id_entrega</th>\n",
       "      <td>0</td>\n",
       "      <td>0.00</td>\n",
       "    </tr>\n",
       "    <tr>\n",
       "      <th>entrega</th>\n",
       "      <td>0</td>\n",
       "      <td>0.00</td>\n",
       "    </tr>\n",
       "    <tr>\n",
       "      <th>promesa</th>\n",
       "      <td>0</td>\n",
       "      <td>0.00</td>\n",
       "    </tr>\n",
       "    <tr>\n",
       "      <th>dia</th>\n",
       "      <td>0</td>\n",
       "      <td>0.00</td>\n",
       "    </tr>\n",
       "    <tr>\n",
       "      <th>longitud</th>\n",
       "      <td>0</td>\n",
       "      <td>0.00</td>\n",
       "    </tr>\n",
       "    <tr>\n",
       "      <th>latitud</th>\n",
       "      <td>0</td>\n",
       "      <td>0.00</td>\n",
       "    </tr>\n",
       "    <tr>\n",
       "      <th>id_orden</th>\n",
       "      <td>0</td>\n",
       "      <td>0.00</td>\n",
       "    </tr>\n",
       "  </tbody>\n",
       "</table>\n",
       "</div>"
      ],
      "text/plain": [
       "               Total  Porcentaje (%)\n",
       "tiempo           752           10.31\n",
       "id_tienda          0            0.00\n",
       "id_transporte      0            0.00\n",
       "id_recolector      0            0.00\n",
       "id_entrega         0            0.00\n",
       "entrega            0            0.00\n",
       "promesa            0            0.00\n",
       "dia                0            0.00\n",
       "longitud           0            0.00\n",
       "latitud            0            0.00\n",
       "id_orden           0            0.00"
      ]
     },
     "execution_count": 9,
     "metadata": {},
     "output_type": "execute_result"
    }
   ],
   "source": [
    "#Se hace una tabla para observar los missing values\n",
    "total = compra.isnull().sum().sort_values(ascending=False)\n",
    "percent = round((compra.isnull().sum() / compra.isnull().count()) * 100, 2).sort_values(ascending=False)\n",
    "missing_values = pd.concat([total, percent], axis=1, keys=['Total', 'Porcentaje (%)'])\n",
    "missing_values"
   ]
  },
  {
   "cell_type": "markdown",
   "metadata": {},
   "source": [
    "Se puede apreciar que en este dataset sólo el atributo `tiempo` contiene datos perdidos, con un monto de __752__ registros, los cuales representan el __10.31%__ de la data, por tal motivo se hará una eliminación de dichos datos, el motivo es que este atributo es nuestra variable objetivo y no queremos que se vea afectada por ningún motivo."
   ]
  },
  {
   "cell_type": "code",
   "execution_count": 10,
   "metadata": {},
   "outputs": [],
   "source": [
    "compra.dropna(inplace=True)"
   ]
  },
  {
   "cell_type": "code",
   "execution_count": 11,
   "metadata": {},
   "outputs": [
    {
     "name": "stdout",
     "output_type": "stream",
     "text": [
      "La cantidad de registros es de: 6543\n",
      "La cantidad de atributos es de: 11\n"
     ]
    }
   ],
   "source": [
    "print(\"La cantidad de registros es de:\", compra.shape[0])\n",
    "print(\"La cantidad de atributos es de:\", compra.shape[1])"
   ]
  },
  {
   "cell_type": "markdown",
   "metadata": {},
   "source": [
    "### A1.2 - Productos"
   ]
  },
  {
   "cell_type": "code",
   "execution_count": 12,
   "metadata": {
    "scrolled": false
   },
   "outputs": [
    {
     "data": {
      "text/html": [
       "<div>\n",
       "<style scoped>\n",
       "    .dataframe tbody tr th:only-of-type {\n",
       "        vertical-align: middle;\n",
       "    }\n",
       "\n",
       "    .dataframe tbody tr th {\n",
       "        vertical-align: top;\n",
       "    }\n",
       "\n",
       "    .dataframe thead th {\n",
       "        text-align: right;\n",
       "    }\n",
       "</style>\n",
       "<table border=\"1\" class=\"dataframe\">\n",
       "  <thead>\n",
       "    <tr style=\"text-align: right;\">\n",
       "      <th></th>\n",
       "      <th>order_id</th>\n",
       "      <th>product_id</th>\n",
       "      <th>quantity</th>\n",
       "      <th>quantity_found</th>\n",
       "      <th>buy_unit</th>\n",
       "    </tr>\n",
       "  </thead>\n",
       "  <tbody>\n",
       "    <tr>\n",
       "      <th>0</th>\n",
       "      <td>bdfc44fb525986b7bab8c589fc47e853</td>\n",
       "      <td>ab9757d9892b0e83ab3a1c1af0c84c52</td>\n",
       "      <td>0.75</td>\n",
       "      <td>0.155</td>\n",
       "      <td>KG</td>\n",
       "    </tr>\n",
       "    <tr>\n",
       "      <th>1</th>\n",
       "      <td>bdfc44fb525986b7bab8c589fc47e853</td>\n",
       "      <td>f1f042251bf634d44f338fbaf13b16e4</td>\n",
       "      <td>0.3</td>\n",
       "      <td>0.400</td>\n",
       "      <td>KG</td>\n",
       "    </tr>\n",
       "    <tr>\n",
       "      <th>2</th>\n",
       "      <td>bdfc44fb525986b7bab8c589fc47e853</td>\n",
       "      <td>0630d47440965509b0b3f80fd1b3578f</td>\n",
       "      <td>1</td>\n",
       "      <td>1.000</td>\n",
       "      <td>UN</td>\n",
       "    </tr>\n",
       "    <tr>\n",
       "      <th>3</th>\n",
       "      <td>bdfc44fb525986b7bab8c589fc47e853</td>\n",
       "      <td>9dd69b1f300666d5573e3a9934f2e03e</td>\n",
       "      <td>2</td>\n",
       "      <td>2.000</td>\n",
       "      <td>UN</td>\n",
       "    </tr>\n",
       "    <tr>\n",
       "      <th>4</th>\n",
       "      <td>bdfc44fb525986b7bab8c589fc47e853</td>\n",
       "      <td>3dfcdbe308bde67370649dd875f2507b</td>\n",
       "      <td>1</td>\n",
       "      <td>1.000</td>\n",
       "      <td>UN</td>\n",
       "    </tr>\n",
       "  </tbody>\n",
       "</table>\n",
       "</div>"
      ],
      "text/plain": [
       "                           order_id                        product_id  \\\n",
       "0  bdfc44fb525986b7bab8c589fc47e853  ab9757d9892b0e83ab3a1c1af0c84c52   \n",
       "1  bdfc44fb525986b7bab8c589fc47e853  f1f042251bf634d44f338fbaf13b16e4   \n",
       "2  bdfc44fb525986b7bab8c589fc47e853  0630d47440965509b0b3f80fd1b3578f   \n",
       "3  bdfc44fb525986b7bab8c589fc47e853  9dd69b1f300666d5573e3a9934f2e03e   \n",
       "4  bdfc44fb525986b7bab8c589fc47e853  3dfcdbe308bde67370649dd875f2507b   \n",
       "\n",
       "  quantity  quantity_found buy_unit  \n",
       "0     0.75           0.155       KG  \n",
       "1      0.3           0.400       KG  \n",
       "2        1           1.000       UN  \n",
       "3        2           2.000       UN  \n",
       "4        1           1.000       UN  "
      ]
     },
     "execution_count": 12,
     "metadata": {},
     "output_type": "execute_result"
    }
   ],
   "source": [
    "productos = pd.read_csv('data/2_Orden_productos.csv', sep=';')\n",
    "productos.head()"
   ]
  },
  {
   "cell_type": "code",
   "execution_count": 13,
   "metadata": {},
   "outputs": [],
   "source": [
    "#Se actualiza el nombre del atributo que identifica la orden de compra\n",
    "productos.rename(columns={'order_id':'id_orden'}, inplace=True)"
   ]
  },
  {
   "cell_type": "code",
   "execution_count": 14,
   "metadata": {},
   "outputs": [
    {
     "name": "stdout",
     "output_type": "stream",
     "text": [
      "La cantidad de registros es de: 120876\n",
      "La cantidad de atributos es de: 5\n"
     ]
    }
   ],
   "source": [
    "print(\"La cantidad de registros es de:\", productos.shape[0])\n",
    "print(\"La cantidad de atributos es de:\", productos.shape[1])"
   ]
  },
  {
   "cell_type": "markdown",
   "metadata": {},
   "source": [
    "No se encontraron datos perdidos en este dataset."
   ]
  },
  {
   "cell_type": "code",
   "execution_count": 15,
   "metadata": {
    "scrolled": true
   },
   "outputs": [
    {
     "data": {
      "text/plain": [
       "id_orden          False\n",
       "product_id        False\n",
       "quantity          False\n",
       "quantity_found    False\n",
       "buy_unit          False\n",
       "dtype: bool"
      ]
     },
     "execution_count": 15,
     "metadata": {},
     "output_type": "execute_result"
    }
   ],
   "source": [
    "productos.isnull().any()"
   ]
  },
  {
   "cell_type": "markdown",
   "metadata": {},
   "source": [
    "Se procederá a separar aquellos productos que se pesan y se contabilizan como 1, los que son por unidad mantendremos la cantidad. \n",
    "El objetivo de esta segmentación es posteriormente tener una columna de productos que son pesado y otras que son por unidad, ya que para este caso sólo nos importa la cantidad total de productos (pesados y por unidad) por orden, si bien tenemos un código de producto por el momento no podremos determinar el tipo de producto, si tendríamos esa información disponible podríamos determinar que productos que son pesados pueden influenciar más o menos en el tiempo de entrega, así que, nos concentraremos en la cantidad de productos por orden."
   ]
  },
  {
   "cell_type": "code",
   "execution_count": 16,
   "metadata": {},
   "outputs": [],
   "source": [
    "#Creamos una columna de tipo bandera, para determinar que las cantidades que están en el atributo quantity,\n",
    "#correspondan con su respectiva unidad\n",
    "productos['cantidad_ajustada'] = np.where(productos['buy_unit'] == 'KG' , 1, productos['quantity'])\n",
    "productos['cantidad_ajustada'] = pd.to_numeric(productos['cantidad_ajustada'])"
   ]
  },
  {
   "cell_type": "markdown",
   "metadata": {},
   "source": [
    "Para este caso cuando se evaluó la columna de \"tipo bandera\"--> `cantidad_ajustada`, se pudo apreciar que teníamos 2 casos anómalos ya que acá todos los valores tenían que ser entero y descubrimos que existen 2 casos donde en la columna `quantity` hay valores decimales y en la columna `buy_unit` su valor es __UN__ representando esto como Unidad, cuando en realidad es de tipo __KG__, se prodecerá a actualizar estos registros y volver a actualizar la columna `cantidad_ajustada`."
   ]
  },
  {
   "cell_type": "code",
   "execution_count": 17,
   "metadata": {
    "scrolled": true
   },
   "outputs": [
    {
     "data": {
      "text/html": [
       "<div>\n",
       "<style scoped>\n",
       "    .dataframe tbody tr th:only-of-type {\n",
       "        vertical-align: middle;\n",
       "    }\n",
       "\n",
       "    .dataframe tbody tr th {\n",
       "        vertical-align: top;\n",
       "    }\n",
       "\n",
       "    .dataframe thead th {\n",
       "        text-align: right;\n",
       "    }\n",
       "</style>\n",
       "<table border=\"1\" class=\"dataframe\">\n",
       "  <thead>\n",
       "    <tr style=\"text-align: right;\">\n",
       "      <th></th>\n",
       "      <th>id_orden</th>\n",
       "      <th>product_id</th>\n",
       "      <th>quantity</th>\n",
       "      <th>quantity_found</th>\n",
       "      <th>buy_unit</th>\n",
       "      <th>cantidad_ajustada</th>\n",
       "    </tr>\n",
       "  </thead>\n",
       "  <tbody>\n",
       "    <tr>\n",
       "      <th>29253</th>\n",
       "      <td>7a1be969ec97b66b710f7dc5b80f8a6f</td>\n",
       "      <td>068566a7b65d4093075f13ae383aa3d4</td>\n",
       "      <td>0.09</td>\n",
       "      <td>0.090</td>\n",
       "      <td>UN</td>\n",
       "      <td>0.090</td>\n",
       "    </tr>\n",
       "    <tr>\n",
       "      <th>96244</th>\n",
       "      <td>a5fc3ba3db31ac6a1ea5ddb87dcbc596</td>\n",
       "      <td>e0922ceeaeb05c556c27138d10305932</td>\n",
       "      <td>0.225</td>\n",
       "      <td>0.225</td>\n",
       "      <td>UN</td>\n",
       "      <td>0.225</td>\n",
       "    </tr>\n",
       "  </tbody>\n",
       "</table>\n",
       "</div>"
      ],
      "text/plain": [
       "                               id_orden                        product_id  \\\n",
       "29253  7a1be969ec97b66b710f7dc5b80f8a6f  068566a7b65d4093075f13ae383aa3d4   \n",
       "96244  a5fc3ba3db31ac6a1ea5ddb87dcbc596  e0922ceeaeb05c556c27138d10305932   \n",
       "\n",
       "      quantity  quantity_found buy_unit  cantidad_ajustada  \n",
       "29253     0.09           0.090       UN              0.090  \n",
       "96244    0.225           0.225       UN              0.225  "
      ]
     },
     "execution_count": 17,
     "metadata": {},
     "output_type": "execute_result"
    }
   ],
   "source": [
    "no_KG = productos.loc[(productos['cantidad_ajustada'] == 0.225) | (productos['cantidad_ajustada'] == 0.090)]\n",
    "no_KG.head()"
   ]
  },
  {
   "cell_type": "markdown",
   "metadata": {},
   "source": [
    "Existen par de productos que en la __unidad de compra__ marcan como __\"UN\"__ cuando en realidad son de tipo __\"KG\"__."
   ]
  },
  {
   "cell_type": "code",
   "execution_count": 18,
   "metadata": {},
   "outputs": [],
   "source": [
    "#Se reemplazan esos valores por los verdaderos\n",
    "productos.loc[29253, 'buy_unit'] = 'KG'\n",
    "productos.loc[96244, 'buy_unit'] = 'KG'"
   ]
  },
  {
   "cell_type": "code",
   "execution_count": 19,
   "metadata": {},
   "outputs": [],
   "source": [
    "#Se actualizan los datos\n",
    "productos['cantidad_ajustada'] = np.where(productos['buy_unit'] == 'KG' , 1, productos['quantity'])\n",
    "productos['cantidad_ajustada'] = pd.to_numeric(productos['cantidad_ajustada'])"
   ]
  },
  {
   "cell_type": "markdown",
   "metadata": {},
   "source": [
    "Separamos en tipo de productos: Aquellos que se pesan y aquellos que no, además, crearemos una columna extra que será la cantidad total, conformada por la suma entre los productos sin pesar con los que se pesan."
   ]
  },
  {
   "cell_type": "code",
   "execution_count": 20,
   "metadata": {},
   "outputs": [],
   "source": [
    "tipo = pd.get_dummies(productos['buy_unit'])"
   ]
  },
  {
   "cell_type": "code",
   "execution_count": 21,
   "metadata": {},
   "outputs": [],
   "source": [
    "productos['sin_pesar'] = tipo['UN']\n",
    "productos['pesados'] = tipo ['KG']\n",
    "productos['cantidad_total'] = productos['sin_pesar'] + productos['pesados']\n",
    "productos.drop(columns=['quantity', 'quantity_found', 'buy_unit', 'product_id', 'cantidad_ajustada'], inplace=True)"
   ]
  },
  {
   "cell_type": "code",
   "execution_count": 22,
   "metadata": {},
   "outputs": [],
   "source": [
    "productos_agrupados = productos.groupby(by='id_orden').sum().reset_index()"
   ]
  },
  {
   "cell_type": "code",
   "execution_count": 23,
   "metadata": {},
   "outputs": [
    {
     "data": {
      "text/html": [
       "<div>\n",
       "<style scoped>\n",
       "    .dataframe tbody tr th:only-of-type {\n",
       "        vertical-align: middle;\n",
       "    }\n",
       "\n",
       "    .dataframe tbody tr th {\n",
       "        vertical-align: top;\n",
       "    }\n",
       "\n",
       "    .dataframe thead th {\n",
       "        text-align: right;\n",
       "    }\n",
       "</style>\n",
       "<table border=\"1\" class=\"dataframe\">\n",
       "  <thead>\n",
       "    <tr style=\"text-align: right;\">\n",
       "      <th></th>\n",
       "      <th>id_orden</th>\n",
       "      <th>sin_pesar</th>\n",
       "      <th>pesados</th>\n",
       "      <th>cantidad_total</th>\n",
       "    </tr>\n",
       "  </thead>\n",
       "  <tbody>\n",
       "    <tr>\n",
       "      <th>0</th>\n",
       "      <td>001ef94c50c71cb0e674b6293e9b6068</td>\n",
       "      <td>30</td>\n",
       "      <td>5</td>\n",
       "      <td>35</td>\n",
       "    </tr>\n",
       "    <tr>\n",
       "      <th>1</th>\n",
       "      <td>001f7583bb106a338d09a12a89e54cbd</td>\n",
       "      <td>5</td>\n",
       "      <td>0</td>\n",
       "      <td>5</td>\n",
       "    </tr>\n",
       "    <tr>\n",
       "      <th>2</th>\n",
       "      <td>002b6dcb32fef90ebb1cb691afe6a413</td>\n",
       "      <td>9</td>\n",
       "      <td>0</td>\n",
       "      <td>9</td>\n",
       "    </tr>\n",
       "    <tr>\n",
       "      <th>3</th>\n",
       "      <td>002ebc46f3e40c49044aceb8311df432</td>\n",
       "      <td>3</td>\n",
       "      <td>1</td>\n",
       "      <td>4</td>\n",
       "    </tr>\n",
       "    <tr>\n",
       "      <th>4</th>\n",
       "      <td>002f97bd7dad0d275d8511436c18b572</td>\n",
       "      <td>7</td>\n",
       "      <td>4</td>\n",
       "      <td>11</td>\n",
       "    </tr>\n",
       "  </tbody>\n",
       "</table>\n",
       "</div>"
      ],
      "text/plain": [
       "                           id_orden  sin_pesar  pesados  cantidad_total\n",
       "0  001ef94c50c71cb0e674b6293e9b6068         30        5              35\n",
       "1  001f7583bb106a338d09a12a89e54cbd          5        0               5\n",
       "2  002b6dcb32fef90ebb1cb691afe6a413          9        0               9\n",
       "3  002ebc46f3e40c49044aceb8311df432          3        1               4\n",
       "4  002f97bd7dad0d275d8511436c18b572          7        4              11"
      ]
     },
     "execution_count": 23,
     "metadata": {},
     "output_type": "execute_result"
    }
   ],
   "source": [
    "productos_agrupados.head()"
   ]
  },
  {
   "cell_type": "markdown",
   "metadata": {},
   "source": [
    "Finalmente, se hizo una agrupación del dataframe por número de orden, así consideramos solamente los productos que son pesado y los que no son pesados y la suma total de ellos."
   ]
  },
  {
   "cell_type": "markdown",
   "metadata": {},
   "source": [
    "### A1.3 - Recolector"
   ]
  },
  {
   "cell_type": "code",
   "execution_count": 24,
   "metadata": {},
   "outputs": [
    {
     "data": {
      "text/html": [
       "<div>\n",
       "<style scoped>\n",
       "    .dataframe tbody tr th:only-of-type {\n",
       "        vertical-align: middle;\n",
       "    }\n",
       "\n",
       "    .dataframe tbody tr th {\n",
       "        vertical-align: top;\n",
       "    }\n",
       "\n",
       "    .dataframe thead th {\n",
       "        text-align: right;\n",
       "    }\n",
       "</style>\n",
       "<table border=\"1\" class=\"dataframe\">\n",
       "  <thead>\n",
       "    <tr style=\"text-align: right;\">\n",
       "      <th></th>\n",
       "      <th>shopper_id</th>\n",
       "      <th>seniority</th>\n",
       "      <th>found_rate</th>\n",
       "      <th>picking_speed</th>\n",
       "      <th>accepted_rate</th>\n",
       "      <th>rating</th>\n",
       "    </tr>\n",
       "  </thead>\n",
       "  <tbody>\n",
       "    <tr>\n",
       "      <th>0</th>\n",
       "      <td>087ab65ceca40dbef697f585dc159d5d</td>\n",
       "      <td>ADVANCED</td>\n",
       "      <td>0.8610</td>\n",
       "      <td>1.64</td>\n",
       "      <td>1.00</td>\n",
       "      <td>4.48</td>\n",
       "    </tr>\n",
       "    <tr>\n",
       "      <th>1</th>\n",
       "      <td>645973c41314d763b58dc2bceeeeffc9</td>\n",
       "      <td>INTERMEDIATE</td>\n",
       "      <td>0.8337</td>\n",
       "      <td>2.83</td>\n",
       "      <td>0.96</td>\n",
       "      <td>4.79</td>\n",
       "    </tr>\n",
       "    <tr>\n",
       "      <th>2</th>\n",
       "      <td>82810715fdda44962e7e422015ea1f32</td>\n",
       "      <td>ADVANCED</td>\n",
       "      <td>0.8681</td>\n",
       "      <td>1.27</td>\n",
       "      <td>0.88</td>\n",
       "      <td>4.84</td>\n",
       "    </tr>\n",
       "    <tr>\n",
       "      <th>3</th>\n",
       "      <td>416aa7dbd5a2f58d7bca96657e8faa1e</td>\n",
       "      <td>INTERMEDIATE</td>\n",
       "      <td>0.8784</td>\n",
       "      <td>2.11</td>\n",
       "      <td>1.00</td>\n",
       "      <td>NaN</td>\n",
       "    </tr>\n",
       "    <tr>\n",
       "      <th>4</th>\n",
       "      <td>27a3e845a4c3eb7ded4748f84140a843</td>\n",
       "      <td>ADVANCED</td>\n",
       "      <td>0.8466</td>\n",
       "      <td>1.50</td>\n",
       "      <td>1.00</td>\n",
       "      <td>4.84</td>\n",
       "    </tr>\n",
       "  </tbody>\n",
       "</table>\n",
       "</div>"
      ],
      "text/plain": [
       "                         shopper_id     seniority  found_rate  picking_speed  \\\n",
       "0  087ab65ceca40dbef697f585dc159d5d      ADVANCED      0.8610           1.64   \n",
       "1  645973c41314d763b58dc2bceeeeffc9  INTERMEDIATE      0.8337           2.83   \n",
       "2  82810715fdda44962e7e422015ea1f32      ADVANCED      0.8681           1.27   \n",
       "3  416aa7dbd5a2f58d7bca96657e8faa1e  INTERMEDIATE      0.8784           2.11   \n",
       "4  27a3e845a4c3eb7ded4748f84140a843      ADVANCED      0.8466           1.50   \n",
       "\n",
       "   accepted_rate  rating  \n",
       "0           1.00    4.48  \n",
       "1           0.96    4.79  \n",
       "2           0.88    4.84  \n",
       "3           1.00     NaN  \n",
       "4           1.00    4.84  "
      ]
     },
     "execution_count": 24,
     "metadata": {},
     "output_type": "execute_result"
    }
   ],
   "source": [
    "recolector = pd.read_csv('data/3_Recolector.csv', sep=\";\")\n",
    "recolector.head()"
   ]
  },
  {
   "cell_type": "code",
   "execution_count": 25,
   "metadata": {},
   "outputs": [
    {
     "name": "stdout",
     "output_type": "stream",
     "text": [
      "La cantidad de registros es de: 600\n",
      "La cantidad de atributos es de: 6\n"
     ]
    }
   ],
   "source": [
    "print(\"La cantidad de registros es de:\", recolector.shape[0])\n",
    "print(\"La cantidad de atributos es de:\", recolector.shape[1])"
   ]
  },
  {
   "cell_type": "code",
   "execution_count": 26,
   "metadata": {},
   "outputs": [],
   "source": [
    "#Se renombran las columnas del dataset\n",
    "recolector.rename(columns={'shopper_id':'id_recolector', 'seniority':'clasificacion_recolector', \n",
    "                           'found_rate':'p_aciertos', 'picking_speed':'velocidad', \n",
    "                           'accepted_rate':'p_aceptacion', 'rating':'score_recolector'}, inplace=True)"
   ]
  },
  {
   "cell_type": "markdown",
   "metadata": {},
   "source": [
    "Tenemos algunos datos perdidos en el dataset por lo que determinaremos la cantidad que representa cada atributo para posteriormente aislar estos casos y analizarlos de una mejor manera."
   ]
  },
  {
   "cell_type": "code",
   "execution_count": 27,
   "metadata": {
    "scrolled": true
   },
   "outputs": [
    {
     "data": {
      "text/plain": [
       "id_recolector               False\n",
       "clasificacion_recolector    False\n",
       "p_aciertos                   True\n",
       "velocidad                   False\n",
       "p_aceptacion                 True\n",
       "score_recolector             True\n",
       "dtype: bool"
      ]
     },
     "execution_count": 27,
     "metadata": {},
     "output_type": "execute_result"
    }
   ],
   "source": [
    "recolector.isnull().any()"
   ]
  },
  {
   "cell_type": "code",
   "execution_count": 28,
   "metadata": {},
   "outputs": [
    {
     "data": {
      "text/html": [
       "<div>\n",
       "<style scoped>\n",
       "    .dataframe tbody tr th:only-of-type {\n",
       "        vertical-align: middle;\n",
       "    }\n",
       "\n",
       "    .dataframe tbody tr th {\n",
       "        vertical-align: top;\n",
       "    }\n",
       "\n",
       "    .dataframe thead th {\n",
       "        text-align: right;\n",
       "    }\n",
       "</style>\n",
       "<table border=\"1\" class=\"dataframe\">\n",
       "  <thead>\n",
       "    <tr style=\"text-align: right;\">\n",
       "      <th></th>\n",
       "      <th>Total</th>\n",
       "      <th>Porcentaje (%)</th>\n",
       "    </tr>\n",
       "  </thead>\n",
       "  <tbody>\n",
       "    <tr>\n",
       "      <th>p_aciertos</th>\n",
       "      <td>36</td>\n",
       "      <td>6.00</td>\n",
       "    </tr>\n",
       "    <tr>\n",
       "      <th>score_recolector</th>\n",
       "      <td>34</td>\n",
       "      <td>5.67</td>\n",
       "    </tr>\n",
       "    <tr>\n",
       "      <th>p_aceptacion</th>\n",
       "      <td>6</td>\n",
       "      <td>1.00</td>\n",
       "    </tr>\n",
       "    <tr>\n",
       "      <th>velocidad</th>\n",
       "      <td>0</td>\n",
       "      <td>0.00</td>\n",
       "    </tr>\n",
       "    <tr>\n",
       "      <th>clasificacion_recolector</th>\n",
       "      <td>0</td>\n",
       "      <td>0.00</td>\n",
       "    </tr>\n",
       "    <tr>\n",
       "      <th>id_recolector</th>\n",
       "      <td>0</td>\n",
       "      <td>0.00</td>\n",
       "    </tr>\n",
       "  </tbody>\n",
       "</table>\n",
       "</div>"
      ],
      "text/plain": [
       "                          Total  Porcentaje (%)\n",
       "p_aciertos                   36            6.00\n",
       "score_recolector             34            5.67\n",
       "p_aceptacion                  6            1.00\n",
       "velocidad                     0            0.00\n",
       "clasificacion_recolector      0            0.00\n",
       "id_recolector                 0            0.00"
      ]
     },
     "execution_count": 28,
     "metadata": {},
     "output_type": "execute_result"
    }
   ],
   "source": [
    "total = recolector.isnull().sum().sort_values(ascending=False)\n",
    "percent = round((recolector.isnull().sum() / recolector.isnull().count()) * 100, 2).sort_values(ascending=False)\n",
    "missing_values = pd.concat([total, percent], axis=1, keys=['Total', 'Porcentaje (%)'])\n",
    "missing_values"
   ]
  },
  {
   "cell_type": "markdown",
   "metadata": {},
   "source": [
    "Podemos apreciar que existen __3 atributos__ los cuales tienen algunos datos perdidos, donde se representa en porcentaje la cifra de ellos en c/u."
   ]
  },
  {
   "cell_type": "markdown",
   "metadata": {},
   "source": [
    "Para este caso tenemos pocos atributos en nuestro dataset, por lo que emplearemos la técnica `get_dummies` para separar y convertir en nuevos atributos la columna `clasificacion_recolector`, la cual representa la clasificación del recolector y para este caso tenemos sólo __4 tipos__."
   ]
  },
  {
   "cell_type": "code",
   "execution_count": 29,
   "metadata": {},
   "outputs": [
    {
     "data": {
      "text/plain": [
       "ADVANCED        268\n",
       "INTERMEDIATE    204\n",
       "REVIEW           99\n",
       "BEGINNER         29\n",
       "Name: clasificacion_recolector, dtype: int64"
      ]
     },
     "execution_count": 29,
     "metadata": {},
     "output_type": "execute_result"
    }
   ],
   "source": [
    "#Se contabilizan las categorías del atributo 'clasificacion_recolector'\n",
    "recolector['clasificacion_recolector'].value_counts()"
   ]
  },
  {
   "cell_type": "code",
   "execution_count": 30,
   "metadata": {},
   "outputs": [],
   "source": [
    "recolector = pd.get_dummies(recolector, columns=['clasificacion_recolector'], prefix='seniority', prefix_sep='_')"
   ]
  },
  {
   "cell_type": "code",
   "execution_count": 31,
   "metadata": {
    "scrolled": true
   },
   "outputs": [
    {
     "data": {
      "text/html": [
       "<div>\n",
       "<style scoped>\n",
       "    .dataframe tbody tr th:only-of-type {\n",
       "        vertical-align: middle;\n",
       "    }\n",
       "\n",
       "    .dataframe tbody tr th {\n",
       "        vertical-align: top;\n",
       "    }\n",
       "\n",
       "    .dataframe thead th {\n",
       "        text-align: right;\n",
       "    }\n",
       "</style>\n",
       "<table border=\"1\" class=\"dataframe\">\n",
       "  <thead>\n",
       "    <tr style=\"text-align: right;\">\n",
       "      <th></th>\n",
       "      <th>id_recolector</th>\n",
       "      <th>p_aciertos</th>\n",
       "      <th>velocidad</th>\n",
       "      <th>p_aceptacion</th>\n",
       "      <th>score_recolector</th>\n",
       "      <th>seniority_ADVANCED</th>\n",
       "      <th>seniority_BEGINNER</th>\n",
       "      <th>seniority_INTERMEDIATE</th>\n",
       "      <th>seniority_REVIEW</th>\n",
       "    </tr>\n",
       "  </thead>\n",
       "  <tbody>\n",
       "    <tr>\n",
       "      <th>0</th>\n",
       "      <td>087ab65ceca40dbef697f585dc159d5d</td>\n",
       "      <td>0.8610</td>\n",
       "      <td>1.64</td>\n",
       "      <td>1.00</td>\n",
       "      <td>4.48</td>\n",
       "      <td>1</td>\n",
       "      <td>0</td>\n",
       "      <td>0</td>\n",
       "      <td>0</td>\n",
       "    </tr>\n",
       "    <tr>\n",
       "      <th>1</th>\n",
       "      <td>645973c41314d763b58dc2bceeeeffc9</td>\n",
       "      <td>0.8337</td>\n",
       "      <td>2.83</td>\n",
       "      <td>0.96</td>\n",
       "      <td>4.79</td>\n",
       "      <td>0</td>\n",
       "      <td>0</td>\n",
       "      <td>1</td>\n",
       "      <td>0</td>\n",
       "    </tr>\n",
       "    <tr>\n",
       "      <th>2</th>\n",
       "      <td>82810715fdda44962e7e422015ea1f32</td>\n",
       "      <td>0.8681</td>\n",
       "      <td>1.27</td>\n",
       "      <td>0.88</td>\n",
       "      <td>4.84</td>\n",
       "      <td>1</td>\n",
       "      <td>0</td>\n",
       "      <td>0</td>\n",
       "      <td>0</td>\n",
       "    </tr>\n",
       "    <tr>\n",
       "      <th>3</th>\n",
       "      <td>416aa7dbd5a2f58d7bca96657e8faa1e</td>\n",
       "      <td>0.8784</td>\n",
       "      <td>2.11</td>\n",
       "      <td>1.00</td>\n",
       "      <td>NaN</td>\n",
       "      <td>0</td>\n",
       "      <td>0</td>\n",
       "      <td>1</td>\n",
       "      <td>0</td>\n",
       "    </tr>\n",
       "    <tr>\n",
       "      <th>4</th>\n",
       "      <td>27a3e845a4c3eb7ded4748f84140a843</td>\n",
       "      <td>0.8466</td>\n",
       "      <td>1.50</td>\n",
       "      <td>1.00</td>\n",
       "      <td>4.84</td>\n",
       "      <td>1</td>\n",
       "      <td>0</td>\n",
       "      <td>0</td>\n",
       "      <td>0</td>\n",
       "    </tr>\n",
       "  </tbody>\n",
       "</table>\n",
       "</div>"
      ],
      "text/plain": [
       "                      id_recolector  p_aciertos  velocidad  p_aceptacion  \\\n",
       "0  087ab65ceca40dbef697f585dc159d5d      0.8610       1.64          1.00   \n",
       "1  645973c41314d763b58dc2bceeeeffc9      0.8337       2.83          0.96   \n",
       "2  82810715fdda44962e7e422015ea1f32      0.8681       1.27          0.88   \n",
       "3  416aa7dbd5a2f58d7bca96657e8faa1e      0.8784       2.11          1.00   \n",
       "4  27a3e845a4c3eb7ded4748f84140a843      0.8466       1.50          1.00   \n",
       "\n",
       "   score_recolector  seniority_ADVANCED  seniority_BEGINNER  \\\n",
       "0              4.48                   1                   0   \n",
       "1              4.79                   0                   0   \n",
       "2              4.84                   1                   0   \n",
       "3               NaN                   0                   0   \n",
       "4              4.84                   1                   0   \n",
       "\n",
       "   seniority_INTERMEDIATE  seniority_REVIEW  \n",
       "0                       0                 0  \n",
       "1                       1                 0  \n",
       "2                       0                 0  \n",
       "3                       1                 0  \n",
       "4                       0                 0  "
      ]
     },
     "execution_count": 31,
     "metadata": {},
     "output_type": "execute_result"
    }
   ],
   "source": [
    "recolector.head()"
   ]
  },
  {
   "cell_type": "markdown",
   "metadata": {},
   "source": [
    "### A1.4 - Tiendas"
   ]
  },
  {
   "cell_type": "code",
   "execution_count": 32,
   "metadata": {},
   "outputs": [
    {
     "data": {
      "text/html": [
       "<div>\n",
       "<style scoped>\n",
       "    .dataframe tbody tr th:only-of-type {\n",
       "        vertical-align: middle;\n",
       "    }\n",
       "\n",
       "    .dataframe tbody tr th {\n",
       "        vertical-align: top;\n",
       "    }\n",
       "\n",
       "    .dataframe thead th {\n",
       "        text-align: right;\n",
       "    }\n",
       "</style>\n",
       "<table border=\"1\" class=\"dataframe\">\n",
       "  <thead>\n",
       "    <tr style=\"text-align: right;\">\n",
       "      <th></th>\n",
       "      <th>store_branch_id</th>\n",
       "      <th>store</th>\n",
       "      <th>lat</th>\n",
       "      <th>lng</th>\n",
       "    </tr>\n",
       "  </thead>\n",
       "  <tbody>\n",
       "    <tr>\n",
       "      <th>0</th>\n",
       "      <td>cf0895f1e3beb8164f0a86e6f940ae56</td>\n",
       "      <td>c0b93cf93cf854981b8d6bd849eec4b0</td>\n",
       "      <td>18.160.308.413.602.800</td>\n",
       "      <td>-10.026.067.265.111.100</td>\n",
       "    </tr>\n",
       "    <tr>\n",
       "      <th>1</th>\n",
       "      <td>3ddd4c29cab4178d89d549c6ba65c236</td>\n",
       "      <td>044d56734d20e04984d846dade6d39f3</td>\n",
       "      <td>1.827.282.968.914.450</td>\n",
       "      <td>-10.031.881.435.593.900</td>\n",
       "    </tr>\n",
       "    <tr>\n",
       "      <th>2</th>\n",
       "      <td>e9763f24fd46d0b9e52d423207a87c3c</td>\n",
       "      <td>452ae015bf846e1d2932b7ea15720d64</td>\n",
       "      <td>18.273.494.015.704.800</td>\n",
       "      <td>-10.031.958.539.978.200</td>\n",
       "    </tr>\n",
       "    <tr>\n",
       "      <th>3</th>\n",
       "      <td>49b7d60d6095a9f1129ce798102b62f4</td>\n",
       "      <td>6447951cd071f6f045fd4e6194920926</td>\n",
       "      <td>1.824.774.341.566.610</td>\n",
       "      <td>-10.040.355.771.938.600</td>\n",
       "    </tr>\n",
       "    <tr>\n",
       "      <th>4</th>\n",
       "      <td>8f21cfda17b340aeee062220d0bee8e5</td>\n",
       "      <td>452ae015bf846e1d2932b7ea15720d64</td>\n",
       "      <td>18.203.111.495.565.700</td>\n",
       "      <td>-10.029.771.361.550.100</td>\n",
       "    </tr>\n",
       "  </tbody>\n",
       "</table>\n",
       "</div>"
      ],
      "text/plain": [
       "                    store_branch_id                             store  \\\n",
       "0  cf0895f1e3beb8164f0a86e6f940ae56  c0b93cf93cf854981b8d6bd849eec4b0   \n",
       "1  3ddd4c29cab4178d89d549c6ba65c236  044d56734d20e04984d846dade6d39f3   \n",
       "2  e9763f24fd46d0b9e52d423207a87c3c  452ae015bf846e1d2932b7ea15720d64   \n",
       "3  49b7d60d6095a9f1129ce798102b62f4  6447951cd071f6f045fd4e6194920926   \n",
       "4  8f21cfda17b340aeee062220d0bee8e5  452ae015bf846e1d2932b7ea15720d64   \n",
       "\n",
       "                      lat                      lng  \n",
       "0  18.160.308.413.602.800  -10.026.067.265.111.100  \n",
       "1   1.827.282.968.914.450  -10.031.881.435.593.900  \n",
       "2  18.273.494.015.704.800  -10.031.958.539.978.200  \n",
       "3   1.824.774.341.566.610  -10.040.355.771.938.600  \n",
       "4  18.203.111.495.565.700  -10.029.771.361.550.100  "
      ]
     },
     "execution_count": 32,
     "metadata": {},
     "output_type": "execute_result"
    }
   ],
   "source": [
    "tienda = pd.read_csv('data/4_tienda.csv', sep=';')\n",
    "tienda.head()"
   ]
  },
  {
   "cell_type": "markdown",
   "metadata": {},
   "source": [
    "Podemos apreciar que no tenemos datos perdidos en el dataset."
   ]
  },
  {
   "cell_type": "code",
   "execution_count": 33,
   "metadata": {},
   "outputs": [
    {
     "data": {
      "text/plain": [
       "store_branch_id    False\n",
       "store              False\n",
       "lat                False\n",
       "lng                False\n",
       "dtype: bool"
      ]
     },
     "execution_count": 33,
     "metadata": {},
     "output_type": "execute_result"
    }
   ],
   "source": [
    "tienda.isnull().any()"
   ]
  },
  {
   "cell_type": "code",
   "execution_count": 34,
   "metadata": {},
   "outputs": [
    {
     "name": "stdout",
     "output_type": "stream",
     "text": [
      "La cantidad de registros es de: 113\n",
      "La cantidad de atributos es de: 4\n"
     ]
    }
   ],
   "source": [
    "print(\"La cantidad de registros es de:\", tienda.shape[0])\n",
    "print(\"La cantidad de atributos es de:\", tienda.shape[1])"
   ]
  },
  {
   "cell_type": "code",
   "execution_count": 35,
   "metadata": {},
   "outputs": [],
   "source": [
    "#Se renombran las columnas del dataset\n",
    "tienda.rename(columns={'store_branch_id':'id_tienda', 'store':'tienda', 'lat':'latitud_tienda',\n",
    "                       'lng':'longitud_tienda'}, inplace=True)"
   ]
  },
  {
   "cell_type": "markdown",
   "metadata": {},
   "source": [
    "### A1.5 - Consolidación"
   ]
  },
  {
   "cell_type": "code",
   "execution_count": 36,
   "metadata": {},
   "outputs": [],
   "source": [
    "#Consolidación de los df compra y prodructos\n",
    "df = pd.merge(compra, productos_agrupados, how='left', on='id_orden')"
   ]
  },
  {
   "cell_type": "code",
   "execution_count": 37,
   "metadata": {},
   "outputs": [],
   "source": [
    "#Consolidación del df con recolector\n",
    "df = pd.merge(df, recolector, how='left', on='id_recolector')"
   ]
  },
  {
   "cell_type": "code",
   "execution_count": 38,
   "metadata": {},
   "outputs": [],
   "source": [
    "#consolidación de todos los dataset\n",
    "df = pd.merge(df, tienda, how='left', on='id_tienda')"
   ]
  },
  {
   "cell_type": "code",
   "execution_count": 39,
   "metadata": {},
   "outputs": [
    {
     "name": "stdout",
     "output_type": "stream",
     "text": [
      "La cantidad de registros final es de: 6543\n",
      "La cantidad de atributos final es de: 25\n"
     ]
    }
   ],
   "source": [
    "print(\"La cantidad de registros final es de:\", df.shape[0])\n",
    "print(\"La cantidad de atributos final es de:\", df.shape[1])"
   ]
  },
  {
   "cell_type": "code",
   "execution_count": 40,
   "metadata": {},
   "outputs": [],
   "source": [
    "df.to_csv('data/consolidado.csv', header=True, index=False)"
   ]
  },
  {
   "cell_type": "markdown",
   "metadata": {},
   "source": [
    "Tenemos nuestro dataset consolidado, vamos a proceder a evaluarlo para determinar si hay casos con datos perdidos y/o anómalos, posteriormente se aplicarán más técnicas de recodificación para dejar limpio en su totalidad."
   ]
  },
  {
   "cell_type": "code",
   "execution_count": 41,
   "metadata": {},
   "outputs": [
    {
     "data": {
      "text/html": [
       "<div>\n",
       "<style scoped>\n",
       "    .dataframe tbody tr th:only-of-type {\n",
       "        vertical-align: middle;\n",
       "    }\n",
       "\n",
       "    .dataframe tbody tr th {\n",
       "        vertical-align: top;\n",
       "    }\n",
       "\n",
       "    .dataframe thead th {\n",
       "        text-align: right;\n",
       "    }\n",
       "</style>\n",
       "<table border=\"1\" class=\"dataframe\">\n",
       "  <thead>\n",
       "    <tr style=\"text-align: right;\">\n",
       "      <th></th>\n",
       "      <th>id_orden</th>\n",
       "      <th>latitud</th>\n",
       "      <th>longitud</th>\n",
       "      <th>dia</th>\n",
       "      <th>promesa</th>\n",
       "      <th>entrega</th>\n",
       "      <th>id_entrega</th>\n",
       "      <th>id_recolector</th>\n",
       "      <th>id_transporte</th>\n",
       "      <th>id_tienda</th>\n",
       "      <th>...</th>\n",
       "      <th>velocidad</th>\n",
       "      <th>p_aceptacion</th>\n",
       "      <th>score_recolector</th>\n",
       "      <th>seniority_ADVANCED</th>\n",
       "      <th>seniority_BEGINNER</th>\n",
       "      <th>seniority_INTERMEDIATE</th>\n",
       "      <th>seniority_REVIEW</th>\n",
       "      <th>tienda</th>\n",
       "      <th>latitud_tienda</th>\n",
       "      <th>longitud_tienda</th>\n",
       "    </tr>\n",
       "  </thead>\n",
       "  <tbody>\n",
       "    <tr>\n",
       "      <th>0</th>\n",
       "      <td>6abd5e28d01b7c733fe37485294235dc</td>\n",
       "      <td>1.822.114.109.606.680</td>\n",
       "      <td>-10.031.391.366.664.600</td>\n",
       "      <td>2</td>\n",
       "      <td>13:00:00</td>\n",
       "      <td>12:00:15</td>\n",
       "      <td>1</td>\n",
       "      <td>09bb5bfe76adbb474dddbdd111a51623</td>\n",
       "      <td>09bb5bfe76adbb474dddbdd111a51623</td>\n",
       "      <td>0dc6fb5924a8b917bc641666ed02663c</td>\n",
       "      <td>...</td>\n",
       "      <td>1.56</td>\n",
       "      <td>1.00</td>\n",
       "      <td>4.68</td>\n",
       "      <td>1</td>\n",
       "      <td>0</td>\n",
       "      <td>0</td>\n",
       "      <td>0</td>\n",
       "      <td>60e4c4e1c1a8bc79123738227b9d0b08</td>\n",
       "      <td>1.823.190.132.492.320</td>\n",
       "      <td>-1.003.035.533.737.440</td>\n",
       "    </tr>\n",
       "    <tr>\n",
       "      <th>1</th>\n",
       "      <td>0d37a1eea001f01b40232ffd496ff663</td>\n",
       "      <td>18.177.712.202.580.300</td>\n",
       "      <td>-10.035.705.073.096.900</td>\n",
       "      <td>2</td>\n",
       "      <td>13:00:00</td>\n",
       "      <td>10:28:10</td>\n",
       "      <td>1</td>\n",
       "      <td>c4c722114a82fa21654e57e9636d68b0</td>\n",
       "      <td>c4c722114a82fa21654e57e9636d68b0</td>\n",
       "      <td>2bbf833e689d24b697f1f3529c3f3c4b</td>\n",
       "      <td>...</td>\n",
       "      <td>1.14</td>\n",
       "      <td>1.00</td>\n",
       "      <td>4.76</td>\n",
       "      <td>1</td>\n",
       "      <td>0</td>\n",
       "      <td>0</td>\n",
       "      <td>0</td>\n",
       "      <td>387d4a5b65cf4bf00ad805c4b00eed01</td>\n",
       "      <td>18.163.960.871.027.900</td>\n",
       "      <td>-10.032.899.405.911.000</td>\n",
       "    </tr>\n",
       "    <tr>\n",
       "      <th>2</th>\n",
       "      <td>528428e9b9eb5d3bd0dbdd8da692b087</td>\n",
       "      <td>1.826.683.205.404.410</td>\n",
       "      <td>-10.031.755.280.890.600</td>\n",
       "      <td>2</td>\n",
       "      <td>11:00:00</td>\n",
       "      <td>10:40:50</td>\n",
       "      <td>1</td>\n",
       "      <td>e15c7a67d0ea9a54dffb410bc1d8528b</td>\n",
       "      <td>e15c7a67d0ea9a54dffb410bc1d8528b</td>\n",
       "      <td>8d891dfc0e29d744c15c18adced74a68</td>\n",
       "      <td>...</td>\n",
       "      <td>2.03</td>\n",
       "      <td>1.00</td>\n",
       "      <td>4.96</td>\n",
       "      <td>0</td>\n",
       "      <td>0</td>\n",
       "      <td>1</td>\n",
       "      <td>0</td>\n",
       "      <td>0fae7b61265bc7ca4ce4d81440b62501</td>\n",
       "      <td>1.824.565.541.228.880</td>\n",
       "      <td>-1.003.324.934.760.470</td>\n",
       "    </tr>\n",
       "    <tr>\n",
       "      <th>3</th>\n",
       "      <td>d3f7be6d64eae7405b7bf024e04807a2</td>\n",
       "      <td>18.248.884.004.419.400</td>\n",
       "      <td>-1.003.226.215.187.040</td>\n",
       "      <td>2</td>\n",
       "      <td>10:00:00</td>\n",
       "      <td>9:41:47</td>\n",
       "      <td>1</td>\n",
       "      <td>d1f0bd4b237c1358f09db22076b940e7</td>\n",
       "      <td>d1f0bd4b237c1358f09db22076b940e7</td>\n",
       "      <td>0dc6fb5924a8b917bc641666ed02663c</td>\n",
       "      <td>...</td>\n",
       "      <td>2.06</td>\n",
       "      <td>0.92</td>\n",
       "      <td>4.92</td>\n",
       "      <td>0</td>\n",
       "      <td>0</td>\n",
       "      <td>1</td>\n",
       "      <td>0</td>\n",
       "      <td>60e4c4e1c1a8bc79123738227b9d0b08</td>\n",
       "      <td>1.823.190.132.492.320</td>\n",
       "      <td>-1.003.035.533.737.440</td>\n",
       "    </tr>\n",
       "    <tr>\n",
       "      <th>4</th>\n",
       "      <td>e0ad6533b6cd9a382ec6c1d473c5036c</td>\n",
       "      <td>1.822.911.027.242.010</td>\n",
       "      <td>-10.032.267.241.783.800</td>\n",
       "      <td>2</td>\n",
       "      <td>11:00:00</td>\n",
       "      <td>10:07:53</td>\n",
       "      <td>1</td>\n",
       "      <td>06a71e8ab0c6db5ce22a4689fd76a3f4</td>\n",
       "      <td>06a71e8ab0c6db5ce22a4689fd76a3f4</td>\n",
       "      <td>afd0a7b8d546fcc697bb93a5934b65c3</td>\n",
       "      <td>...</td>\n",
       "      <td>1.89</td>\n",
       "      <td>1.00</td>\n",
       "      <td>4.92</td>\n",
       "      <td>1</td>\n",
       "      <td>0</td>\n",
       "      <td>0</td>\n",
       "      <td>0</td>\n",
       "      <td>452ae015bf846e1d2932b7ea15720d64</td>\n",
       "      <td>1.823.159.108.764.060</td>\n",
       "      <td>-10.031.450.001.698.800</td>\n",
       "    </tr>\n",
       "  </tbody>\n",
       "</table>\n",
       "<p>5 rows × 25 columns</p>\n",
       "</div>"
      ],
      "text/plain": [
       "                           id_orden                 latitud  \\\n",
       "0  6abd5e28d01b7c733fe37485294235dc   1.822.114.109.606.680   \n",
       "1  0d37a1eea001f01b40232ffd496ff663  18.177.712.202.580.300   \n",
       "2  528428e9b9eb5d3bd0dbdd8da692b087   1.826.683.205.404.410   \n",
       "3  d3f7be6d64eae7405b7bf024e04807a2  18.248.884.004.419.400   \n",
       "4  e0ad6533b6cd9a382ec6c1d473c5036c   1.822.911.027.242.010   \n",
       "\n",
       "                  longitud  dia   promesa   entrega  id_entrega  \\\n",
       "0  -10.031.391.366.664.600    2  13:00:00  12:00:15           1   \n",
       "1  -10.035.705.073.096.900    2  13:00:00  10:28:10           1   \n",
       "2  -10.031.755.280.890.600    2  11:00:00  10:40:50           1   \n",
       "3   -1.003.226.215.187.040    2  10:00:00   9:41:47           1   \n",
       "4  -10.032.267.241.783.800    2  11:00:00  10:07:53           1   \n",
       "\n",
       "                      id_recolector                     id_transporte  \\\n",
       "0  09bb5bfe76adbb474dddbdd111a51623  09bb5bfe76adbb474dddbdd111a51623   \n",
       "1  c4c722114a82fa21654e57e9636d68b0  c4c722114a82fa21654e57e9636d68b0   \n",
       "2  e15c7a67d0ea9a54dffb410bc1d8528b  e15c7a67d0ea9a54dffb410bc1d8528b   \n",
       "3  d1f0bd4b237c1358f09db22076b940e7  d1f0bd4b237c1358f09db22076b940e7   \n",
       "4  06a71e8ab0c6db5ce22a4689fd76a3f4  06a71e8ab0c6db5ce22a4689fd76a3f4   \n",
       "\n",
       "                          id_tienda  ... velocidad  p_aceptacion  \\\n",
       "0  0dc6fb5924a8b917bc641666ed02663c  ...      1.56          1.00   \n",
       "1  2bbf833e689d24b697f1f3529c3f3c4b  ...      1.14          1.00   \n",
       "2  8d891dfc0e29d744c15c18adced74a68  ...      2.03          1.00   \n",
       "3  0dc6fb5924a8b917bc641666ed02663c  ...      2.06          0.92   \n",
       "4  afd0a7b8d546fcc697bb93a5934b65c3  ...      1.89          1.00   \n",
       "\n",
       "   score_recolector  seniority_ADVANCED  seniority_BEGINNER  \\\n",
       "0              4.68                   1                   0   \n",
       "1              4.76                   1                   0   \n",
       "2              4.96                   0                   0   \n",
       "3              4.92                   0                   0   \n",
       "4              4.92                   1                   0   \n",
       "\n",
       "   seniority_INTERMEDIATE  seniority_REVIEW                            tienda  \\\n",
       "0                       0                 0  60e4c4e1c1a8bc79123738227b9d0b08   \n",
       "1                       0                 0  387d4a5b65cf4bf00ad805c4b00eed01   \n",
       "2                       1                 0  0fae7b61265bc7ca4ce4d81440b62501   \n",
       "3                       1                 0  60e4c4e1c1a8bc79123738227b9d0b08   \n",
       "4                       0                 0  452ae015bf846e1d2932b7ea15720d64   \n",
       "\n",
       "           latitud_tienda          longitud_tienda  \n",
       "0   1.823.190.132.492.320   -1.003.035.533.737.440  \n",
       "1  18.163.960.871.027.900  -10.032.899.405.911.000  \n",
       "2   1.824.565.541.228.880   -1.003.324.934.760.470  \n",
       "3   1.823.190.132.492.320   -1.003.035.533.737.440  \n",
       "4   1.823.159.108.764.060  -10.031.450.001.698.800  \n",
       "\n",
       "[5 rows x 25 columns]"
      ]
     },
     "execution_count": 41,
     "metadata": {},
     "output_type": "execute_result"
    }
   ],
   "source": [
    "df.head()"
   ]
  },
  {
   "cell_type": "markdown",
   "metadata": {},
   "source": [
    "Existen datos perdidos en el dataset consolidado,vamos a calcular la cantidad en cada atributo, se mostrarán dichos datos en una tabla."
   ]
  },
  {
   "cell_type": "code",
   "execution_count": 42,
   "metadata": {},
   "outputs": [
    {
     "data": {
      "text/plain": [
       "id_orden                  False\n",
       "latitud                   False\n",
       "longitud                  False\n",
       "dia                       False\n",
       "promesa                   False\n",
       "entrega                   False\n",
       "id_entrega                False\n",
       "id_recolector             False\n",
       "id_transporte             False\n",
       "id_tienda                 False\n",
       "tiempo                    False\n",
       "sin_pesar                  True\n",
       "pesados                    True\n",
       "cantidad_total             True\n",
       "p_aciertos                 True\n",
       "velocidad                 False\n",
       "p_aceptacion               True\n",
       "score_recolector           True\n",
       "seniority_ADVANCED        False\n",
       "seniority_BEGINNER        False\n",
       "seniority_INTERMEDIATE    False\n",
       "seniority_REVIEW          False\n",
       "tienda                    False\n",
       "latitud_tienda            False\n",
       "longitud_tienda           False\n",
       "dtype: bool"
      ]
     },
     "execution_count": 42,
     "metadata": {},
     "output_type": "execute_result"
    }
   ],
   "source": [
    "df.isnull().any()"
   ]
  },
  {
   "cell_type": "markdown",
   "metadata": {},
   "source": [
    "Acá podremos observar la cantidad de datos perdidos por atributo y cuanto significa cada uno de ellos en porcentaje; tenemos 6 atributos con datos perdidos, para este caso vamos a imputar 3 de ellos `p_aciertos, score_recolector y p_aceptacion`, la imputación se hará rellenando los valores perdidos con la media de la columna, para efecto en el modelamiento no tendrá ninguno ya que los valores de los registros están concentrados en esa área y no afectaría de manera relevante, además, salvaríamos esos datos para obtener un mejor resultado. A continuación, se detalla el proceso de cada variable:"
   ]
  },
  {
   "cell_type": "code",
   "execution_count": 43,
   "metadata": {},
   "outputs": [],
   "source": [
    "pd.set_option('display.max_columns', 100)"
   ]
  },
  {
   "cell_type": "code",
   "execution_count": 44,
   "metadata": {},
   "outputs": [
    {
     "data": {
      "text/html": [
       "<div>\n",
       "<style scoped>\n",
       "    .dataframe tbody tr th:only-of-type {\n",
       "        vertical-align: middle;\n",
       "    }\n",
       "\n",
       "    .dataframe tbody tr th {\n",
       "        vertical-align: top;\n",
       "    }\n",
       "\n",
       "    .dataframe thead th {\n",
       "        text-align: right;\n",
       "    }\n",
       "</style>\n",
       "<table border=\"1\" class=\"dataframe\">\n",
       "  <thead>\n",
       "    <tr style=\"text-align: right;\">\n",
       "      <th></th>\n",
       "      <th>Total</th>\n",
       "      <th>Porcentaje (%)</th>\n",
       "    </tr>\n",
       "  </thead>\n",
       "  <tbody>\n",
       "    <tr>\n",
       "      <th>p_aciertos</th>\n",
       "      <td>75</td>\n",
       "      <td>1.15</td>\n",
       "    </tr>\n",
       "    <tr>\n",
       "      <th>score_recolector</th>\n",
       "      <td>70</td>\n",
       "      <td>1.07</td>\n",
       "    </tr>\n",
       "    <tr>\n",
       "      <th>pesados</th>\n",
       "      <td>15</td>\n",
       "      <td>0.23</td>\n",
       "    </tr>\n",
       "    <tr>\n",
       "      <th>cantidad_total</th>\n",
       "      <td>15</td>\n",
       "      <td>0.23</td>\n",
       "    </tr>\n",
       "    <tr>\n",
       "      <th>sin_pesar</th>\n",
       "      <td>15</td>\n",
       "      <td>0.23</td>\n",
       "    </tr>\n",
       "    <tr>\n",
       "      <th>p_aceptacion</th>\n",
       "      <td>5</td>\n",
       "      <td>0.08</td>\n",
       "    </tr>\n",
       "    <tr>\n",
       "      <th>id_tienda</th>\n",
       "      <td>0</td>\n",
       "      <td>0.00</td>\n",
       "    </tr>\n",
       "    <tr>\n",
       "      <th>latitud</th>\n",
       "      <td>0</td>\n",
       "      <td>0.00</td>\n",
       "    </tr>\n",
       "    <tr>\n",
       "      <th>longitud</th>\n",
       "      <td>0</td>\n",
       "      <td>0.00</td>\n",
       "    </tr>\n",
       "    <tr>\n",
       "      <th>dia</th>\n",
       "      <td>0</td>\n",
       "      <td>0.00</td>\n",
       "    </tr>\n",
       "    <tr>\n",
       "      <th>promesa</th>\n",
       "      <td>0</td>\n",
       "      <td>0.00</td>\n",
       "    </tr>\n",
       "    <tr>\n",
       "      <th>entrega</th>\n",
       "      <td>0</td>\n",
       "      <td>0.00</td>\n",
       "    </tr>\n",
       "    <tr>\n",
       "      <th>id_entrega</th>\n",
       "      <td>0</td>\n",
       "      <td>0.00</td>\n",
       "    </tr>\n",
       "    <tr>\n",
       "      <th>id_recolector</th>\n",
       "      <td>0</td>\n",
       "      <td>0.00</td>\n",
       "    </tr>\n",
       "    <tr>\n",
       "      <th>id_transporte</th>\n",
       "      <td>0</td>\n",
       "      <td>0.00</td>\n",
       "    </tr>\n",
       "    <tr>\n",
       "      <th>longitud_tienda</th>\n",
       "      <td>0</td>\n",
       "      <td>0.00</td>\n",
       "    </tr>\n",
       "    <tr>\n",
       "      <th>tiempo</th>\n",
       "      <td>0</td>\n",
       "      <td>0.00</td>\n",
       "    </tr>\n",
       "    <tr>\n",
       "      <th>latitud_tienda</th>\n",
       "      <td>0</td>\n",
       "      <td>0.00</td>\n",
       "    </tr>\n",
       "    <tr>\n",
       "      <th>velocidad</th>\n",
       "      <td>0</td>\n",
       "      <td>0.00</td>\n",
       "    </tr>\n",
       "    <tr>\n",
       "      <th>seniority_ADVANCED</th>\n",
       "      <td>0</td>\n",
       "      <td>0.00</td>\n",
       "    </tr>\n",
       "    <tr>\n",
       "      <th>seniority_BEGINNER</th>\n",
       "      <td>0</td>\n",
       "      <td>0.00</td>\n",
       "    </tr>\n",
       "    <tr>\n",
       "      <th>seniority_INTERMEDIATE</th>\n",
       "      <td>0</td>\n",
       "      <td>0.00</td>\n",
       "    </tr>\n",
       "    <tr>\n",
       "      <th>seniority_REVIEW</th>\n",
       "      <td>0</td>\n",
       "      <td>0.00</td>\n",
       "    </tr>\n",
       "    <tr>\n",
       "      <th>tienda</th>\n",
       "      <td>0</td>\n",
       "      <td>0.00</td>\n",
       "    </tr>\n",
       "    <tr>\n",
       "      <th>id_orden</th>\n",
       "      <td>0</td>\n",
       "      <td>0.00</td>\n",
       "    </tr>\n",
       "  </tbody>\n",
       "</table>\n",
       "</div>"
      ],
      "text/plain": [
       "                        Total  Porcentaje (%)\n",
       "p_aciertos                 75            1.15\n",
       "score_recolector           70            1.07\n",
       "pesados                    15            0.23\n",
       "cantidad_total             15            0.23\n",
       "sin_pesar                  15            0.23\n",
       "p_aceptacion                5            0.08\n",
       "id_tienda                   0            0.00\n",
       "latitud                     0            0.00\n",
       "longitud                    0            0.00\n",
       "dia                         0            0.00\n",
       "promesa                     0            0.00\n",
       "entrega                     0            0.00\n",
       "id_entrega                  0            0.00\n",
       "id_recolector               0            0.00\n",
       "id_transporte               0            0.00\n",
       "longitud_tienda             0            0.00\n",
       "tiempo                      0            0.00\n",
       "latitud_tienda              0            0.00\n",
       "velocidad                   0            0.00\n",
       "seniority_ADVANCED          0            0.00\n",
       "seniority_BEGINNER          0            0.00\n",
       "seniority_INTERMEDIATE      0            0.00\n",
       "seniority_REVIEW            0            0.00\n",
       "tienda                      0            0.00\n",
       "id_orden                    0            0.00"
      ]
     },
     "execution_count": 44,
     "metadata": {},
     "output_type": "execute_result"
    }
   ],
   "source": [
    "total = df.isnull().sum().sort_values(ascending=False)\n",
    "percent = round((df.isnull().sum() / df.isnull().count()) * 100, 2).sort_values(ascending=False)\n",
    "missing_values = pd.concat([total, percent], axis=1, keys=['Total', 'Porcentaje (%)'])\n",
    "missing_values"
   ]
  },
  {
   "cell_type": "code",
   "execution_count": 45,
   "metadata": {},
   "outputs": [],
   "source": [
    "#Creamos una copia del dataframe para hacer una eliminación de valores perdidos para posteriormente\n",
    "#calcular la media de los atributos que vamos a imputar\n",
    "df2 = df.copy()\n",
    "df2.dropna(inplace=True)"
   ]
  },
  {
   "cell_type": "markdown",
   "metadata": {},
   "source": [
    "#### Imputación: Porcentaje histórico de productos que el recolector encontró\n",
    "\n",
    "Mostramos por medio de los siguientes gráficos la distribución que tiene la variale y el cálculo de la media sin valores perdidos, por los que nos permite rellenar esos valores con la media."
   ]
  },
  {
   "cell_type": "code",
   "execution_count": 46,
   "metadata": {},
   "outputs": [
    {
     "data": {
      "image/png": "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\n",
      "text/plain": [
       "<Figure size 576x288 with 1 Axes>"
      ]
     },
     "metadata": {
      "needs_background": "light"
     },
     "output_type": "display_data"
    }
   ],
   "source": [
    "plt.figure(figsize=(8, 4))\n",
    "sns.distplot(df2.p_aciertos)\n",
    "plt.xlabel(\"Porcentaje de Aciertos\")\n",
    "plt.ylabel(\"Cantidad\")\n",
    "plt.title(\"Distribución del Porcentaje histórico de productos que el recolector encontró\");"
   ]
  },
  {
   "cell_type": "code",
   "execution_count": 47,
   "metadata": {},
   "outputs": [
    {
     "data": {
<<<<<<< HEAD
      "image/png": "iVBORw0KGgoAAAANSUhEUgAAAfoAAAETCAYAAADeXsQDAAAABHNCSVQICAgIfAhkiAAAAAlwSFlzAAALEgAACxIB0t1+/AAAADl0RVh0U29mdHdhcmUAbWF0cGxvdGxpYiB2ZXJzaW9uIDMuMC4zLCBodHRwOi8vbWF0cGxvdGxpYi5vcmcvnQurowAAIABJREFUeJzt3XmYFNXVx/Evi4CMSFAHFY2goMcVVDSuIEbE4BKXuO8al5gQs5hXTUCNxsSYaAxqREUNGklccElcUVwRRUUwgstxQY1KjGAACavAvH/c207T9Ez3DFNTdM3v8zw8TNfUcup0VZ26t2qqWtXU1CAiIiLZ1DrtAERERCQ5KvQiIiIZpkIvIiKSYSr0IiIiGaZCLyIikmEq9CIiIhnWNu0AmoqZ1QDTgGVADdAR+AI4y90npRlbY5jZhcA/3f3vjZz+VWCAu8+Jn1sBbwFXuPvIVYxtGjDE3Z9uwDQ1QLW7z1qVZa8KM3sQGOPuowrz04h5/QzY1t1PLjFe0fU2sw+AxcBCwvbaDngMOMfdlzcmpqZgZiOB6939lXrG6UbI4+6rsJyy8lcwzS+BHwCfEHLWBvgM+L67v70KsexEWJ8ejZz+AGAXd7+wsTGkzcx6ANPcfa0iv/uAFbfV9sBy4Gfu/mgCsTT6WGFmOwPfdffvNXVczanc9TCzx4GX3H1ofeNlptBHe+dvHPFgcg2wW3ohNdo3gTcaO7G7b18wqC8wcVWLfFYUyU8ajsudhJpZO+AZ4PvAtSnGtC9wQ30juPsMoNFFfhXd6e5Dch/M7IfAX4GdUooHYGdgnRSX3xyOy28wmdnhwJ+BDdMLqahtgI3TDqIJlFyPeML9JfDLUjPLWqH/ipm1BTYB/ps3bCjwHcIliw8ILYEZZvY0MBnYE1gP+Iu7XxTPcscDbwI9gL2ATYHLgSpC78HF7v6gmW0A3BanB3jI3S+Iy/0u4QDeGvic0Bp+y8xGEXodtgO+DrwGnAicRDhw/d7MlgGvA38COhF2rFeBo9x9kZntAlwd41lCOMt+Mv+s2MwuAI4BlprZmLj8T+N6vwDsEXM1DjijsEVpZlsDtxB6Sd6Ky8r9bvdi+ajne6kCRgCbA+sC84Bj3d0Lxjs577vqDnwMjASGAFsAf3D3K0vktxtwK9AN+BDomjf/GqCa0EopJ541Yp73JbQi/wPMjb/rDAwnfI9rAE8A/+fuS+vKQyF3X2Jm44Et4zwPAS6K6zQP+Km7vxRbtbvFdfoncDLwO+BAYCnwPGG7XlJie1/pewd+Fec72sxOBFrFebcnbHePu/t3C1t/dS2nmfL3BHBZnM/ThP19S8J3el/8v0dcl1vd/fdx3LOAn8QYpubF+UtgvdzJRP7nuI9fH+e/PP78IvA9oI2ZzXX3ofn7G/A2tfvbYcCwOO2yuI7PFuSpXcxFLk9TgCp3Pzmu37XuPiZvfa919zFmtlWcbl1CT8fV7n5LYbLMbCPCieQmMdd3uPtvyshz/jxaEY6D+cfWuvbBtQiNrT1iPu4HhgJrE45p2xN6CR4BflH4nTdwviOAS4DOZvZndz/FzM4Azibk+z9x+rfjsXcdoCfwoLufV7DcgwjfVTtgAeG4+kLcHnoQ9ofuhN6l493932a2BeEkuSvhO77U3e80s21izteN63qlu99mZgOAXwPTgW0J38eZwL/y14NwDBsOzAfWIpxYnpS3Xg+Z2ZD6erWydo3+KTN7zcxmEHYwgFMA4oFrO+AbsTX3MHBT3rRG2Gh2BI4yswPj8I2BX7n7FsAiwlnsCe6+I3AwMMLMNgFOB6bH4f2Azc2ss5ntRfhS+rn7DoQD5315y+0LfAvYirABHeHufwImEQ4E98V53+ruuwK9CDvZAfHgeT9wibtvG8cbbmZffa9mdgowGNjZ3XsTLm+Mylt+T2AA0DuOt1eRvI4GRsbphxM2cMysSz35qMtgYI677xZz+jKheBfTj3AQ7U04EToa2AfYH7jUzFqXyO+fCL0Y2xB2ii1XIZ7vE04wtiYchPPX8SrgFXfvC+xAONn7aT05WEk8KTmIsA1vSSgi33H3PsCFwN/NbO04endgB3c/PsbVF+hDOFh0Imy/pbb3lb732P03g9B6exH4EXChu+8S1/vbZta3IO5Sy8lp8vzFk/nvAk/lDZ7t7lu7+zWE7fYpd9+OsG8fb2ZHm9n2hFZQf3ffmXCCXI7rgLfdfUvCydYZhOJzPaGnYWiJ/e33hJOgnYALCPkvlDuR3RoYRBk9JzEPY4DzYw73An5mZrsWGf0vwC1xvG8AA83syDLWfbSZ/dPMPgY+IuxLB8Xl17cPXgJ0IBzftid8D3sRTvo+J2w7OxG2358VrFdD59uTsK+Mj0X+m8C5hJ7ePoSen/vjiQpAR3ffpkiR3xz4DbB/XO4ZwL2xkQLhuHRE3A7mE45RAHcAd8fjzf7Ab+I++w/gmrg9DI7Dc73MuxAK/w6EY+lv3P2j/PWI420LHBPnsUeJ9VpJ1lr0e8cW7I6EA85T7v5Z/N2BhA17kplBOOvtmDftDe7+JTDHzO4G9iPspEsJrR8IO/eGhKTmpqshHCwfBR6ORW4cYaebG6/f9QKez5umi5nluvoedffFAGY2leJdgOcB+5rZuYSDQDfCmd12wDJ3fwjAw3XV7eK8ctMOBv7s7vPj5+HA0NhyAHggtuC/MLN3C5dvZuvG9bstLmOChWv0pfLxryLrQWx9TI9drr0IB7sXio0LvBw3eszsfeAxd19uZu8RdvKOQH35HUg8eLj7u2b25CrEMxD4q7svAZaY2ei4nhC3rdj6AFizjvUpNNrMFhJOuL8EbnL3e8zs+8AT7j49xvikmX1GKOgQTl5yLZ+BhB6ohfHzUTFfd1H/9l7v9x6dBOxvZr8gHNjXJGx3n+eNU2q/ymmq/B1lZnvGn9sBrxBOcHPGx/WvIhwQBwHEfXEUYX/YiLAtfRqnuZFwsl3KQMIBFnefSzj45u9rUP/+dgdwn5k9BDxOKFyFvsmKebqVUMjqswWhyN2SF8uahJOmibkBMSd7AeuY2a/i4LXi/F8qsYzj3H2SmW1KOL69mts+Kb0P/tTdlxFan3vFWO4C9nD3GmCxmV0P/Bj4bd4yGzPfk/Om/xbhBGwmgId7c4YTGlQAz9WxrvsSjmtP5C13eYwF4Gl3/yL+PIWQz3UIJys3xWV9BPS00Bvawd3vjcNnmNk9MbangA/d/dU4r8mEHrpiPnL3D8tYr/eLTZy1Qg+Au082s58Ao8xsirt/QDgAXe7uIwDMrD3QJW+y/C6j1oSNB2Bx3kG1DfBmbOEQ59MNmOnuX8adYCBhZ33JzAbHaf6SO2uMre1uwOw4i9wBGkKRLHZW9jfCd3UX8BChNdQqxrzCywrMbFtC93pOm4JxWsd55ZZTzvIpGF4yH3XMI9dlegahK+uvhO6/TesYfXHB5y+LjFNffgvXZ6Wu4AbGU9e82hDO8N+M8/waBd9LHVa47lkwv8LpWxO69gD+VxDHV+Oa2fpx3FLbeznf+7OEy0mPEra9XYqMV2o5+Zoifytcoy8il5vWRWLNz2FdsRTmol3BePm53gwovGGszv0ttvhvIRSSk4FzCCdJ+RYWLD+/t6Gu2NoAcz3vvpO4HcwtElsrYHd3XxDHW4/QU7keZXD3983sBELP04vu/hL174OFOfs6oSu8NSvnaQ1W1Jj5Fk5f2FvTiuL7UeF0T7j7UQXznwEcSvF9Z2ne59w0Rul9udzjb36spdZrJVnruv+Ku/+NcJZ6VRw0Fjgtr/vzEkI3Vs7xsSu4C3Ak8ECR2U4kdMn3B4hdgO8AG5nZb4EL3P1+Qpfn64Qz/rHAMWaWu2nle4TriqUspfaL24/QPX9n/LwL4ct2oMbM9o3x7Ag8yYrf66PAqXndTmcDz+Z6EUpx988JrabT8paxXfx1nfmoZ5b7AaPc/eYY/0FxXRqrvvw+SijixJ6WvVchnkeAE82sg5l1ILac82L4iZm1ioXuH9R9OaIcTwD7xUJC7IL8OuF6cKFxwLFm1j4eCEcQrg+X2t7rshRYIxbbnYHzYmtkY0KLpjA35S6nOfOHu88jbJ8/gK/uAziR0JJ+DBhkZrmbnU7Om3Qm0DfG0onQ25AzjtpLgZ0J39PmrLivFt3fgGUW7l7v6O7XEy5l9I7rm+8h4OSYp/aEy1X5se0Ul781tT0iDiw0s+Pj775O6I1c4TJLbIVOJF4Wid/xBMIlt7K5+/OEHr7r4jZX3z44DjgpHlvbEy4x7BWnGZL3nZ9B+G7yNWa+hd/F0WZWHdf3FEJv1LslVvEJwvaRu19mf8IJb509TTG3rxB6wXLfwQRgDvClhfszcg2h7xRZ10L561GoweuV2UIfDSF0Pe5H6FJ5EJhoZq8TdpKT88Zdk3BiMBG4zt1XKsaxq+Q7hJvk/kk4oJ0Qewz+CGxvoVt7EqEL5Q53f4xws9rjZvYacCxwWOyyqs8/gMvM7CTgF4Quv6mEmz2eAXrFYn0YcJGFPxe7Ps47/2zvZsJO8ZKZvUm4B+G4EssudAxhw5pKuLb4Zhn5qMsVwJkxF+MJ3VW96hm/XiXy+wNg67jeNxNuYmxsPDcQvtdphPznd5GdTbgZcSrhgDCV4t2y5a7TG4RCcG/cnn4LHBS7i4vF9Ur8NxX4N+H6Z6ntvS73ArcTWpqXAZNjDOcTDlyFuSl3Oc2WvzzHAfvE7faluG6j3H0qoQv+CTObRLgMlDOaUFDfiev1TN7vhgBbxW1lAnBZvFz2JOHE7Brq2N9ir+CPgb+a2WTgbuDUIifct8b5TSZsj/PyfncpoQBNI5xQPQvhRk5CsT4txvYYodExoUhOjgV2jTl5Efibu48ulcgifk7o+Tq9xD54MaH1+U9CN/fD8cTxbMJNa1PjPyfcmPaVRs53IrCZmd3r7o8TGnpPxm3zJOBAL/Hnq3H/OwO4Ix7XfgV8293r6gHIORY4Mk7zAHBa7MI/BPhRXIdxhEbbU/XMh/z1KBJfg9erlV5Tu+Ldq2nHIrK6M7PehDvw1087lqyzRjxvQKRQ1lv0ItKEzOxQQpdqvX9rLyKrD7XoRUREMkwtehERkQxToRcREcmwTP0d/cyZ85rsOkSXLh2ZPbvwzzJbJuWilnJRS7lYUWE+1rn8+wD897zr0gopNdo2aiWdi+rqTnU+ES9HLfo6tG27Kn/anS3KRS3lopZysSLlo5ZyUWt1yIUKvYiISIap0IuIiGRYpq7Ri4isLpZsUepdNCLNQ4VeRCQB/zv0jLRDEAHUdS8iIpJpKvQiIglY85m/s+Yzf087DBEVehGRJKw5cSxrThybdhgiKvQiIiJZpkIvIiJSpsmTJ7HnnjvxxBOPrTD8pJOO5te//mXJ6T/88AOGDAk3al500c/58ssvkwhzBbrrXkQy7/7x0xNfRlVVe+bPX/zV56MXL23Qsg/pt1kicUnT6969B+PGjWWffQYB8N5777Jw4cIGz+fiiy9r6tCKUqEXEZGKlXunQKEF/b/Not2+BUCnO69mjQ/eWmmcLzfZnHnH/ASADi+No+NT95b1boJevTbno4/+xbx58+jUqRNjxz7MoEGD+c9/PuXJJ8dx552jad26Nb17b8+FF/6CWbNmccklw6ipqWGdddb9aj6HH34Qo0eP4ZNPPuKaa65i+fIa/ve/efz4xz9ju+36NCYdRanrXkQkAUvbrMHSNmukHYYkpH//vXn22aeoqanhzTdfZ9tte/PFF3O55ZYbGD58BCNG3MysWZ8xYcIE7rjjdgYO3I9rrrmB/v0HrDSv99+fzpAhP2H48Os46qjjePjhB5o0VrXoRUQSMKb/OWmH0CKU0wKfd9TZJcdZ9I2BLPrGwLKXu+++3+LKK39Lt24b0afPDgAsW7aMOXNm87OfheUtWLCAjz76iPffn85+++0PwHbb9eG++8asMK/11uvKqFE30b59exYsWEBVVVXZcZRDLXoREZEG2mijjVm4cCFjxtzBoEGDAWjVqhVdu67PH/94HddeeyOHH34Uffr0oXv37rz++msAvPnmGyvNa/jw3/Pd757JsGEX07NnL2pqmuyN64Ba9CIiieg6+0MAPuvSPeVIJCn77LMvY8c+zCabdGfGjE/42te6MHDgfgwZcgbLli1jww27ceSRh3LaaWdx0UU/Z9y4x+jWbaOV5jNo0GDOP/8c1llnHaqruzJ37pwmjbNVU585pGnmzHlNtjLV1Z2YOXNeU82uoikXtZSLWpWUi1Tuun/qtwDcsff5ZU2fpbvuK2nbSFrSuaiu7tSq1DjquhcREckwFXoREZEMU6EXERHJMBV6ERGRDFOhFxERyTD9eZ2ISALG7Xh82iGIACr0IiKJmNV547RDEAHUdS8iIpJpKvQiIgk48unfceTTv0s7DBF13YuIJKF1zfK0QxAB1KIXERHJNBV6ERGRDFOhFxERyTAVehERkQzTzXgiIgmY1mOPtEMQAVToRUQSMW3TfmmHIAKo615ERCTTEmnRm9kawC1AD6A9cCnwBjAKqAGmAT9w9+VmdjpwJrAUuNTdHzSzNYHbga7APOAkd5+ZRKwiIkno/9rdADzb+4iUI5GWLqkW/fHA5+7eDxgMXAv8ARgWh7UCDjazDYCzgT2A/YDLzKw9cBYwNY57GzAsoThFRBLR7fP36Pb5e2mHIZLYNfq7gTF5n5cCfYFn4udHgEHAMmCCuy8GFpvZu0BvYE/gd3njXlDOQrt06Ujbtm1WPfqourpTk82r0ikXtZSLWpWSi6qq9s2+nFatGrbsSsllubK2Pqsi7VwkUujd/X8AZtaJUPCHAVe4e00cZR7QGVgbmJs3abHhuWElzZ69YJVjz6mu7sTMmfOabH6VTLmopVzUqqRczJ+/OPFlVFW1X2E5NTUNW3al5LIclbRtJC3pXJRzEpHYzXhm9nXgKeAv7v5XIP/Bz52AOcAX8ef6hueGiYiISAMlUujNbH3gMeA8d78lDp5iZgPiz4OB8cBLQD8z62BmnYGtCDfqTQD2LxhXREREGiipa/S/ALoAF5hZ7vr6j4Crzawd8CYwxt2XmdnVhELeGhjq7ovMbARwq5k9BywBjk0oThGRRMxau1vaIYgAyV2j/xGhsBfaq8i4I4GRBcMWAPqbFBGpWOP6nph2CCKAHpgjIiKSaSr0IiIJ2PzjSWz+8aS0wxDRs+5FRJLQ951xALyz8U4pRyItnVr0IiIiGaZCLyIikmEq9CIiIhmmQi8iIpJhuhlPRGQ1cP/46WmHUNIh/TZLOwRpBBV6EZEEjOn3k7RDEAFU6EVEErG0bfO8GlekFF2jFxFJQKcFn9NpwedphyGiQi8ikoQDXhzJAS+OLD2iSMJU6EVERDJMhV5ERCTDVOhFREQyTIVeREQkw1ToRUREMkx/Ry8ikoDntjkk7RBEABV6EZFEfNx1y7RDEAHUdS8iIpJpKvQiIgk46IURHPTCiLTDEFHXvYhIEqoWzU07BBFALXoREZFMU6EXERHJMBV6ERGRDFOhFxERyTDdjCcikoD3NuyTdggigAq9iEgiXt5ycNohiADquhcREck0FXoRkQTs/NYj7PzWI2mHIaJCLyKShJ7//ic9//3PtMMQUaEXERHJMhV6ERGRDFOhFxERyTAVehERkQzT39GLiCRgfofOaYcgAqjQi4gk4oHdzko7BBEg4UJvZrsAl7v7ADPbEXgAeCf+eoS732lmpwNnAkuBS939QTNbE7gd6ArMA05y95lJxioiIpJFiRV6MzsXOAGYHwftCPzB3a/MG2cD4GxgJ6AD8JyZPQ6cBUx191+a2dHAMOBHScUqItLUNv7sLQA+7rplypFIS5dki/494DDgL/FzX8DM7GBCq/7HwDeACe6+GFhsZu8CvYE9gd/F6R4BLihngV26dKRt2zZNtgLV1Z2abF6VTrmopVzUqpRcVFW1b/bl9HvjfgD+selFzbLs5tCQ77tSto3mkHYuEiv07n6PmfXIG/QScJO7v2JmQ4GLgFeBuXnjzAM6A2vnDc8NK2n27AWrGvZXqqs7MXPmvCabXyVTLmopF7UqKRfz5y9OfBlVVe1XWE5NTfMtu7mU+31X0raRtKRzUc5JRHP+ed197v5K7mdgB+ALID/KTsCcguG5YSIiItJAzVnox5rZN+LP+wCvEFr5/cysg5l1BrYCpgETgP3juIOB8c0Yp4iISGY055/XnQVca2ZLgE+BM9z9CzO7mlDIWwND3X2RmY0AbjWz54AlwLHNGKeIiEhmJFro3f0DYNf482Rg9yLjjARGFgxbAByRZGwiIiItgR6YIyKSgId2OT3tEEQAFXoRkUTM67hu2iGIACUKvZldWN/v3f2Spg1HRCQb2i4Nf1a3tG3z/A2/SF1K3XXfKv7bBfgOsJxwc9wBwDbJhiYiUrkOH38Vh4+/Ku0wROpv0bv7xQBmNgHYLd4kh5n9EXgq+fBERERkVZT7d/TVQE3e5zWAdZo+HBEREWlK5d6MNxKYZGYPE04ODgSGJxaViIiINImyWvTu/nvgRMKDbj4BjnT365IMTERERFZdWYXezNoDmwCfAbOAHc1Md9yLiIis5srtuv8b0AXoRXhc7d7Ac0kFJSJS6V7ZfGDaIYgA5Rf63sDmhOvytwDDgDuTCkpEpNK9s/FOaYcgApR/1/1n7l4DvAX0dvfpQLvkwhIREZGmUG6LfpqZXQOMAEabWTfCg3RERKSIga/cBsC4viemHIm0dOW26M8C7nL3N4ALgQ3Rq2NFROq03hczWO+LGWmHIVLyWff9i3yeC9yDHpgjIiKy2ivVdX9x/H9doCfwPLCM8F75qcAeyYUmIiIiq6rUs+73BohPxDvM3d+Nn7sDNyQfnoiIiKyKcq/Rd88V+ehfQPcE4hEREZEmVO5d96+Y2a3AXYS77Y8jPDhHRESKmLFuz7RDEAHKL/SnAT8Evkd4i904QM+6FxGpw7O9j0g7BBGg9F33G7j7p8AGwN3xX043Qhe+iIiIrKZKtehvIryS9hlWfB99q/h5s4TiEhGpaNu+H65uTtu0X8qRSEtX6q77A+OPfd39v/m/M7MeSQUlIlLptv1gAqBCL+kr1XX/dULr/WEzG0ztY2/bAg8DWyYbnoiIiKyKch6YszfhevyzecOXAg8mFZSIiIg0jVJd96cCmNl57n5584QkIiIiTaXcP6+70cx+QHi+/VdvrXP3SxKJSkRERJpEuYX+LsLLbKax4t33IiJSxPJW5T54VCRZ5Rb6Ddx930QjERHJkLsGnJt2CCJA+c+6n2JmvRONRERERJpcuS36bQnF/j/AIuIDc9xdD8wRESlivbkfAzCr88YpRyItXbmF/tBEoxARyZiBk28H4I69z085Emnpyi30nwL7A2sRWvNtgE2BCxOKS0RERJpAuYX+b0AXoBfh9bR7A88lFZSIiIg0jXILfW9gc2A4cAswDLgzqaBEpLLcP3562iGISB3Kvev+M3evAd4Cerv7dKBdcmGJiIhIUyi3RT/NzK4BRgCjzawbeU/IExERkdVTyUJvZl2AocCW7v6GmV0E7AccW8a0uwCXu/sAM+sFjCI8WW8a8AN3X25mpwNnEl6Uc6m7P2hmawK3A12BecBJ7j6zUWsoIpKCJ7c/Ju0QRIASXfdmtgPwBuF99OPj4F2AQ8qY9lzgJqBDHPQHYJi79yP0BhxsZhsAZwN7EE4eLjOz9sBZwNQ47m2EewJERCrGZ12681mX7mmHIVKyRX8FcIy7P50b4O5DzexZQuEeWM+07wGHAX+Jn/sCz8SfHwEGAcuACe6+GFhsZu8SbvzbE/hd3rgXlLMyXbp0pG3bNuWMWpbq6k5NNq9Kp1zUUi5q5XJRVdU+5UhWD1nPQ0O2fe0ntdLORalC3yW/yOe4+1gzq/e1te5+j5n1yBvUKt7QB6E7vjOwNuFlOdQzPDespNmzF5QzWlmqqzsxc+a8JptfJVMuaikXtfJzMX/+4pSjSV9VVfsV8nD4s1cCMKb/OWmF1OTK3fa1n9RKOhflnESUuut+DTNbaZw4rKF33S/P+7kTMAf4Iv5c3/DcMBGRitF22Ze0XfZl2mGIlCz0zwAXFRk+DJjUwGVNMbMB8efBhAfvvAT0M7MOZtYZ2Ipwo94EwpP48scVERGRBirVdf9z4GEzOwl4lfBCmx2Bz4BvN3BZ5wAjzawd8CYwxt2XmdnVhELeGhjq7ovMbARwq5k9ByyhjDv8RUREZGX1Fnp3n2dm/QmPvN2B0P3+p7w78Ovl7h8Au8af3wb2KjLOSGBkwbAFwBHlLENERETqVvLv6OMNdE/GfyIiIlJByn0ynoiINMAbm+yadggigAq9iEgiXus5IO0QRIDyX2ojIiIiFUiFXkQkAXtOvZc9p96bdhgi6roXEUnCxrPeTjsEEUAtehERkUxToRcREckwFXoREZEMU6EXERHJMN2MJyKSgNlrrZ92CCKACr2ISCLG7nxK2iGIAOq6FxERyTQVehGRBPT8ZAo9P5mSdhgi6roXEUnCzm+PBeC9jXZIORJp6dSiFxERyTAVehERkQxToRcREckwFXoREZEMU6EXERHJMN11LyKSgHv3PDvtEEQAFXoRkUQsWaNj2iGIACr0IiKJqFo4B4D5a34t5Uiazv3jp5c1XlVVe+bPX5xwNCs7pN9mzb7MSqBr9CIiCTho4vUcNPH6tMMQUaEXERHJMhV6ERGRDFOhFxERyTAVehERkQxToRcREckw/XmdiEgCXtj6oLRDEAFU6EVEEvHh+tukHYIIoK57ERGRTFOhFxFJwAETb+CAiTekHYaIuu5FRJLQaeHstEMQAdSiFxERyTQVehERkQxToRcREcmwZr9Gb2ZTgLnx4/vAr4FRQA0wDfiBuy83s9OBM4GlwKXu/mBzxyoiIlLpmrXQm1kHAHcfkDfsH8Awd3/azK4HDjazF4CzgZ2ADsBzZva4uzf/C45FRBrh/Q22TTsEEaD5W/R9gI5m9lhc9i+AvsAz8fePAIOAZcCEWNgXm9m7QG/g5WaOV0SkUV7c6sC0QxABmr/QLwCuAG4CNicU9lbuXhN/Pw/oDKxNbfd+/vB6denSkbZt2zRZsNXVnZpsXpVOuailXNRtP2UMAAALa0lEQVTK5aKqqn3KkawelIdaaeRidd03046ruQv928C7sbC/bWafE1r0OZ2AOcAX8efC4fWaPXtBkwVaXd2JmTPnNdn8KplyUUu5qJWfi/nzdVWtqqr9CnnY8e3HAJi8xaC0QkpNYS6ay+q4byZ9zCjnJKK577o/FbgSwMy6EVruj5nZgPj7wcB44CWgn5l1MLPOwFaEG/VERCrCFp9MZotPJqcdhkizt+hvBkaZ2XOEu+xPBWYBI82sHfAmMMbdl5nZ1YSi3xoY6u6LmjlWERGRiteshd7dlwDHFvnVXkXGHQmMTDwoERGRDNMDc0RERDJMhV5ERCTD9PY6EZEELGxXlXYIIoAKvYhIIv6+xw/TDkEEUNe9iIhIpqnQi4gkoNusd+g26520wxBRoRcRSUL/qffQf+o9aYchokIvIiKSZSr0IiIiGaZCLyIikmEq9CIiIhmmQi8iIpJhemCOiEgCHtn51LRDEAFU6EVEEjF3ra5phyACqOteRCQRrZcvpfXypWmHIaJCLyKShCOfuYIjn7ki7TBEVOhFRESyTIVeREQkw1ToRUREMkyFXkREJMP053Uiq7n7x09PO4SiqqraM3/+4rTDEJESVOhFRBIwpefeaYcgAqjQi4gkwjfZJe0QRABdoxcREck0FXoRkQR8c8povjlldNphiKjrXqQhN7vpBjQpV9c5H6UdggigFr2IiEimqdCLiIhkmAq9iIhIhukavYiIZMLq+HCpwvt6Dum3WbPHoEIvIpKAT7v0SDsEEUCFXkQkEU9vf3TaIYgAukYvIiKSaSr0IiIJ2PqD59n6g+fTDkNEXfciIkno/f6zALzRY/eUI5GWTi16ERGRDFOhFxERybDVtuvezFoD1wF9gMXAae7+brpRiYiIVJbVttADhwAd3H03M9sVuBI4OOWYVjvN8YCIVXmRSxoPhxARkVqrc6HfE3gUwN0nmtlOzR3A6viUpUqjHIqIpKtVTU1N2jEUZWY3Afe4+yPx87+Azdx9abqRiYiIVI7V+Wa8L4BOeZ9bq8iLiIg0zOpc6CcA+wPEa/RT0w1HRESk8qzO1+jvA/Y1s+eBVsApKccjIiJScVbba/QiIiKy6lbnrnsRERFZRSr0IiIiGaZCLyIikmGr8814iSj1aF0z2xn4A+EGwE+B4919kZlNAebG0d5390zcHFhfPsxsA+COvNG3B84HbqxrmkrWmFy4+/VZ3DbK2E+OA84BlgG3uPuIrD62ujG5iMNb4nZxAvB/hPUe5e43t+DtYqVcxOHNvl20uEJPPY/WNbNWwEjgcHd/18xOA7qb2YcA7j4gpZiTVGc+3P1TYACAme0G/JqQn6w+nrjBuTCzDvH3A9IIOEGlvuMrgG2A/wFvmNkdwN4lpqlUjcnFQmhZ24WZrQdcCuwAzAHGmdkTwI51TVPhGpOLT6H5t4uW2HW/wqN1gfxH624BfA782MyeAdZxdyecsXU0s8fM7Mn4pWZFffkAvjoBugY4y92XlTNNhWpMLrK6bZTKxWtAZ6ADoferpoxpKlVjctESt4vNgFfd/b/uvhx4Gdi1xDSVrDG5SGW7aImFfm1qu00AlplZrmdjPWB3QnfMQGAfM9sHWEA4a98P+B4wOm+aSldfPnIOAl6PJz3lTlOJGpOLrG4bpXIxDXgFeB140N3nlDFNpWpMLlridvEOsI2ZrW9mHYF9gKoS01SyxuQile2iJRb6+h6t+znwrru/4e5fEs7W+gJvA7e7e427vx3H27A5g05QOY8aPp5wXb4h01SixuQiq9tGnbkws97AAcCmQA+gq5kdUd80Fa4xuWhx24W7zwZ+AtwD3AJMBmbVN02Fa0wuUtkuWmKhr+/RutOBtcysV/zcj3CWfirh+gtm1o1wJvfv5go4YeU8argv8HwDp6lEjclFVreN+nIxl3ANemG8fPEZ0KXENJWsMblocdtFbJnuCvQHTgS2jOO3uO2inlyksl20uCfj5d0p2ZvaR+vuCKzl7jea2TeB38bfPe/uPzKzdsAoYBPC9bfz3P35YvOvNGXkoxp43N23r28ad3+r2YNvYo3MRSa3jTJy8T3CQWsJ8B5wOrC0cJoWsl0UywW0zO3iIsJNaouAK919TAs+XhTLRSrHixZX6EVERFqSlth1LyIi0mKo0IuIiGSYCr2IiEiGqdCLiIhkmAq9iIhIhmXh6UQiqz0z60F4WMYbhD+raQfMIPyp0cfNHEtnwks2Di0x3qv5f0rYwGU8DfzS3Z9uwDTrAp8AQ939yhLj7gR8z91Pa8D8LwbGufv4cqcRyQK16EWazwx3397dd3D3bQjPSP99CnF0Ibxso16NLfKr4DjgH8AZ8Z0CdXL3SQ0p8tFeQJvGBidSqdSiF0nPU8Bl8NWTtYYTXowyCzgzvkHxaeC/hLejHQVsDQwj9Aq8THg4S3vgT8C2hEJ2ubv/zcxOBr4FrEN4ycZj7v594Gqgm5nd5+6HmtmvCc/iXofQy3CUu//HzGrcvZWZrVVs/vkrYmbtgZsIL/b4gPDeiNzvzgeOjNOOJTwkpNgDPE4hPDb0GsKb8J6M028P3AB0jLk4DuhF6DEYEJ9kOQJYl/As8R+6+xQzGxWH9SI8BGsn4CYzO5TwWtEb4zrPB85295fN7FjgXMIrZ98nvqa66LcnUiHUohdJgZmtARwOvBCflnUHMMTd+wDXA/mF9DV3N2AmcBUwKPYItCE8Z30Y8Iq79yU8cnOomW0Wp90d+A7h6V0Hmdl2wNmE3oVDY5HcEtjd3bcA/kV4nn+++uaf80MAd98qzr9nXM9vER4bvDOhF2EjQqEuzEcfYANgPHAncGber0cDv3L37WKeflQw+a3Aue6+I3BGHCfnc3ffyt1vBSYR3hk+FbgduNrdexNOLsbEk5VLY377Egr9loWxilQatehFmk83M3s1/tweeAk4n/B65Nnu/jKAu99tZjfGa+kAL8b/dwMm5K7pu/sJAGY2jPDqy1PjeFWEHgAIj3GeF8ebTmjBzssFFHsNzgFOMzOLy3ivIO6Bdcx/et44Awitbtz9HTN7Pm/aXQhvdwNYk3AyUehU4C53X2ZmdwIXmNn6hJb1hu7+YJz3iLguA+L/axFOIv4cwgfC+yrWLcjdV+I0vdz93jjPiWb2X8CAB4AJZnYfcI+7v1o4vUilUaEXaT4zil33NrONi4zbitrryQvj/18Suuxz01XHH9sQupgnx+HrU9vFnd/tXBPnm7/svoTegz8AYwiFtfD6eF3zz1c476V50/7R3f8Qp/1a3u9yMbQDjgWWmtnBeb86hdAln7/OHYBuBbEtKnj/wMZ58S1kZcV6MlsBbeO7LW4m9JTcbma/dPfbi4wvUjHUdS+SPgfWNbOdAczsSOBDdy8spi8Du5rZBvHzVcDBhGvZZ8VpNyTc5LdJPctbSu1J/l7A0+5+PeGvAg5k5RvWypn/OOA4M2ttZt0Jlwxy055gZmvFN3rdT7hkke8gYJa7b+juPdy9B6Hr/gzCq0A/NrNBcdwTgEtyE7r7XOAdMzs+xrcv8Gx96+3uXwDTzeywOM2uhMsG08zsnRjLZcBtlHHTosjqToVeJGXuvphwo921ZjYNGBI/F443g3B9emwcbyHwZ+BiYM047EnC9erC7vd8/wH+ZWZPEa6H9zGzqcDThOvYmxaMX878ryMU5TeBkcC0GPMDhHdyvxiHvUq4pp7vlDh9vr8Sbkzcj3DPwIXxssdRwP8VjHsc4dLDa4SbG4+q42a/R4HrzWz3OM+z43pfCxzm7kuAC4HHzWwS4TWjlxeZj0hF0dvrRGQl8f6AT9x9rbRjEZFVoxa9iKwgdr2/BdycdiwisurUohcREckwtehFREQyTIVeREQkw1ToRUREMkyFXkREJMNU6EVERDLs/wGuQFA5emEatQAAAABJRU5ErkJggg==\n",
=======
      "image/png": "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\n",
>>>>>>> origin/master
      "text/plain": [
       "<Figure size 576x288 with 1 Axes>"
      ]
     },
     "metadata": {
      "needs_background": "light"
     },
     "output_type": "display_data"
    }
   ],
   "source": [
    "plt.figure(figsize=(8, 4))\n",
    "plt.hist(df2['p_aciertos'], alpha=0.5)\n",
    "plt.axvline(df2.p_aciertos.mean(), color='tomato', ls='--', label='Media')\n",
    "plt.axvline(df2.p_aciertos.mode().get_values()[0], color='blue', ls='-', label='Moda')\n",
    "plt.xlabel(\"Porcentaje de Aciertos\")\n",
    "plt.ylabel(\"Cantidad\")\n",
    "plt.title(\"Representación de la media del Porcentaje de Productos que el Recolector encontró\")\n",
    "plt.legend(fontsize=13);"
   ]
  },
  {
   "cell_type": "code",
   "execution_count": 48,
   "metadata": {},
   "outputs": [],
   "source": [
    "#Se reemplazan los datos perdidos del atributo por la media del mismo\n",
    "df['p_aciertos'].replace(np.nan, df2['p_aciertos'].mean(), inplace=True)"
   ]
  },
  {
   "cell_type": "markdown",
   "metadata": {},
   "source": [
    "#### Imputación: Porcentaje histórico de pedidos aceptado por el recolector"
   ]
  },
  {
   "cell_type": "code",
   "execution_count": 49,
   "metadata": {},
   "outputs": [
    {
     "data": {
      "image/png": "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\n",
      "text/plain": [
       "<Figure size 576x288 with 1 Axes>"
      ]
     },
     "metadata": {
      "needs_background": "light"
     },
     "output_type": "display_data"
    }
   ],
   "source": [
    "plt.figure(figsize=(8, 4))\n",
    "sns.distplot(df2['p_aceptacion'])\n",
    "plt.xlabel(\"Porcentaje de Aceptación\")\n",
    "plt.ylabel(\"Cantidad\")\n",
    "plt.title(\"Distribución Porcentaje histórico de pedidos aceptado por el recolector\");"
   ]
  },
  {
   "cell_type": "code",
   "execution_count": 50,
   "metadata": {},
   "outputs": [
    {
     "data": {
<<<<<<< HEAD
      "image/png": "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\n",
=======
      "image/png": "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\n",
>>>>>>> origin/master
      "text/plain": [
       "<Figure size 576x288 with 1 Axes>"
      ]
     },
     "metadata": {
      "needs_background": "light"
     },
     "output_type": "display_data"
    }
   ],
   "source": [
    "plt.figure(figsize=(8, 4))\n",
    "plt.hist(df2['p_aceptacion'], alpha=0.5)\n",
    "plt.axvline(df2['p_aceptacion'].mean(), color='tomato', ls='--', label=\"Media\")\n",
    "plt.axvline(df2['p_aceptacion'].mode().get_values()[0], color='blue', ls='-', label='Moda')\n",
    "plt.xlabel(\"Porcentaje de Aceptación\")\n",
    "plt.ylabel(\"Cantidad\")\n",
    "plt.title(\"Representación de la media del Porcentaje de Productos aceptados por el Recolector\")\n",
    "plt.legend(fontsize=13);"
   ]
  },
  {
   "cell_type": "code",
   "execution_count": 51,
   "metadata": {},
   "outputs": [],
   "source": [
    "#Se reemplazan los datos perdidos del atributo por la media del mismo\n",
    "df['p_aceptacion'].replace(np.nan, df2['p_aceptacion'].mean(), inplace=True)"
   ]
  },
  {
   "cell_type": "markdown",
   "metadata": {},
   "source": [
    "#### Imputación: Score del Recolector"
   ]
  },
  {
   "cell_type": "code",
   "execution_count": 52,
   "metadata": {},
   "outputs": [
    {
     "data": {
      "image/png": "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\n",
      "text/plain": [
       "<Figure size 576x288 with 1 Axes>"
      ]
     },
     "metadata": {
      "needs_background": "light"
     },
     "output_type": "display_data"
    }
   ],
   "source": [
    "plt.figure(figsize=(8, 4))\n",
    "sns.distplot(df2['score_recolector'])\n",
    "plt.xlabel(\"Score\")\n",
    "plt.ylabel(\"Cantidad\")\n",
    "plt.title(\"Distribución del Score Recolector\");"
   ]
  },
  {
   "cell_type": "code",
   "execution_count": 53,
   "metadata": {
    "scrolled": true
   },
   "outputs": [
    {
     "data": {
<<<<<<< HEAD
      "image/png": "iVBORw0KGgoAAAANSUhEUgAAAeoAAAEFCAYAAAAsf6RtAAAABHNCSVQICAgIfAhkiAAAAAlwSFlzAAALEgAACxIB0t1+/AAAADl0RVh0U29mdHdhcmUAbWF0cGxvdGxpYiB2ZXJzaW9uIDMuMC4zLCBodHRwOi8vbWF0cGxvdGxpYi5vcmcvnQurowAAIABJREFUeJzt3XucHXV5+PFPLpDLEtKIC4io+EN5iiJ3EAUkIEhB+GFRVPiJCBUQQbCtFZVQbUtLsYCKF6BRBMRbBcGC5aYghChFAmpQeACBakU0QG4kkJhkf3/MrB7Xze5h2T0zc/J5v1555ZzvmcvzzJw5z3y/M+fsuL6+PiRJUj2NrzoASZK0dhZqSZJqzEItSVKNWaglSaoxC7UkSTVmoZYkqcYmVh2ARkdE9AH3AKuBPmAqsAQ4ITPvrDK2kYiIvwd+nJnfGuH8PwJmZuai8vk44D7g7Myc/Rxjuwc4KTO/9yzm6QN6M/PxNqefCdwMXJqZRw147XvAzpm5QbvrL+e7Brg8My8euH2qFhGPAG8Z+F6NiGnAucBuwJry32cz8/OdjnFAXDtTbMsthpnue8BnMvPyAe0fA04EflU2jQM2BK4E/jYzR/V7sxFxMXBPZp49wvlvAI5o9/2r0WWh7i57tx5IEfEB4NPAa6oLacT2AX420pkzc/sBTTsBtz/XIt1hvwYOjoipmbkcICJeAmz1XBc8yPapq38FngK2zcy+iNgMuD0ifpGZN1Qc23P19cw8qf9JRMwAfgJcX/6rk/2qDmBdZqHuUhExEXgx8GRL22nAmykueTwCvDczHy3P+u8C9gCeD3wpMz8aEVsAc4B7gS2AvYCXAmcBPRS993/IzGsiYlPg0nJ+gG9n5unlev8KeG+53icoeqP3lWf5S4BXAS+i+JB6J3AUsDPwbxGxGvgp8FlgGvAC4EfA2zLzmYh4NXBeGc9K4AOZeVNrDzYiTgcOB1ZFxOXl+h8r8/4BsHu5rb4DHJeZawZsy1cAF1GMUtxXrqv/tdcOtj2G2C89wPnAy4GNgKUUPZUcZPIngZ8DbwK+Ura9s3z8npZlrm37bgZcAmwG/A+wccs8fUAv8HS78Tzb/ZiZTw2Yf/1yW+0FTADuBk7OzCVr214U+/s3wHrAyvL9emi5bYiIrYALy9zWAGdk5tcj4pXAZ8qc+oBzMvPScqTiU8AyYANgF+ANwCxgfWA5xXvoB4PkfwLw18BiYP6A1wY9tobIazCbULzHFpbL3LqMdSOK7XVeZl5UvnYM8LcU77nHgaMy85cRcRxwctn+G4p9dP+AWJ/VcoF/LGe9OSIOpOj5t7VtM3PFs9wGGoTXqLvLzRHxk4h4FOg/OI8GiIh3UnyQ7lr2pv4LaB0+DIqCtSPwtog4qGzfHPinzNwKeAb4InBkZu4IHAKcHxEvBo4FHirb9wReHhHTI2IvioN9z8zcAfg4xfBev52AvwC2pjgZOCwzPwvcCfxdZl5ZLvuSzNwNeBnFycIbI2I94CrgHzNzm3K6T0XE79/XEXE0cADFh8a2FJcHLm5Z/5bATGDbcrq9BtmuXwZml/N/CnhJuewZQ2yPtTkAWJSZrym36Q+Bk4aY/lLgyJbnb+MPRZthtu9nKUYRXknx4f3nI41nJPtxkHV9CFgF7JSZ2wGPUvSYh/Ix4PXA4xFxXXnStSQzHypf/xrwjTLHA4F/iYgNgf8EPl3uswPK9v6RpW2Aw8vXXgz8C3BgmddxwDfLE6rW/LcvY3ldZu5CcVLY/9pwx9bavC0ifhQRD0TEExSjX8dn5h3lifblwIcycyeK9+UHImK3iNiO4oTnL8oc/hM4LSL2AT5IMbK2HcX75Krysk9/rM96uZl5dDn73hSjPG1tW4v06LFH3V32LnuQO1J8WNycmb8tXzsI2BW4MyKgOJOe2jLvhZn5O2BRRHwD2J+iqK2i6HVCMYT+AoqDv3++Pooidx3wX2WR+g7FB8HiiHgjRXH9fss8MyLieeXj6/oP6IiYD/S3tzoV2C8iPkgx7LsZxRn7q4DVmfltgMycV7bRsq4DgC9m5rLy+acoPtTWL59fXfagl0TEgwPXHxEblfldWq5jbnmNerjt8YtB8iAzL4+IhyLifeV2mckftu9grqYo/puU099HyygJMNT23Rf4QLneByPipucQz2jsx4OAP6PYl1D0YH87yHSt8f0kiol3pCgq+1Hsv8OAucB2lEUxM38JbFmOgEzOzG+W7Y9GxBUUJxI3A7/MzP8pV7EfxT78bktea8pcf9wSyuuBGzLzsfL5v5fL689rqGNrbb6emSeV78XPAK+g2N9QvM+3BC5qiWsKsEP5//VlvmTmJwEi4uPlMheU7RdHxKcoTpwY6XIH2Ir2t61GiYW6C2XmXRHx18DFEXF3Zj5C8eFxVmaeDxARk4AZLbOtank8nmLoC2BFZva/NgG4NzNf3T9hOby6IDN/FxEvpSgO+wB3RMQB5TxfysxTy+nHUxTaheUinm5Zbx/FTTUDfZXivfofwLcpekHjypj/6KabiNiGopj1mzBgmvHlsvrX0876GdA+7PZYyzL6h0+Po/hg/gpF0X3p2qbPzJXlB+HbgVfyx6MB/TGsbfsOzGfVgHmfTTyjsR8nAKdk5rXlMjYAJg+Wd/n6RIpRgQ+XJ2HzgHMjYhZwPHBLy/r65wn+dJ9Dsd/XKx+3DslPAL6bmW9rWcaLKHr7A61tWw53bA2p3McnUeT3bxSjHxOAxa33EpQna4sp9ldrzlMoRnkm0NLTb4l5vZbnz3q5mTnU8QRr37YaJQ59d6nM/CpwB/CJsul64N3lsCAU152+1DLLOyJifDmc+1b+cGbf6naKIe3Xwe+HAx8AXhgR/wqcnplXAadQXFfeplzv4RHxgnIZ7wG+20YKq/jDwb8/xfD218vnr6b4wEigLyL2K+PZEbiJP35fXwcc0zKUeTJwa7vDcpn5BMUH6Ltb1vGq8uW1bo8hFrk/cHFmfqGM/+Ayl6FcCrwLeF2ZT6uhtu91FB++lCMdez+HeEa6Hwcu46SIWL8s9LOBM9c2cXmCGMDp5WWO/uK9NXBXeW17HsWQfH+BnQssAn4XxbXs/pOnNwM3DrKa7wJviIg/L6c9kOIa+5QB091QTrd5+fxdA/Ia6tgaVmauBE4A3hsRO1Dsi6cj4h0tud1DcYnhZmDfln1xPMWliOuAt0dEbznP0RT3EjzYuqoRLBeKE/f1KE6C2922GiUW6u52EnBgROxPMTx4DcUdsz+lGJ59V8u0UygK++3A5zLzTz6EyyG1N1Pc5PVjig+jI8se+yeB7cth4TuBh4GvZXFn7lnAjRHxE+AI4NAc/usn/wmcGRFHAR8BriyHVC+k6Em9rCy2hwIfjeLrRheUy27tVXyBYij+joi4l2II9f8Ns+6BDqf4AJwPnE5xc91w22NtzgaOL7fFHIqb+F421MrLG5t6gGtaRjf6Xxtq+54IvKLM+wsUN+GNKJ7nsB9b/RPFjVZ3U9zRP47ixqWhvAWYDtxfvm/nU9wY13+D0xHAW8vtfzXw7nLo9k3AKWWs36E40bt5kLx+RnEy87VyGf8E/N8ccCNcZs6nuP773Yi4kz8eCRju2GpLZt5GcT/EZ4HfUdzz8O4yhxsoToTnlrH8HXBdGfNfAO/JzBspTsxvKuM4CjgoW26OLI+NZ7XcctZvUBx3QZvbVqNnnH/mUrGW73pKkqpnj1qSpBqzRy1JUo3Zo5YkqcYs1JIk1Vgtv0e9YMHSysbjZ8yYysKFy6tafUd0e47m13zdnqP5wfPOei8AT576uU6ENOpGex/29k5b22842KMeaOLE4b7S2nzdnqP5NV+352h+zdfJHC3UkiTVmIVakqQaq+U1aklSd1u5VVP+JHr1LNSSpI576i+PqzqExnDoW5KkGrNQS5I6bsot32LKLd+qOoxGsFBLkjpuyu3XM+X266sOoxEs1JIk1ZiFWpKkGvOub0lSrVw156GqQxjWsYdu17F12aOWJKnG7FFLkjqub/1JVYfQGBZqSVLHLfzrT1QdQmM49C1JUo1ZqCVJHTfxF/cz8Rf3Vx1GI1ioJUkdt+FXP8mGX/1k1WE0goVakqQaG/ZmsoiYAMwGAlgNHA2MAy4G+oB7gBMzc01EHAscD6wCzsjMayJiCnAZsDGwFDgqMxeMQS6SJHWddnrUBwNk5u7A3wPnlv9mZeaeFEX7kIjYFDgZ2B3YHzgzIiYBJwDzy2kvBWaNehaSJHWpYQt1Zl4F9P/h0JcAvwF2Am4p264F9gV2BeZm5orMXAw8CGwL7AFcN2BaSZLUhra+R52ZqyLiEuAvgbcAB2VmX/nyUmA6sCGwuGW2wdr724Y0Y8ZUJk6c0FYCY6G3d1pl6+6Ubs/R/Jqv23Nc5/ObMG6t0/X0NOPHUDq1D9v+wZPMPCoiTgX+G5jS8tI0YBGwpHw8VHt/25AWLlzeblijrrd3GgsWLK1s/Z3Q7TmaX/N1e47mBxMP/xsAVg0y3bJlK8YkrtE2mvtwqKI/7NB3RBwZER8uny4H1gB3RsTMsu0AYA5wB7BnREyOiOnA1hQ3ms0FDhwwrSRpHbbqhVuy6oVbVh1GI7TTo/4m8MWIuBVYD3g/cC8wOyLWLx9fnpmrI+I8ikI8HjgtM5+JiPOBSyLiNmAlcMRYJCJJUjcatlBn5jLgrYO8tNcg086m+CpXa9ty4LCRBihJ6j4zzn4fAAs/8OmKI6k//yiHJKnjxq1eXXUIjeEvk0mSVGMWakmSasxCLUlSjVmoJUmqMW8mkyR13NO7v7HqEBrDQi1J6rin97BQt8uhb0mSasxCLUnquA2u+BwbXPG5qsNoBIe+JUkdt/6D91QdQmPYo5YkqcYs1JIk1ZiFWpKkGrNQS5JUY95MJknquFUvfGnVITSGhVqS1HFL3vF3VYfQGA59S5JUYxZqSVLHTZp3M5Pm3Vx1GI3g0LckqeN6vvMNAFbstHfFkdSfPWpJkmrMQi1JUo1ZqCVJqjELtSRJNWahliSpxrzrW5LUcU++/5yqQ2iMIQt1RKwHXARsAUwCzgD+F7gaeKCc7PzM/HpEHAscD6wCzsjMayJiCnAZsDGwFDgqMxeMRSKSpAaZNKXqCBpjuB71O4AnMvPIiNgIuBv4R+DczPz96VBEbAqcDOwMTAZui4gbgROA+Zn5sYh4OzALOGUM8pAkNcj4J38DwJrnbVJxJPU3XKH+BnB5y/NVwE5ARMQhFL3q9wO7AnMzcwWwIiIeBLYF9gA+Xs57LXB6O0HNmDGViRMntJ3EaOvtnVbZujul23M0v+br9hzX+fzOPrH4/6xL/+Slnp5JYxDR6OvUPhyyUGfmUwARMY2iYM+iGAL/fGbOi4jTgI8CPwIWt8y6FJgObNjS3t82rIULlz+LFEZXb+80FixYWtn6O6HbczS/5uv2HM0Pnre6D4AnB5lu2bIVYxLXaBvNfThU0R/2ru+IeBFwM/ClzPwKcGVmzitfvhLYAVgCtK5lGrBoQHt/myRJatOQhToiNgFuAE7NzIvK5usjYtfy8euBecAdwJ4RMTkipgNbA/cAc4EDy2kPAOaMcvySJHW14a5RfwSYAZweEf3Xl/8G+GRErAQeA47LzCURcR5FIR4PnJaZz0TE+cAlEXEbsBI4YkyykCSpSw13jfoUBr9L+7WDTDsbmD2gbTlw2HMJUJKkdZk/eCJJ6rin3nRs1SE0hoVaktRxK2OHqkNoDH/rW5KkGrNQS5I67s8umMWfXTCr6jAawaFvSVLHjV/8ZNUhNIY9akmSasxCLUlSjVmoJUmqMQu1JEk15s1kkrSOuWrOQ2O6/J6eScP+BaxdnvdKAH44xrF0Awu1JKnjfvjnB1QdQmM49C1JUo1ZqCVJHbfLfdeyy33XVh1GI1ioJUkdt+Wvf8yWv/5x1WE0goVakqQas1BLklRjFmpJkmrMQi1JUo35PWpJUsctmzy96hAaw0ItSeq4q19zQtUhNIZD35Ik1ZiFWpLUcZv/9j42/+19VYfRCBZqSVLH7fHTq9jjp1dVHUYjWKglSaqxIW8mi4j1gIuALYBJwBnAz4CLgT7gHuDEzFwTEccCxwOrgDMy85qImAJcBmwMLAWOyswFY5OKJEndZ7ge9TuAJzJzT+AA4DPAucCssm0ccEhEbAqcDOwO7A+cGRGTgBOA+eW0lwKzxiYNSZK603CF+hvA6S3PVwE7AbeUz68F9gV2BeZm5orMXAw8CGwL7AFcN2BaSZLUpiGHvjPzKYCImAZcTtEjPjsz+8pJlgLTgQ2BxS2zDtbe3zasGTOmMnHihDZTGH29vdMqW3endHuO5td83Z5jlfn19EyqfB3jxnUulrHSqX047A+eRMSLgCuBz2XmVyLi4y0vTwMWAUvKx0O197cNa+HC5e1MNiZ6e6exYMHSytbfCd2eo/k1X7fnWHV+y5atGNPl9/RMGnYd1+x6bEdiGUujuQ+HKvpDDn1HxCbADcCpmXlR2Xx3RMwsHx8AzAHuAPaMiMkRMR3YmuJGs7nAgQOmlSSt45ZO3YilUzeqOoxGGK5H/RFgBnB6RPRfqz4FOC8i1gfuBS7PzNURcR5FIR4PnJaZz0TE+cAlEXEbsBI4YkyykCQ1ysRVRU961cTmDn13ynDXqE+hKMwD7TXItLOB2QPalgOHPZcAJUnd5y1zPgHA1/b+UMWR1J8/eCJJUo1ZqCVJqjELtSRJNWahliSpxizUkiTV2LA/eCJJ0mib93J/UbpdFmpJUsc9sPnOVYfQGA59S5JUYxZqSVLH7TvvUvadd2nVYTSCQ9+SpI57/pJHqw6hMexRS5JUYxZqSZJqzEItSVKNWaglSaoxbyaTJHXcoxttWXUIjWGhliR13K3bHlZ1CI3h0LckSTVmoZYkddw2D89hm4fnVB1GI1ioJUkdt80jc9nmkblVh9EIFmpJkmrMQi1JUo1ZqCVJqjELtSRJNeb3qCVJHbdmnP3EdlmoJUkd9x8zP1h1CI3RVqGOiFcDZ2XmzIjYEbgaeKB8+fzM/HpEHAscD6wCzsjMayJiCnAZsDGwFDgqMxeMehaSJHWpYQt1RHwQOBJYVjbtCJybmee0TLMpcDKwMzAZuC0ibgROAOZn5sci4u3ALOCU0U1BktQ0z1/8vwA8Pn3ziiOpv3YuEvwcOLTl+U7AGyPi1oj4QkRMA3YF5mbmisxcDDwIbAvsAVxXznctsO/ohS5Jaqp977qMfe+6rOowGmHYHnVmXhERW7Q03QF8PjPnRcRpwEeBHwGLW6ZZCkwHNmxp728b1owZU5k4cUI7k46J3t5pla27U7o9R/Nrvm7Pscr8enomVb6OceM6F8tY6dQ+HMnNZFdm5qL+x8CngVuB1oinAYuAJS3t/W3DWrhw+QjCGh29vdNYsGBpZevvhG7P0fyar9tzrDq/ZctWjOnye3omDbuOvr7OxDKWRnMfDlX0R3J//PURsWv5+PXAPIpe9p4RMTkipgNbA/cAc4EDy2kPAPwFdkmSnoWR9KhPAD4TESuBx4DjMnNJRJxHUYjHA6dl5jMRcT5wSUTcBqwEjhitwCVJWhe0Vagz8xFgt/LxXcBrB5lmNjB7QNtywL8OLknSCPmDJ5Kkjrtp+8OrDqExLNSSpI777YyXVB1CY/hjq5Ik1ZiFWpLUcW+59Rzecus5w08oh74lSZ03cfXvqg6hMexRS5JUYxZqSZJqzEItSVKNWaglSaoxbyaTJHXcz168W9UhNIaFWpLUcT/ZcmbVITSGQ9+SJNWYhVqS1HF7zP8me8z/ZtVhNIJD35Kkjtv88furDqEx7FFLklRjFmpJkmrMQi1JUo1ZqCVJqjFvJpMkddzCDTapOoTGsFBLkjru+l2OrjqExnDoW5KkGrNQS5I6bstf3c2Wv7q76jAawaFvSVLH7XL/9QD8/IU7VBxJ/dmjliSpxizUkiTVWFtD3xHxauCszJwZES8DLgb6gHuAEzNzTUQcCxwPrALOyMxrImIKcBmwMbAUOCozF4xBHpIkdaVhe9QR8UHg88DksulcYFZm7gmMAw6JiE2Bk4Hdgf2BMyNiEnACML+c9lJg1uinIElS92qnR/1z4FDgS+XznYBbysfXAm8AVgNzM3MFsCIiHgS2BfYAPt4y7entBDVjxlQmTpzQVgJjobd3WmXr7pRuz9H8mq/bc6wyv56eSZWvY9y4zsUyVjq1D4ct1Jl5RURs0dI0LjP7ysdLgenAhsDilmkGa+9vG9bChcvbmWxM9PZOY8GCpZWtvxO6PUfza75uz7Hq/JYtWzGmy+/pmTTsOq7Y/WQAVo5xLGNpNPfhUEV/JF/PWtPyeBqwCFhSPh6qvb9NkrSOW7ne1KpDaIyR3PV9d0TMLB8fAMwB7gD2jIjJETEd2JriRrO5wIEDppUkreN6nl5Ez9P23doxkkL9t8A/RMQPgPWByzPzMeA8ikJ8E3BaZj4DnA+8MiJuA44D/mF0wpYkNdnBt1/AwbdfUHUYjdDW0HdmPgLsVj6+H9hrkGlmA7MHtC0HDnvOUUqStI7yB08kSaoxC7UkSTVmoZYkqcb861mSNIqumvPQsNO08z1jqZ+FWpLUcT94xcFVh9AYFmpJUsf9zyavrDqExvAatSRJNWahliR13Btvv5A33n5h1WE0gkPfkqSOm/b0wqpDaAx71JIk1ZiFWpKkGrNQS5JUYxZqSZJqzJvJJEkd9/Cm21QdQmNYqCVJHfffWx9UdQiN4dC3JEk1ZqGWJHXcjvffwI7331B1GI1goZYkddxWv7qLrX51V9VhNIKFWpKkGrNQS5JUYxZqSZJqzEItSVKN+T1qSVLHPb1+T9UhNIaFWpLUcd/a/X1Vh9AYDn1LklRjI+5RR8TdwOLy6cPAPwMXA33APcCJmbkmIo4FjgdWAWdk5jXPKWJJUuNt9vgDADz6/JdXHEn9jahHHRGTATJzZvnvaOBcYFZm7gmMAw6JiE2Bk4Hdgf2BMyNi0uiELklqqtfNv4LXzb+i6jAaYaQ96u2AqRFxQ7mMjwA7AbeUr18LvAFYDczNzBXAioh4ENgW+OFQC58xYyoTJ04YYWjPXW/vtMrW3SndnqP5NV9Tc+zpaa8v0u50TTVcfuPGtTddnXXqPTrSQr0cOBv4PPByisI8LjP7yteXAtOBDfnD8Hhr+5AWLlw+wrCeu97eaSxYsLSy9XdCt+dofs3X5ByXLVsx7DQ9PZPamq6p2smvr6wWTd4Oo/keHaroj7RQ3w88WBbm+yPiCYoedb9pwCJgSfl4YLskSWrDSO/6PgY4ByAiNqPoOd8QETPL1w8A5gB3AHtGxOSImA5sTXGjmSRJasNIe9RfAC6OiNso7vI+BngcmB0R6wP3Apdn5uqIOI+iaI8HTsvMZ0YhbkmS1gkjKtSZuRI4YpCX9hpk2tnA7JGsR5LUna7d5ZiqQ2gMf5lMktRxizfYuOoQGsNfJpMkddz4NasYv2ZV1WE0goVaktRxb73lbN56y9lVh9EIFmpJkmrMQi1JUo1ZqCVJqjELtSRJNWahliSpxvwetSSp4+7ecu+qQ2gMC7UkqePyxa+uOoTGcOhbkqQas1BLkjpun7u/zD53f7nqMBrBoW9JUsdtvOiXVYfQGPaoJUmqMQu1JEk1ZqGWJKnGLNSSJNWYN5NJkjrusRlbVB1CY1ioJUkd973t3151CI1hoZbUGFfNeajqEKSO8xq1JKnjXvHI93nFI9+vOoxGsEctSeq4bR++FYCfbfHaiiOpP3vUkiTVmIVakqQaG/Oh74gYD3wO2A5YAbw7Mx8c6/VKktQNOtGjfhMwOTNfA3wIOKcD65QkqSt04mayPYDrADLz9ojYuQPrlDQCdfn6U0/PJJYtW1F1GFItjOvr6xvTFUTE54ErMvPa8vkvgP+TmavGdMWSJHWBTgx9LwGmta7TIi1JUns6UajnAgcCRMRuwPwOrFOSpK7QiWvUVwL7RcT3gXHA0R1YpyRJXWHMr1FLkqSR8wdPJEmqMQu1JEk1ZqGWJKnG1qm/nhURE4DZQACrgaMz8+ctrx8OvL987SfAezNzTUTcDSwuJ3s4M2t5Q1wb+f0N8FfAgrLpeOABGvQTr0PlGBGbAl9rmXx74EOZeUFT9mG/iNgYmAfsl5n3tbQfDPw9sAq4KDNnN/FneofIr9HHYL8h8mv8MdhvsBy75RgcKtYqjsF1qlADBwNk5u4RMRM4FzgEICKmAGcAr8rM5RHxVeCgiLihnGdmJRE/O2vNr7Qj8M7MnNffEBGHUv7Ea/n1uXMGzFM3a80xMx8DZgJExGuAfwZmR8Tk8vWZnQ/32YuI9YALgacHaf8EsAuwDJgbEVcDr6VB+3CI/LrhGFxrfqVuOAbXmmM3HINDxVrVMbhODX1n5lXAceXTlwC/aXl5BfDazFxePp8IPENxhjQ1Im6IiJvKnVBLw+QHsBPw4Yi4LSI+XLb90U+8ArX+idc2ciQixgGfBk7IzNU0aB+WzgYuAB4d0L418GBmLszMlcBtwJ40bB+y9vwafwyW1pYfdMExWBoqx6Yfg0PFWskxuE4VaoDMXBURl1C8iS5vaV+Tmb8BiIj3ARsANwLLKd6U+wPvAb4cEbUdiVhbfqWvUeSwD7BHRBwEbMgfhngAVtc5Pxg2Ryh63T/NzCyfN2YfRsS7gAWZef0gLw/cV0uB6YO013YfDpVfNxyDw+w/6IJjsI0cocHHIEPHWskxuM4VaoDMPArYimJIpqe/PSLGR8TZwH7AmzOzD7gfuCwz+zLzfuAJ4AVVxN2uwfIrz3A/mZmPl2eC3wZ2oKE/8bq2fVh6B/DvLc+btA+PofiBoO9RXN+7tLzuB3+6r6YBiwZpr/M+HCq/bjgG15pfFx2DQ+7DUpOPwaFireQYrOsZzZiIiCOBzTPzTIqzpjUUN630u5Bi+O1NmbmmbDsGeBXw3ojYjOLM6dedi7p9w+S3IXBPRGxNcW1lH+AiYArF2e9/NOEnXtvYh1AML36/5Xlj9mFmvq7/cflB+J7yuh/AvcDLI+J5wFPA6yjO/PtoyD4cJj9o+DE4TH5dcQy2sQ+hwccgQ8dayTG4Tv0yWdnz+iKwKbAe8K9AD8UQ253lvzkUGx3gUxQF5xw+AAAAoklEQVRnvRcDLy7bT83M71NDQ+WXmf9eFrmTKT4Iv5uZH225W3Fbyp94bb1LtW7ayLEXuDEzt2+ZZ30asg9b9X8IUtyA1J9f/x2n4ynuOP1s0/Zhv4H50QXHYKu17L/GH4Ot1pJjo4/BwWIFtqDCY3CdKtSSJDXNOnmNWpKkprBQS5JUYxZqSZJqzEItSVKNWaglSaoxC7UkSTVmoZYkqcb+P9i7XvMOTT6AAAAAAElFTkSuQmCC\n",
=======
      "image/png": "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\n",
>>>>>>> origin/master
      "text/plain": [
       "<Figure size 576x288 with 1 Axes>"
      ]
     },
     "metadata": {
      "needs_background": "light"
     },
     "output_type": "display_data"
    }
   ],
   "source": [
    "plt.figure(figsize=(8, 4))\n",
    "plt.hist(df2['score_recolector'], alpha=0.5)\n",
    "plt.axvline(df2['score_recolector'].mean(), color='tomato', ls='--', label=\"Media\")\n",
    "plt.axvline(df2['score_recolector'].mode().get_values()[0], color='blue', ls='-', label=\"Moda\")\n",
    "plt.title(\"Representación de la Media en el Score del Recolector\")\n",
    "plt.legend(fontsize=13);"
   ]
  },
  {
   "cell_type": "code",
   "execution_count": 54,
   "metadata": {},
   "outputs": [],
   "source": [
    "#Se reemplazan los valores perdidos del atributo por la media del mismo\n",
    "df['score_recolector'].replace(np.nan, df2['score_recolector'].mean(), inplace=True)"
   ]
  },
  {
   "cell_type": "markdown",
   "metadata": {},
   "source": [
    "Una vez imputados los 3 atributos antes mencionados, nos quedó en nuestro dataset consolidado 3 varibales, para este caso, vamos a proceder a analizar el resultado de nuestros modelos cuando tengamos ordenes de compras con datos limpios y datos perdidos para así poder hacer una comparación y justificar con cual de los 2 tomamos como mejor modelo."
   ]
  },
  {
   "cell_type": "code",
   "execution_count": 55,
   "metadata": {
    "scrolled": false
   },
   "outputs": [
    {
     "data": {
      "text/html": [
       "<div>\n",
       "<style scoped>\n",
       "    .dataframe tbody tr th:only-of-type {\n",
       "        vertical-align: middle;\n",
       "    }\n",
       "\n",
       "    .dataframe tbody tr th {\n",
       "        vertical-align: top;\n",
       "    }\n",
       "\n",
       "    .dataframe thead th {\n",
       "        text-align: right;\n",
       "    }\n",
       "</style>\n",
       "<table border=\"1\" class=\"dataframe\">\n",
       "  <thead>\n",
       "    <tr style=\"text-align: right;\">\n",
       "      <th></th>\n",
       "      <th>Total</th>\n",
       "      <th>Porcentaje (%)</th>\n",
       "    </tr>\n",
       "  </thead>\n",
       "  <tbody>\n",
       "    <tr>\n",
       "      <th>pesados</th>\n",
       "      <td>15</td>\n",
       "      <td>0.23</td>\n",
       "    </tr>\n",
       "    <tr>\n",
       "      <th>sin_pesar</th>\n",
       "      <td>15</td>\n",
       "      <td>0.23</td>\n",
       "    </tr>\n",
       "    <tr>\n",
       "      <th>cantidad_total</th>\n",
       "      <td>15</td>\n",
       "      <td>0.23</td>\n",
       "    </tr>\n",
       "    <tr>\n",
       "      <th>latitud</th>\n",
       "      <td>0</td>\n",
       "      <td>0.00</td>\n",
       "    </tr>\n",
       "    <tr>\n",
       "      <th>longitud</th>\n",
       "      <td>0</td>\n",
       "      <td>0.00</td>\n",
       "    </tr>\n",
       "    <tr>\n",
       "      <th>dia</th>\n",
       "      <td>0</td>\n",
       "      <td>0.00</td>\n",
       "    </tr>\n",
       "    <tr>\n",
       "      <th>promesa</th>\n",
       "      <td>0</td>\n",
       "      <td>0.00</td>\n",
       "    </tr>\n",
       "    <tr>\n",
       "      <th>entrega</th>\n",
       "      <td>0</td>\n",
       "      <td>0.00</td>\n",
       "    </tr>\n",
       "    <tr>\n",
       "      <th>id_entrega</th>\n",
       "      <td>0</td>\n",
       "      <td>0.00</td>\n",
       "    </tr>\n",
       "    <tr>\n",
       "      <th>id_recolector</th>\n",
       "      <td>0</td>\n",
       "      <td>0.00</td>\n",
       "    </tr>\n",
       "    <tr>\n",
       "      <th>id_transporte</th>\n",
       "      <td>0</td>\n",
       "      <td>0.00</td>\n",
       "    </tr>\n",
       "    <tr>\n",
       "      <th>id_tienda</th>\n",
       "      <td>0</td>\n",
       "      <td>0.00</td>\n",
       "    </tr>\n",
       "    <tr>\n",
       "      <th>tiempo</th>\n",
       "      <td>0</td>\n",
       "      <td>0.00</td>\n",
       "    </tr>\n",
       "    <tr>\n",
       "      <th>longitud_tienda</th>\n",
       "      <td>0</td>\n",
       "      <td>0.00</td>\n",
       "    </tr>\n",
       "    <tr>\n",
       "      <th>latitud_tienda</th>\n",
       "      <td>0</td>\n",
       "      <td>0.00</td>\n",
       "    </tr>\n",
       "    <tr>\n",
       "      <th>p_aciertos</th>\n",
       "      <td>0</td>\n",
       "      <td>0.00</td>\n",
       "    </tr>\n",
       "    <tr>\n",
       "      <th>velocidad</th>\n",
       "      <td>0</td>\n",
       "      <td>0.00</td>\n",
       "    </tr>\n",
       "    <tr>\n",
       "      <th>p_aceptacion</th>\n",
       "      <td>0</td>\n",
       "      <td>0.00</td>\n",
       "    </tr>\n",
       "    <tr>\n",
       "      <th>score_recolector</th>\n",
       "      <td>0</td>\n",
       "      <td>0.00</td>\n",
       "    </tr>\n",
       "    <tr>\n",
       "      <th>seniority_ADVANCED</th>\n",
       "      <td>0</td>\n",
       "      <td>0.00</td>\n",
       "    </tr>\n",
       "    <tr>\n",
       "      <th>seniority_BEGINNER</th>\n",
       "      <td>0</td>\n",
       "      <td>0.00</td>\n",
       "    </tr>\n",
       "    <tr>\n",
       "      <th>seniority_INTERMEDIATE</th>\n",
       "      <td>0</td>\n",
       "      <td>0.00</td>\n",
       "    </tr>\n",
       "    <tr>\n",
       "      <th>seniority_REVIEW</th>\n",
       "      <td>0</td>\n",
       "      <td>0.00</td>\n",
       "    </tr>\n",
       "    <tr>\n",
       "      <th>tienda</th>\n",
       "      <td>0</td>\n",
       "      <td>0.00</td>\n",
       "    </tr>\n",
       "    <tr>\n",
       "      <th>id_orden</th>\n",
       "      <td>0</td>\n",
       "      <td>0.00</td>\n",
       "    </tr>\n",
       "  </tbody>\n",
       "</table>\n",
       "</div>"
      ],
      "text/plain": [
       "                        Total  Porcentaje (%)\n",
       "pesados                    15            0.23\n",
       "sin_pesar                  15            0.23\n",
       "cantidad_total             15            0.23\n",
       "latitud                     0            0.00\n",
       "longitud                    0            0.00\n",
       "dia                         0            0.00\n",
       "promesa                     0            0.00\n",
       "entrega                     0            0.00\n",
       "id_entrega                  0            0.00\n",
       "id_recolector               0            0.00\n",
       "id_transporte               0            0.00\n",
       "id_tienda                   0            0.00\n",
       "tiempo                      0            0.00\n",
       "longitud_tienda             0            0.00\n",
       "latitud_tienda              0            0.00\n",
       "p_aciertos                  0            0.00\n",
       "velocidad                   0            0.00\n",
       "p_aceptacion                0            0.00\n",
       "score_recolector            0            0.00\n",
       "seniority_ADVANCED          0            0.00\n",
       "seniority_BEGINNER          0            0.00\n",
       "seniority_INTERMEDIATE      0            0.00\n",
       "seniority_REVIEW            0            0.00\n",
       "tienda                      0            0.00\n",
       "id_orden                    0            0.00"
      ]
     },
     "execution_count": 55,
     "metadata": {},
     "output_type": "execute_result"
    }
   ],
   "source": [
    "total = df.isnull().sum().sort_values(ascending=False)\n",
    "percent = round((df.isnull().sum() / df.isnull().count()) * 100, 2).sort_values(ascending=False)\n",
    "missing_values = pd.concat([total, percent], axis=1, keys=['Total', 'Porcentaje (%)'])\n",
    "missing_values"
   ]
  },
  {
   "cell_type": "code",
   "execution_count": 56,
   "metadata": {
    "scrolled": false
   },
   "outputs": [
    {
<<<<<<< HEAD
     "data": {
      "text/plain": [
       "id_orden                  False\n",
       "latitud                   False\n",
       "longitud                  False\n",
       "dia                       False\n",
       "promesa                   False\n",
       "entrega                   False\n",
       "id_entrega                False\n",
       "id_recolector             False\n",
       "id_trasporte              False\n",
       "id_tienda                 False\n",
       "tiempo                    False\n",
       "sin_pesar                 False\n",
       "pesados                   False\n",
       "cantidad_total            False\n",
       "p_aciertos                False\n",
       "velocidad                 False\n",
       "p_aceptacion              False\n",
       "score_recolector          False\n",
       "seniority_ADVANCED        False\n",
       "seniority_BEGINNER        False\n",
       "seniority_INTERMEDIATE    False\n",
       "seniority_REVIEW          False\n",
       "tienda                    False\n",
       "latitud_tienda            False\n",
       "longitud_tienda           False\n",
       "dtype: bool"
      ]
     },
     "execution_count": 56,
     "metadata": {},
     "output_type": "execute_result"
=======
     "name": "stdout",
     "output_type": "stream",
     "text": [
      "<class 'pandas.core.frame.DataFrame'>\n",
      "Int64Index: 6528 entries, 0 to 6542\n",
      "Data columns (total 25 columns):\n",
      "id_orden                  6528 non-null object\n",
      "latitud                   6528 non-null object\n",
      "longitud                  6528 non-null object\n",
      "dia                       6528 non-null int64\n",
      "promesa                   6528 non-null object\n",
      "entrega                   6528 non-null object\n",
      "id_entrega                6528 non-null int64\n",
      "id_recolector             6528 non-null object\n",
      "id_transporte             6528 non-null object\n",
      "id_tienda                 6528 non-null object\n",
      "tiempo                    6528 non-null object\n",
      "sin_pesar                 6528 non-null float64\n",
      "pesados                   6528 non-null float64\n",
      "cantidad_total            6528 non-null float64\n",
      "p_aciertos                6528 non-null float64\n",
      "velocidad                 6528 non-null float64\n",
      "p_aceptacion              6528 non-null float64\n",
      "score_recolector          6528 non-null float64\n",
      "seniority_ADVANCED        6528 non-null uint8\n",
      "seniority_BEGINNER        6528 non-null uint8\n",
      "seniority_INTERMEDIATE    6528 non-null uint8\n",
      "seniority_REVIEW          6528 non-null uint8\n",
      "tienda                    6528 non-null object\n",
      "latitud_tienda            6528 non-null object\n",
      "longitud_tienda           6528 non-null object\n",
      "dtypes: float64(7), int64(2), object(12), uint8(4)\n",
      "memory usage: 1.1+ MB\n"
     ]
    },
    {
     "ename": "AttributeError",
     "evalue": "'NoneType' object has no attribute 'any'",
     "output_type": "error",
     "traceback": [
      "\u001b[0;31m---------------------------------------------------------------------------\u001b[0m",
      "\u001b[0;31mAttributeError\u001b[0m                            Traceback (most recent call last)",
      "\u001b[0;32m<ipython-input-55-15b1869d3f82>\u001b[0m in \u001b[0;36m<module>\u001b[0;34m()\u001b[0m\n\u001b[1;32m      1\u001b[0m \u001b[0mdf_missing_values\u001b[0m \u001b[0;34m=\u001b[0m \u001b[0mdf\u001b[0m\u001b[0;34m.\u001b[0m\u001b[0mcopy\u001b[0m\u001b[0;34m(\u001b[0m\u001b[0;34m)\u001b[0m\u001b[0;34m\u001b[0m\u001b[0;34m\u001b[0m\u001b[0m\n\u001b[1;32m      2\u001b[0m \u001b[0mdf\u001b[0m\u001b[0;34m.\u001b[0m\u001b[0mdropna\u001b[0m\u001b[0;34m(\u001b[0m\u001b[0minplace\u001b[0m\u001b[0;34m=\u001b[0m\u001b[0;32mTrue\u001b[0m\u001b[0;34m)\u001b[0m\u001b[0;34m\u001b[0m\u001b[0;34m\u001b[0m\u001b[0m\n\u001b[0;32m----> 3\u001b[0;31m \u001b[0mdf\u001b[0m\u001b[0;34m.\u001b[0m\u001b[0minfo\u001b[0m\u001b[0;34m(\u001b[0m\u001b[0;34m)\u001b[0m\u001b[0;34m.\u001b[0m\u001b[0many\u001b[0m\u001b[0;34m(\u001b[0m\u001b[0;34m)\u001b[0m\u001b[0;34m\u001b[0m\u001b[0;34m\u001b[0m\u001b[0m\n\u001b[0m",
      "\u001b[0;31mAttributeError\u001b[0m: 'NoneType' object has no attribute 'any'"
     ]
>>>>>>> origin/master
    }
   ],
   "source": [
    "df_missing_values = df.copy()\n",
    "df.dropna(inplace=True)\n",
    "df.info().any()"
   ]
  },
  {
   "cell_type": "markdown",
   "metadata": {},
   "source": [
    "Antes de pasar a realizar nuestro análisis exploratorio y posteriormente el descriptivo, terminaremos de recodificar ciertas variables en nuestro dataset para así asegurar la legibilidad de los datos al momento de implementar la modelación de ellos. En esta ocasión nuestro dataset consolidado está constituido por __latitudes y longitudes__ tanto de los pedidos como de las tiendas, acá vamos a trabajar con la distancia que se genera entre ellos, aplicando una transformación con la librería `haversine`, el resultado nos dará automáticamente en __Kilometros__ ya que viene por defecto en dicha librería."
   ]
  },
  {
   "cell_type": "code",
   "execution_count": 57,
   "metadata": {},
   "outputs": [],
   "source": [
    "#Se crea un dataframe temporal para calcular la distancia\n",
    "distancias = pd.DataFrame()\n",
    "\n",
    "distancias['latitud_x'] = pd.to_numeric(df['latitud'].str.replace('.',''))*100/(10**(df['latitud'].str.replace('.','').apply(len)))\n",
    "distancias['longitud_x'] = (pd.to_numeric(df['longitud'].str.replace('.',''))/(10**(df['longitud'].str.replace('.','').apply(len)))) * 1000\n",
    "\n",
    "distancias['latitud_y'] = pd.to_numeric(df['latitud_tienda'].str.replace('.',''))*100/(10**(df['latitud_tienda'].str.replace('.','').apply(len)))\n",
    "distancias['longitud_y'] = (pd.to_numeric(df['longitud_tienda'].str.replace('.',''))/(10**(df['longitud_tienda'].str.replace('.','').apply(len)))) * 1000"
   ]
  },
  {
   "cell_type": "code",
   "execution_count": 58,
   "metadata": {},
   "outputs": [],
   "source": [
    "df['distancia']= distancias.apply(lambda x: haversine((x['latitud_x'], x['longitud_x']),(x['latitud_y'], x['longitud_y'])), axis=1)"
   ]
  },
  {
   "cell_type": "markdown",
   "metadata": {},
   "source": [
    "Ahora procederemos a aplicar la técnica `one-hot-encoding` al atributo `dia` debido a que posteriormente haremos análisis enfocados o segmentados por el día, procederemos a eliminar columnas que no son relevantes y/o pueden causar multicolinealidad debido a la alta correlación que presentan."
   ]
  },
  {
   "cell_type": "code",
   "execution_count": 58,
   "metadata": {},
   "outputs": [
    {
     "data": {
      "text/html": [
       "<div>\n",
       "<style scoped>\n",
       "    .dataframe tbody tr th:only-of-type {\n",
       "        vertical-align: middle;\n",
       "    }\n",
       "\n",
       "    .dataframe tbody tr th {\n",
       "        vertical-align: top;\n",
       "    }\n",
       "\n",
       "    .dataframe thead th {\n",
       "        text-align: right;\n",
       "    }\n",
       "</style>\n",
       "<table border=\"1\" class=\"dataframe\">\n",
       "  <thead>\n",
       "    <tr style=\"text-align: right;\">\n",
       "      <th></th>\n",
       "      <th>promesa</th>\n",
       "      <th>entrega</th>\n",
       "      <th>id_entrega</th>\n",
       "      <th>tiempo</th>\n",
       "      <th>sin_pesar</th>\n",
       "      <th>pesados</th>\n",
       "      <th>p_aciertos</th>\n",
       "      <th>velocidad</th>\n",
       "      <th>p_aceptacion</th>\n",
       "      <th>score_recolector</th>\n",
       "      <th>seniority_ADVANCED</th>\n",
       "      <th>seniority_BEGINNER</th>\n",
       "      <th>seniority_INTERMEDIATE</th>\n",
       "      <th>seniority_REVIEW</th>\n",
       "      <th>distancia</th>\n",
       "      <th>domingo</th>\n",
       "      <th>lunes</th>\n",
       "      <th>martes</th>\n",
       "      <th>miercoles</th>\n",
       "      <th>jueves</th>\n",
       "      <th>viernes</th>\n",
       "      <th>sabado</th>\n",
       "    </tr>\n",
       "  </thead>\n",
       "  <tbody>\n",
       "    <tr>\n",
       "      <th>0</th>\n",
       "      <td>13:00:00</td>\n",
       "      <td>12:00:15</td>\n",
       "      <td>1</td>\n",
       "      <td>91.800.861</td>\n",
       "      <td>17.0</td>\n",
       "      <td>10.0</td>\n",
       "      <td>0.8564</td>\n",
       "      <td>1.56</td>\n",
       "      <td>1.00</td>\n",
       "      <td>4.68</td>\n",
       "      <td>1</td>\n",
       "      <td>0</td>\n",
       "      <td>0</td>\n",
       "      <td>0</td>\n",
       "      <td>1.201478</td>\n",
       "      <td>0</td>\n",
       "      <td>0</td>\n",
       "      <td>1</td>\n",
       "      <td>0</td>\n",
       "      <td>0</td>\n",
       "      <td>0</td>\n",
       "      <td>0</td>\n",
       "    </tr>\n",
       "    <tr>\n",
       "      <th>1</th>\n",
       "      <td>13:00:00</td>\n",
       "      <td>10:28:10</td>\n",
       "      <td>1</td>\n",
       "      <td>206.599.732</td>\n",
       "      <td>88.0</td>\n",
       "      <td>15.0</td>\n",
       "      <td>0.8516</td>\n",
       "      <td>1.14</td>\n",
       "      <td>1.00</td>\n",
       "      <td>4.76</td>\n",
       "      <td>1</td>\n",
       "      <td>0</td>\n",
       "      <td>0</td>\n",
       "      <td>0</td>\n",
       "      <td>1.557546</td>\n",
       "      <td>0</td>\n",
       "      <td>0</td>\n",
       "      <td>1</td>\n",
       "      <td>0</td>\n",
       "      <td>0</td>\n",
       "      <td>0</td>\n",
       "      <td>0</td>\n",
       "    </tr>\n",
       "    <tr>\n",
       "      <th>2</th>\n",
       "      <td>11:00:00</td>\n",
       "      <td>10:40:50</td>\n",
       "      <td>1</td>\n",
       "      <td>93.458.001</td>\n",
       "      <td>6.0</td>\n",
       "      <td>0.0</td>\n",
       "      <td>0.8337</td>\n",
       "      <td>2.03</td>\n",
       "      <td>1.00</td>\n",
       "      <td>4.96</td>\n",
       "      <td>0</td>\n",
       "      <td>0</td>\n",
       "      <td>1</td>\n",
       "      <td>0</td>\n",
       "      <td>2.360018</td>\n",
       "      <td>0</td>\n",
       "      <td>0</td>\n",
       "      <td>1</td>\n",
       "      <td>0</td>\n",
       "      <td>0</td>\n",
       "      <td>0</td>\n",
       "      <td>0</td>\n",
       "    </tr>\n",
       "    <tr>\n",
       "      <th>3</th>\n",
       "      <td>10:00:00</td>\n",
       "      <td>9:41:47</td>\n",
       "      <td>1</td>\n",
       "      <td>124.778.761</td>\n",
       "      <td>12.0</td>\n",
       "      <td>5.0</td>\n",
       "      <td>0.8571</td>\n",
       "      <td>2.06</td>\n",
       "      <td>0.92</td>\n",
       "      <td>4.92</td>\n",
       "      <td>0</td>\n",
       "      <td>0</td>\n",
       "      <td>1</td>\n",
       "      <td>0</td>\n",
       "      <td>1.899097</td>\n",
       "      <td>0</td>\n",
       "      <td>0</td>\n",
       "      <td>1</td>\n",
       "      <td>0</td>\n",
       "      <td>0</td>\n",
       "      <td>0</td>\n",
       "      <td>0</td>\n",
       "    </tr>\n",
       "    <tr>\n",
       "      <th>4</th>\n",
       "      <td>11:00:00</td>\n",
       "      <td>10:07:53</td>\n",
       "      <td>1</td>\n",
       "      <td>130.321.208</td>\n",
       "      <td>28.0</td>\n",
       "      <td>16.0</td>\n",
       "      <td>0.8625</td>\n",
       "      <td>1.89</td>\n",
       "      <td>1.00</td>\n",
       "      <td>4.92</td>\n",
       "      <td>1</td>\n",
       "      <td>0</td>\n",
       "      <td>0</td>\n",
       "      <td>0</td>\n",
       "      <td>0.289042</td>\n",
       "      <td>0</td>\n",
       "      <td>0</td>\n",
       "      <td>1</td>\n",
       "      <td>0</td>\n",
       "      <td>0</td>\n",
       "      <td>0</td>\n",
       "      <td>0</td>\n",
       "    </tr>\n",
       "  </tbody>\n",
       "</table>\n",
       "</div>"
      ],
      "text/plain": [
       "    promesa   entrega  id_entrega       tiempo  sin_pesar  pesados  \\\n",
       "0  13:00:00  12:00:15           1   91.800.861       17.0     10.0   \n",
       "1  13:00:00  10:28:10           1  206.599.732       88.0     15.0   \n",
       "2  11:00:00  10:40:50           1   93.458.001        6.0      0.0   \n",
       "3  10:00:00   9:41:47           1  124.778.761       12.0      5.0   \n",
       "4  11:00:00  10:07:53           1  130.321.208       28.0     16.0   \n",
       "\n",
       "   p_aciertos  velocidad  p_aceptacion  score_recolector  seniority_ADVANCED  \\\n",
       "0      0.8564       1.56          1.00              4.68                   1   \n",
       "1      0.8516       1.14          1.00              4.76                   1   \n",
       "2      0.8337       2.03          1.00              4.96                   0   \n",
       "3      0.8571       2.06          0.92              4.92                   0   \n",
       "4      0.8625       1.89          1.00              4.92                   1   \n",
       "\n",
       "   seniority_BEGINNER  seniority_INTERMEDIATE  seniority_REVIEW  distancia  \\\n",
       "0                   0                       0                 0   1.201478   \n",
       "1                   0                       0                 0   1.557546   \n",
       "2                   0                       1                 0   2.360018   \n",
       "3                   0                       1                 0   1.899097   \n",
       "4                   0                       0                 0   0.289042   \n",
       "\n",
       "   domingo  lunes  martes  miercoles  jueves  viernes  sabado  \n",
       "0        0      0       1          0       0        0       0  \n",
       "1        0      0       1          0       0        0       0  \n",
       "2        0      0       1          0       0        0       0  \n",
       "3        0      0       1          0       0        0       0  \n",
       "4        0      0       1          0       0        0       0  "
      ]
     },
     "execution_count": 58,
     "metadata": {},
     "output_type": "execute_result"
    }
   ],
   "source": [
    "#one-hot-enconding al atributo dia\n",
    "df = pd.get_dummies(df, prefix='dia', prefix_sep='_', columns=['dia'])\n",
    "\n",
    "#Se renombran ciertas columnas del dataframe\n",
    "df.rename(columns={'dia_0':'domingo', 'dia_1':'lunes', 'dia_2':'martes', 'dia_3':'miercoles',\n",
    "                   'dia_4':'jueves', 'dia_5':'viernes', 'dia_6':'sabado'}, inplace=True)\n",
    "\n",
    "#Se eliminan columnas no relevantes \n",
    "df.drop(columns=['id_orden', 'latitud', 'longitud', 'id_recolector', 'id_transporte', 'id_tienda', \n",
    "                 'cantidad_total', 'tienda', 'latitud_tienda', 'longitud_tienda'], inplace=True)\n",
    "df.head()"
   ]
  },
  {
   "cell_type": "markdown",
   "metadata": {},
   "source": [
    "## A2 - Análisis Exploratorio\n",
    "\n",
    "En esta sección se realizará el análisis bivariado entre nuestras variables de interés (seleccionadas en la hipótesis) y la variable objetivo \"tiempo\" del dataset de 'orden_compras'. Este análisis contendrá gráficos y su respectivas conclusiones."
   ]
  },
  {
   "cell_type": "markdown",
   "metadata": {},
   "source": [
    "### A2.1 - Análisis de distancia v/s tiempo de entrega"
   ]
  },
  {
   "cell_type": "code",
   "execution_count": 59,
   "metadata": {},
   "outputs": [
    {
     "data": {
      "text/html": [
       "<div>\n",
       "<style scoped>\n",
       "    .dataframe tbody tr th:only-of-type {\n",
       "        vertical-align: middle;\n",
       "    }\n",
       "\n",
       "    .dataframe tbody tr th {\n",
       "        vertical-align: top;\n",
       "    }\n",
       "\n",
       "    .dataframe thead th {\n",
       "        text-align: right;\n",
       "    }\n",
       "</style>\n",
       "<table border=\"1\" class=\"dataframe\">\n",
       "  <thead>\n",
       "    <tr style=\"text-align: right;\">\n",
       "      <th></th>\n",
       "      <th>id_orden</th>\n",
       "      <th>latitud</th>\n",
       "      <th>longitud</th>\n",
       "      <th>dia</th>\n",
       "      <th>promesa</th>\n",
       "      <th>entrega</th>\n",
       "      <th>id_entrega</th>\n",
       "      <th>id_recolector</th>\n",
       "      <th>id_trasporte</th>\n",
       "      <th>id_tienda</th>\n",
       "      <th>tiempo</th>\n",
       "      <th>sin_pesar</th>\n",
       "      <th>pesados</th>\n",
       "      <th>cantidad_total</th>\n",
       "      <th>p_aciertos</th>\n",
       "      <th>velocidad</th>\n",
       "      <th>p_aceptacion</th>\n",
       "      <th>score_recolector</th>\n",
       "      <th>seniority_ADVANCED</th>\n",
       "      <th>seniority_BEGINNER</th>\n",
       "      <th>seniority_INTERMEDIATE</th>\n",
       "      <th>seniority_REVIEW</th>\n",
       "      <th>tienda</th>\n",
       "      <th>latitud_tienda</th>\n",
       "      <th>longitud_tienda</th>\n",
       "      <th>distancia</th>\n",
       "    </tr>\n",
       "  </thead>\n",
       "  <tbody>\n",
       "    <tr>\n",
       "      <th>0</th>\n",
       "      <td>6abd5e28d01b7c733fe37485294235dc</td>\n",
       "      <td>1.822.114.109.606.680</td>\n",
       "      <td>-10.031.391.366.664.600</td>\n",
       "      <td>2</td>\n",
       "      <td>13:00:00</td>\n",
       "      <td>12:00:15</td>\n",
       "      <td>1</td>\n",
       "      <td>09bb5bfe76adbb474dddbdd111a51623</td>\n",
       "      <td>09bb5bfe76adbb474dddbdd111a51623</td>\n",
       "      <td>0dc6fb5924a8b917bc641666ed02663c</td>\n",
       "      <td>91.800.861</td>\n",
       "      <td>17.0</td>\n",
       "      <td>10.0</td>\n",
       "      <td>27.0</td>\n",
       "      <td>0.8564</td>\n",
       "      <td>1.56</td>\n",
       "      <td>1.00</td>\n",
       "      <td>4.68</td>\n",
       "      <td>1</td>\n",
       "      <td>0</td>\n",
       "      <td>0</td>\n",
       "      <td>0</td>\n",
       "      <td>60e4c4e1c1a8bc79123738227b9d0b08</td>\n",
       "      <td>1.823.190.132.492.320</td>\n",
       "      <td>-1.003.035.533.737.440</td>\n",
       "      <td>1.201478</td>\n",
       "    </tr>\n",
       "    <tr>\n",
       "      <th>1</th>\n",
       "      <td>0d37a1eea001f01b40232ffd496ff663</td>\n",
       "      <td>18.177.712.202.580.300</td>\n",
       "      <td>-10.035.705.073.096.900</td>\n",
       "      <td>2</td>\n",
       "      <td>13:00:00</td>\n",
       "      <td>10:28:10</td>\n",
       "      <td>1</td>\n",
       "      <td>c4c722114a82fa21654e57e9636d68b0</td>\n",
       "      <td>c4c722114a82fa21654e57e9636d68b0</td>\n",
       "      <td>2bbf833e689d24b697f1f3529c3f3c4b</td>\n",
       "      <td>206.599.732</td>\n",
       "      <td>88.0</td>\n",
       "      <td>15.0</td>\n",
       "      <td>103.0</td>\n",
       "      <td>0.8516</td>\n",
       "      <td>1.14</td>\n",
       "      <td>1.00</td>\n",
       "      <td>4.76</td>\n",
       "      <td>1</td>\n",
       "      <td>0</td>\n",
       "      <td>0</td>\n",
       "      <td>0</td>\n",
       "      <td>387d4a5b65cf4bf00ad805c4b00eed01</td>\n",
       "      <td>18.163.960.871.027.900</td>\n",
       "      <td>-10.032.899.405.911.000</td>\n",
       "      <td>1.557546</td>\n",
       "    </tr>\n",
       "    <tr>\n",
       "      <th>2</th>\n",
       "      <td>528428e9b9eb5d3bd0dbdd8da692b087</td>\n",
       "      <td>1.826.683.205.404.410</td>\n",
       "      <td>-10.031.755.280.890.600</td>\n",
       "      <td>2</td>\n",
       "      <td>11:00:00</td>\n",
       "      <td>10:40:50</td>\n",
       "      <td>1</td>\n",
       "      <td>e15c7a67d0ea9a54dffb410bc1d8528b</td>\n",
       "      <td>e15c7a67d0ea9a54dffb410bc1d8528b</td>\n",
       "      <td>8d891dfc0e29d744c15c18adced74a68</td>\n",
       "      <td>93.458.001</td>\n",
       "      <td>6.0</td>\n",
       "      <td>0.0</td>\n",
       "      <td>6.0</td>\n",
       "      <td>0.8337</td>\n",
       "      <td>2.03</td>\n",
       "      <td>1.00</td>\n",
       "      <td>4.96</td>\n",
       "      <td>0</td>\n",
       "      <td>0</td>\n",
       "      <td>1</td>\n",
       "      <td>0</td>\n",
       "      <td>0fae7b61265bc7ca4ce4d81440b62501</td>\n",
       "      <td>1.824.565.541.228.880</td>\n",
       "      <td>-1.003.324.934.760.470</td>\n",
       "      <td>2.360018</td>\n",
       "    </tr>\n",
       "    <tr>\n",
       "      <th>3</th>\n",
       "      <td>d3f7be6d64eae7405b7bf024e04807a2</td>\n",
       "      <td>18.248.884.004.419.400</td>\n",
       "      <td>-1.003.226.215.187.040</td>\n",
       "      <td>2</td>\n",
       "      <td>10:00:00</td>\n",
       "      <td>9:41:47</td>\n",
       "      <td>1</td>\n",
       "      <td>d1f0bd4b237c1358f09db22076b940e7</td>\n",
       "      <td>d1f0bd4b237c1358f09db22076b940e7</td>\n",
       "      <td>0dc6fb5924a8b917bc641666ed02663c</td>\n",
       "      <td>124.778.761</td>\n",
       "      <td>12.0</td>\n",
       "      <td>5.0</td>\n",
       "      <td>17.0</td>\n",
       "      <td>0.8571</td>\n",
       "      <td>2.06</td>\n",
       "      <td>0.92</td>\n",
       "      <td>4.92</td>\n",
       "      <td>0</td>\n",
       "      <td>0</td>\n",
       "      <td>1</td>\n",
       "      <td>0</td>\n",
       "      <td>60e4c4e1c1a8bc79123738227b9d0b08</td>\n",
       "      <td>1.823.190.132.492.320</td>\n",
       "      <td>-1.003.035.533.737.440</td>\n",
       "      <td>1.899097</td>\n",
       "    </tr>\n",
       "    <tr>\n",
       "      <th>4</th>\n",
       "      <td>e0ad6533b6cd9a382ec6c1d473c5036c</td>\n",
       "      <td>1.822.911.027.242.010</td>\n",
       "      <td>-10.032.267.241.783.800</td>\n",
       "      <td>2</td>\n",
       "      <td>11:00:00</td>\n",
       "      <td>10:07:53</td>\n",
       "      <td>1</td>\n",
       "      <td>06a71e8ab0c6db5ce22a4689fd76a3f4</td>\n",
       "      <td>06a71e8ab0c6db5ce22a4689fd76a3f4</td>\n",
       "      <td>afd0a7b8d546fcc697bb93a5934b65c3</td>\n",
       "      <td>130.321.208</td>\n",
       "      <td>28.0</td>\n",
       "      <td>16.0</td>\n",
       "      <td>44.0</td>\n",
       "      <td>0.8625</td>\n",
       "      <td>1.89</td>\n",
       "      <td>1.00</td>\n",
       "      <td>4.92</td>\n",
       "      <td>1</td>\n",
       "      <td>0</td>\n",
       "      <td>0</td>\n",
       "      <td>0</td>\n",
       "      <td>452ae015bf846e1d2932b7ea15720d64</td>\n",
       "      <td>1.823.159.108.764.060</td>\n",
       "      <td>-10.031.450.001.698.800</td>\n",
       "      <td>0.289042</td>\n",
       "    </tr>\n",
       "  </tbody>\n",
       "</table>\n",
       "</div>"
      ],
      "text/plain": [
       "                           id_orden                 latitud  \\\n",
       "0  6abd5e28d01b7c733fe37485294235dc   1.822.114.109.606.680   \n",
       "1  0d37a1eea001f01b40232ffd496ff663  18.177.712.202.580.300   \n",
       "2  528428e9b9eb5d3bd0dbdd8da692b087   1.826.683.205.404.410   \n",
       "3  d3f7be6d64eae7405b7bf024e04807a2  18.248.884.004.419.400   \n",
       "4  e0ad6533b6cd9a382ec6c1d473c5036c   1.822.911.027.242.010   \n",
       "\n",
       "                  longitud  dia   promesa   entrega  id_entrega  \\\n",
       "0  -10.031.391.366.664.600    2  13:00:00  12:00:15           1   \n",
       "1  -10.035.705.073.096.900    2  13:00:00  10:28:10           1   \n",
       "2  -10.031.755.280.890.600    2  11:00:00  10:40:50           1   \n",
       "3   -1.003.226.215.187.040    2  10:00:00   9:41:47           1   \n",
       "4  -10.032.267.241.783.800    2  11:00:00  10:07:53           1   \n",
       "\n",
       "                      id_recolector                      id_trasporte  \\\n",
       "0  09bb5bfe76adbb474dddbdd111a51623  09bb5bfe76adbb474dddbdd111a51623   \n",
       "1  c4c722114a82fa21654e57e9636d68b0  c4c722114a82fa21654e57e9636d68b0   \n",
       "2  e15c7a67d0ea9a54dffb410bc1d8528b  e15c7a67d0ea9a54dffb410bc1d8528b   \n",
       "3  d1f0bd4b237c1358f09db22076b940e7  d1f0bd4b237c1358f09db22076b940e7   \n",
       "4  06a71e8ab0c6db5ce22a4689fd76a3f4  06a71e8ab0c6db5ce22a4689fd76a3f4   \n",
       "\n",
       "                          id_tienda       tiempo  sin_pesar  pesados  \\\n",
       "0  0dc6fb5924a8b917bc641666ed02663c   91.800.861       17.0     10.0   \n",
       "1  2bbf833e689d24b697f1f3529c3f3c4b  206.599.732       88.0     15.0   \n",
       "2  8d891dfc0e29d744c15c18adced74a68   93.458.001        6.0      0.0   \n",
       "3  0dc6fb5924a8b917bc641666ed02663c  124.778.761       12.0      5.0   \n",
       "4  afd0a7b8d546fcc697bb93a5934b65c3  130.321.208       28.0     16.0   \n",
       "\n",
       "   cantidad_total  p_aciertos  velocidad  p_aceptacion  score_recolector  \\\n",
       "0            27.0      0.8564       1.56          1.00              4.68   \n",
       "1           103.0      0.8516       1.14          1.00              4.76   \n",
       "2             6.0      0.8337       2.03          1.00              4.96   \n",
       "3            17.0      0.8571       2.06          0.92              4.92   \n",
       "4            44.0      0.8625       1.89          1.00              4.92   \n",
       "\n",
       "   seniority_ADVANCED  seniority_BEGINNER  seniority_INTERMEDIATE  \\\n",
       "0                   1                   0                       0   \n",
       "1                   1                   0                       0   \n",
       "2                   0                   0                       1   \n",
       "3                   0                   0                       1   \n",
       "4                   1                   0                       0   \n",
       "\n",
       "   seniority_REVIEW                            tienda          latitud_tienda  \\\n",
       "0                 0  60e4c4e1c1a8bc79123738227b9d0b08   1.823.190.132.492.320   \n",
       "1                 0  387d4a5b65cf4bf00ad805c4b00eed01  18.163.960.871.027.900   \n",
       "2                 0  0fae7b61265bc7ca4ce4d81440b62501   1.824.565.541.228.880   \n",
       "3                 0  60e4c4e1c1a8bc79123738227b9d0b08   1.823.190.132.492.320   \n",
       "4                 0  452ae015bf846e1d2932b7ea15720d64   1.823.159.108.764.060   \n",
       "\n",
       "           longitud_tienda  distancia  \n",
       "0   -1.003.035.533.737.440   1.201478  \n",
       "1  -10.032.899.405.911.000   1.557546  \n",
       "2   -1.003.324.934.760.470   2.360018  \n",
       "3   -1.003.035.533.737.440   1.899097  \n",
       "4  -10.031.450.001.698.800   0.289042  "
      ]
     },
     "execution_count": 59,
     "metadata": {},
     "output_type": "execute_result"
    }
   ],
   "source": [
    "df.head()"
   ]
  },
  {
   "cell_type": "code",
   "execution_count": 60,
   "metadata": {},
   "outputs": [
    {
     "data": {
      "image/png": "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\n",
      "text/plain": [
       "<Figure size 576x288 with 1 Axes>"
      ]
     },
     "metadata": {
      "needs_background": "light"
     },
     "output_type": "display_data"
    }
   ],
   "source": [
    "plt.figure(figsize=(8, 4))\n",
    "sns.distplot(df['distancia'], axlabel='Distancia en km')\n",
    "plt.axvline(df['distancia'].mean(), color = 'tomato', ls='--', label=\"Media\")\n",
    "plt.title(\"Fig A2.1.1 Distribución de los KM\")\n",
    "plt.legend();"
   ]
  },
  {
   "cell_type": "markdown",
   "metadata": {},
   "source": [
    "La distancia en kms se encuentrean principalmente entre 0 y 5 kms, incluyendo datos que podemos considerar outliers (como 25 kms de distancia)"
   ]
  },
  {
   "cell_type": "code",
   "execution_count": 61,
   "metadata": {},
   "outputs": [],
   "source": [
    "df['tiempo'] = pd.to_numeric(df.tiempo.str.replace('.',''))/1000000"
   ]
  },
  {
   "cell_type": "code",
<<<<<<< HEAD
   "execution_count": 62,
=======
   "execution_count": 61,
>>>>>>> origin/master
   "metadata": {},
   "outputs": [
    {
     "name": "stdout",
     "output_type": "stream",
     "text": [
      "Fig A2.1.2 Distancia en km vs tiempo en minutos\n"
     ]
    },
    {
     "data": {
<<<<<<< HEAD
      "image/png": "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\n",
=======
      "image/png": "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\n",
>>>>>>> origin/master
      "text/plain": [
       "<Figure size 432x432 with 3 Axes>"
      ]
     },
     "metadata": {
      "needs_background": "light"
     },
     "output_type": "display_data"
    }
   ],
   "source": [
    "print(\"Fig A2.1.2 Distancia en km vs tiempo en minutos\")\n",
    "sns.jointplot(y='tiempo', x='distancia', data=df, kind=\"reg\")\n",
    "plt.xlabel(\"Distancia\")\n",
    "plt.ylabel(\"Tiempo\");"
   ]
  },
  {
   "cell_type": "markdown",
   "metadata": {},
   "source": [
    "Hay una correlación positiva entre distancia y tiempo, sin embargo es baja y se puede deber a que no puede ser que hay otros atributos que afectan de forma más directa al tiempo, como el día y hora de la semana.\n",
    "\n",
    "Por ejemplo, si aislamos el día domingo, a las 22 hrs, vemos una correlación positiva entre ambas variables, pero en otros casos esta variable parece no influir, como por ejemplo dia 1 y hora 22."
   ]
  },
  {
   "cell_type": "code",
   "execution_count": 63,
   "metadata": {},
   "outputs": [],
   "source": [
    "time = pd.DataFrame(df.entrega.str.split(':', expand=True))\n",
    "time.columns = ('hora','minuto','segundos')\n",
    "\n",
    "df['hora'] = pd.to_numeric(time['hora'])"
   ]
  },
  {
   "cell_type": "code",
   "execution_count": 64,
   "metadata": {},
   "outputs": [
    {
     "data": {
<<<<<<< HEAD
=======
      "image/png": "iVBORw0KGgoAAAANSUhEUgAAAYMAAAEGCAYAAACHGfl5AAAABHNCSVQICAgIfAhkiAAAAAlwSFlzAAALEgAACxIB0t1+/AAAADh0RVh0U29mdHdhcmUAbWF0cGxvdGxpYiB2ZXJzaW9uMy4xLjAsIGh0dHA6Ly9tYXRwbG90bGliLm9yZy+17YcXAAAgAElEQVR4nO3deXRkZ3nn8e+tKi2lpbV1tbptY+xOyGPANBzbbMFgE5vAkIWEzXPYQhIYCIGcDEzCTE4GAklgMkBIYiYhCUsIZBLj8RCTY5YB25g9xhgwHeCNwW28dLdaraW11X7v/HGrpNJSUkmq7Vb9PufoqOrW9tZt9fu893k3LwgCRESku8VaXQAREWk9BQMREVEwEBERBQMREUHBQEREgESrC7AX09OLNQ2BGhsbYG5updHFiSSdm+p0bqrTuakuCucmlRr2qj3W0VcGiUS81UVoWzo31encVKdzU13Uz01HBwMREamNgoGIiCgYiIiIgoGIiKBgICIiRHRoqUjUHT8xw5fvOcX0fJrUaJIrjx3h0osnWl0s6WIKBiJNdvzEDDfdcd/q/am59Op9BQRpFaWJRJrsy/ec2tVxkWZQMBBpsun5dJXjmSaXRGSNgoFIk6VGk1WO9ze5JCJrFAxEmuzKY0d2dVykGdSBLNJk5U7icDRRhtRov0YTScspGIi0wKUXT6jyl7aiNJGIiCgYiIiIgoGIiKBgICIiNLgD2cwuBW4G3uuce5+Z3QikSg+PA18H/hvggOOl49POuRc1slwiIrJew4KBmQ0C1wO3lo9VVvJm9kHgQ8AQ8GXn3C81qiwiIrK9RqaJssBzgZMbHzCznwIOOue+Dgw3sAwiIlKDhl0ZOOcKQMHMtnr4t4E/L90eAi4xs1uAUeAvnHM3NKpcIiKyWdMnnZnZAHAt8PrSoQeBPwb+N2E/wtfM7EvOuU1XFGVjYwMkEvGaPi+V0oVHNTo31encVKdzU12Uz00rZiA/jbCPwAdwzj0MfLT02LSZfRMwtkgvlc3NrdT0QanUMNPTi/srbYfSualO56Y6nZvqonButgtWrRha+mTWRg5hZtea2btKtweAxxOOLhIRkSZp5Giiy4H3ABcBeTN7IfB84AjwpYqn3gG83My+WirP/9guRSQiIvXXyA7kbwJXb/HQb254Xh74lUaVQ0REdqYZyCIiomAgIiIKBiIigoKBiIignc6a6viJmdJWh2lSo0ltdSgibUPBoEmOn5jhpjvuW70/NZdeva+AICKtpjRRk3z5nlO7Oi4i0kwKBk0yPZ+ucjzT5JKIiGymYNAkqdFkleP9TS6JiMhmCgZNcuWxI7s6LiLSTOpAbpJyJ3E4mihDarRfo4lEpG0oGDTRpRdPdHzlr+GzItGkYCB1o+GzItGlPgOpGw2fFYkuBQOpGw2fFYkuBQOpGw2fFWk/2XyRc8s5Zs5t3yhTMJC60fBZkdYLgoBsLgwAZ+ZWmFvMks4W8INg29epA1nqRsNnRVrDLwWAbD782aHe35KCgdRVNwyfFWkH5QCQyRXJ5Yvsof5fp6HBwMwuBW4G3uuce5+ZXQ88FVgqPeVdzrlbzOyXgd8F+oHrnXMfamS5RESiyPcDsvn6BYBKDQsGZjYIXA/cWnF4CHiVc+7bFc8bBt4NXAbkgbvN7OPOuSVERLpcoeiTyRW550dn+dfvTTG3mGVsuI8rLjnEoy4YrdvnNLIDOQs8FzhZcWx4i+c9EfiGc+6cc24F+Arw9AaWS0SkreULRRZXcpydT3P2XIZv3TvNp77+ADMLWfwAZhayfPbOB7n3ofm6fWbDrgyccwWgYGaVh4eAt5nZKPAQ8AbgCDBd8ZwzwOHt3ntsbIBEIl5TOVKpreKPgM7NdnRuqtO5qW4/5yaTK5DJFsnkCgQJj75Egr6B8LF7vngfibi36TXfvW+WJx87v6b3j8c2v75SszuQ/xpwzrnvmdmbgbcDd2x4jgfbp8Lm5lZq+rBUapjp6cW9lLPj6dxUp3NTnc5Ndbs9N0EQkMv7ZHIFsvki/ja13tTM8paPn55ZZnZ2uabPi8c8Dk8MVn28qcHAOfeJirufBN4P/BNwqOL4YeC2ZpZLmkOL2IlArtQBnMkVtg0AlcaG+5hZyG55vF6aOunMzP7ZzC4q3b0KOA7cCRwzsxEzGwKeDHypmeWSxisvYjc1l8YP1haxO35iptVFE2m4fMFnYSXHmfk0s4tZVrK1BwKAKy45tKvje9HI0USXA+8BLgLyZvZCwtFFN5hZBlgEftU5lzOztwBfBHzg7c65rRe5kcjabhE7XR1IJyqPAspkCxR2U/NvoTxq6K4fnGnYaKJGdiB/E7h6i4du2uK5NwI3Nqos0npaxK5zKN1XXdH3SZc6gQvFes4CCANCPSv/jTQDWZoiNZpkam5zQNAidtFytzujPSs28P2ATK7A9Fw60o0bLVQnTaFF7DrD5+98YMvj3bZnhR8EpLMFZhcynJlPs7CSJ1cotrpY+6IrA2kKLWLXGU7PbD2MMcot4loFQVAaBVT/pSDagYKBNI0WsYu+wxODPHB6YdPxTk33lecCpEtzAfayGmhUKE0kIjW79kkXbnm809J95Q1hpufTzC1lyeQ6OxCArgxEZBcus0Ocu+po26X76jHCKV8IrwAyuSL+PoeCRpGCgYjsSrul+8oTGst2M8KpnnMBok7BQEQibbcTGlcDQAPmAkSZgoGIRFotExqLfvkKoEi+6DeraJGiYCAikVZtQuPESB/LmbwCQI00mkhEIq1yJFMQBBT9gELR53FHJ1hcySsQ1EjBQEQi7dGPHOPnnnoho0O9+H7A2FAvP/vERzR0HZ9OpDSRiERO0ffJlmcDF3wuSA1z3c9oB7b9UDAQkUgIF4QLRwHlCkr91JuCgYi0rU5fD6idKBiISFvxg4Bsrkg2X+z49YDaiYKBiLRcOQWUzesKoFUUDESkJcJOYJ9MrkC+4CsAtJiCgYg0Tb7gh+mfnCaCtZuGBgMzuxS4GXivc+59ZnY+8GGgDygCL3POnTSzU4CreOk1zrlobxskIuF+AAV/tQ+g2OWLwbWzhgUDMxsErgdurTj8h8AHnHMfN7PXAW80s98BTjrnrm5UWUSkeXw/WO38VQdwdDTyyiALPBd4c8Wx3wLKq0edBZ4ADALxBpZDRBqsvBBcNldU/j+ivKDBYdvM/gA465x7X8WxOHAb8AfA94G7gTuBFHCDc+4vtnvPQqEYJBKKHyKtFI4AKrCSCbeElPYWj3kcnhj0qj3e9A7kUiD4KPAF59ztZnYAeCvwMcK1kr5gZl9zzn2j2nvMza3U9Fmp1DDT04t1KHXn0bmpTuemuvGJIR56eF5DQLcwPj7I7Oxyq4tRVSkYVH28FaOJPgzc75x7K4BzbgH42/KDZnYbcClQNRiI7FY9tkXsVpUjgHJ4LKzkWl0kaYCmrlpqZi8FfOfc71Uce4yZfax0Ow48DTjezHJJZytvizg1l8YP1rZFPH5iptVFa0uFos9KJs/8UpYz82lmFjIspbUUdJQVij5Ts9tnVBo5muhy4D3ARUDezF4IHAIyZvaF0tO+55x7nZmdNLM7AR/45HYpIpHd2u22iN0mCAJyeX919I+Gf0aXHwTML2Y5PbvC6dkVpmZXOD2bZuZc2BB65pMvqvrahgUD59w3gatrfO7vNqocIrVsi9htysM/wyWgNfwzipYz+XUV/tTsClNzK+Tye7uC0wxk6XjVtkVMjfa3oDStU7kEtIZ/Rke+4HNmPl2q9FdWfy+u5Hd8bcyDg6NJJscGOG9iYNvnKhhIx7vy2BFuuuO+LY93uvIKoFoCuv35QcDcwsYUzwozC5martwODPZyeDys+A9PDHB4fIDUaJJEPOwajseqjioFFAykC5T7BcLRRBlSo/0dPZqoUPTJ5Ytk874CQJtaSuc3tfTPzKVr2rSnryfO5HiSw+MDTI6Hlf7h8QGSffurzhUMpCtcevFEx1b+Rd8nV6r4cwVfHcBtJF/wOTO3UtHaT3N6doWldC0pHo/UaP+6Cn9yfIDRoV48b/tW/l4oGIhETOXon1y+SEGVf8v5fsDU7AruxOy6Fn+tKZ6Rwd61ln4pxXNwpH81xdMMCgYiEZAvrKV91PnbWosrudUW/tTsCqfnVjgzm65pHkZ/b3w1p7+a6hnbf4qnHlpfApEusZtZ0OWO31xp7L8a/82XKxQ5U1Hpnyr9Xs4UdnxtPOaRGk2uVvjlVv/IYGNSPPWgYCDSBOVZ0GXlWdCw1sFdKFZs/KLWf9P4fsDsQma1si/n9mcXMjX9G4wOhSmei84fYSTZw2QLUjz1oGAg0gTVZkHf8e2TXDg5TC6n3H+jBUHAUjq/aXbumbkVCsWdz31/b3zTCJ7J8ST9vWE12u4L1e1EwUCkCSpnQftBQOAH4TpJsyus1JB2aLR7H5rnrh+cYW4xy9hwH1dccohHXTAa2TJk88XSKJ61NM9uUjyHxkrj9cfXcvsH2jjFUw8KBm1Oq21GX77gMzbcx9RcetPIkrHhvtYUqsK9D83z2TsfXL0/s5Bdvd+sgLDXMhT9gJmFzKYx+3ML2ZpSPGPDfaVKP7k6kufgSD/xWLRSPPWgYLAPja6oa8kzS/sp+j7ZnE+uEHYA+wE8/icPrqvsyq645FBTy7ZV6/uuH5zZ8rl3/eBM04LBTmUIgoDFldJaPHMrnJ4JK/4z8+maUjzJvvi69M7h8QEOja2leKSGYGBmw8AbgSsIVxX9OvBnzrmtV//qEs2oqLXaZjT4flCq+P2q4/7LlWorUzHVWt/ZfIG+ns1Vwdxitmllq/wsPwgoFHzyRZ+F5Sx/+y/fC9Np2dpTPBtz+8MDPR2d4qmHWsLiB4EHgb8CPOA5hJvRvKyB5Wp7zaiotdpm+wmCIFzuoeCTL/3UOuP3UReM7rvy309evVrru1Dw6evZfLzRKayiHzBzLsPp2RWy+SKLK/ktz+dSemHL148P961W+OXfEyP9O67BI1urJRgccs69uOL+LWZ2R6MKFBXNqKi12mbrBUFArrA22avWIZ+N6JDdb26/Wku/2n7i9UphBUHAwsrmtXima0zxDPQlKlr5YW5/cmyAvl7tg15PtQSDATMbdM4tA5jZEND1tVEzKuoorrbZCR3eQRCQzhZWN3vZ7Vr/jeqQ3W9uf2y4j5mFzQHhvImB1b6D/QavTK6waXbu1GyadI0pnp5EjJjncWCwh2M/McFldojhpFI8zVBLMHg/8IPSTmQecDnwloaWKgL2W1GXK80fTy2SL/j0JGI8cnJ4XeUZtdU2o9zhnS/4q3n/PB7nlve+z2+jOmSrtexrze1fccmhqp3Yu01hFX2fs/OZ9ZurzK3UVBYPGDvQty69Mzk+wMQBpXhaacdg4Jz7kJl9DriM8N/xDc65hxtesja3n4q6XGmmswXmK//zlPbnrXz/KK22GaUO7yAISi3/cNavX5GnHtzne++30q6mWsu+1tz+XjqxgyDg3HKuNE4/zdxyjh+fWmB6Pl1TX8lAf2K1sj9S+j05lqS3RymedlPLaKJB4BeAxwIBcMjMPlrLaCIzuxS4GXivc+59ZnYI+HtgFHgIeKlzLmtmvwz8LmH66Xrn3If2/I2aaK8VdbnS3LiM7WI6T39fYvXxqKVb2r3Du1nLPey30q5mu5Z9rba7AqhM8VTm9jO54o7vm4h7TI5VtvTDET1DSvFERi1pohuBGeArQAx4BmFw+IXtXlQKItcDt1YcfhfwYefcDWb2buClZnYj8G7CK488cLeZfdw5t7TbLxMV5UqzsGGVw/L9H08tMRXBdEu7dXhXrvOfLfjrWv+NVI9Keyv1Gp5a9H2m59cmapUr/vmlnVNjHjA+0s/hsYF1i7CNH+gnphRPpNUSDIacc8+tuP+XZva1Gl6XBZ4LvLni2NXAa0u3bwZeD9wPfMM5dw7AzL4CPB34dA2fEUnlSjMRj1Go2NmovLBVvlCkf4uREu2YbqnsMO5NxElnC5uW421Gh3d5yGe+EJAvtHaTl0bOKdhNbr+c4qls5U/NpmtO8Qwmezg8nixV/OHs3EuOHmRpsT2u9KS+agkGJ8zsoHPuLICZTQI/3OlFzrkCUDCzysPDFemlM8Bh4AgwXfGc8vGOVe58Hkr2rOszGE6Gg717EltPhW+XdEvZxg7jTL6IB/T3xMgVgoZ1eK9V/Gs/7bbIWz3mFOxGOlvYVOlPzdWW4ulJxJgcS24asz+U3Dz5QLn+zlVLMDgK3G9m3ye8Snw08H0z+yKAc+4Zu/i8yutQj7APYuO1afl4VWNjA1XHRm+USg3vonj1dbc7w+fvfIDTM8scnhjk2iddyGV2iGemhhkZGeDWOx/gRw/Pk8v79PbE+YnzR7jmSRfy+Tsf4NTZzVmy8w4O1fX77Pe9vvEZtylw9SR6mZwY4ndefsW+3rtSsVTxhzt7+RQKRYJEjEQi/ANO1u2T1oyP77cbuTEKRZ/TM8s8PL3MyeklHjqzxMnppdpG8XhwaGyA81KDnJ8aCn8ODXFwJLmrFE+7npt20M7nZqeRWrUEg7cCOzcvarNoZgPOuRXC1v9J4BRQmUw9DNy23ZvMza3U9GGp1DDT04t7LOr+bGw1P3B6gQ998jjnrjrKpRdP8IjxJK98jm352ifaQW46vXnW5RV2sG7fpx7n5qGphS03XXlwanFP772uxV8MlyQo+P6ux/nv116WIq73JLMgCJhfWp/iOT27wtn5DH4NJ2S4tK5+ZWfuobGBzVedQcD8fG3/nyD6yzQ3Urufm3jM4/BE9WBVy9DS28zs0YQjgLyK41/dQ3k+AzwP+Efg+cAtwJ3AMTMbIQw6TwZ+Yw/v3Vb2M8wyKvML9tthvJrmKfrkC0WKxSCSG7rsd5JZOcVzera0AFtpolY2X3uKZ+OY/a1SPCLbqWVo6c3AEwhb8WUB8NM7vO5y4D3ARUDezF4IvBT4BzN7I+CAG5xzBTN7C/BFwoXw3t4Ji+Dtd5hlFOYX1DrxLmzxh63+tZZ/81v8jVLrJLNC0efMXHotr19ab3+hhglungcHR/o3bKwywNhwHzEN3ZQ6qCVNdL5z7pG7fWPn3DcJRw9ttOmYc+5GwiGsHaMVwyybvRTExiuYgyN9/PSlh3nU+aMspfNhrr/oR7bFX6uN+fogCCj6ASfPLnP73Q+vVvxn59M17WU8PNCzadXN1Giy6sACkXqoJRjcZWaPdM79uOGl6SDNXleo2UtBlFv5Fx0+wPkHhygWw6GcATC31Lylj1ttJZOnJxFjZiG7uuxyoeKq53N3bZ5vUNabiG0YwROmewb6leKR5qslGHwL+HczmwIKlEb7OOeONrRkEdfsvH+jloLw/aDUuvdXUz2dlOKpVb7gMz2f3tShu7iS3/G1MQ8mRpJru2mVfkaV4pE2Uksw+B3gWUDXr0e0W83M+9djKYhCMZyxW271F4p+TWmNTuIHAdPzadz9s+tm586cy9R0LmIxj4G+BBcdGebRF44xqRSPREQtweAbzrkvNrwksi+76aMoFH0y2QLLmTzFLm7tL2fy61fdLN3OFfwdX9vXE2dyvHLT9DDNoxSPRFUtwWDezG4j3O5ydVFy51zXL2PdakEQEARha/Ypj53kE186sW66XgBc9lMpzi1l8YNwTZpyZ64fj9eU4ugE+YLPmbm1mbnlALCYri3Fc3B0rdI/PJ7k8MQAo0N9WoCty22cW3L1FRdyJMIbT9USDKaB040uSDfygwACCAgr9bBlXrpNmK8vj0zxg/C+7wf4QfhT2ZI/PD7ItZdfwBfufojTs+nSsQGy+SLpGpYk6AR+EDC3kN206ubMQqamq56RwV4mxwe46LwRRgYSq6N4ymtGiZRtNbfk5jt+yDWXX9DUZUjqqZZJZ28prUd01Dn3NTNLlNYdkg3KFXXRDygWg7AlXqrAyy34cmu+URmZbCFg7EB/6bZflx222tFSevM2ilNzafI1pngqZ+aWO3XLC+y1+0xSab1GbWDUSrVMOnsF8PuEq5A+DvhzM/uuc+79jS5cK/l+uUVeUYEHpRZ6OT1TquiLQUDgt34sfSf+geYKxfUTtUppno17QWwl5nmkRtdP1Do8McDIYK9SPLIvjdrAqJVqSRO9Fng88KnS/TcRzhZu22AQBGHFXFw35jvA99da56tpl2At9VJZ4e9GIzY/34so/4H6fsDsQqYixZPm9NwKs+cyNQXZ0aHeTatuHhzpV4pHGqJRGxi1Ui3BYNk5ly4vRe2cy5hZS2uXheXchsp77XZlCqbgxZg919hlnxu1+fleROUPdHElt37T9NkVzsylyRd3TvH098bXLcB2ZHyQyfEk/b21/CmL1EejNjBqpVpHE70MSJrZZcCLCfccaJlMrtA249/bKTXTbn+guXyRqYoUT7nyX87s3OUUj3mkRpObcvtK8Ug72GoDo/2MJvI88DyPGOHv1fve+vueBx7l+6XXsnpj9Vf42NrzPM9jp/81tQSD1wBvB/qADwBfBl69y+/asdopNdPIHba24/sBM6UUT2XFP7eQrTnFs3HVzdRoP/GYUjzSPDEv7GeKxTw8zyMeC2+XK+Tw9lqVOvGYSZ7ymMnVbMTBiSHObrEPSUAQVtheuaIOK+lYRSXfDmoZTTRLuD2lbKHdUjON3GErCAKW0vkNQzfTnJlboVDcudpP9pVSPBs2TleKpzuVW7AbW7ywuYL01jd+Nz3gVVS0lffLr6p8u8rPKlfw9di/ub8vQd8W29VGRdX/hWZ2g3PuOjN7kPUjIT0g6Zw72PDSRUC7pWbqJZsvliZqrc/tr9SY4jk0Vjk7N8nhiUEODPS0TStI9ma1AmV9xbv2eEVlXEpzrFa4nkcstnUrW1pvuybZb5V+f48wLVTejtIj3JBGaF1qpl6KfsDMufUpnqnZFeYWa0vxjA33hRX+WDgzd7I0iqdbUjztMpKsHsoVdzwWIx7ziMfDCrucLonHPA4dHKKn29Yt6RLbBYNrS5vOXEjYT1DWjxatW2c3qZlWVR5BELC4srYWz9xyjgdOLXBmPl1jiiexadXNybGBSF8W71c7jCTzAC/mEfc8EvG1fHd5ePWm525IyazmxdVS73pVg4Fz7h/M7J+ADxLug1zms37XM6lRsyqPbK5Y2jpxhVMVuf10ducUTyLucWg0uWnM/rBSPJvsdyRZ5UiRckVcrszLj8H6fHi5hb7WAal/E6mPbXvunHNF4JXNKUrnq/cw1KIfcPZcet2qm6dLKZ5ajA/3bar0J0b6idehM60bbDeSzPMgEYuRiHvE47F1qZZ6dViK1FPXD+NoZtpmr8NQgyBgYSXP6Znltclac+FErWINEy4G+hKr+fzyypt29CArXbQjWb2FG9b0c/ZcZjXtAmErfrLUeS4SJU0NBmb268DLKw5dAdwOjLG2PPabSvsnN1yzc761DEPN5ArrZ+eW0j3p7M4rjybiHofGBtbl9ifHBxhObk7x9PcmWEHBYCvxmEdvYn1r3vPWWvTljtVrLr9gy61Nn/7481pQapH9aWowcM59kLAPAjN7OvAS4BLg551z880sCzR/9nB5GGo2Vwg3jPd9PDz6emL8/WccU3O1pXg8YOxA36ZN0ycO9G+Zftjq6ufJ44N1/37tzvMg7oVpm8qUzVonKsRjMVITg8T9nZfGaPbWpiKN1Mo00R8ArwBublUBmjF7OAgCzi3nVvP5vh8wu5itWF8/4MSpxaqvH+wPUzzliVqTpWGcvT21jeKpdvUzNNQf6Y04NvKAnkSMRGVFH9swtr0Bna3N3NpUpJFaEgzM7EnAw865h81sCHi/mZ0PfBd4o3Nu29XlDowkidU4jn18mxbw5MQg03Mrm44fGhvY9nXVpDMFHj67xMnpJR6eXuLhM0ucnF5mpYZRPDEPHjE5zPmpIc5LDXH+oSHOTw1yYHB/M5nv+eJ9JOKbK8Gv3XOSV/3S4/b13q0Uj3n09cTp7YnT2xOjJ1HfIa6p1HBd36+T6NxUF+Vz06org1cDN5RuvxO4DXgI+F+ES1+8e7sXL5xL17RQ3U6blBw7Os5n79z8+OOOjm/7ukLR5+y5DKdnwo7ccn5/fim3c6EIK7JyK7YnUfqJe7zmFx+7/nOyBWZrCCTbmZpZ3vJcnT2XbpsNXDwgHg8nO8Vi69dt2ThzFUozWn2PQtankM2zOZzvTyo1zPR09au1bqZzU10Uzs12wapVweAq4A0AzrmPlA+a2b8A/7FZhdhp9nAQBMwv5Tatujk9nwm3rNzBYLKHIxtW3bzjWw8zt0XQGD/QmLWMqnVaHxxJNuTzdhLzoCcRJxFfC4jac0Ck9ZoeDMzsAiBT2hchDvw/4PnOuXOEQeJ4M8tTnj2czhZWK/t/O3Hf6oiebH7nUTw9iVg4nLBydu74AEPJnk3PfdJjJpu6llG1tZOeeqzxI17iMW/16qdc+XfLMhUiUdOKK4MjlGYwO+eKZvYB4PNmliZMFb2tkR9eKPpMz6dLlf3y6mStc8s7p3g8DyYO9G8axTN2oK/mzslmr2VU7fMee3SibmmimMdqCz+s/MMgsN/ZscdPzJRG6qRJjSY1UkekgbwggotO/du/TwU79RkEQUAQj+NOzKxL85ytMcUznOxZt8zy4fEBDo0N0JPojJbtbjd9L1f44QJmsVKrfy3PX2/HT8xsOYb/BVcdbXhAiELut1V0bqrb6ty0W4MmlRqu+p+1I2Ygr2QK61fdnAv30K0lxdObiK0bsnl4IgwAg/2bUzzdopzX7+2JhZOv4rGmL2L25XtOVT2uqwOJgo0Nmqm59Or9dvwbjmQwuPvfpzm1OpInzUKNKZ6DI/2b8vpjw7WneDpJIh6jrydOPO6RiG1YO6cN1s2Znk9XOd7YPa1F6iVqDZpIBoOP3/6jbR8/MBCmeB553gijAz0cHh8gNZrsmBTPbnke9JQ6cnsTcXp6wquhWHHnK6dWSY0mmZrbHBBSHTRRTjpb1Bo0kQwGZb09sYrdtNYWYRsopXh2mxfvFImYR29PfHUOQxSHbl557MiWfQZXHjvSgtKI7F7UGjSRDAav/A/GwZEko12a4inzYLXSL6d3euKN6dBtNq37I1EXtQZNJIPBJReO1TQDuROV111Sk9gAAAzKSURBVODp703Q3xvviIq/Gq37I1EWtQZNJINBt0nES+vwlPL93Xw1JBIlUWrQKBi0ofLQzr6eOH29mrUrIo2nYNBi5UXaehJxeuIxenui2eErItGmYNACq2mfnji9if0v2yAisl8KBk3gedCrtI+ItDEFgwZJxDx6e+Oljl+1/kWkvSkY1Eki7oWjfRJh3l+tfxGJEgWDPVob7x+nrzeuyl9EIk3BoEblyj9s+Sv1IyKdRcFgG/HSGj99PWEA0GQvEelUXRUM7n1oftsdxtYme4WVf7uO92+3DTNEJPq6Jhjc+9D8ur2AZxayfPbOB+lJxDh2dKKtK/9KUdswQ0SioWuCwV0/OAOEY/5jnofnged5fPveszzlMYdbXLra7WbDDF1BiEitmhoMzOxy4Gbgh6VD3wX+EPh7YBR4CHipcy5bz8/tTcQ4t5wjEfc2dfq260YT1dS6YYauIERkN5qdFxkC/o9z7urSzxuAdwEfds49BbgfeOl+PyTmQbI3zthwH4dGk4wf6Ofw+MCWo3/adaOJalKjySrH13+P7a4gREQ2anYwGN7i2NXAJ0u3bwaevds39Qhb/0PJHiYO9HFobICRoT4G+ntW1/uvtqFEu240UU2t3yNqW+6JSGs1u89gCLjSzD4H9AJvA4adc+Wa6wywYwL/wEiSnkSc/t4EfaUlH6pt8pJKhfFnZDbN8EAv959ewAMeeeQAL7rmp7jMDtXhazXPM1PDjIwMcOudD3B6dpnD44Nc86QLN32PCyYPcOrs0qbXn3dwaPWclH/LZjo31encVBflc9PsYPAd4J3OuZvM7CeBWwkb9mUesOMeZokgIO775DM58hnYXOWFUqlhpqcX1+XPJw6E6ZTF5Rznzq0wPb24n+/TEo8YT/LK59i6Yxu/xxPtIDedXtj02ivsINPTi6vnRjbTualO56a6KJyb7YJVU9NEzrnvO+duKt3+IXAaGDKzgdJTDgMnd3qf3Q4B7cb8+aUXT/CCq44yOZYk5nlMjiV5wVVH1XksIltq9miiXwHGnHN/ZmaHgEngA8DzgH8Eng/cUu/P7db8eZS23BOR1mp2muifgY+Z2QuAHuB1wLeAfzSzNwIOuKHeH5oaTTI1tzkgRG0kURRoboNINDU1GDjnzgG/sMVDVzfyc688dmTdmPvK41I/mtsgEl1dMQO5XBGFLdYMqdF+tVgbYDezo0WkvXRFMIDW5c+7KW1S7pvJZAsspvMUij6JeIxsrtjikonITtp/ZbYIK6dNpubS+MFa2uT4iZlWF60hUqNJMtkCc4tZCgUfAigUfBZWch37nUU6hYJBA3XbkNYrjx1hMZ3fdHwo2dOx31mkUygYNFC3DWm99OIJhgd6SCRi4EEiEWN0uI9kX6Jjv7NIp+iaPoNW6MYhrY+cHO667yzSCXRl0ECdsjjebnTjdxbpBLoyaKBuHNLajd9ZpBMoGDRYNy4J0Y3fWSTqlCYSEREFAxERUTAQEREUDEREBAUDERFBwUBERFAwEBERFAxERAQFAxERoQUzkM3sHcAzCfdA/hPgGcBTgaXSU97lnLul2eUSEelmTQ0GZvYM4AnOuaea2ThwD/A54FXOuW83sywiIrKm2WmirwIvLt2eB3qBkSaXQURENvCCIGjJB5vZfwJ+GjgMZIFR4CHgDc652e1eWygUg0Qi3vhCioh0Fq/aAy1ZtdTMnge8GngWYf+Bc859z8zeDLwdeP12r5+bW6npc1KpYaanF/dZ2s6kc1Odzk11OjfVReHcpFLDVR9rRQfys4G3AD/rnJsHPlHx8CeB9ze7TCIi3a6pfQZmNgL8KfBc59xM6dg/m9lFpadcBRxvZplERKT5VwbXAWPADWZWPvbh0v0MsAj8apPLJCLS9ZoaDJxzfwP8zRYPfaSZ5RARkfU0A1lERLQHcrs4fmKmtIl8mtRoUpvIi0hTKRjsUT0r7+MnZrjpjvtW70/NpVfvKyCISDMoTbQH5cp7ai6NH6xV3sdPzOzp/b58z6ldHRcRqTddGezBdpX3Xlry0/PpKsczu34vkU6nlGpjKBjsQb0r79Rokqm5ze+ZGu3f0/uJdCqlVBtHaaI9SI0mqxzfW+V95bEjuzou0q2UUm0cXRnswZXHjqxrnVQe38pOl7Xl2+FzMqRG+3XpK7IFpVQbR8FgD3ZTedd6WXvpxROq/CNGuevmU0q1cRQM9qjWyrvenc3SHpS7bo3dXpVL7RQMGkyXtZ1JQb41lFJtHAWDBjp+YoZzyzmW0nkS8RhDyR6SfeEp12VttCnIt45Sqo2h0UQNUk4j9MRjEECh4DO/mCWdLQC6rI26eo8oE2k1BYMGKacR+vsSjA33kUjEwINC0ecFVx1VyybiNBxYOo3SRA1SmUbo70vQX0oPxTxPgaADKHctnUbBoEE0BK7zKXctnURpogZRGkFEokRXBg2iNIKIRImCQQMpjSAiUdE2wcDM3g5cA/QDr3HO3dXiIomIdI226DMws2cCT3TOPQ34FeBPW1wkEZGu0hbBAHgmcDOAc+44cJ6ZDbS2SCIi3aNd0kRHgO9U3J8GJoETWz15bGyARCJe0xunUsP7Llyn0rmpTuemOp2b6qJ8btolGOQ23PeAoNqT5+ZWanrTVGqY6enFfRSrc+ncVKdzU53OTXVRODfbBat2CQangEMV91PAVLUnp1LDXq1vHOVI3Wg6N9Xp3FSnc1NdlM9Nu/QZfBp4HoCZXQbc55zbellIERGpOy8IqmZjmsrM/gR4FlAAft05990WF0lEpGu0TTAQEZHWaZc0kYiItJCCgYiIKBiIiIiCgYiI0D7zDOpOC99VZ2bvIFwCpAf4E+fcjS0uUtswsyTwb8DbnXN/1+LitBUzewnwJsJJof/dOXdLi4vUcmY2BHwUGCOsa97mnPt0a0u1Nx15ZaCF76ozs2cAT3DOPRX4WeC9LS5Su/l9YKbVhWg3pUrvTcDTgJ8Hfqm1JWobrwScc+5q4IXAn7W0NPvQkcEALXy3na8CLy7dngd6zaxT/w52xcwuAR4NdH2LdwvPBm5xzmWccyedc69udYHaxFnWVk8YI1xXLZI6NU20q4XvuolzrgAsle6+CviUc85vYZHaybuB1xO29mS9RwCDZvZ/CZeLeatz7rYWl6kd3AD8upk5YBz4xRaXZ886tUW4q4XvupGZPQ94NfDbrS5LOzCzVwBfdM7d3+qytKk+4GLgRcCvAX+nK0oAXg782DlnwLXA9S0uz5516j/mrha+6zZm9mzgLcBznHPzrS5Pm/g54IVm9nXCK6b/bmbXtrhM7eQ08DXnXNE5dy+wABxscZnawVMJ11bDOfcd4Hwzi2TGJZKFrsGngT8G/koL361nZiOEHeo/45xTR2mJc+668m0z+wPgfufc51tXorbzeeADZvZuwsbVMGG+vNv9CLgCuMnMzgcWS6nYyOnIYOCc+6aZfcfM7qa08F2ry9RGriPs6LrBzMrHXuGce6B1RZJ255x72Mw+AdxOGAjeoL4mAN4PfMTM7gB6gde2uDx7poXqRESkY/sMRERkFxQMREREwUBERBQMREQEBQMREUHBQGSVmX3MzP6rmW27iquZvaSes2/N7AlmFtmZq9IZOnKegcg+nHbOvWiH57wN+DhQl3H2zrlvA2+ox3uJ7JWCgXQtM/OADwGPJZxJOlY6/pBz7gIzuw74L0CWcH2rXwNeAvwkcKuZ/TLwAsLlKzKln+ucc/Nm9iDwHsJlLi4CXuec+5yZPQr4S8K9JALgFcBPAH/knLvSzJ5CuKx4BkiWXnd3w0+GdD2liaSbPQsw4MmEi/Y9bsPjv0c40/ZK4DeBC5xzby09do1zbpawwn6ec+4q4MfAy0qPF4Gcc+5ZwB8SroYK8BfAn5fWv/8I4Rr4lQ4B/9k598zSc3+vHl9UZCe6MpBu9jjCxdcCYMnM/nXD4/8EfNTMPg580jl36xbvkQFuNDOf8ArgZMVjt5d+P0C4vDGEC5u9GKC8k5qZXV3xmjngj8ysBxgt3RdpOF0ZSDfzNtxf9//BOfdOwo2STgB/Y2ZvqnzczC4G3gG8uHRl8IkN75ev8lnb/b/7KPA/S+/31m2eJ1JXCgbSzb4HPNnMPDMbJmy1A2BmcTN7FzDvnPsA8C7g6aWHA8L00BjhKpWnzOwgYdqpb4fP/BrhrmGY2XVm9s4Nj48DrjRa6boa3k+kLhQMpJt9ljDP/6+EHclfpfR/wjlXBB4Gbjez24HfIFwWHeAzwFeAc8B3zOwbwF8T7p/8CjO7cpvP/C3gtaVVLl9D2Jlc6R3Ap4DPAX8LXGBmGmkkDadVS0VERFcGIiKiYCAiIigYiIgICgYiIoKCgYiIoGAgIiIoGIiICPD/Ac/BvsRYmxboAAAAAElFTkSuQmCC\n",
>>>>>>> origin/master
      "text/plain": [
       "Text(0, 0.5, 'Tiempo en minutos')"
      ]
     },
     "execution_count": 64,
     "metadata": {},
     "output_type": "execute_result"
    },
    {
     "data": {
      "image/png": "iVBORw0KGgoAAAANSUhEUgAAAYMAAAETCAYAAADUAmpRAAAABHNCSVQICAgIfAhkiAAAAAlwSFlzAAALEgAACxIB0t1+/AAAADl0RVh0U29mdHdhcmUAbWF0cGxvdGxpYiB2ZXJzaW9uIDMuMC4zLCBodHRwOi8vbWF0cGxvdGxpYi5vcmcvnQurowAAIABJREFUeJzt3Xl4ZGWV+PFvLVm7052ku3phkUXhgGCL0GyK0o6Ou6KMzqgjLoyK/mRkdNx3HR1HB3BEHccBEXV03BBFRwEXQMGFXWiVI2ADAt3pdJZOulOp9f7+eO+tVJKq5Capvc7nefrpqlt1b711k7zn3vNuEc/zMMYY096i9S6AMcaY+rNgYIwxxoKBMcYYCwbGGGOwYGCMMQYLBsYYY4B4vQvQTkSkA3gQuENVn120/RXA2wEPmALerKq3lDlGBLgMuEtVzy/znnOBN/rHuw94narunvOeQ/3X7vI3RYF9wH+o6rf893wEuFdVv7LAd/oA8DtV/f6CX36JROQFwNNV9c2VPG6Iz/WAhKruqeXnhiUiFwFP8Z8+FtgBJP3npwK/Brap6ngdilc3IrIVeJeqvngFx7gGeHmj/uyrzYJBbZ0J3AFsFZGjVfWPIiLAvwPHq+pOEXkO8F3gUXN3FpGjgc8BJzNTic99zwnA24DHq+peETkf+BfgnBJvT6rqcUX7HgL8TERyqnq5qn4gxHf6K+APId63JKp6JXBlpY/b7IqDo4jcD/z9nAuH4+bu0w78c7DsQOD760qUpVlZMKitNwLfwF2Rnwe8AUgBr1XVnf57bgE2iUinqqbn7P8m4BLc3UVJqnqriByhqhkR6QYOxF09LkpVH/Cv9N8OXC4ilwHbVfV8Efkw8CIgDYwAr8YFt63Av4tIDvg9Llj1AZtxge/vVHVaRKaBfwOe4b/2SVX9PICIvBt4FZAF7vGP/SLgxar6PBE5Bfgk0OXv+xNV/Ye55ReRtcCngccBHcDPgLeranahzy9FRDYBPwU+r6qf8/e/EHg6sBr4EPAS/7MeAZ6vqvtLnaein21Qxr8AR6rqLn/bb/3jTfqfEcPd1X1cVS8vV8Yy5S7c2YjIPwD/D3fXNwKcq6p3+z/XKb/sG3FBdwR4PrAJ9/v4c/99SVyA2QBcg7trzYjIk3EXMb3+d32fql5VojxH434m6/zvdZGqXioi24CPAX8GjsX9vM5R1Rvn7L8N+Djud16A/bif45v955er6lv8931WVY/1yz3hf7+DgTuBV6rqvrl3fsFz/7sAXOtfkK0BPuuX2wMuUNWviMhq4EvAEUAeuNUvdz7Ej6ehWZtBjYjIY3G38d8Gvgy8UkTWqer9qvp//nsiuMrgyhKBAFU9V1W/vthn+X+sLwQewqUUvrSEov4O90dUXPaDgX8CTlTVrbhK4WRV/RwueL1dVa8AXgd8WVVPAR4DHAY81z9MF7BHVZ+Iu4L7lIh0++mgVwOnquqxuMB17pwynQd8QFVPxqVGXuDfAc31KeBWVT0BeAKwHnjrQp9f5hwchAskH/e/Y7D/LlU9Cffzu8Q/J48F1gJnlDtPxQdW1b3AFcAr/HN7NK4Cvhr4MHChX/6zcXddyyIip+MC7JNV9Qm4YHpF0VuO94//FOCfgX3+ufk08K6i952Mu2J+rP/vHBFZB3wHOE9Vt/if8z8icticMsT9973L/06nA2/zg3tw7Av88n0J+NcyX+dE4N/8u9gJ4N2436vjgTeJyAEl9jkBeBZwNHAoLnCXpaqv8R8+FdiJC5Cf8b/fs4F/FZFTcYG+zy/Lif4+hy907GZhwaB23gj8UFVHVPVmXKX3+uBFEVkFfAtXib52pR+mqt9T1fW4K86rRSTszzpotyj2MC5I3Oanne5Q1e+V2PedwLCIvAP4PHAA7io6ELQr3IarXFfhrrS/rapjfrnfqqofm3PcVwH9IvIe4D+BnjnHDTwPV1ndgbtiO4nZga3U55fyI9wV6NzAG1yl34drs3nYvyLcAQwS/jxd4n8ngNcAl/rH+RbwORH5Gq4ye0+Z8oXxXNzv0q/88/FJYEBEBv3Xf6CqGf/uZD8QXNXf53+XwGWquk9VU8BXgGfiKvF7VfW3AKr6e+BGYNucMhwJPBq41C/D9bif3RP81x9Q1Tv8x7fN+dxiO1T19qLyXauqaf/qfqLMflepakpVM7iUarljl3Ik0K2q3/W/3yO4n/2zgBuAY0TkOlzQ/A9VvXcJx25YFgxqwK/ozwJOE5H7/VzvZuBcEekQkUcBvwJywFNX0vgnIo8RkdOKNl0KHAIMhDzEicxpj/ArqtNxV/AjuKvqT5bY939xAe4B3FX6bUCk6PWkf7xgQqwILjVUmCBLRPr9xu1ivwCeA9wNfARX6UaYLwa8RFWP86/cTmb2XUapzy/lHFwK4K1ztqeKHmfm7hT2PKnqL4G4iJwEvBz3M0JVv4ALXj/BVbp3LnD3spgY8NWic3E8LqU3VuK7lPw+vmzR4yjudzRIYzHntY4SZdgblMEvxynM3Kkmi97rUf7nEbasxRY6dgRARDrL7Fv2+6nqDlyQ/TgulfRTEXl+iPI0PAsGtfH3uMrhAFU9VFUPxd1arsZVBtcB31XVl6pqsuxRwtkMfENE1hd99nZVHVlsRxE5Eng/cMGc7Y8HtgN/VNWP4yr64BY5y0wl8EzgI6r6Tf/5ybg/rIX8FDhTRNb4zz9EUSUsIv3+Z73Tv1I7CPfHWOq4VwNvEZGIiHThbvXnppzC+DXuyv19InJs2J0WOU9zXQJ8BrhTVf/i7/8r4AmqehkuqPbjUkjLcTXwMhHZ7D9/Ay71tVR/JyJdflB6FfAD3Pk5yg9miMgxuHTTdXP2VSDp95YL0o3bcXc99TKMC4rg/vaK5XC/y3cDGRE5E8BPQ/0N8BMReSMumF2jqu/Enefja1HwarNgUBtvxOWCc8EG/+r/IlylcAjwIhG5o+jfOhHZ6t9eL6j4ff5V58eA6/xtLwVeWGbXnqLPuw3XZfXdQRtGUVl/h0th3CIit+Dy2UGFfSXwcRF5FS6tcYWI3AV8AZcWeMxCZVfVH+H+uG7099sEvHfOefo4LvWyHXdrfmOZ474Zl/q5C9doeBcuPbJkqqq4Xlj/s8AV5Nx9FjpPc30Z1zB7SdG2dwAfEZHbcRXrh1X1/mWW/xrgE7gK7E5cxXdm0V1RWFPAL3Hn8pfAl/z0zEuAz/g/s68Dr1HVP80pQxo4A3itX4ZrgPfPbSSusTfjUnG34doTdha99m3c76zg/mbO88v9U9xFzrW4VFkM+IOI3IprL7qohuWvmohNYW2MKaW4N1m9y2Kqz+4MjDHG2J2BMcYYuzMwxhiDBQNjjDE06XQUw8OToXNbAwO9jI3NHUNl7LyUZ+emPDs35TXDuUkk+sqN5Wj9O4N4fLFu7u3Jzkt5dm7Ks3NTXrOfm5YPBsYYYxZnwcAYY4wFA2OMMRYMjDHGYMHAGGMMTdq11Jhmt33HCDfcuZPh8SSJ/h5O27KZYw9bV+9imTZmwcCYGtu+Y4TLr/9z4fnQWLLw3AKCqRdLExlTYzfcuXNJ242pBQsGxtTY8Hjp9YuGx6drXBJjZlgwMKbGEv09ZbYvd4VLY1bOgoExNXbals1L2m5MLVgDsjE1FjQSu95E0yT6u603kak7CwbG1MGxh62zyt80FEsTGWOMsWBgjDHGgoExxhgsGBhjjMGCgTHGGKrcm0hETgY+oarbROQbwCb/pUOB36jqS0XkIuBJwKT/2hmqurea5TLGGDNb1YKBiLwDOAvYD6CqL/W3DwDXAm/x33o88ExV3VOtshhjjFlYNdNE9wFnltj+YeAzqrpTRKLAEcB/i8iNInJ2FctjjDGmjIjneVU7uIgcCnxDVU/xn2/A3RVsUdWciPQB5wEXAjH/tbNV9c6FjpvN5rx4PFa1chtjTIuKlHuh1iOQXwx8XVVz/vMp4NOqOgUgIj8HHg8sGAzGxqZCf2Ai0cfw8OTib2wzdl7Ks3NTnp2b8prh3CQSfWVfq3VvoqcDPy56fiRwg4jERKQDOA24rcZlMsaYtlfrYCBAYYknVf0j8DXgN8D1wFdU9fc1LpMxxrS9qrYZVMvw8GToQjfDrVs92Hkpz85NeXZuymuGc5NI9JVtM7BBZ8YYYywYGGOMsWBgjDEGCwbGGGOwlc5qavuOEX+pwySJ/h5b6tAY0zAsGNTI9h0jXH59oVctQ2PJwnMLCMaYerM0UY3ccOfOJW03xphasmBQI8PjyTLbp2tcEmOMmc+CQY0k+nvKbO+ucUmMMWY+CwY1ctqWzUvabowxtWQNyDUSNBK73kTTJPq7rTeRMaZhWDCooWMPW9fylb91nzWmOVkwMBVj3WeNaV7WZmAqxrrPGtO8LBiYirHus8Y0LwsGpmKs+6wxjSfveSRTWfbuSy34PgsGpmKs+6wxjSEIAGOTKYbHkuzdnyaVyS24jzUgm4qx7rPG1E/e80ilc0ync6QzOZa6hqUFA1NR7dB91phG4XkeqYwLAKn00gNAMQsGxhjTZNKZHMl0jlQ6S75Cy9hXNRiIyMnAJ1R1m4gcD/wAuMd/+fOq+k0ReR1wDpAFPqqqP6xmmYwxphndce8wv/ydG9A50NfF1qM2cMRB/RU7ftWCgYi8AzgL2O9vOh64UFUvKHrPJuDNwFagG7hBRH6iqgs3extjTBvI5fMkUznuvG8PP/rNg4XtIxMprr7pLwAVCwjVvDO4DzgT+Kr//ARAROQM3N3BPwEnATf6lX9KRO4FtgA3L3TggYFe4vFY6IIkEn1LL30bsPNSnp2b8uzclFeJc5PLe0ynskxNZ8llc3T2xLj93hHisci8997151FO3nJgqONGI/P3L1a1YKCql4vIoUWbbgIuUdVbReS9wAeBO4C9Re+ZBNYuduyxsanQ5Ugk+hgengz9/nZh56U8Ozfl2bkpbyXnxvM8phfoCTQ0sr9k28Cukf2Mju6f/0IJ0QhsXr+q7Ou1bEC+QlXHg8fAZ4BfAMWhtA8Yn7ujaQ02iZ0xMzzPI53JM53OMp3J4S3QEDzQ18XIxPzs+UBfV8XKU8tBZ1eLyEn+46cBt+LuFp4sIt0ishY4GthewzKZGgkmsRsaS5L3Ziax275jpN5FM6Zm8nk3GGx8X4rd40nG9qVIphcOBABbj9qwpO3LUcs7gzcCnxWRNLALeL2qTojIRcAvcYHpvapqE9m0oIUmsbO7A9PKsrl8If2TzuaXdYygkfiWu3czNplqrt5EAKp6P3CK//g24Ikl3nMxcHE1y2Hqzyaxax2W7luY53mks3lS6RypTI5chQYCHHFQf0Ur/7ls0JmpiUR/D0Nj8wOCTWLXXG7T3bZmRQn5vMfUdIaxyRTp7OJpn0ZkE9WZmrBJ7FrDT296sOT2dlyzIpfPMzWdYXRi2uX/J1OkFmkIbmR2Z2Bqwiaxaw27Rkp3Y2yXdF8+77neP+nl5/8blQUDUzM2iV3z27RuFQ/umpi3vZXTfS4A5JhOZ1suABSzNJExJrSnn/SokttbLd3n2gCyhRTQxFS6pQMB2J2BMWYJjpcN7D398IZL91Wih9NK1wNodhYMjDFL0mjpvmBAY2ApPZzaPQAUs2BgjGlqSx3QaAGgtFDBQEQ6VTUtIo8BBPixqrZ2As0Y0xTCDGhcbCI4EyIYiMgHgKNF5J24ieX+ADwDOK/KZTPGmEWVG9C4fm1XoRvoSpeEbAdhehOdAZwNvBz4H1V9OvCkqpbKGGNCKu7J5Hke+bxHNpfn2MPXMb4vzbQFglDCBIOoqiaB5wE/EpEoUH5SbGOMqaFjDh3k+U88hIHVneTz0L+6k2eceHBV5/FpRWHaDH4mItuBKVya6HrgyqqWyhhjFjB3LYAD1q/mb//qiHoXq6ktemegqm8DngOc4jca/6OqvrPqJTPGmDky2TwT+9MML2EtABPOosFARBLA+cBuERkHPigiG6teMmOMYWZCuJG904xMTDOVypZcAtKsTJg2gy/gViQ7HDgU+DXwxSqWyRjT5rK5PPuSLgAMj08zMZUhk7Pe7NUUps3gcFU9s+j5J0XkrGoVyBjTnoIVwabTWbI5u/SvtTB3Bp6IHBw8EZFHAZnqFckY0y6CRWFG9k6zZ+80+5IZCwR1EubO4P3Ar0Xkt0AEOBl4fVVLZYxpWcF0EMlUlkw2b2MAGsSiwUBVfygixwMn4u4k3gCMhzm4iJwMfEJVt4nIccBngByQAl6pqkMichFuENukv9sZqrp36V/FGNOosrk8qYwbCWwBoDGFmY7i16p6KvB//vMo8DvgcYvs9w7gLCBYGunTuG6pd4jIOcA7gbcCxwPPVNU9y/4WxpiGk8nmCvMBVWpReFM9ZYOBiPwc2OY/zkMhmOcIN+jsPuBM4Kv+85eqajC9YByY9gPLEcB/+91Vv6iqly71Sxhj6s/zPNLZPKl0jlTGAkCziXiLjNgQkU+r6rImpRORQ4FvqOopRdueiOua+hRgGjfh3YVADLgWOFtV71zouNlszovHY8spkjGmgnJ5j5Q/Gdx0OmsDwBpYNBJh8/pVkXKvh2lAvk1EXjl3o6p+ZamFEZG/A94LPFdVh0UkBnxaVaf8138OPB5YMBiMjU2F/sxEoo/h4cnF39hm7LyUZ+emvESij0d27p3J/1vf/4LBwVWMju5f/I11Eo3A5vXlp5ULEwy2FT3uAJ6Mm6NoScFARF4BnANsU9VRf/ORwDf8BuoocBrw5aUc15gwKrEsYrsKev+kMzly0SgjE9OL72SaTpjeRK8pfi4ig8A3l/Ih/h3ARcCDwHdFBOB6Vf2giHwN+A1u7MJXVPX3Szm2MYtZybKI7apc758eawdoStlcnvHJFMcs8J7lLHu5DzctxaJU9X4gaC8YLPOeTwKfXEY5jAllqcsitqtMNkfKnwnUBn41J8/zGN+XYtdokqHRKXb5//aMT5P3PJ568qFl9w3TtfRaZnoSRXBzFP2oEgU3phbCLIvYjgrTQGdc75+8XfU3lanpLLtGpwqV/tDYFEOjSVKZ3LKOF+bO4ENFjz1gj6r+YVmfZkwdlFsWMdHfXYfS1FcunyeVdimgdNamf24G2Vye3WPJWZX+rtEkE/vTi+4bicD6td1sHOxl82Dvgu8N02ZwvYgcg0vzRID1IvIUVf1FyO9iTF2dtmXzrDaD4u3tIJN1qZ9UJmfpnwaW9zzGJ1N+pZ8spHhG9iZDTdnd19vBpsFeNg72ssn/l+jvoSPupqCLlu1U6oRJE30WeAHwZ2bSRR7wV4sXz5j6C9oFXG+iaRL93S3dm8gGfzW+qemMX9nPvuJPZxbvqtvZEWXjQG9Rxd/DpsFeers7VlSmMGmiZwLir4NsTFM69rB1LVv5g5v9M5VxUz9Y+qdxZLJ5hseTs3L7u0anmJxafOLnaATW9/cUKv5Ngz1sHOylv6+LaGSRy/xlCBMM/oxLDxljGkg6kyvcAdjgr/rKex7D40n0/tFChT80OsXI3ulQKZ41qzpdZR9U/OtciiceC7PKQGWECQajwB9E5Fe46SMAUNWzq1YqY8w8mWy+0P3Trv7rZ18yM5Pa8f/fPZYknV08IHd1xNjop3WC3P7GgV56u5fTy7+ywpTgKv+fMWYFljIKOpfPk87kyebyZLLuf0v911Ymm2f3WFDpzzTo7kuGSfFEWN/fXWjIDSr+/tWdRKqQ4qmEhWYt3aSqu3CTxxljVmCxUdCFKR+yeTftg9X8NZP3PMYmUuws7rM/OsXIxHSou6+1qzrZNNjLoQeuZW1PBxsHe2qe4qmEhe4MLgGeB1yP6z1UHM483OAzY0wIpUZBe57Htbc9zObBVZbzr5F9ycxMemdkil1jLsWTCZnicVf5s9M8PV2uGm30ieoWUzYYqOrz/P8Pq11xjGlNw+NJPM/D81wQCC78h8eTDREI7nlonFvu3s3YZIqBvi62HrWBIw7qb9oypLM5do8W9eLxB2rtD5HiiUUjJPp75lX6a1c1boqnEsKMMxDcmscDxdutAbk2bLbN5hX0909ncqxZ1Vly+ouBvq46lGy2ex4a5+qb/lJ4PjKRKjyvVUBYbhnyeY/RiemiHjxJdo1NMbp3OtTSmv2rO2cacv3/16/tbroUTyWEaUC+AvgGi6wx0I6qXVHbbJvNp9x0D8cfmZhV2QW2HrWhpuUrdfV9y927S773lrt31ywYLFYGz/P8XjzJeb14wtxZdXfGZo3MDdI93Z3178XTKMKciXFV/UjVS9JkalFR22ybzSGTzS+62EtQqdYzFVPu6juVydLVMb8qGJtM1axsxZ+V9zyy2TyZXJ6J/Sku+eEfGBqdYv90dtHjBCme4tz+psFe1rR4iqcSwgSDy0TkY8DPgMJPo93nJqpFRW2zbTamoLtnOpMjlc2Hnu3ziIP6V1z5rySvXu7qO5vN01ViJoNqp7DyeY8RP8WTzuSYmMqQyebn9aTal5wouX//6k42Da4qjMzdNNjL+v5uYtH2S/FUQphg8ETgSf7/gbafm6gWFbXNttkYilf6Clv5V6NBdqW5/XJX+uXWE69UCsvzPCbnDdRKsntsKtTEeT1dfopnoGiglqV4Ki7M2TxeVY+oekmaTC0q6macbbMVGrwz2TzJVNYf8esGfC2l13+1GmRXmtsf6OtiZGJ+QDhgXW+h7WClwSuVybmBWiMzM28OjU0xFSLFE41G6IxHiUbc9AyPO3wdx8sG1vR2WIqnBsIEg9+LyBZVtQbkIiutqINK84GhSTLZPB3xKIds7JtVeTbbbJvN2uAdLPKS8hd5SRNhb4i54supVoNsuSv7sLn9rUdtKNuIvdQUVi7vMbJ3evbiKqNTjIYsy0Bf16xZNzf6vXgsxVM/YYLBUcDtIrITSOMGn3mq2taDzlZSUQeVZjKVZbz4j8ejcLdRHBAauSIt1iwN3nnPK+T8g6v/So73XWmlXU65K/uwuf3lNGJ7nsfElEvxDI1OMbY/zQM7JxgeT4ZM8cQLlf1mv/LfONBLV2fp1JSpnzDB4IVVL0WTWm5FHVSac+c4mUxm6O6KF15vtnRLIzZ4e57nN/i6/9PZ6i/wstJKu5yFruzDWugOIJXO+atozc7tJ1OLp3jisQgb+nvm9dnvsxRP0wiz0tkDyz24iJwMfEJVt4nIY4DLcI3P24E3qWpeRF4HnIPrqfRRVf3hcj+vWQSVZnZON8Tg+QND+xhqwnRLIzR4F1I+WdfgW4+VvSpRaZdSqe6pubzHnr3JmRW1RlxeP8ydSwQYWNM1e9bNwV7WrekmtthSWqahVa05XkTeAZwFBJN1XAi8T1WvE5H/As4QkV8Dbwa2At3ADSLyE1WtXQfnOggqzXgsSrZoTpRg1GMmm6O7xG10o6VbYHaDcWc8RjKVLczVEqhmg3fe88j4UzpXI+WzHNUcU7CU3L7neUzsT8+adXPIn4snzER4vd3xecsoHnX4evbvs67NraiafbPuA84Evuo/PwE36R3Aj4FnADngRr/yT4nIvcAW4OYqlqvugsbn1T0ds9oM+npcZ+9gzdK5Gm18wdwG4+lMjgjQ3RElnfWq0uBdPMVDMMVzvSv/UioxpmApptPZWdMsB4260+ncovvGYxE2DMwembtpsJfVPfNTPF2dMZp3KjazkDBzE8VxS18OUjRzqap+ZaH9VPVyETm0aFNEVYO/20lgLbAG2Fv0nmD7ggYGesv2jS4lkegL/d5Kuk1389ObHmTXyH42rVvF0096FMfLBp6a6GPt2l5+dtOD3PfwOOlMns6OGI8+cC1PO+lR/PSmB9m5Z9+84x2wfnVFv8tKj3XzVTovcHXEO9m4bjVvP2vrio4d8Dy3nGM641b0ymZzRDqidHXEqeaQqMHBVVU8+vLlcnl2jU7xyPA+Hh7ex8O79/Hw8H5GJxa/UIgA6wd6ODCxmgMTqzkgsYoDE6vZMNBLdAkpnkY9N42gkc/NYktlhrkz+DpwCPBHKFyEecCCwaCE4gR5HzAOTPiP525f0NjYVOgPTST6GB6eDP3+Spl71fzgrgkuvXI7e08/nGMPW8fBgz28+llSct8TZT2X75o/6nKrrK/Yd6nEeXloaKLkgit/GZpc9rG9oKdPUW+fWl/5L2cq4koPMvM8j73707PWzR0aTTI8Hi7Fs6qnwy2UXjRQa8NAD50d8y+ixsfD/z01+zTN1dTo5yYagc3rywerMMFgi6oeVYGy3C4i21T1OuDZuEVzbgI+JiLdQBdwNK5xuemtpJtls4wvWGmDsed55PJeYWBXNuc15XKOKx1kNp3Ozp5100/zhEnxdMSibJhT6W8c7KGvt3P5X8i0pTDB4I8isllVS9du4f0zcLGIdOLuMr6jqjkRuQj4JRAF3quqjZUYX6aVdrNshvEFYQfeBROPZXOeX+m7+Wfyea8h8/1LFXaQWTaXZ3g8OW/mzTAD3CIRWLem2++n31NYNH2wr3tJKR5jygkTDHoBFZHtQKEmU9VF5yZS1fuBU/zHfwJOL/Gei4GLQ5a3adSjm2Wtp4IodQdz6rGbePQBa5mYSrsA4Ff6rWxul8zgjueRPfu57vaHCxX/8Pg0+RC3Pat7OubNurlhoLdsxwJjKiFMMPjXqpeiBdV6XqF6TAXheR5HHtTPYZvXkM7kyWRz5D1WNJVDs0mmsnTGo4xMpMgULV4f1PnX3Dx/vEGgIx4tXOUX99lf3VNiClFjqizMoLPrReRJwOOAS4FT2n366jBqnfev9FQQwRKNef8qN5/33OOce57zUz2tfc0/I0jxFI/MHVpiimdun/2BNV2L9vAwplbCdC09DzclxYHAt4EviMgXVfX8aheu2dUy7x+mjcJNzeDy9pNTaSan0rPW5M3nPXKeh9dGlfxcnuexZzyJPjDmz7zpBmrtCZniiUYj9HbFOGTTGo4+ZICNg71s6O+xFI9peGHSRK8GTgZ+q6ojInIirheQBYM6Kr5yz+c9Bvu62D0erPvqFToBD6ztZmTvdOEKPxDr6gi1clQrm5rOzp51c8z15kllFu/F0xmPusbcolk3Nw5Yisc0rzDBIKeqaZFCn/hp3MhhU2FBw2Nxb5vgit1dvbvnQSAotuUx60vOh/OEIxOh1ohtZZns7BSPm4wtyUSd0APwAAAYwklEQVTIFM/6td3z1s/t77MUT7ubO7Zk29ZHsbmJF54KEwyuF5HzgVUi8kLg9bglMFtGULl6+P97ADMVcXD1HVTOxe+fOcgCx1/kLZ472IpSM0EXxutue4hdoy5ltGmwdwVHbD55z2N8MjVv1s2RvcmSg+PmWtPbwcbBXg49YC1re12PnoSleEwJpcaWfP/6e3naCQfVdBqSSgoTDN4OvA74HfBK4EfAf1WzUCvlFTV6Tk1n2JfMuHy4vy3neRWpgBtRKusxsKbbf5yvyApbjWhqOuNX+slZaZ50ZvG7oK6OGBsHe9g40DtrgZXebpfiafSRpKb+qrWAUT2F6U2UB77g/2sIQQ48EoEIEXeF7tfqQSqloCM+b92AVtWKv6CZbJ7d48k56+dOMTm1+M80GoH1/TOV/qbBHjat66V/dZfNsW9WpFoLGNVTU64onfOKBzLV/9q+GoufL0cz/4LmPY+xibkpnilGJqZDTU+xdlXnrMbcIMUTTAtuTCVVawGjemrKYNBIqrX4+XI0yy/ovmRm3pX+0FiSTDZ8imdun/25aygYU02VXMAoEoFIJELEfxyNRIhGI7O2BXeybuaRiL9t9n5zjlrYFmRQWORmONRfkIgcC2zz33+dqt4R7mu2vkZKzVRrha3lSmdzDI8l503CFiZtF41EWN/fXTTHvt+LZ3WnpXhM1QWV8sz/kcL2SCTC4x+9nq6OGL/9wxAjEynWr+3iGacexkEDPTMVtV8BF1fgxcdwlXjj/C6HGXR2FvAh4Pu42HKFiPyLql5a5bI1hUZKzVRzha2F5PMeo5PTsxpzd41OMbqEFM/sKRl6LMXThvw6c6aiDJ4XroSLKmT850WPI4WL30i4CnnupXLxcUM46eiNnHT0xsLzek2XXylh7gz+GThJVUcARORjwHW4qSnaXqOlZqq9wta+pN+LZ8RP8YxNsXs0GWosQ1dHbPYEbOvcQC1L8TSfoHKOMlMRR6ORQoojOiu1MVM5N8MVcrsK81cYCwIBgKruEZH2HsVUpNFSM5WSzubYXTzVsj9Qa3+IFE8sGiHR3zMvt792laV4qiECRKIRYn5FPJcXcoGISMSvxP1KPRadXbFHIrBh3So6G6DThqm8MMHgdyLyH8AX/ef/gBtzYKhfaqZS8nmPkYnp2Y25o0mX4gmxf//qzlkNuRsHe1m/trttUjzV7EkWVPLRCMSiUaJRV0HHiq7Agwq7VmzthNYVJhi8DtdmcCnu9/Na4P9VsUxNZympmXp1Q/U8r5DiGRpNMrY/zYM7JxgamyKbW7za7+6MzevBs3Gwh+7O9k3xhO1JFoFZFXchnRKkWiIzOfHihku7izK1FGbQWVJELsBNTpcBfqmqzdtKUke16oaazuQYGpvdmLtrdIqpEBPTBSme4gp/02AvayzFUxCJQDwa5fZ7hl3DZJAL91+/8749nHT0xllX8MY0ujC9iV6Bm6H0BiAGfF5EXqeqP6p24VpNpbuh5vwUz9w++2MTqVApnoG+Ln907sxArfX93cSi7ZHimSu4gu+Mx+jyF46PRoKr+iixWIR4LFI4P3v3pYmVSIeNTqQL+xvTLMLc478POEFVHwYQkUOAH+DmKGp6tUzbLLcbqud5TAYDtUZmKv7d48lQKZ6erpir7AdmevAc9ej1JPc3/sjkSopE8HPufsUejcyq6INZSBMDPZBd/C6qHkubGlMtYYLBJFBYRktVHxCRlljXsNajh8N0Q01lcm6aZX8StqDin0qFS/FsKLGM4prejnkpnp6ueEsGgwh+hR8LKvwo8ViEeCxa8XRNrZc2NaaawgSDm4EficiXgCzwt8BOEXklgKp+JeyHicircYvlAHQDxwFPxN1p3ONv/7yqfjPsMVei1qOHg26oqXSWfckMuXyeCBG6OqJ89Wp1KZ6Qg9UG+rpmzbi5aXAV69Z2EytR4ZW6+zl5cFWlv17Vzbqyj0aIxWZ610QiMw2ztVLrpU2NqaYwwaAHd2fwLP/5lP/vqbhZ4kIHA1W9DLgMQEQ+h+uhdDxwoapeEPY4lVKL0cOe5zExNTMXj+d5jE6mikbmeuzYWb49vrcrXtSDZ2ZFra7OcDnpcnc/q1d3N+RCHBEgFovQEY8R91M3QZ6+ERtia7m0qTHVFAk7IKWSRGQrcL6qbhORzwOCC0z3AP+0WG+lh4YmvEgFGjkv/t5dDI9Nzdu+YaCX177wcUs+3nQqyyN79vPw8D4e3r3P/T+8L1QvnkgEDt7QxwGJ1RyYWMWBG1ZzYGL1invxVPo7VkoEiMejdMSjxGPBP5fOsV5LxlRN2T+uML2JXgy8Gxgo3q6qh6+gQO8BPuw/vgm4RFVvFZH3Ah8E3rbQznsnpoumsF7YQguVbDl8kKtvmv/a4w4fXHBxk1w+z57x4oFaSYbGwqd4YtFIoRIM/u+MR3jDGcfM/px0lrH0ytYpHhrZX3KVrz17kzVdwCXuf+eOogAQyXpkszkabSXmZp9jpprs3JTXDOcmkegr+1qYNNEFwFnAA5UojIj0A0ep6rX+pitUdTx4DHymEp8TxmKjhz3PY+/+9KyRubtGpxgeT85aXL6c3u74rHVzNw728os7HmZs3/z298E11ZnLqFyj9fq1PVX5vGg0QkfRVX4sWp3GW2NMZYUJBvcCN/grnlXCU4CfFj2/WkT+UVVvAp4G3FqhzwklGD08nc4WKvvv37CjEACm07lFjxGPRdg4MHvWzU2Dvazumd+L56THbqzpXEbl5k46dcsBKz52NAId8Zi72vfvcqzSN6Y5hb0zuFZEroeZO3pV/cgyP1OA4v54bwQ+63dX3QW8fpnHDSWXzzM8Pj1rdO7Q6BTjJa7W54oAg2u6Z8+8OdjL4Jru0JVgrecyKvd5xxy+bllpos54lM4ONyir2gvFb98x4vfUSZLo77GeOsZUUdhBZ3cDORZdK2dxqvrvc57fhuteWlFBiufh0ST3PjjKzpEpdo8lQ6d4VvV0uC6bRVf8GwZ66KzAyNJqTzNdyc+LxyKu8o/H6OiI1qzr5vYdI7P68A+NJQvPLSCYZtFMFzRhgkGHqp5d9ZKsQDKVZWiseHSua9ANk+LpiEfZONAza5DWxoEe+no7a1DyxhONRujyr/47O6J1m5rihjt3lt3eqH9MxhRrtguaMMHgJyJyLnAVUMilqOqDVSvVIu64Z5hH9szMxbN3f4gUTwTWremeVelvGuxhsC98iqcVRSO4ij/uKv9GmXp6eHz+NA9u+3SNS2LM8jTbBU2YYPAy//9/LtrmASvpWroi3/jZvQu+vrqno5DXf/TBA/R1xdgw0Fv1HHczCLq1rl3VSSSba9hzYvP+mGbXbBc0YaawPqwWBVmOzni05Fw8q3s6Cu9ZaJxBq4tEoLNMb5/VvZ0NPTeRzftjml2zXdCEGXQ2AHwSeDTwYtx01m8tGhtQc69+9lGsW9vNQF9XTeeiaQbRCHR1xunujNEZb97RvDbvj2l2zXZBEyZNdDFwDXASsA83T9HXgOdWsVwLOuqQgdAjkNtBPBahy+/uWYneTo3C5v0xzazZLmjCBIPDVPW/ReSNqpoG3isitgZyHTVKjx9jzMKa6YImTDDIishaXKMxInIEUKnRyCaERu3xY4xpHWGCwQeB64BHicj3gFOBhh530OyiUZf26Sya1M0YY6opTG+iq0TkFuBk3BrI56jqUNVL1kYiuMFvtZrmwRhj5iobDETk9X5bwQfmvHSciKxkbiKD6+/f1Vn7aR6MMaaUhe4MInP+NysUj0bo7nLdPi31Y4xpJAsFg2kAVf3wAu8xi4hGI3R3xujpjNERb51un8aY1rJQMDgP+HKtCtJKotEI3R0xN/Crhfr9G2NaV5jeRGYRwXw/wVz/lgIyxjSbhYLBMSIyfyy1a0PwVrgGctMKVvfq7HDz/cTj1vhrjGl+CwWDe4Hn1KogtXDPQ+NLXmEs6PbZ1em6fTbCVX8zLZhhjGkOCwWDtKo+ULOSVNk9D43PWgt4ZCJVeD43IEQjFOb56eqMNdSVf7MtmGGMaQ4LBYMba1aKGrjl7t1ltx9xUD/xoN9/g0/2tpQFM+wOwhgTVtlgoKrnVuMDReR2YK//dAfwMeAy3NxH24E3qWrF5z4am5w/d38kAnv3Z1i/trsh0j9hhF0ww+4gjDFLUdMaUES6AVR1m//vNcCFwPtU9cm4FP0Z1fjsgb4uwAWAaDRCPBYhHouyabCnaQIBuAUzSm+fvWDGQncQxhgzV61rwccDvSJyjYj8XEROAU4Arvdf/zHw9Ep+YAS3ItppWzYXAkAsGiks+tKoC02UU668c7c325J7xpj6qvU4gyncSmmXAEfgKv+IqgYr1UwCaxc7yNo13UQWmMO/I+Z6/3R3xemMRzkgsZr9WY81q7q4f9cEEeCQzWt4ydOO5HjZsOIvVUtPTfSxdm0vP7vpQXaN7mfT4CqedtKj5n2PgzauYeeeffP2P2D9ahKJPoDC/2Y+Ozfl2bkpr5nPTa2DwZ+Ae/3K/08iMoK7Mwj0AYsup7l3YnreSmed8Sjdna73TwSPdDJHOpkmkejj2pvuL+TL161x6ZTJ/Wn27p1ieHiyMt+shg4e7OHVz5JZ2+Z+jxNlPZfvmpi371ZZz/DwJIlEX1N+91qwc1OenZvymuHcLBSsap0mOhu4AEBEDgDWANeIyDb/9WcDvwxzoCD909fbQaK/m8E13fR2d5Rc9asd8+fHHraOvzn9cDYO9BCNRNg40MPfnH64NR4bY0qq9Z3BF4HLROQGXO+hs4E9wMUi0gn8EfjOYgdZu6qTjiWM/G3X/HkzLblnjKmvmgYDfw3ll5d46fSlHKdrieMAEv09DI3NDwhze+CYlbOxDcY0p+bpU7kCYXvgmJUJxjYMjSXJezNjG7bvGKl30Ywxi2iLWUuDK1N3xTpNor/brlirYCmjo40xjaUtggHUL3/eTmmToG1mOpVlMpkhm8sTj0VJpXN1LpkxZjFtkSaql3ZLmyT6e5hOZRmbTJHN5sGDbDbPxFS6Zb+zMa3CgkEVtVuX1tO2bGYymZm3fXVPR8t+Z2NahQWDKmq3Lq3HHraOvt4O4vEoRCAej9Lf10VPV7xlv7MxraJt2gzqoR27tB6ysa/tvrMxrcDuDKqoHbu0tuN3NqYV2J1BFbVjl9Z2/M7GtAILBlXWjlNCtON3NqbZWZrIGGOMBQNjjDEWDIwxxmDBwBhjDBYMjDHGYMHAGGMMFgyMMcZgwcAYYwwWDIwxxmDBwBhjDDWejkJEOoBLgUOBLuCjwEPAD4B7/Ld9XlW/WctyGWNMu6v13ESvAEZU9SwRWQfcDnwEuFBVL6hxWYwxxvginufV7MNEZDUQUdVJPxjcDFwNCC4w3QP8k6pOLnScbDbnxeOxqpfXGGNaTKTsC7UMBgER6QOuBC7GpYvuVNVbReS9wICqvm2h/YeHJ0MXOpHoY3h4wdjSluy8lGfnpjw7N+U1w7lJJPrKBoOaNyCLyMHAtcBXVfXrwBWqeqv/8hXAE2pdJmOMaXc1DQYishG4Bninql7qb75aRE7yHz8NuLXkzsYYY6qm1g3I7wEGgPeLyPv9bW8F/kNE0sAu4PU1LpMxxrS9mgYDVT0POK/ES0+sZTmMMcbMZoPOjDHG2BrIjWL7jhF/Efkkif4eW0TeGFNTFgyWqZKV9/YdI1x+/Z8Lz4fGkoXnFhCMMbVgaaJlCCrvobEkeW+m8t6+Y2RZx7vhzp1L2m6MMZVmdwbLsFDlvZwr+eHxZJnt00s+ljGtzlKq1WHBYBkqXXkn+nsYGpt/zER/97KOZ0yrspRq9ViaaBkS/T1lti+v8j5ty+YlbTemXVlKtXrszmAZTtuyedbVSfH2Uha7rQ0eu/dMk+jvtltfY0qwlGr1WDBYhqVU3mFva489bJ1V/k3Gcte1ZynV6rFgsExhK+9KNzabxmC56/pY6l25Cc+CQZXZbW1rsiBfH5ZSrR4LBlW0fccIe/en2ZfMEI9FWd3TQU+XO+V2W9vcLMjXj6VUq8N6E1VJkEboiEXBg2w2z/hkimQqC9htbbOrdI8yY+rNgkGVBGmE7q44A31dxONRiEA2l+dvTj/crmyanHUHNq3G0kRVUpxG6O6K0+2nh6KRiAWCFmC5a9NqLBhUiXWBa32WuzatxNJEVWJpBGNMM7E7gyqxNIIxpplYMKgiSyMYY5pFQwQDEYkC/wk8HkgBr1XVe+tbKmOMaR+N0mbwQqBbVU8F3gVcUOfyGGNMW2mUYHAacBWAqv4G2Frf4hhjTHtpiDQRsAbYW/Q8JyJxVc2WevPAQC/xeCz0wROJvhUWrzXZeSnPzk15dm7Ka+Zz0yjBYAIoPovRcoEAYGxsKvSBE4k+hocnV1C01mTnpTw7N+XZuSmvGc7NQsGqUYLBjcDzgW+JyCnAXQu9OZHoiyzl4M0cravJzkt5dm7Ks3NTXjOfm0YJBlcAfy0ivwIiwGvqXB5jjGkrEc/z6l0GY4wxddYovYmMMcbUkQUDY4wxFgyMMcZYMDDGGIMFA2OMMTRO19KKsonvyhORDuBS4FCgC/ioql5Z10I1EBHZANwK/LWq3l3v8jQKEXk38AKgE/hPVf1inYvUEPy/py/j/p5ywOua9femVe8MbOK78l4BjKjqk4FnA5+tc3kahv+H/QVg/hJ1bUxEtgFPBJ4EnA4cXNcCNZbnAHFVfSLwEeBjdS7PsrVqMLCJ78r7NvD+oudlp/1oQ+cD/wU8Uu+CNJhn4mYFuAL4AfDD+hanofwJiPvZiDVAps7lWbZWDQYlJ76rV2EaiaruU9VJEekDvgO8r95lagQi8mpgWFWvrndZGtB63AXVS4A3AF8TkSVNCdPC9uFSRHcDFwMX1bU0K9CqwWBJE9+1GxE5GLgW+Kqqfr3e5WkQZ+OmRLkOOA74iohsqm+RGsYIcLWqplVVgWkgUecyNYq34M7Nkbg2yi+LSHedy7QsrXq1vKSJ79qJiGwErgHOVdWf1bs8jUJVnxI89gPCG1R1V/1K1FBuAM4TkQuBzcAqXIAwMMZMamgU6ADCz6/fQFo1GNjEd+W9BxgA3i8iQdvBs1XVGk1NSar6QxF5CnATLpvwJlXN1blYjeJTwKUi8ktcT6v3qOr+OpdpWWyiOmOMMS3bZmCMMWYJLBgYY4yxYGCMMcaCgTHGGCwYGGOMoXW7lpoWJCKH4ob//8Hf1AP8CniXqg6JyFbc+IDXltn/MOB9qvoPFSzTGwBU9b8qdcwFPusy4DpVvazan2XajwUD02weUdXjAPwpEf4VN63Gk1X1FqBkIPAdAjy6koWpRRAwphYsGJimpaqeiHwQGBKRLcAg8CFV3SYibwVeBeSBm1T1HNy8MYeLyOeA84DPA8cCG4E7gZf5j68AtgNPAIaAl6jqqIi8HDeXkwfcDLwOeK9flg+JyLnAWbgRumngZf70DQUiciJuoFIvsAc4R1V3+KOebwKejJvq4R9V9celvreI9OJGkf8v8H/A93Bz4xwD3Ia7W3o1bnDhi1T1jyJyPvDX/vn4nqp+eImn27Q4azMwTU1V08A9wFHBNhGJAe/GTa52AtApIgcCbwZuUdU34aZkTvvTnD8G6MdNRwxujpkLVfVYYBz4e3//TwHPUNVjcFMOPLfoM9fgpk7f5u/3Q+Dc4rKKSCdwCfByVT0eN7X6xUVv6fTL8xbgo2W+cifwXeA7qvo5f9sW4BN+uZ8EHOof53+B14vIIbhR5sHrj23W+XNM9didgWkFHkVrEKhqzp+K5Gbg+8AFqvqwiBxR9J5fiMiIiLwJF0iOAFb7L+9W1dv9x9txdxynAjeq6kP+/mcBiMhx/vMJ/87hpSJyJPAs4I455TwSl6a6UkSCbWuKXr9qzmeW8i+4q/szi7btCsorIg8BwZxTDwCHAQ8DSRG5ERek3qmq02WOb9qU3RmYpuZfbQszjcqBFwJvxM1NdZWInD5nvxcAXwOmgC8Bv/DfC25WzoDnb8/4j4P9EyKSKHp+MPBr3B3Gj4HLio4XiAF/VtXj/HaPE3BrbwSCz/VK7BsIUkPFaZ70nPfMmqHXn7H3ZNw6FuuAX/sBy5gCCwamafkLinwY+I2q3le0PYELDnep6gdw+fUtuEoyuBt+OvAtVf0SLhX0VBaebfJm4JSiaa0/BZxR9PqJwL2q+in/vS8qcby7gUERebL//GxgqVOI3wG8A3hFcFeyGBF5AnA98AtVfRvu3MjCe5l2Y8HANJsDROQOEbkD+B1wIK7ht0BVh4H/Bm4WkVuBbty6z38E+kXkq7hc/ctE5C7c6m834lIqJanqI7hG56tFZDsuLfWlordcA0RF5A+4Rty75x5PVVO4BWIuEJE7cQ3cS+7mqqqjuOVcLybEdMl+CunXwHYRuQ0XDEo2Tpv2ZbOWGmOMsTsDY4wxFgyMMcZgwcAYYwwWDIwxxmDBwBhjDBYMjDHGYMHAGGMM8P8B/WC+CMoGDIcAAAAASUVORK5CYII=\n",
      "text/plain": [
       "<Figure size 432x288 with 1 Axes>"
      ]
     },
     "metadata": {
      "needs_background": "light"
     },
     "output_type": "display_data"
    }
   ],
   "source": [
    "sns.regplot(data=df.query(\"dia==0 and hora==22\"), x='distancia', y='tiempo').set_title('A2.1.3 Distancia en kms vs Tiempo en minutos')\n",
    "plt.xlabel('Distancia en kms')\n",
    "plt.ylabel('Tiempo en minutos')"
   ]
  },
  {
   "cell_type": "markdown",
   "metadata": {},
   "source": [
    "A diferencia del ejemplo anterior aislando el día lunes a la misma hora podemos observar que que la regresión tiende a ser levemente negativa, por lo cual no estamos tan seguro de que el día y la hora son variables relevantes que afecten al tiempo con respecto a la distancia.Ç"
   ]
  },
  {
   "cell_type": "code",
   "execution_count": 65,
   "metadata": {},
   "outputs": [
    {
     "data": {
<<<<<<< HEAD
=======
      "image/png": "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\n",
>>>>>>> origin/master
      "text/plain": [
       "Text(0.5, 1.0, 'A2.1.2 ')"
      ]
     },
     "execution_count": 65,
     "metadata": {},
     "output_type": "execute_result"
    },
    {
     "data": {
      "image/png": "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\n",
      "text/plain": [
       "<Figure size 432x288 with 1 Axes>"
      ]
     },
     "metadata": {
      "needs_background": "light"
     },
     "output_type": "display_data"
    }
   ],
   "source": [
    "sns.regplot(data=df.query(\"dia==1 and hora==22\"), x='distancia', y='tiempo').set_title('A2.1.2 ')"
   ]
  },
  {
   "cell_type": "markdown",
   "metadata": {},
   "source": [
    "### A2.2 - Análisis de cantidad de productos por orden v/s tiempo de entrega"
   ]
  },
  {
   "cell_type": "markdown",
   "metadata": {},
   "source": [
    "### A2.2.1 - Distribución de productos por orden"
   ]
  },
  {
   "cell_type": "code",
   "execution_count": 66,
   "metadata": {},
   "outputs": [],
   "source": [
    "df['pesaje'] = np.where(df['pesados'] >= 1, 1, 0)"
   ]
  },
  {
   "cell_type": "markdown",
   "metadata": {},
   "source": [
    "La mayor cantidad de compras son de cantidades bajas de productos, con un promedio de 16.7 productos por pedido, lo que representa el ticket promedio de la compra de los clientes."
   ]
  },
  {
   "cell_type": "code",
   "execution_count": 67,
   "metadata": {},
   "outputs": [
    {
     "data": {
      "image/png": "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\n",
      "text/plain": [
       "<Figure size 576x360 with 1 Axes>"
      ]
     },
     "metadata": {
      "needs_background": "light"
     },
     "output_type": "display_data"
    }
   ],
   "source": [
    "plt.figure(figsize=(8, 5))\n",
    "sns.distplot(df['cantidad_total'])\n",
    "plt.axvline(df['cantidad_total'].mean(), color='tomato', ls='--', label=\"Media\")\n",
    "plt.xlabel(\"Productos\")\n",
    "plt.title(\"Fig A2.2.1.1 Cantidad Total de Productos\");\n",
    "plt.legend();"
   ]
  },
  {
   "cell_type": "code",
   "execution_count": 68,
   "metadata": {},
   "outputs": [
    {
     "name": "stdout",
     "output_type": "stream",
     "text": [
      "Promedio de Productos por compra: 16.67\n"
     ]
    }
   ],
   "source": [
    "print(\"Promedio de Productos por compra:\", round(df['cantidad_total'].mean(), 2))"
   ]
  },
  {
   "cell_type": "markdown",
   "metadata": {},
   "source": [
    "Se puede observar que en las ordenes de compra mayormente los productos que solicitan son de tipo que deben ser pesados, lo que representa el __62.10%__ en los __KG__ y un __38.90%__ en __UN__."
   ]
  },
  {
   "cell_type": "code",
   "execution_count": 69,
   "metadata": {},
   "outputs": [
    {
     "data": {
      "text/plain": [
       "1    4054\n",
       "0    2474\n",
       "Name: pesaje, dtype: int64"
      ]
     },
     "execution_count": 69,
     "metadata": {},
     "output_type": "execute_result"
    }
   ],
   "source": [
    "df['pesaje'].value_counts()"
   ]
  },
  {
   "cell_type": "code",
   "execution_count": 70,
   "metadata": {},
   "outputs": [
    {
     "data": {
      "image/png": "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\n",
      "text/plain": [
       "<Figure size 576x360 with 1 Axes>"
      ]
     },
     "metadata": {
      "needs_background": "light"
     },
     "output_type": "display_data"
    }
   ],
   "source": [
    "plt.figure(figsize=(8, 5))\n",
    "sns.countplot(data=df, x='pesaje')\n",
    "plt.xlabel(\"Pesados\")\n",
    "plt.ylabel(\"Cantidad\")\n",
    "plt.title(\"A2.2.1.2 Cantidad de Productos pesados\");"
   ]
  },
  {
   "cell_type": "markdown",
   "metadata": {},
   "source": [
    "El gráfico ademas nos muestra que aquellas compras que tienen productos que se deben pesar, tienen una distribución diferente a aquellos en los que no se pide ningun producto de pesaje, siendo su promedio mayor en aquellos que deben ser pesados. Se logra apreciar que en las compras con una cantidad hasta 10 productos, predomina los productos que no se pesan, es decir, estas compras chicas mayormente son productos por unidad, por otra parte, a medida que la cantidad de productos de una orden aumenta, los productos por unidad empiezan a decrecer y aumentan los productos que deben ser pesados."
   ]
  },
  {
   "cell_type": "code",
   "execution_count": 71,
   "metadata": {},
   "outputs": [
    {
     "name": "stderr",
     "output_type": "stream",
     "text": [
      "/anaconda3/lib/python3.6/site-packages/seaborn/axisgrid.py:230: UserWarning: The `size` paramter has been renamed to `height`; please update your code.\n",
      "  warnings.warn(msg, UserWarning)\n"
     ]
    },
    {
     "data": {
      "text/plain": [
       "<Figure size 720x360 with 0 Axes>"
      ]
     },
     "metadata": {},
     "output_type": "display_data"
    },
    {
     "data": {
      "image/png": "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\n",
      "text/plain": [
       "<Figure size 473.625x288 with 1 Axes>"
      ]
     },
     "metadata": {
      "needs_background": "light"
     },
     "output_type": "display_data"
    }
   ],
   "source": [
    "plt.figure(figsize=(10, 5))\n",
    "g = sns.FacetGrid(df, hue=\"pesaje\", size=4, aspect=1.5)\n",
    "g = g.map(sns.distplot, \"cantidad_total\")\n",
    "g.add_legend()\n",
    "plt.xlabel(\"Productos\")\n",
    "plt.title(\"A2.2.1.3 Distribución por tipo de producto en la compra\");"
   ]
  },
  {
   "cell_type": "code",
   "execution_count": 72,
   "metadata": {},
   "outputs": [
    {
     "name": "stdout",
     "output_type": "stream",
     "text": [
      "Promedio de productos en ordenes sin productos que deban ser pesados =  7.04\n",
      "Promedio de productos en ordenes con productos que deban ser pesados =  22.54\n"
     ]
    }
   ],
   "source": [
    "print(\"Promedio de productos en ordenes sin productos que deban ser pesados = \", round(df.query(\"pesaje==0\")['cantidad_total'].mean(), 2))\n",
    "print(\"Promedio de productos en ordenes con productos que deban ser pesados = \", round(df.query(\"pesaje==1\")['cantidad_total'].mean(), 2))"
   ]
  },
  {
   "cell_type": "markdown",
   "metadata": {},
   "source": [
    "### A2.2.2 - Relación con el tiempo de entrega"
   ]
  },
  {
   "cell_type": "markdown",
   "metadata": {},
   "source": [
    "Es necesario revisar ese peak en los valores más bajos, ya que se puede deber a una mala codificación"
   ]
  },
  {
   "cell_type": "code",
   "execution_count": 73,
   "metadata": {
    "scrolled": false
   },
   "outputs": [
    {
     "data": {
      "image/png": "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\n",
      "text/plain": [
       "<Figure size 576x360 with 1 Axes>"
      ]
     },
     "metadata": {
      "needs_background": "light"
     },
     "output_type": "display_data"
    }
   ],
   "source": [
    "plt.figure(figsize=(8, 5))\n",
    "sns.distplot(df['tiempo'])\n",
    "plt.xlabel(\"Tiempo (min)\")\n",
    "plt.axvline(df['tiempo'].mean(), color='tomato', ls='--', label=\"Media\")\n",
    "plt.title(\"Fig A2.2.2.1 Distribución del Tiempo\");"
   ]
  },
  {
   "cell_type": "code",
<<<<<<< HEAD
   "execution_count": 74,
=======
   "execution_count": 73,
>>>>>>> origin/master
   "metadata": {},
   "outputs": [],
   "source": [
    "p_anomalos = df[df['tiempo'] <= 30]"
   ]
  },
  {
   "cell_type": "code",
<<<<<<< HEAD
   "execution_count": 75,
=======
   "execution_count": 74,
>>>>>>> origin/master
   "metadata": {},
   "outputs": [
    {
     "data": {
      "text/html": [
       "<div>\n",
       "<style scoped>\n",
       "    .dataframe tbody tr th:only-of-type {\n",
       "        vertical-align: middle;\n",
       "    }\n",
       "\n",
       "    .dataframe tbody tr th {\n",
       "        vertical-align: top;\n",
       "    }\n",
       "\n",
       "    .dataframe thead th {\n",
       "        text-align: right;\n",
       "    }\n",
       "</style>\n",
       "<table border=\"1\" class=\"dataframe\">\n",
       "  <thead>\n",
       "    <tr style=\"text-align: right;\">\n",
       "      <th></th>\n",
       "      <th>id_orden</th>\n",
       "      <th>latitud</th>\n",
       "      <th>longitud</th>\n",
       "      <th>dia</th>\n",
       "      <th>promesa</th>\n",
       "      <th>entrega</th>\n",
       "      <th>id_entrega</th>\n",
       "      <th>id_recolector</th>\n",
       "      <th>id_trasporte</th>\n",
       "      <th>id_tienda</th>\n",
       "      <th>tiempo</th>\n",
       "    </tr>\n",
       "  </thead>\n",
       "  <tbody>\n",
       "    <tr>\n",
       "      <th>0</th>\n",
       "      <td>6abd5e28d01b7c733fe37485294235dc</td>\n",
       "      <td>1.822.114.109.606.680</td>\n",
       "      <td>-10.031.391.366.664.600</td>\n",
       "      <td>2</td>\n",
       "      <td>13:00:00</td>\n",
       "      <td>12:00:15</td>\n",
       "      <td>1</td>\n",
       "      <td>09bb5bfe76adbb474dddbdd111a51623</td>\n",
       "      <td>09bb5bfe76adbb474dddbdd111a51623</td>\n",
       "      <td>0dc6fb5924a8b917bc641666ed02663c</td>\n",
       "      <td>91.800.861</td>\n",
       "    </tr>\n",
       "    <tr>\n",
       "      <th>1</th>\n",
       "      <td>0d37a1eea001f01b40232ffd496ff663</td>\n",
       "      <td>18.177.712.202.580.300</td>\n",
       "      <td>-10.035.705.073.096.900</td>\n",
       "      <td>2</td>\n",
       "      <td>13:00:00</td>\n",
       "      <td>10:28:10</td>\n",
       "      <td>1</td>\n",
       "      <td>c4c722114a82fa21654e57e9636d68b0</td>\n",
       "      <td>c4c722114a82fa21654e57e9636d68b0</td>\n",
       "      <td>2bbf833e689d24b697f1f3529c3f3c4b</td>\n",
       "      <td>206.599.732</td>\n",
       "    </tr>\n",
       "    <tr>\n",
       "      <th>2</th>\n",
       "      <td>528428e9b9eb5d3bd0dbdd8da692b087</td>\n",
       "      <td>1.826.683.205.404.410</td>\n",
       "      <td>-10.031.755.280.890.600</td>\n",
       "      <td>2</td>\n",
       "      <td>11:00:00</td>\n",
       "      <td>10:40:50</td>\n",
       "      <td>1</td>\n",
       "      <td>e15c7a67d0ea9a54dffb410bc1d8528b</td>\n",
       "      <td>e15c7a67d0ea9a54dffb410bc1d8528b</td>\n",
       "      <td>8d891dfc0e29d744c15c18adced74a68</td>\n",
       "      <td>93.458.001</td>\n",
       "    </tr>\n",
       "    <tr>\n",
       "      <th>3</th>\n",
       "      <td>d3f7be6d64eae7405b7bf024e04807a2</td>\n",
       "      <td>18.248.884.004.419.400</td>\n",
       "      <td>-1.003.226.215.187.040</td>\n",
       "      <td>2</td>\n",
       "      <td>10:00:00</td>\n",
       "      <td>9:41:47</td>\n",
       "      <td>1</td>\n",
       "      <td>d1f0bd4b237c1358f09db22076b940e7</td>\n",
       "      <td>d1f0bd4b237c1358f09db22076b940e7</td>\n",
       "      <td>0dc6fb5924a8b917bc641666ed02663c</td>\n",
       "      <td>124.778.761</td>\n",
       "    </tr>\n",
       "    <tr>\n",
       "      <th>4</th>\n",
       "      <td>e0ad6533b6cd9a382ec6c1d473c5036c</td>\n",
       "      <td>1.822.911.027.242.010</td>\n",
       "      <td>-10.032.267.241.783.800</td>\n",
       "      <td>2</td>\n",
       "      <td>11:00:00</td>\n",
       "      <td>10:07:53</td>\n",
       "      <td>1</td>\n",
       "      <td>06a71e8ab0c6db5ce22a4689fd76a3f4</td>\n",
       "      <td>06a71e8ab0c6db5ce22a4689fd76a3f4</td>\n",
       "      <td>afd0a7b8d546fcc697bb93a5934b65c3</td>\n",
       "      <td>130.321.208</td>\n",
       "    </tr>\n",
       "    <tr>\n",
       "      <th>5</th>\n",
       "      <td>f169a660e8667798da11775767cdce78</td>\n",
       "      <td>1.828.933.393.447.600</td>\n",
       "      <td>-10.032.279.563.024.500</td>\n",
       "      <td>2</td>\n",
       "      <td>12:00:00</td>\n",
       "      <td>11:29:36</td>\n",
       "      <td>1</td>\n",
       "      <td>163278a2f745b3416526066a5fe12f3b</td>\n",
       "      <td>163278a2f745b3416526066a5fe12f3b</td>\n",
       "      <td>86e6e48d0cb57f794b0c48162409fa74</td>\n",
       "      <td>74.993.118</td>\n",
       "    </tr>\n",
       "    <tr>\n",
       "      <th>6</th>\n",
       "      <td>073eca5efe7ebb1073ec80cb90185c20</td>\n",
       "      <td>18.220.781.926.558.000</td>\n",
       "      <td>-10.041.730.464.104.800</td>\n",
       "      <td>2</td>\n",
       "      <td>12:00:00</td>\n",
       "      <td>11:00:15</td>\n",
       "      <td>1</td>\n",
       "      <td>e0322b49c16e71de1fe1837d98f23468</td>\n",
       "      <td>e0322b49c16e71de1fe1837d98f23468</td>\n",
       "      <td>3dd9ae393aa5327edfb27388758436bd</td>\n",
       "      <td>65.901.589</td>\n",
       "    </tr>\n",
       "    <tr>\n",
       "      <th>7</th>\n",
       "      <td>99a360636e3cb03552b6d74b4ccef603</td>\n",
       "      <td>182.207.131.731.412</td>\n",
       "      <td>-1.004.172.233.161.320</td>\n",
       "      <td>2</td>\n",
       "      <td>10:00:00</td>\n",
       "      <td>9:44:54</td>\n",
       "      <td>1</td>\n",
       "      <td>649984b82d3dd1a1083a72de6b4b348c</td>\n",
       "      <td>649984b82d3dd1a1083a72de6b4b348c</td>\n",
       "      <td>9ef0cb7f21f56bf24ca5ef4194f69c64</td>\n",
       "      <td>93.661.068</td>\n",
       "    </tr>\n",
       "    <tr>\n",
       "      <th>8</th>\n",
       "      <td>c1800bdd3c666b497b39d6e526917167</td>\n",
       "      <td>18.220.946.960.795.100</td>\n",
       "      <td>-10.041.727.333.923.400</td>\n",
       "      <td>2</td>\n",
       "      <td>10:00:00</td>\n",
       "      <td>8:46:04</td>\n",
       "      <td>1</td>\n",
       "      <td>a083ea904c55052cdb58917ed790ca96</td>\n",
       "      <td>a083ea904c55052cdb58917ed790ca96</td>\n",
       "      <td>2d69acabaafd2516eeffd3c69b3c1328</td>\n",
       "      <td>665.212</td>\n",
       "    </tr>\n",
       "    <tr>\n",
       "      <th>9</th>\n",
       "      <td>b4c64ceaa31265a4b2ff0dec82b9beeb</td>\n",
       "      <td>1.821.779.028.764.210</td>\n",
       "      <td>-10.034.468.733.201.700</td>\n",
       "      <td>2</td>\n",
       "      <td>17:00:00</td>\n",
       "      <td>16:33:37</td>\n",
       "      <td>1</td>\n",
       "      <td>2bfd559c4bef0e59fee43bf322e3ea5e</td>\n",
       "      <td>2bfd559c4bef0e59fee43bf322e3ea5e</td>\n",
       "      <td>f45fd1f4de72b451f9d99e2a033de337</td>\n",
       "      <td>83.232.147</td>\n",
       "    </tr>\n",
       "  </tbody>\n",
       "</table>\n",
       "</div>"
      ],
      "text/plain": [
       "                           id_orden                 latitud  \\\n",
       "0  6abd5e28d01b7c733fe37485294235dc   1.822.114.109.606.680   \n",
       "1  0d37a1eea001f01b40232ffd496ff663  18.177.712.202.580.300   \n",
       "2  528428e9b9eb5d3bd0dbdd8da692b087   1.826.683.205.404.410   \n",
       "3  d3f7be6d64eae7405b7bf024e04807a2  18.248.884.004.419.400   \n",
       "4  e0ad6533b6cd9a382ec6c1d473c5036c   1.822.911.027.242.010   \n",
       "5  f169a660e8667798da11775767cdce78   1.828.933.393.447.600   \n",
       "6  073eca5efe7ebb1073ec80cb90185c20  18.220.781.926.558.000   \n",
       "7  99a360636e3cb03552b6d74b4ccef603     182.207.131.731.412   \n",
       "8  c1800bdd3c666b497b39d6e526917167  18.220.946.960.795.100   \n",
       "9  b4c64ceaa31265a4b2ff0dec82b9beeb   1.821.779.028.764.210   \n",
       "\n",
       "                  longitud  dia   promesa   entrega  id_entrega  \\\n",
       "0  -10.031.391.366.664.600    2  13:00:00  12:00:15           1   \n",
       "1  -10.035.705.073.096.900    2  13:00:00  10:28:10           1   \n",
       "2  -10.031.755.280.890.600    2  11:00:00  10:40:50           1   \n",
       "3   -1.003.226.215.187.040    2  10:00:00   9:41:47           1   \n",
       "4  -10.032.267.241.783.800    2  11:00:00  10:07:53           1   \n",
       "5  -10.032.279.563.024.500    2  12:00:00  11:29:36           1   \n",
       "6  -10.041.730.464.104.800    2  12:00:00  11:00:15           1   \n",
       "7   -1.004.172.233.161.320    2  10:00:00   9:44:54           1   \n",
       "8  -10.041.727.333.923.400    2  10:00:00   8:46:04           1   \n",
       "9  -10.034.468.733.201.700    2  17:00:00  16:33:37           1   \n",
       "\n",
       "                      id_recolector                      id_trasporte  \\\n",
       "0  09bb5bfe76adbb474dddbdd111a51623  09bb5bfe76adbb474dddbdd111a51623   \n",
       "1  c4c722114a82fa21654e57e9636d68b0  c4c722114a82fa21654e57e9636d68b0   \n",
       "2  e15c7a67d0ea9a54dffb410bc1d8528b  e15c7a67d0ea9a54dffb410bc1d8528b   \n",
       "3  d1f0bd4b237c1358f09db22076b940e7  d1f0bd4b237c1358f09db22076b940e7   \n",
       "4  06a71e8ab0c6db5ce22a4689fd76a3f4  06a71e8ab0c6db5ce22a4689fd76a3f4   \n",
       "5  163278a2f745b3416526066a5fe12f3b  163278a2f745b3416526066a5fe12f3b   \n",
       "6  e0322b49c16e71de1fe1837d98f23468  e0322b49c16e71de1fe1837d98f23468   \n",
       "7  649984b82d3dd1a1083a72de6b4b348c  649984b82d3dd1a1083a72de6b4b348c   \n",
       "8  a083ea904c55052cdb58917ed790ca96  a083ea904c55052cdb58917ed790ca96   \n",
       "9  2bfd559c4bef0e59fee43bf322e3ea5e  2bfd559c4bef0e59fee43bf322e3ea5e   \n",
       "\n",
       "                          id_tienda       tiempo  \n",
       "0  0dc6fb5924a8b917bc641666ed02663c   91.800.861  \n",
       "1  2bbf833e689d24b697f1f3529c3f3c4b  206.599.732  \n",
       "2  8d891dfc0e29d744c15c18adced74a68   93.458.001  \n",
       "3  0dc6fb5924a8b917bc641666ed02663c  124.778.761  \n",
       "4  afd0a7b8d546fcc697bb93a5934b65c3  130.321.208  \n",
       "5  86e6e48d0cb57f794b0c48162409fa74   74.993.118  \n",
       "6  3dd9ae393aa5327edfb27388758436bd   65.901.589  \n",
       "7  9ef0cb7f21f56bf24ca5ef4194f69c64   93.661.068  \n",
       "8  2d69acabaafd2516eeffd3c69b3c1328      665.212  \n",
       "9  f45fd1f4de72b451f9d99e2a033de337   83.232.147  "
      ]
     },
<<<<<<< HEAD
     "execution_count": 75,
=======
     "execution_count": 74,
>>>>>>> origin/master
     "metadata": {},
     "output_type": "execute_result"
    }
   ],
   "source": [
    "compra.head(10)"
   ]
  },
  {
   "cell_type": "code",
<<<<<<< HEAD
   "execution_count": 76,
=======
   "execution_count": 75,
>>>>>>> origin/master
   "metadata": {},
   "outputs": [
    {
     "data": {
      "text/html": [
       "<div>\n",
       "<style scoped>\n",
       "    .dataframe tbody tr th:only-of-type {\n",
       "        vertical-align: middle;\n",
       "    }\n",
       "\n",
       "    .dataframe tbody tr th {\n",
       "        vertical-align: top;\n",
       "    }\n",
       "\n",
       "    .dataframe thead th {\n",
       "        text-align: right;\n",
       "    }\n",
       "</style>\n",
       "<table border=\"1\" class=\"dataframe\">\n",
       "  <thead>\n",
       "    <tr style=\"text-align: right;\">\n",
       "      <th></th>\n",
       "      <th>id_orden</th>\n",
       "      <th>latitud</th>\n",
       "      <th>longitud</th>\n",
       "      <th>dia</th>\n",
       "      <th>promesa</th>\n",
       "      <th>entrega</th>\n",
       "      <th>id_entrega</th>\n",
       "      <th>id_recolector</th>\n",
       "      <th>id_trasporte</th>\n",
       "      <th>id_tienda</th>\n",
       "      <th>tiempo</th>\n",
       "      <th>sin_pesar</th>\n",
       "      <th>pesados</th>\n",
       "      <th>cantidad_total</th>\n",
       "      <th>p_aciertos</th>\n",
       "      <th>velocidad</th>\n",
       "      <th>p_aceptacion</th>\n",
       "      <th>score_recolector</th>\n",
       "      <th>seniority_ADVANCED</th>\n",
       "      <th>seniority_BEGINNER</th>\n",
       "      <th>seniority_INTERMEDIATE</th>\n",
       "      <th>seniority_REVIEW</th>\n",
       "      <th>tienda</th>\n",
       "      <th>latitud_tienda</th>\n",
       "      <th>longitud_tienda</th>\n",
       "      <th>distancia</th>\n",
       "      <th>hora</th>\n",
       "      <th>pesaje</th>\n",
       "    </tr>\n",
       "  </thead>\n",
       "  <tbody>\n",
       "    <tr>\n",
       "      <th>8</th>\n",
       "      <td>c1800bdd3c666b497b39d6e526917167</td>\n",
       "      <td>18.220.946.960.795.100</td>\n",
       "      <td>-10.041.727.333.923.400</td>\n",
       "      <td>2</td>\n",
       "      <td>10:00:00</td>\n",
       "      <td>8:46:04</td>\n",
       "      <td>1</td>\n",
       "      <td>a083ea904c55052cdb58917ed790ca96</td>\n",
       "      <td>a083ea904c55052cdb58917ed790ca96</td>\n",
       "      <td>2d69acabaafd2516eeffd3c69b3c1328</td>\n",
       "      <td>0.665212</td>\n",
       "      <td>19.0</td>\n",
       "      <td>1.0</td>\n",
       "      <td>20.0</td>\n",
       "      <td>0.8556</td>\n",
       "      <td>1.50</td>\n",
       "      <td>0.96</td>\n",
       "      <td>4.72</td>\n",
       "      <td>1</td>\n",
       "      <td>0</td>\n",
       "      <td>0</td>\n",
       "      <td>0</td>\n",
       "      <td>60e4c4e1c1a8bc79123738227b9d0b08</td>\n",
       "      <td>18.218.347.218.797.100</td>\n",
       "      <td>-10.041.579.255.293.500</td>\n",
       "      <td>0.289501</td>\n",
       "      <td>8</td>\n",
       "      <td>1</td>\n",
       "    </tr>\n",
       "    <tr>\n",
       "      <th>12</th>\n",
       "      <td>df5de78cdde5a1fcd3ab2e1854a4b7a0</td>\n",
       "      <td>1.826.850.386.845.330</td>\n",
       "      <td>-10.031.256.569.770.200</td>\n",
       "      <td>2</td>\n",
       "      <td>12:00:00</td>\n",
       "      <td>11:36:23</td>\n",
       "      <td>1</td>\n",
       "      <td>91b508d81eb559e384062d1c046594b9</td>\n",
       "      <td>91b508d81eb559e384062d1c046594b9</td>\n",
       "      <td>8d891dfc0e29d744c15c18adced74a68</td>\n",
       "      <td>1.533419</td>\n",
       "      <td>17.0</td>\n",
       "      <td>3.0</td>\n",
       "      <td>20.0</td>\n",
       "      <td>0.8652</td>\n",
       "      <td>2.43</td>\n",
       "      <td>1.00</td>\n",
       "      <td>5.00</td>\n",
       "      <td>0</td>\n",
       "      <td>0</td>\n",
       "      <td>1</td>\n",
       "      <td>0</td>\n",
       "      <td>0fae7b61265bc7ca4ce4d81440b62501</td>\n",
       "      <td>1.824.565.541.228.880</td>\n",
       "      <td>-1.003.324.934.760.470</td>\n",
       "      <td>2.549336</td>\n",
       "      <td>11</td>\n",
       "      <td>1</td>\n",
       "    </tr>\n",
       "    <tr>\n",
       "      <th>27</th>\n",
       "      <td>605db8da3965581ea0bf6d56082600bf</td>\n",
       "      <td>18.245.512.889.554.400</td>\n",
       "      <td>-10.040.992.084.939.800</td>\n",
       "      <td>2</td>\n",
       "      <td>10:00:00</td>\n",
       "      <td>8:41:50</td>\n",
       "      <td>1</td>\n",
       "      <td>b7e1166967f3ad4aa76d6090cf099f80</td>\n",
       "      <td>b7e1166967f3ad4aa76d6090cf099f80</td>\n",
       "      <td>afab9a94cf9d3d20ba7192204d5e48b3</td>\n",
       "      <td>5.329401</td>\n",
       "      <td>9.0</td>\n",
       "      <td>0.0</td>\n",
       "      <td>9.0</td>\n",
       "      <td>0.8519</td>\n",
       "      <td>1.69</td>\n",
       "      <td>1.00</td>\n",
       "      <td>4.92</td>\n",
       "      <td>1</td>\n",
       "      <td>0</td>\n",
       "      <td>0</td>\n",
       "      <td>0</td>\n",
       "      <td>60e4c4e1c1a8bc79123738227b9d0b08</td>\n",
       "      <td>1.826.087.441.600.350</td>\n",
       "      <td>-1.004.115.704.253.060</td>\n",
       "      <td>1.708215</td>\n",
       "      <td>8</td>\n",
       "      <td>0</td>\n",
       "    </tr>\n",
       "    <tr>\n",
       "      <th>28</th>\n",
       "      <td>e1d9a4f57ffe610c5fb453a0ab350ea0</td>\n",
       "      <td>18.245.506.201.052.900</td>\n",
       "      <td>-10.041.015.840.731.400</td>\n",
       "      <td>2</td>\n",
       "      <td>10:00:00</td>\n",
       "      <td>8:44:07</td>\n",
       "      <td>1</td>\n",
       "      <td>056c7cc586dece322e35970ee60234da</td>\n",
       "      <td>056c7cc586dece322e35970ee60234da</td>\n",
       "      <td>7a44728dc60bafc53140a9f5ef7e4e75</td>\n",
       "      <td>4.281824</td>\n",
       "      <td>1.0</td>\n",
       "      <td>0.0</td>\n",
       "      <td>1.0</td>\n",
       "      <td>0.8272</td>\n",
       "      <td>2.07</td>\n",
       "      <td>1.00</td>\n",
       "      <td>4.88</td>\n",
       "      <td>0</td>\n",
       "      <td>0</td>\n",
       "      <td>1</td>\n",
       "      <td>0</td>\n",
       "      <td>451eb58b96f0a36f31d2beebd1c9a7a8</td>\n",
       "      <td>18.265.531.115.122.400</td>\n",
       "      <td>-10.041.410.817.239.000</td>\n",
       "      <td>2.227063</td>\n",
       "      <td>8</td>\n",
       "      <td>0</td>\n",
       "    </tr>\n",
       "    <tr>\n",
       "      <th>52</th>\n",
       "      <td>b145ee8b457318dc87e334379e9e61f7</td>\n",
       "      <td>1.822.428.085.969.520</td>\n",
       "      <td>-10.041.237.791.251.600</td>\n",
       "      <td>2</td>\n",
       "      <td>11:00:00</td>\n",
       "      <td>10:51:25</td>\n",
       "      <td>1</td>\n",
       "      <td>8b59adedc5c1ea8defcc5e970fae8322</td>\n",
       "      <td>8b59adedc5c1ea8defcc5e970fae8322</td>\n",
       "      <td>3dd9ae393aa5327edfb27388758436bd</td>\n",
       "      <td>9.662399</td>\n",
       "      <td>4.0</td>\n",
       "      <td>0.0</td>\n",
       "      <td>4.0</td>\n",
       "      <td>0.8471</td>\n",
       "      <td>1.50</td>\n",
       "      <td>1.00</td>\n",
       "      <td>4.64</td>\n",
       "      <td>1</td>\n",
       "      <td>0</td>\n",
       "      <td>0</td>\n",
       "      <td>0</td>\n",
       "      <td>0fae7b61265bc7ca4ce4d81440b62501</td>\n",
       "      <td>1.826.223.164.590.900</td>\n",
       "      <td>-1.004.150.072.862.420</td>\n",
       "      <td>4.220032</td>\n",
       "      <td>10</td>\n",
       "      <td>0</td>\n",
       "    </tr>\n",
       "  </tbody>\n",
       "</table>\n",
       "</div>"
      ],
      "text/plain": [
       "                            id_orden                 latitud  \\\n",
       "8   c1800bdd3c666b497b39d6e526917167  18.220.946.960.795.100   \n",
       "12  df5de78cdde5a1fcd3ab2e1854a4b7a0   1.826.850.386.845.330   \n",
       "27  605db8da3965581ea0bf6d56082600bf  18.245.512.889.554.400   \n",
       "28  e1d9a4f57ffe610c5fb453a0ab350ea0  18.245.506.201.052.900   \n",
       "52  b145ee8b457318dc87e334379e9e61f7   1.822.428.085.969.520   \n",
       "\n",
       "                   longitud  dia   promesa   entrega  id_entrega  \\\n",
       "8   -10.041.727.333.923.400    2  10:00:00   8:46:04           1   \n",
       "12  -10.031.256.569.770.200    2  12:00:00  11:36:23           1   \n",
       "27  -10.040.992.084.939.800    2  10:00:00   8:41:50           1   \n",
       "28  -10.041.015.840.731.400    2  10:00:00   8:44:07           1   \n",
       "52  -10.041.237.791.251.600    2  11:00:00  10:51:25           1   \n",
       "\n",
       "                       id_recolector                      id_trasporte  \\\n",
       "8   a083ea904c55052cdb58917ed790ca96  a083ea904c55052cdb58917ed790ca96   \n",
       "12  91b508d81eb559e384062d1c046594b9  91b508d81eb559e384062d1c046594b9   \n",
       "27  b7e1166967f3ad4aa76d6090cf099f80  b7e1166967f3ad4aa76d6090cf099f80   \n",
       "28  056c7cc586dece322e35970ee60234da  056c7cc586dece322e35970ee60234da   \n",
       "52  8b59adedc5c1ea8defcc5e970fae8322  8b59adedc5c1ea8defcc5e970fae8322   \n",
       "\n",
       "                           id_tienda    tiempo  sin_pesar  pesados  \\\n",
       "8   2d69acabaafd2516eeffd3c69b3c1328  0.665212       19.0      1.0   \n",
       "12  8d891dfc0e29d744c15c18adced74a68  1.533419       17.0      3.0   \n",
       "27  afab9a94cf9d3d20ba7192204d5e48b3  5.329401        9.0      0.0   \n",
       "28  7a44728dc60bafc53140a9f5ef7e4e75  4.281824        1.0      0.0   \n",
       "52  3dd9ae393aa5327edfb27388758436bd  9.662399        4.0      0.0   \n",
       "\n",
       "    cantidad_total  p_aciertos  velocidad  p_aceptacion  score_recolector  \\\n",
       "8             20.0      0.8556       1.50          0.96              4.72   \n",
       "12            20.0      0.8652       2.43          1.00              5.00   \n",
       "27             9.0      0.8519       1.69          1.00              4.92   \n",
       "28             1.0      0.8272       2.07          1.00              4.88   \n",
       "52             4.0      0.8471       1.50          1.00              4.64   \n",
       "\n",
       "    seniority_ADVANCED  seniority_BEGINNER  seniority_INTERMEDIATE  \\\n",
       "8                    1                   0                       0   \n",
       "12                   0                   0                       1   \n",
       "27                   1                   0                       0   \n",
       "28                   0                   0                       1   \n",
       "52                   1                   0                       0   \n",
       "\n",
       "    seniority_REVIEW                            tienda  \\\n",
       "8                  0  60e4c4e1c1a8bc79123738227b9d0b08   \n",
       "12                 0  0fae7b61265bc7ca4ce4d81440b62501   \n",
       "27                 0  60e4c4e1c1a8bc79123738227b9d0b08   \n",
       "28                 0  451eb58b96f0a36f31d2beebd1c9a7a8   \n",
       "52                 0  0fae7b61265bc7ca4ce4d81440b62501   \n",
       "\n",
       "            latitud_tienda          longitud_tienda  distancia  hora  pesaje  \n",
       "8   18.218.347.218.797.100  -10.041.579.255.293.500   0.289501     8       1  \n",
       "12   1.824.565.541.228.880   -1.003.324.934.760.470   2.549336    11       1  \n",
       "27   1.826.087.441.600.350   -1.004.115.704.253.060   1.708215     8       0  \n",
       "28  18.265.531.115.122.400  -10.041.410.817.239.000   2.227063     8       0  \n",
       "52   1.826.223.164.590.900   -1.004.150.072.862.420   4.220032    10       0  "
      ]
     },
<<<<<<< HEAD
     "execution_count": 76,
=======
     "execution_count": 75,
>>>>>>> origin/master
     "metadata": {},
     "output_type": "execute_result"
    }
   ],
   "source": [
    "p_anomalos.head()"
   ]
  },
  {
   "cell_type": "code",
   "execution_count": 76,
   "metadata": {},
   "outputs": [
    {
     "name": "stdout",
     "output_type": "stream",
     "text": [
      "Promedio del tiempo de entrega: 79.09\n"
     ]
    }
   ],
   "source": [
    "print(\"Promedio del tiempo de entrega:\", round(df['tiempo'].mean(), 2))"
   ]
  },
  {
   "cell_type": "markdown",
   "metadata": {},
   "source": [
    "El gráfico muestra evidencia para apoyar nuestra hipótesis, ya que se ve una correlación positiva entre la cantidad total de productos con el tiempo de entrega, es decir, a mayor cantidad de productos en una orden de compra, mayor tiempo en la entrega, lo que es algo lógico en este tipo de proceso de compras."
   ]
  },
  {
   "cell_type": "code",
<<<<<<< HEAD
   "execution_count": 78,
=======
   "execution_count": 77,
>>>>>>> origin/master
   "metadata": {},
   "outputs": [
    {
     "data": {
      "image/png": "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\n",
      "text/plain": [
       "<Figure size 432x288 with 1 Axes>"
      ]
     },
     "metadata": {
      "needs_background": "light"
     },
     "output_type": "display_data"
    }
   ],
   "source": [
    "sns.scatterplot(data=df, x='cantidad_total', y='tiempo')\n",
    "plt.xlabel(\"Cantidad de Productos\")\n",
    "plt.ylabel(\"Tiempo\")\n",
    "plt.title(\"Fig A2.2.2.2 Cantidad de Productos con relación al tiempo\");"
   ]
  },
  {
   "cell_type": "markdown",
   "metadata": {},
   "source": [
    "### A2.3 - Calificación del repartidor v/s tiempo de entrega"
   ]
  },
  {
   "cell_type": "markdown",
   "metadata": {},
   "source": [
    "La calificación del recolector se encuentra muy acotada entre los valores 4.50 y 5, haremos una prueba posterior con respecto al tiempo para saber que tan influyente o relevante puede ser."
   ]
  },
  {
   "cell_type": "code",
<<<<<<< HEAD
   "execution_count": 79,
=======
   "execution_count": 78,
>>>>>>> origin/master
   "metadata": {},
   "outputs": [
    {
     "data": {
<<<<<<< HEAD
      "text/plain": [
       "Text(0.5, 1.0, 'Fig A2.3.1')"
      ]
     },
     "execution_count": 79,
     "metadata": {},
     "output_type": "execute_result"
    },
    {
     "data": {
      "image/png": "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\n",
=======
      "image/png": "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\n",
>>>>>>> origin/master
      "text/plain": [
       "<Figure size 432x288 with 1 Axes>"
      ]
     },
     "metadata": {},
     "output_type": "display_data"
    }
   ],
   "source": [
<<<<<<< HEAD
    "sns.distplot(df.score_recolector).set_title('Fig A2.3.1')"
=======
    "sns.distplot(df.score_recolector)\n",
    "plt.xlabel(\"Score\")\n",
    "plt.ylabel(\"Cantidad\")\n",
    "plt.title(\"Clasificación Recolector\");"
>>>>>>> origin/master
   ]
  },
  {
   "cell_type": "markdown",
   "metadata": {},
   "source": [
    "En el caso del \"Rating\" del repartidor, de momento el gráfico no nos permite saber si es influyente en el tiempo de entrega, sobre todo por el hecho de que la distribución de las calificaciones es muy acotada entre 4.50 y 5"
   ]
  },
  {
   "cell_type": "code",
   "execution_count": 79,
   "metadata": {},
   "outputs": [
    {
     "data": {
      "image/png": "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\n",
      "text/plain": [
       "<Figure size 432x288 with 1 Axes>"
      ]
     },
     "metadata": {
      "needs_background": "light"
     },
     "output_type": "display_data"
    }
   ],
   "source": [
    "sns.scatterplot(data=df, x='score_recolector', y='tiempo')\n",
    "plt.xlabel(\"Clasificación Recolector\")\n",
    "plt.ylabel(\"Tiempo\")\n",
    "plt.title(\"Fig A2.3.2 Clasificación del Recolector con respecto al tiempo\");"
   ]
  },
  {
   "cell_type": "markdown",
   "metadata": {},
   "source": [
    "### A2.4 - Hora/Día de la semana v/s tiempo de entrega"
   ]
  },
  {
   "cell_type": "markdown",
   "metadata": {},
   "source": [
    "### A2.4.1 - Hora"
   ]
  },
  {
   "cell_type": "markdown",
   "metadata": {},
   "source": [
    "La Mayor cantidad de pedidos se concentra entre 10 y 13, cayendo hasta retomar desde las 19 a las 21 hrs"
   ]
  },
  {
   "cell_type": "code",
   "execution_count": 80,
   "metadata": {},
   "outputs": [
    {
     "data": {
      "image/png": "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\n",
      "text/plain": [
       "<Figure size 432x288 with 1 Axes>"
      ]
     },
     "metadata": {
      "needs_background": "light"
     },
     "output_type": "display_data"
    }
   ],
   "source": [
    "sns.countplot(data=df, x='hora',).set_title('Fig A2.4.1.1 Cantidad de Pedidos por hora');"
   ]
  },
  {
   "cell_type": "code",
   "execution_count": 81,
   "metadata": {},
   "outputs": [
    {
     "data": {
      "text/plain": [
       "hora\n",
       "0      41.912408\n",
       "7      45.002192\n",
       "8      68.670544\n",
       "9      83.626490\n",
       "10     77.851561\n",
       "11     78.973790\n",
       "12     78.656839\n",
       "13     80.050899\n",
       "14     79.716363\n",
       "15     78.664720\n",
       "16     76.192815\n",
       "17     72.904469\n",
       "18     78.725124\n",
       "19     81.383109\n",
       "20     77.227860\n",
       "21     81.819288\n",
       "22     87.318738\n",
       "23    103.909170\n",
       "Name: tiempo, dtype: float64"
      ]
     },
     "execution_count": 81,
     "metadata": {},
     "output_type": "execute_result"
    }
   ],
   "source": [
    "df.groupby('hora').mean()['tiempo']"
   ]
  },
  {
   "cell_type": "markdown",
   "metadata": {},
   "source": [
    "Revisando las horas, notamos que a las 9 hay un peak, al igual que a las 19 horas y luego pasado las 21 hrs"
   ]
  },
  {
   "cell_type": "code",
   "execution_count": 82,
   "metadata": {},
   "outputs": [
    {
     "data": {
<<<<<<< HEAD
      "text/plain": [
       "Text(0.5, 1.0, 'ig A2.4.1.2 Hora vs Tiempo de entrega')"
      ]
     },
     "execution_count": 83,
     "metadata": {},
     "output_type": "execute_result"
    },
    {
     "data": {
      "image/png": "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\n",
=======
      "image/png": "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\n",
>>>>>>> origin/master
      "text/plain": [
       "<Figure size 432x288 with 1 Axes>"
      ]
     },
     "metadata": {
      "needs_background": "light"
     },
     "output_type": "display_data"
    }
   ],
   "source": [
    "plt.plot(df.groupby('hora').mean()['tiempo'])\n",
<<<<<<< HEAD
    "plt.title('ig A2.4.1.2 Hora vs Tiempo de entrega')"
=======
    "plt.xlabel(\"Tiempo (Hora)\")\n",
    "plt.ylabel(\"Promedio\")\n",
    "plt.title('Hora vs Tiempo de entrega');"
>>>>>>> origin/master
   ]
  },
  {
   "cell_type": "markdown",
   "metadata": {},
   "source": [
    "### A.2.4.2 - Dia de la semana"
   ]
  },
  {
   "cell_type": "markdown",
   "metadata": {},
   "source": [
    "De Lunes a jueves se concentra la mayor cantidad de pedidos, siendo viernes a domingo los que tienen menos pedidos."
   ]
  },
  {
   "cell_type": "code",
<<<<<<< HEAD
   "execution_count": 84,
=======
   "execution_count": 83,
>>>>>>> origin/master
   "metadata": {},
   "outputs": [
    {
     "data": {
      "image/png": "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\n",
      "text/plain": [
       "<Figure size 432x288 with 1 Axes>"
      ]
     },
     "metadata": {
      "needs_background": "light"
     },
     "output_type": "display_data"
    }
   ],
   "source": [
    "sns.countplot(data=df, x='dia')\n",
    "plt.xlabel(\"Día\")\n",
    "plt.ylabel(\"Cantidad\")\n",
    "plt.title('Fig A2.4.2.1  Cantidad de Pedidos por dia de la semana');"
   ]
  },
  {
   "cell_type": "markdown",
   "metadata": {},
   "source": [
    "El tiempo de entrega es consistente con la cantidad de pedidos de cada día, excepto en el día jueves, donde es menor en promedio que la cantidad de pedidos del mismo día"
   ]
  },
  {
   "cell_type": "code",
<<<<<<< HEAD
   "execution_count": 85,
=======
   "execution_count": 84,
>>>>>>> origin/master
   "metadata": {},
   "outputs": [
    {
     "data": {
      "text/plain": [
       "dia\n",
       "0    73.791217\n",
       "1    81.294268\n",
       "2    83.001667\n",
       "3    81.504554\n",
       "4    76.794745\n",
       "5    76.275484\n",
       "6    74.540830\n",
       "Name: tiempo, dtype: float64"
      ]
     },
<<<<<<< HEAD
     "execution_count": 85,
=======
     "execution_count": 84,
>>>>>>> origin/master
     "metadata": {},
     "output_type": "execute_result"
    }
   ],
   "source": [
    "df.groupby('dia').mean()['tiempo']"
   ]
  },
  {
   "cell_type": "code",
<<<<<<< HEAD
   "execution_count": 86,
=======
   "execution_count": 85,
>>>>>>> origin/master
   "metadata": {},
   "outputs": [
    {
     "data": {
<<<<<<< HEAD
      "image/png": "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\n",
=======
      "image/png": "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\n",
>>>>>>> origin/master
      "text/plain": [
       "<Figure size 432x288 with 1 Axes>"
      ]
     },
     "metadata": {
      "needs_background": "light"
     },
     "output_type": "display_data"
    }
   ],
   "source": [
    "plt.plot(df.groupby('dia').mean()['tiempo'])\n",
    "plt.title('Fig A2.4.2.2 Día de la Semana vs Tiempo de Entrega')\n",
    "plt.xlabel(\"Día\")\n",
    "plt.ylabel(\"Tiempo (min)\");"
   ]
  },
  {
   "cell_type": "markdown",
   "metadata": {},
   "source": [
    "### A2.4.3 - Día y Fecha"
   ]
  },
  {
   "cell_type": "markdown",
   "metadata": {},
   "source": [
    "Notamos que diferentes días tienen diferentes peaks de tiempo de demora, por ejemplo, los dias lunes hay grandes tiempos de entrega entre 15 y 16, y luego entre 18 y 22. Por otro lado, el dia martes tiene altos tiempos de entrega duante la mañana. El dia miercoles a las 21 hrs tiene un tiempo de espera superlativamente mayor al resto de los dias.\n"
   ]
  },
  {
   "cell_type": "code",
<<<<<<< HEAD
   "execution_count": 87,
=======
   "execution_count": 86,
>>>>>>> origin/master
   "metadata": {},
   "outputs": [],
   "source": [
    "table = pd.pivot_table(df, values='tiempo', index=['hora'], columns=['dia'], aggfunc=np.mean)"
   ]
  },
  {
   "cell_type": "code",
<<<<<<< HEAD
   "execution_count": 88,
=======
   "execution_count": 87,
>>>>>>> origin/master
   "metadata": {},
   "outputs": [
    {
     "data": {
      "image/png": "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\n",
      "text/plain": [
       "<Figure size 864x720 with 2 Axes>"
      ]
     },
     "metadata": {
      "needs_background": "light"
     },
     "output_type": "display_data"
    }
   ],
   "source": [
    "plt.figure(figsize=(12, 10))\n",
    "sns.heatmap(table,annot=True, cmap='coolwarm', fmt=\".1f\")\n",
    "plt.xlabel(\"Día\")\n",
    "plt.ylabel(\"Hora\")\n",
    "plt.title(\"ig A2.4.3.1 Tiempo de entrega por Día/Hora\");"
   ]
  },
  {
   "cell_type": "code",
   "execution_count": 89,
   "metadata": {},
   "outputs": [
    {
     "name": "stdout",
     "output_type": "stream",
     "text": [
      "<class 'pandas.core.frame.DataFrame'>\n",
      "Int64Index: 6528 entries, 0 to 6542\n",
      "Data columns (total 28 columns):\n",
      "id_orden                  6528 non-null object\n",
      "latitud                   6528 non-null object\n",
      "longitud                  6528 non-null object\n",
      "dia                       6528 non-null int64\n",
      "promesa                   6528 non-null object\n",
      "entrega                   6528 non-null object\n",
      "id_entrega                6528 non-null int64\n",
      "id_recolector             6528 non-null object\n",
      "id_trasporte              6528 non-null object\n",
      "id_tienda                 6528 non-null object\n",
      "tiempo                    6528 non-null float64\n",
      "sin_pesar                 6528 non-null float64\n",
      "pesados                   6528 non-null float64\n",
      "cantidad_total            6528 non-null float64\n",
      "p_aciertos                6528 non-null float64\n",
      "velocidad                 6528 non-null float64\n",
      "p_aceptacion              6528 non-null float64\n",
      "score_recolector          6528 non-null float64\n",
      "seniority_ADVANCED        6528 non-null uint8\n",
      "seniority_BEGINNER        6528 non-null uint8\n",
      "seniority_INTERMEDIATE    6528 non-null uint8\n",
      "seniority_REVIEW          6528 non-null uint8\n",
      "tienda                    6528 non-null object\n",
      "latitud_tienda            6528 non-null object\n",
      "longitud_tienda           6528 non-null object\n",
      "distancia                 6528 non-null float64\n",
      "hora                      6528 non-null int64\n",
      "pesaje                    6528 non-null int64\n",
      "dtypes: float64(9), int64(4), object(11), uint8(4)\n",
      "memory usage: 1.6+ MB\n"
     ]
    }
   ],
   "source": [
    "df.info()"
   ]
  },
  {
   "cell_type": "code",
   "execution_count": null,
   "metadata": {},
   "outputs": [],
   "source": []
  },
  {
   "cell_type": "code",
   "execution_count": null,
   "metadata": {},
   "outputs": [],
   "source": []
  },
  {
   "cell_type": "code",
   "execution_count": null,
   "metadata": {},
   "outputs": [],
   "source": []
  },
  {
   "cell_type": "code",
   "execution_count": null,
   "metadata": {},
   "outputs": [],
   "source": []
  },
  {
   "cell_type": "code",
   "execution_count": null,
   "metadata": {},
   "outputs": [],
   "source": []
  },
  {
   "cell_type": "code",
   "execution_count": null,
   "metadata": {},
   "outputs": [],
   "source": []
  }
 ],
 "metadata": {
  "kernelspec": {
   "display_name": "Python 3",
   "language": "python",
   "name": "python3"
  },
  "language_info": {
   "codemirror_mode": {
    "name": "ipython",
    "version": 3
   },
   "file_extension": ".py",
   "mimetype": "text/x-python",
   "name": "python",
   "nbconvert_exporter": "python",
   "pygments_lexer": "ipython3",
   "version": "3.6.7"
  }
 },
 "nbformat": 4,
 "nbformat_minor": 2
}
