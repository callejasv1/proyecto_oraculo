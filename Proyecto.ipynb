{
 "cells": [
  {
   "cell_type": "code",
   "execution_count": 5,
   "metadata": {},
   "outputs": [],
   "source": [
    "import pandas as pd\n",
    "import numpy as np\n",
    "import matplotlib.pyplot as plt\n",
    "import seaborn as sns\n",
    "\n",
    "plt.style.use('seaborn')"
   ]
  },
  {
   "cell_type": "code",
   "execution_count": 8,
   "metadata": {},
   "outputs": [],
   "source": [
    "df = pd.read_csv('data/consolidado.csv')"
   ]
  },
  {
   "cell_type": "code",
   "execution_count": 12,
   "metadata": {},
   "outputs": [
    {
     "data": {
      "text/plain": [
       "<matplotlib.axes._subplots.AxesSubplot at 0x11fec6668>"
      ]
     },
     "execution_count": 12,
     "metadata": {},
     "output_type": "execute_result"
    },
    {
     "data": {
      "image/png": "[encoded data removed]",
      "text/plain": [
       "<Figure size 576x396 with 1 Axes>"
      ]
     },
     "metadata": {},
     "output_type": "display_data"
    }
   ],
   "source": [
    "sns.distplot(df['rating'].dropna())"
   ]
  },
  {
   "cell_type": "code",
   "execution_count": 10,
   "metadata": {},
   "outputs": [
    {
     "name": "stdout",
     "output_type": "stream",
     "text": [
      "<class 'pandas.core.frame.DataFrame'>\n",
      "RangeIndex: 120893 entries, 0 to 120892\n",
      "Data columns (total 23 columns):\n",
      "order_id           120893 non-null object\n",
      "lat_x              120893 non-null object\n",
      "lng_x              120893 non-null object\n",
      "dow                120893 non-null int64\n",
      "promised_time      120893 non-null object\n",
      "actual_time        120893 non-null object\n",
      "on_demand          120893 non-null bool\n",
      "picker_id          120893 non-null object\n",
      "driver_id          120893 non-null object\n",
      "store_branch_id    120893 non-null object\n",
      "total_minutes      108828 non-null object\n",
      "product_id         120876 non-null object\n",
      "quantity           120876 non-null object\n",
      "quantity_found     120876 non-null float64\n",
      "buy_unit           120876 non-null object\n",
      "seniority          120893 non-null object\n",
      "found_rate         120100 non-null float64\n",
      "picking_speed      120893 non-null float64\n",
      "accepted_rate      120828 non-null float64\n",
      "rating             120131 non-null float64\n",
      "store              120893 non-null object\n",
      "lat_y              120893 non-null object\n",
      "lng_y              120893 non-null object\n",
      "dtypes: bool(1), float64(5), int64(1), object(16)\n",
      "memory usage: 20.4+ MB\n"
     ]
    }
   ],
   "source": [
    "df.info()"
   ]
  },
  {
   "cell_type": "code",
   "execution_count": 19,
   "metadata": {},
   "outputs": [
    {
     "data": {
      "text/plain": [
       "order_id           False\n",
       "lat_x              False\n",
       "lng_x              False\n",
       "dow                False\n",
       "promised_time      False\n",
       "actual_time        False\n",
       "on_demand          False\n",
       "picker_id          False\n",
       "driver_id          False\n",
       "store_branch_id    False\n",
       "total_minutes       True\n",
       "product_id          True\n",
       "quantity            True\n",
       "quantity_found      True\n",
       "buy_unit            True\n",
       "seniority          False\n",
       "found_rate          True\n",
       "picking_speed      False\n",
       "accepted_rate       True\n",
       "rating              True\n",
       "store              False\n",
       "lat_y              False\n",
       "lng_y              False\n",
       "dtype: bool"
      ]
     },
     "execution_count": 19,
     "metadata": {},
     "output_type": "execute_result"
    }
   ],
   "source": [
    "df.isnull().any()"
   ]
  },
  {
   "cell_type": "code",
   "execution_count": 27,
   "metadata": {},
   "outputs": [],
   "source": [
    "#Reemplazo los nan\n",
    "df.replace('nan', np.nan, inplace=True)"
   ]
  },
  {
   "cell_type": "code",
   "execution_count": 32,
   "metadata": {},
   "outputs": [
    {
     "data": {
      "text/plain": [
       "order_id           False\n",
       "lat_x              False\n",
       "lng_x              False\n",
       "dow                False\n",
       "promised_time      False\n",
       "actual_time        False\n",
       "on_demand          False\n",
       "picker_id          False\n",
       "driver_id          False\n",
       "store_branch_id    False\n",
       "total_minutes       True\n",
       "product_id          True\n",
       "quantity            True\n",
       "quantity_found      True\n",
       "buy_unit            True\n",
       "seniority          False\n",
       "found_rate          True\n",
       "picking_speed      False\n",
       "accepted_rate       True\n",
       "rating              True\n",
       "store              False\n",
       "lat_y              False\n",
       "lng_y              False\n",
       "dtype: bool"
      ]
     },
     "execution_count": 32,
     "metadata": {},
     "output_type": "execute_result"
    }
   ],
   "source": [
    "df.isnull().any()"
   ]
  },
  {
   "cell_type": "code",
   "execution_count": 33,
   "metadata": {},
   "outputs": [
    {
     "data": {
      "text/plain": [
       "order_id           False\n",
       "lat_x              False\n",
       "lng_x              False\n",
       "dow                False\n",
       "promised_time      False\n",
       "actual_time        False\n",
       "on_demand          False\n",
       "picker_id          False\n",
       "driver_id          False\n",
       "store_branch_id    False\n",
       "total_minutes      False\n",
       "product_id         False\n",
       "quantity           False\n",
       "quantity_found     False\n",
       "buy_unit           False\n",
       "seniority          False\n",
       "found_rate         False\n",
       "picking_speed      False\n",
       "accepted_rate      False\n",
       "rating             False\n",
       "store              False\n",
       "lat_y              False\n",
       "lng_y              False\n",
       "dtype: bool"
      ]
     },
     "execution_count": 33,
     "metadata": {},
     "output_type": "execute_result"
    }
   ],
   "source": [
    "df.dropna(inplace=True)\n",
    "df.isnull().any()"
   ]
  },
  {
   "cell_type": "code",
   "execution_count": 34,
   "metadata": {},
   "outputs": [
    {
     "data": {
      "text/plain": [
       "(107952, 23)"
      ]
     },
     "execution_count": 34,
     "metadata": {},
     "output_type": "execute_result"
    }
   ],
   "source": [
    "df.shape"
   ]
  },
  {
   "cell_type": "code",
   "execution_count": null,
   "metadata": {},
   "outputs": [],
   "source": []
  }
 ],
 "metadata": {
  "kernelspec": {
   "display_name": "Python 3",
   "language": "python",
   "name": "python3"
  },
  "language_info": {
   "codemirror_mode": {
    "name": "ipython",
    "version": 3
   },
   "file_extension": ".py",
   "mimetype": "text/x-python",
   "name": "python",
   "nbconvert_exporter": "python",
   "pygments_lexer": "ipython3",
   "version": "3.6.7"
  }
 },
 "nbformat": 4,
 "nbformat_minor": 2
}
